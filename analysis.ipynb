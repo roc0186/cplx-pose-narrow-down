{
 "cells": [
  {
   "cell_type": "markdown",
   "metadata": {},
   "source": [
    "# 1 rename"
   ]
  },
  {
   "cell_type": "code",
   "execution_count": 9,
   "metadata": {},
   "outputs": [
    {
     "data": {
      "text/html": [
       "<div>\n",
       "<style scoped>\n",
       "    .dataframe tbody tr th:only-of-type {\n",
       "        vertical-align: middle;\n",
       "    }\n",
       "\n",
       "    .dataframe tbody tr th {\n",
       "        vertical-align: top;\n",
       "    }\n",
       "\n",
       "    .dataframe thead th {\n",
       "        text-align: right;\n",
       "    }\n",
       "</style>\n",
       "<table border=\"1\" class=\"dataframe\">\n",
       "  <thead>\n",
       "    <tr style=\"text-align: right;\">\n",
       "      <th></th>\n",
       "      <th>id</th>\n",
       "      <th>model</th>\n",
       "      <th>recycle</th>\n",
       "      <th>plddt</th>\n",
       "      <th>ptm</th>\n",
       "      <th>iptm</th>\n",
       "      <th>RC</th>\n",
       "      <th>pdb_filepath</th>\n",
       "      <th>id_new</th>\n",
       "    </tr>\n",
       "  </thead>\n",
       "  <tbody>\n",
       "    <tr>\n",
       "      <th>0</th>\n",
       "      <td>Lsb001</td>\n",
       "      <td>alphafold2_multimer_v3_model_3_seed_057</td>\n",
       "      <td>20</td>\n",
       "      <td>92.0</td>\n",
       "      <td>0.898</td>\n",
       "      <td>0.865</td>\n",
       "      <td>0.8716</td>\n",
       "      <td>vhh_al_001/af_m/54_v3/Lsb001_unrelaxed_rank_00...</td>\n",
       "      <td>Lsb001_00</td>\n",
       "    </tr>\n",
       "    <tr>\n",
       "      <th>1</th>\n",
       "      <td>Lsb001</td>\n",
       "      <td>alphafold2_multimer_v2_model_1_seed_044</td>\n",
       "      <td>19</td>\n",
       "      <td>92.9</td>\n",
       "      <td>0.887</td>\n",
       "      <td>0.860</td>\n",
       "      <td>0.8654</td>\n",
       "      <td>vhh_al_001/af_m/42_v2_t/Lsb001_unrelaxed_rank_...</td>\n",
       "      <td>Lsb001_01</td>\n",
       "    </tr>\n",
       "    <tr>\n",
       "      <th>2</th>\n",
       "      <td>Lsb001</td>\n",
       "      <td>alphafold2_multimer_v3_model_3_seed_033</td>\n",
       "      <td>0</td>\n",
       "      <td>86.6</td>\n",
       "      <td>0.832</td>\n",
       "      <td>0.735</td>\n",
       "      <td>0.7544</td>\n",
       "      <td>vhh_al_001/af_m/30_v3/Lsb001_unrelaxed_rank_00...</td>\n",
       "      <td>Lsb001_02</td>\n",
       "    </tr>\n",
       "    <tr>\n",
       "      <th>3</th>\n",
       "      <td>Lsb001</td>\n",
       "      <td>alphafold2_multimer_v1_model_4_seed_035</td>\n",
       "      <td>1</td>\n",
       "      <td>90.2</td>\n",
       "      <td>0.803</td>\n",
       "      <td>0.696</td>\n",
       "      <td>0.7174</td>\n",
       "      <td>vhh_al_001/af_m/30_v1_m2/Lsb001_unrelaxed_rank...</td>\n",
       "      <td>Lsb001_03</td>\n",
       "    </tr>\n",
       "    <tr>\n",
       "      <th>4</th>\n",
       "      <td>Lsb001</td>\n",
       "      <td>alphafold2_multimer_v1_model_3_seed_029</td>\n",
       "      <td>0</td>\n",
       "      <td>81.9</td>\n",
       "      <td>0.776</td>\n",
       "      <td>0.667</td>\n",
       "      <td>0.6888</td>\n",
       "      <td>vhh_al_001/af_m/24_v1_m2/Lsb001_unrelaxed_rank...</td>\n",
       "      <td>Lsb001_04</td>\n",
       "    </tr>\n",
       "    <tr>\n",
       "      <th>...</th>\n",
       "      <td>...</td>\n",
       "      <td>...</td>\n",
       "      <td>...</td>\n",
       "      <td>...</td>\n",
       "      <td>...</td>\n",
       "      <td>...</td>\n",
       "      <td>...</td>\n",
       "      <td>...</td>\n",
       "      <td>...</td>\n",
       "    </tr>\n",
       "    <tr>\n",
       "      <th>80</th>\n",
       "      <td>Lsb001</td>\n",
       "      <td>alphafold2_multimer_v1_model_1_seed_018</td>\n",
       "      <td>1</td>\n",
       "      <td>86.6</td>\n",
       "      <td>0.533</td>\n",
       "      <td>0.162</td>\n",
       "      <td>0.2362</td>\n",
       "      <td>vhh_al_001/af_m/18_v1_dt/Lsb001_unrelaxed_rank...</td>\n",
       "      <td>Lsb001_80</td>\n",
       "    </tr>\n",
       "    <tr>\n",
       "      <th>81</th>\n",
       "      <td>Lsb001</td>\n",
       "      <td>alphafold2_multimer_v2_model_1_seed_024</td>\n",
       "      <td>2</td>\n",
       "      <td>83.0</td>\n",
       "      <td>0.528</td>\n",
       "      <td>0.160</td>\n",
       "      <td>0.2336</td>\n",
       "      <td>vhh_al_001/af_m/24_v2_dt/Lsb001_unrelaxed_rank...</td>\n",
       "      <td>Lsb001_81</td>\n",
       "    </tr>\n",
       "    <tr>\n",
       "      <th>82</th>\n",
       "      <td>Lsb001</td>\n",
       "      <td>alphafold2_multimer_v3_model_2_seed_053</td>\n",
       "      <td>11</td>\n",
       "      <td>81.3</td>\n",
       "      <td>0.527</td>\n",
       "      <td>0.155</td>\n",
       "      <td>0.2294</td>\n",
       "      <td>vhh_al_001/af_m/48_v3_m2/Lsb001_unrelaxed_rank...</td>\n",
       "      <td>Lsb001_82</td>\n",
       "    </tr>\n",
       "    <tr>\n",
       "      <th>83</th>\n",
       "      <td>Lsb001</td>\n",
       "      <td>alphafold2_multimer_v2_model_2_seed_020</td>\n",
       "      <td>0</td>\n",
       "      <td>82.6</td>\n",
       "      <td>0.517</td>\n",
       "      <td>0.125</td>\n",
       "      <td>0.2034</td>\n",
       "      <td>vhh_al_001/af_m/18_v2_t/Lsb001_unrelaxed_rank_...</td>\n",
       "      <td>Lsb001_83</td>\n",
       "    </tr>\n",
       "    <tr>\n",
       "      <th>84</th>\n",
       "      <td>Lsb001</td>\n",
       "      <td>alphafold2_multimer_v2_model_1_seed_038</td>\n",
       "      <td>0</td>\n",
       "      <td>82.8</td>\n",
       "      <td>0.515</td>\n",
       "      <td>0.113</td>\n",
       "      <td>0.1934</td>\n",
       "      <td>vhh_al_001/af_m/36_v2_t/Lsb001_unrelaxed_rank_...</td>\n",
       "      <td>Lsb001_84</td>\n",
       "    </tr>\n",
       "  </tbody>\n",
       "</table>\n",
       "<p>85 rows × 9 columns</p>\n",
       "</div>"
      ],
      "text/plain": [
       "        id                                    model  recycle  plddt    ptm  \\\n",
       "0   Lsb001  alphafold2_multimer_v3_model_3_seed_057       20   92.0  0.898   \n",
       "1   Lsb001  alphafold2_multimer_v2_model_1_seed_044       19   92.9  0.887   \n",
       "2   Lsb001  alphafold2_multimer_v3_model_3_seed_033        0   86.6  0.832   \n",
       "3   Lsb001  alphafold2_multimer_v1_model_4_seed_035        1   90.2  0.803   \n",
       "4   Lsb001  alphafold2_multimer_v1_model_3_seed_029        0   81.9  0.776   \n",
       "..     ...                                      ...      ...    ...    ...   \n",
       "80  Lsb001  alphafold2_multimer_v1_model_1_seed_018        1   86.6  0.533   \n",
       "81  Lsb001  alphafold2_multimer_v2_model_1_seed_024        2   83.0  0.528   \n",
       "82  Lsb001  alphafold2_multimer_v3_model_2_seed_053       11   81.3  0.527   \n",
       "83  Lsb001  alphafold2_multimer_v2_model_2_seed_020        0   82.6  0.517   \n",
       "84  Lsb001  alphafold2_multimer_v2_model_1_seed_038        0   82.8  0.515   \n",
       "\n",
       "     iptm      RC                                       pdb_filepath  \\\n",
       "0   0.865  0.8716  vhh_al_001/af_m/54_v3/Lsb001_unrelaxed_rank_00...   \n",
       "1   0.860  0.8654  vhh_al_001/af_m/42_v2_t/Lsb001_unrelaxed_rank_...   \n",
       "2   0.735  0.7544  vhh_al_001/af_m/30_v3/Lsb001_unrelaxed_rank_00...   \n",
       "3   0.696  0.7174  vhh_al_001/af_m/30_v1_m2/Lsb001_unrelaxed_rank...   \n",
       "4   0.667  0.6888  vhh_al_001/af_m/24_v1_m2/Lsb001_unrelaxed_rank...   \n",
       "..    ...     ...                                                ...   \n",
       "80  0.162  0.2362  vhh_al_001/af_m/18_v1_dt/Lsb001_unrelaxed_rank...   \n",
       "81  0.160  0.2336  vhh_al_001/af_m/24_v2_dt/Lsb001_unrelaxed_rank...   \n",
       "82  0.155  0.2294  vhh_al_001/af_m/48_v3_m2/Lsb001_unrelaxed_rank...   \n",
       "83  0.125  0.2034  vhh_al_001/af_m/18_v2_t/Lsb001_unrelaxed_rank_...   \n",
       "84  0.113  0.1934  vhh_al_001/af_m/36_v2_t/Lsb001_unrelaxed_rank_...   \n",
       "\n",
       "       id_new  \n",
       "0   Lsb001_00  \n",
       "1   Lsb001_01  \n",
       "2   Lsb001_02  \n",
       "3   Lsb001_03  \n",
       "4   Lsb001_04  \n",
       "..        ...  \n",
       "80  Lsb001_80  \n",
       "81  Lsb001_81  \n",
       "82  Lsb001_82  \n",
       "83  Lsb001_83  \n",
       "84  Lsb001_84  \n",
       "\n",
       "[85 rows x 9 columns]"
      ]
     },
     "execution_count": 9,
     "metadata": {},
     "output_type": "execute_result"
    }
   ],
   "source": [
    "import os\n",
    "import pandas as pd\n",
    "df = pd.read_csv('XFold_Ranking_for_Lsb001.csv')\n",
    "id_new = ['Lsb001_%02d'%i for i in range(len(df))]\n",
    "df['id_new']=id_new\n",
    "df\n",
    "# pdb_name=[os.path.basename(i) for i in df['pdb_filepath']]\n",
    "# # print(pdb_name)\n",
    "# d_name=dict(zip(pdb_name,id_new))\n",
    "# d_name\n",
    "# for i in d_name.keys():\n",
    "    # print(d_name[i])\n",
    "    # os.system('cp lsb_001/'+i+' 01_rename_pdbs/'+d_name[i]+'.pdb')"
   ]
  },
  {
   "cell_type": "markdown",
   "metadata": {},
   "source": [
    "# 2 relax"
   ]
  },
  {
   "cell_type": "code",
   "execution_count": null,
   "metadata": {},
   "outputs": [],
   "source": [
    "from joblib import Parallel, delayed\n",
    "import os\n",
    "os.system('cd 02_relax')\n",
    "pdbs = sorted([i.split('.')[0] for i in os.listdir('../01_rename_pdbs') if 'pdb' in i])\n",
    "print(pdbs)\n",
    "def relax(ab):\n",
    "    cmd='relax.static.linuxgccrelease -s ../01_rename_pdbs/'+ab+'.pdb'\n",
    "    os.system(cmd)\n",
    "\n",
    "Parallel(n_jobs=90)(delayed(relax)(i) for i in pdbs)\n",
    "os.system('cd ..')"
   ]
  },
  {
   "cell_type": "markdown",
   "metadata": {},
   "source": [
    "# 3 I_sc"
   ]
  },
  {
   "cell_type": "code",
   "execution_count": null,
   "metadata": {},
   "outputs": [],
   "source": [
    "from joblib import Parallel, delayed\n",
    "import os\n",
    "os.system('mkdir 03_I_sc\\ncd 03_I_sc')\n",
    "pdbs = sorted([i.split('.')[0] for i in os.listdir('../01_rename_pdbs') if 'pdb' in i])\n",
    "print(pdbs)\n",
    "def run(ab):\n",
    "    cmd='rm -r '+ab+'\\n mkdir '+ab+'\\n cd '+ab+'\\n cp ../pack_input_options.txt .\\n'\n",
    "    cmd+='InterfaceAnalyzer.static.linuxgccrelease -s ../../02_relax/'+ab+'_0001.pdb @pack_input_options.txt'\n",
    "    os.system(cmd)\n",
    "\n",
    "Parallel(n_jobs=90)(delayed(run)(i) for i in pdbs)\n",
    "os.system('cat Lsb001_00/pack_input_score.sc |head -n2|tail -n1 >sc.csv')\n",
    "os.system('for i in `ls |grep Lsb|sort`;do echo $i;cat $i/pack_input_score.sc|head -n3|tail -n1 >>sc.csv;done')\n",
    "os.system('cd ..')"
   ]
  },
  {
   "cell_type": "markdown",
   "metadata": {},
   "source": [
    "# 4 merge I_sc and xfold score"
   ]
  },
  {
   "cell_type": "code",
   "execution_count": 10,
   "metadata": {},
   "outputs": [
    {
     "data": {
      "text/html": [
       "<div>\n",
       "<style scoped>\n",
       "    .dataframe tbody tr th:only-of-type {\n",
       "        vertical-align: middle;\n",
       "    }\n",
       "\n",
       "    .dataframe tbody tr th {\n",
       "        vertical-align: top;\n",
       "    }\n",
       "\n",
       "    .dataframe thead th {\n",
       "        text-align: right;\n",
       "    }\n",
       "</style>\n",
       "<table border=\"1\" class=\"dataframe\">\n",
       "  <thead>\n",
       "    <tr style=\"text-align: right;\">\n",
       "      <th></th>\n",
       "      <th>id</th>\n",
       "      <th>model</th>\n",
       "      <th>recycle</th>\n",
       "      <th>plddt</th>\n",
       "      <th>ptm</th>\n",
       "      <th>iptm</th>\n",
       "      <th>RC</th>\n",
       "      <th>pdb_filepath</th>\n",
       "      <th>id_new</th>\n",
       "      <th>SCORE:</th>\n",
       "      <th>...</th>\n",
       "      <th>pro_close</th>\n",
       "      <th>rama_prepro</th>\n",
       "      <th>ref</th>\n",
       "      <th>sc_value</th>\n",
       "      <th>side1_normalized</th>\n",
       "      <th>side1_score</th>\n",
       "      <th>side2_normalized</th>\n",
       "      <th>side2_score</th>\n",
       "      <th>yhh_planarity</th>\n",
       "      <th>description</th>\n",
       "    </tr>\n",
       "  </thead>\n",
       "  <tbody>\n",
       "    <tr>\n",
       "      <th>0</th>\n",
       "      <td>Lsb001</td>\n",
       "      <td>alphafold2_multimer_v3_model_3_seed_057</td>\n",
       "      <td>20</td>\n",
       "      <td>92.0</td>\n",
       "      <td>0.898</td>\n",
       "      <td>0.865</td>\n",
       "      <td>0.8716</td>\n",
       "      <td>vhh_al_001/af_m/54_v3/Lsb001_unrelaxed_rank_00...</td>\n",
       "      <td>Lsb001_00</td>\n",
       "      <td>SCORE:</td>\n",
       "      <td>...</td>\n",
       "      <td>1.596</td>\n",
       "      <td>-10.260</td>\n",
       "      <td>78.95</td>\n",
       "      <td>0.602</td>\n",
       "      <td>-3.332</td>\n",
       "      <td>-69.980</td>\n",
       "      <td>-2.721</td>\n",
       "      <td>-62.592</td>\n",
       "      <td>0.209</td>\n",
       "      <td>Lsb001_00_0001_0001</td>\n",
       "    </tr>\n",
       "    <tr>\n",
       "      <th>1</th>\n",
       "      <td>Lsb001</td>\n",
       "      <td>alphafold2_multimer_v2_model_1_seed_044</td>\n",
       "      <td>19</td>\n",
       "      <td>92.9</td>\n",
       "      <td>0.887</td>\n",
       "      <td>0.860</td>\n",
       "      <td>0.8654</td>\n",
       "      <td>vhh_al_001/af_m/42_v2_t/Lsb001_unrelaxed_rank_...</td>\n",
       "      <td>Lsb001_01</td>\n",
       "      <td>SCORE:</td>\n",
       "      <td>...</td>\n",
       "      <td>1.168</td>\n",
       "      <td>-5.765</td>\n",
       "      <td>78.95</td>\n",
       "      <td>0.652</td>\n",
       "      <td>-2.924</td>\n",
       "      <td>-70.184</td>\n",
       "      <td>-3.074</td>\n",
       "      <td>-76.862</td>\n",
       "      <td>0.173</td>\n",
       "      <td>Lsb001_01_0001_0001</td>\n",
       "    </tr>\n",
       "    <tr>\n",
       "      <th>2</th>\n",
       "      <td>Lsb001</td>\n",
       "      <td>alphafold2_multimer_v3_model_3_seed_033</td>\n",
       "      <td>0</td>\n",
       "      <td>86.6</td>\n",
       "      <td>0.832</td>\n",
       "      <td>0.735</td>\n",
       "      <td>0.7544</td>\n",
       "      <td>vhh_al_001/af_m/30_v3/Lsb001_unrelaxed_rank_00...</td>\n",
       "      <td>Lsb001_02</td>\n",
       "      <td>SCORE:</td>\n",
       "      <td>...</td>\n",
       "      <td>1.122</td>\n",
       "      <td>-0.880</td>\n",
       "      <td>78.95</td>\n",
       "      <td>0.619</td>\n",
       "      <td>-2.274</td>\n",
       "      <td>-50.029</td>\n",
       "      <td>-3.012</td>\n",
       "      <td>-78.306</td>\n",
       "      <td>0.598</td>\n",
       "      <td>Lsb001_02_0001_0001</td>\n",
       "    </tr>\n",
       "    <tr>\n",
       "      <th>3</th>\n",
       "      <td>Lsb001</td>\n",
       "      <td>alphafold2_multimer_v1_model_4_seed_035</td>\n",
       "      <td>1</td>\n",
       "      <td>90.2</td>\n",
       "      <td>0.803</td>\n",
       "      <td>0.696</td>\n",
       "      <td>0.7174</td>\n",
       "      <td>vhh_al_001/af_m/30_v1_m2/Lsb001_unrelaxed_rank...</td>\n",
       "      <td>Lsb001_03</td>\n",
       "      <td>SCORE:</td>\n",
       "      <td>...</td>\n",
       "      <td>3.684</td>\n",
       "      <td>-0.837</td>\n",
       "      <td>78.95</td>\n",
       "      <td>0.580</td>\n",
       "      <td>-2.623</td>\n",
       "      <td>-78.704</td>\n",
       "      <td>-2.754</td>\n",
       "      <td>-85.366</td>\n",
       "      <td>0.131</td>\n",
       "      <td>Lsb001_03_0001_0001</td>\n",
       "    </tr>\n",
       "    <tr>\n",
       "      <th>4</th>\n",
       "      <td>Lsb001</td>\n",
       "      <td>alphafold2_multimer_v1_model_3_seed_029</td>\n",
       "      <td>0</td>\n",
       "      <td>81.9</td>\n",
       "      <td>0.776</td>\n",
       "      <td>0.667</td>\n",
       "      <td>0.6888</td>\n",
       "      <td>vhh_al_001/af_m/24_v1_m2/Lsb001_unrelaxed_rank...</td>\n",
       "      <td>Lsb001_04</td>\n",
       "      <td>SCORE:</td>\n",
       "      <td>...</td>\n",
       "      <td>2.186</td>\n",
       "      <td>4.500</td>\n",
       "      <td>78.95</td>\n",
       "      <td>0.600</td>\n",
       "      <td>-1.962</td>\n",
       "      <td>-37.274</td>\n",
       "      <td>-2.227</td>\n",
       "      <td>-57.903</td>\n",
       "      <td>0.190</td>\n",
       "      <td>Lsb001_04_0001_0001</td>\n",
       "    </tr>\n",
       "    <tr>\n",
       "      <th>...</th>\n",
       "      <td>...</td>\n",
       "      <td>...</td>\n",
       "      <td>...</td>\n",
       "      <td>...</td>\n",
       "      <td>...</td>\n",
       "      <td>...</td>\n",
       "      <td>...</td>\n",
       "      <td>...</td>\n",
       "      <td>...</td>\n",
       "      <td>...</td>\n",
       "      <td>...</td>\n",
       "      <td>...</td>\n",
       "      <td>...</td>\n",
       "      <td>...</td>\n",
       "      <td>...</td>\n",
       "      <td>...</td>\n",
       "      <td>...</td>\n",
       "      <td>...</td>\n",
       "      <td>...</td>\n",
       "      <td>...</td>\n",
       "      <td>...</td>\n",
       "    </tr>\n",
       "    <tr>\n",
       "      <th>80</th>\n",
       "      <td>Lsb001</td>\n",
       "      <td>alphafold2_multimer_v1_model_1_seed_018</td>\n",
       "      <td>1</td>\n",
       "      <td>86.6</td>\n",
       "      <td>0.533</td>\n",
       "      <td>0.162</td>\n",
       "      <td>0.2362</td>\n",
       "      <td>vhh_al_001/af_m/18_v1_dt/Lsb001_unrelaxed_rank...</td>\n",
       "      <td>Lsb001_80</td>\n",
       "      <td>SCORE:</td>\n",
       "      <td>...</td>\n",
       "      <td>2.395</td>\n",
       "      <td>-3.909</td>\n",
       "      <td>78.95</td>\n",
       "      <td>0.602</td>\n",
       "      <td>-1.499</td>\n",
       "      <td>-17.991</td>\n",
       "      <td>-0.785</td>\n",
       "      <td>-8.638</td>\n",
       "      <td>0.407</td>\n",
       "      <td>Lsb001_80_0001_0001</td>\n",
       "    </tr>\n",
       "    <tr>\n",
       "      <th>81</th>\n",
       "      <td>Lsb001</td>\n",
       "      <td>alphafold2_multimer_v2_model_1_seed_024</td>\n",
       "      <td>2</td>\n",
       "      <td>83.0</td>\n",
       "      <td>0.528</td>\n",
       "      <td>0.160</td>\n",
       "      <td>0.2336</td>\n",
       "      <td>vhh_al_001/af_m/24_v2_dt/Lsb001_unrelaxed_rank...</td>\n",
       "      <td>Lsb001_81</td>\n",
       "      <td>SCORE:</td>\n",
       "      <td>...</td>\n",
       "      <td>1.672</td>\n",
       "      <td>-9.012</td>\n",
       "      <td>78.95</td>\n",
       "      <td>0.693</td>\n",
       "      <td>-1.803</td>\n",
       "      <td>-18.031</td>\n",
       "      <td>-2.127</td>\n",
       "      <td>-21.265</td>\n",
       "      <td>0.618</td>\n",
       "      <td>Lsb001_81_0001_0001</td>\n",
       "    </tr>\n",
       "    <tr>\n",
       "      <th>82</th>\n",
       "      <td>Lsb001</td>\n",
       "      <td>alphafold2_multimer_v3_model_2_seed_053</td>\n",
       "      <td>11</td>\n",
       "      <td>81.3</td>\n",
       "      <td>0.527</td>\n",
       "      <td>0.155</td>\n",
       "      <td>0.2294</td>\n",
       "      <td>vhh_al_001/af_m/48_v3_m2/Lsb001_unrelaxed_rank...</td>\n",
       "      <td>Lsb001_82</td>\n",
       "      <td>SCORE:</td>\n",
       "      <td>...</td>\n",
       "      <td>1.173</td>\n",
       "      <td>-9.959</td>\n",
       "      <td>78.95</td>\n",
       "      <td>0.614</td>\n",
       "      <td>-2.667</td>\n",
       "      <td>-45.332</td>\n",
       "      <td>-2.489</td>\n",
       "      <td>-39.817</td>\n",
       "      <td>0.147</td>\n",
       "      <td>Lsb001_82_0001_0001</td>\n",
       "    </tr>\n",
       "    <tr>\n",
       "      <th>83</th>\n",
       "      <td>Lsb001</td>\n",
       "      <td>alphafold2_multimer_v2_model_2_seed_020</td>\n",
       "      <td>0</td>\n",
       "      <td>82.6</td>\n",
       "      <td>0.517</td>\n",
       "      <td>0.125</td>\n",
       "      <td>0.2034</td>\n",
       "      <td>vhh_al_001/af_m/18_v2_t/Lsb001_unrelaxed_rank_...</td>\n",
       "      <td>Lsb001_83</td>\n",
       "      <td>SCORE:</td>\n",
       "      <td>...</td>\n",
       "      <td>1.117</td>\n",
       "      <td>-7.846</td>\n",
       "      <td>78.95</td>\n",
       "      <td>0.596</td>\n",
       "      <td>-3.360</td>\n",
       "      <td>-60.471</td>\n",
       "      <td>-3.065</td>\n",
       "      <td>-49.040</td>\n",
       "      <td>0.404</td>\n",
       "      <td>Lsb001_83_0001_0001</td>\n",
       "    </tr>\n",
       "    <tr>\n",
       "      <th>84</th>\n",
       "      <td>Lsb001</td>\n",
       "      <td>alphafold2_multimer_v2_model_1_seed_038</td>\n",
       "      <td>0</td>\n",
       "      <td>82.8</td>\n",
       "      <td>0.515</td>\n",
       "      <td>0.113</td>\n",
       "      <td>0.1934</td>\n",
       "      <td>vhh_al_001/af_m/36_v2_t/Lsb001_unrelaxed_rank_...</td>\n",
       "      <td>Lsb001_84</td>\n",
       "      <td>SCORE:</td>\n",
       "      <td>...</td>\n",
       "      <td>1.474</td>\n",
       "      <td>-14.530</td>\n",
       "      <td>78.95</td>\n",
       "      <td>0.628</td>\n",
       "      <td>-3.082</td>\n",
       "      <td>-43.146</td>\n",
       "      <td>-2.615</td>\n",
       "      <td>-36.606</td>\n",
       "      <td>0.600</td>\n",
       "      <td>Lsb001_84_0001_0001</td>\n",
       "    </tr>\n",
       "  </tbody>\n",
       "</table>\n",
       "<p>85 rows × 51 columns</p>\n",
       "</div>"
      ],
      "text/plain": [
       "        id                                    model  recycle  plddt    ptm  \\\n",
       "0   Lsb001  alphafold2_multimer_v3_model_3_seed_057       20   92.0  0.898   \n",
       "1   Lsb001  alphafold2_multimer_v2_model_1_seed_044       19   92.9  0.887   \n",
       "2   Lsb001  alphafold2_multimer_v3_model_3_seed_033        0   86.6  0.832   \n",
       "3   Lsb001  alphafold2_multimer_v1_model_4_seed_035        1   90.2  0.803   \n",
       "4   Lsb001  alphafold2_multimer_v1_model_3_seed_029        0   81.9  0.776   \n",
       "..     ...                                      ...      ...    ...    ...   \n",
       "80  Lsb001  alphafold2_multimer_v1_model_1_seed_018        1   86.6  0.533   \n",
       "81  Lsb001  alphafold2_multimer_v2_model_1_seed_024        2   83.0  0.528   \n",
       "82  Lsb001  alphafold2_multimer_v3_model_2_seed_053       11   81.3  0.527   \n",
       "83  Lsb001  alphafold2_multimer_v2_model_2_seed_020        0   82.6  0.517   \n",
       "84  Lsb001  alphafold2_multimer_v2_model_1_seed_038        0   82.8  0.515   \n",
       "\n",
       "     iptm      RC                                       pdb_filepath  \\\n",
       "0   0.865  0.8716  vhh_al_001/af_m/54_v3/Lsb001_unrelaxed_rank_00...   \n",
       "1   0.860  0.8654  vhh_al_001/af_m/42_v2_t/Lsb001_unrelaxed_rank_...   \n",
       "2   0.735  0.7544  vhh_al_001/af_m/30_v3/Lsb001_unrelaxed_rank_00...   \n",
       "3   0.696  0.7174  vhh_al_001/af_m/30_v1_m2/Lsb001_unrelaxed_rank...   \n",
       "4   0.667  0.6888  vhh_al_001/af_m/24_v1_m2/Lsb001_unrelaxed_rank...   \n",
       "..    ...     ...                                                ...   \n",
       "80  0.162  0.2362  vhh_al_001/af_m/18_v1_dt/Lsb001_unrelaxed_rank...   \n",
       "81  0.160  0.2336  vhh_al_001/af_m/24_v2_dt/Lsb001_unrelaxed_rank...   \n",
       "82  0.155  0.2294  vhh_al_001/af_m/48_v3_m2/Lsb001_unrelaxed_rank...   \n",
       "83  0.125  0.2034  vhh_al_001/af_m/18_v2_t/Lsb001_unrelaxed_rank_...   \n",
       "84  0.113  0.1934  vhh_al_001/af_m/36_v2_t/Lsb001_unrelaxed_rank_...   \n",
       "\n",
       "       id_new  SCORE:  ...  pro_close  rama_prepro    ref  sc_value  \\\n",
       "0   Lsb001_00  SCORE:  ...      1.596      -10.260  78.95     0.602   \n",
       "1   Lsb001_01  SCORE:  ...      1.168       -5.765  78.95     0.652   \n",
       "2   Lsb001_02  SCORE:  ...      1.122       -0.880  78.95     0.619   \n",
       "3   Lsb001_03  SCORE:  ...      3.684       -0.837  78.95     0.580   \n",
       "4   Lsb001_04  SCORE:  ...      2.186        4.500  78.95     0.600   \n",
       "..        ...     ...  ...        ...          ...    ...       ...   \n",
       "80  Lsb001_80  SCORE:  ...      2.395       -3.909  78.95     0.602   \n",
       "81  Lsb001_81  SCORE:  ...      1.672       -9.012  78.95     0.693   \n",
       "82  Lsb001_82  SCORE:  ...      1.173       -9.959  78.95     0.614   \n",
       "83  Lsb001_83  SCORE:  ...      1.117       -7.846  78.95     0.596   \n",
       "84  Lsb001_84  SCORE:  ...      1.474      -14.530  78.95     0.628   \n",
       "\n",
       "    side1_normalized  side1_score  side2_normalized  side2_score  \\\n",
       "0             -3.332      -69.980            -2.721      -62.592   \n",
       "1             -2.924      -70.184            -3.074      -76.862   \n",
       "2             -2.274      -50.029            -3.012      -78.306   \n",
       "3             -2.623      -78.704            -2.754      -85.366   \n",
       "4             -1.962      -37.274            -2.227      -57.903   \n",
       "..               ...          ...               ...          ...   \n",
       "80            -1.499      -17.991            -0.785       -8.638   \n",
       "81            -1.803      -18.031            -2.127      -21.265   \n",
       "82            -2.667      -45.332            -2.489      -39.817   \n",
       "83            -3.360      -60.471            -3.065      -49.040   \n",
       "84            -3.082      -43.146            -2.615      -36.606   \n",
       "\n",
       "    yhh_planarity          description  \n",
       "0           0.209  Lsb001_00_0001_0001  \n",
       "1           0.173  Lsb001_01_0001_0001  \n",
       "2           0.598  Lsb001_02_0001_0001  \n",
       "3           0.131  Lsb001_03_0001_0001  \n",
       "4           0.190  Lsb001_04_0001_0001  \n",
       "..            ...                  ...  \n",
       "80          0.407  Lsb001_80_0001_0001  \n",
       "81          0.618  Lsb001_81_0001_0001  \n",
       "82          0.147  Lsb001_82_0001_0001  \n",
       "83          0.404  Lsb001_83_0001_0001  \n",
       "84          0.600  Lsb001_84_0001_0001  \n",
       "\n",
       "[85 rows x 51 columns]"
      ]
     },
     "execution_count": 10,
     "metadata": {},
     "output_type": "execute_result"
    }
   ],
   "source": [
    "df_Isc=pd.read_csv('03_Isc/sc.csv',sep='\\s+')\n",
    "df_Isc['id_new']=[i.split('_0001_')[0] for i in df_Isc['description']]\n",
    "df_merge=pd.merge(df,df_Isc,on='id_new')\n",
    "df_merge"
   ]
  },
  {
   "cell_type": "code",
   "execution_count": 11,
   "metadata": {},
   "outputs": [],
   "source": [
    "df_merge.to_csv('lsb001_Isc.csv')"
   ]
  },
  {
   "cell_type": "code",
   "execution_count": null,
   "metadata": {},
   "outputs": [],
   "source": []
  },
  {
   "cell_type": "code",
   "execution_count": 53,
   "metadata": {},
   "outputs": [
    {
     "data": {
      "application/vnd.plotly.v1+json": {
       "config": {
        "plotlyServerURL": "https://plot.ly"
       },
       "data": [
        {
         "diagonal": {
          "visible": false
         },
         "dimensions": [
          {
           "axis": {
            "matches": true
           },
           "label": "plddt",
           "values": [
            92
           ]
          },
          {
           "axis": {
            "matches": true
           },
           "label": "ptm",
           "values": [
            0.898
           ]
          },
          {
           "axis": {
            "matches": true
           },
           "label": "total_score",
           "values": [
            -747.048
           ]
          },
          {
           "axis": {
            "matches": true
           },
           "label": "dG_separated",
           "values": [
            -58.461
           ]
          },
          {
           "axis": {
            "matches": true
           },
           "label": "dG_separated/dSASAx100",
           "values": [
            -2.782
           ]
          }
         ],
         "hovertemplate": "id_new=Lsb001_00<br>%{xaxis.title.text}=%{x}<br>%{yaxis.title.text}=%{y}<extra></extra>",
         "legendgroup": "Lsb001_00",
         "marker": {
          "color": "#636efa",
          "symbol": "circle"
         },
         "name": "Lsb001_00",
         "showlegend": true,
         "type": "splom"
        },
        {
         "diagonal": {
          "visible": false
         },
         "dimensions": [
          {
           "axis": {
            "matches": true
           },
           "label": "plddt",
           "values": [
            92.9
           ]
          },
          {
           "axis": {
            "matches": true
           },
           "label": "ptm",
           "values": [
            0.887
           ]
          },
          {
           "axis": {
            "matches": true
           },
           "label": "total_score",
           "values": [
            -749.2
           ]
          },
          {
           "axis": {
            "matches": true
           },
           "label": "dG_separated",
           "values": [
            -48.092
           ]
          },
          {
           "axis": {
            "matches": true
           },
           "label": "dG_separated/dSASAx100",
           "values": [
            -2.376
           ]
          }
         ],
         "hovertemplate": "id_new=Lsb001_01<br>%{xaxis.title.text}=%{x}<br>%{yaxis.title.text}=%{y}<extra></extra>",
         "legendgroup": "Lsb001_01",
         "marker": {
          "color": "#636efa",
          "symbol": "diamond"
         },
         "name": "Lsb001_01",
         "showlegend": true,
         "type": "splom"
        },
        {
         "diagonal": {
          "visible": false
         },
         "dimensions": [
          {
           "axis": {
            "matches": true
           },
           "label": "plddt",
           "values": [
            86.6
           ]
          },
          {
           "axis": {
            "matches": true
           },
           "label": "ptm",
           "values": [
            0.832
           ]
          },
          {
           "axis": {
            "matches": true
           },
           "label": "total_score",
           "values": [
            -731.113
           ]
          },
          {
           "axis": {
            "matches": true
           },
           "label": "dG_separated",
           "values": [
            -46.071
           ]
          },
          {
           "axis": {
            "matches": true
           },
           "label": "dG_separated/dSASAx100",
           "values": [
            -2.289
           ]
          }
         ],
         "hovertemplate": "id_new=Lsb001_02<br>%{xaxis.title.text}=%{x}<br>%{yaxis.title.text}=%{y}<extra></extra>",
         "legendgroup": "Lsb001_02",
         "marker": {
          "color": "#636efa",
          "symbol": "square"
         },
         "name": "Lsb001_02",
         "showlegend": true,
         "type": "splom"
        },
        {
         "diagonal": {
          "visible": false
         },
         "dimensions": [
          {
           "axis": {
            "matches": true
           },
           "label": "plddt",
           "values": [
            90.2
           ]
          },
          {
           "axis": {
            "matches": true
           },
           "label": "ptm",
           "values": [
            0.803
           ]
          },
          {
           "axis": {
            "matches": true
           },
           "label": "total_score",
           "values": [
            -728.61
           ]
          },
          {
           "axis": {
            "matches": true
           },
           "label": "dG_separated",
           "values": [
            -50.889
           ]
          },
          {
           "axis": {
            "matches": true
           },
           "label": "dG_separated/dSASAx100",
           "values": [
            -2.088
           ]
          }
         ],
         "hovertemplate": "id_new=Lsb001_03<br>%{xaxis.title.text}=%{x}<br>%{yaxis.title.text}=%{y}<extra></extra>",
         "legendgroup": "Lsb001_03",
         "marker": {
          "color": "#636efa",
          "symbol": "x"
         },
         "name": "Lsb001_03",
         "showlegend": true,
         "type": "splom"
        },
        {
         "diagonal": {
          "visible": false
         },
         "dimensions": [
          {
           "axis": {
            "matches": true
           },
           "label": "plddt",
           "values": [
            81.9
           ]
          },
          {
           "axis": {
            "matches": true
           },
           "label": "ptm",
           "values": [
            0.776
           ]
          },
          {
           "axis": {
            "matches": true
           },
           "label": "total_score",
           "values": [
            -648.218
           ]
          },
          {
           "axis": {
            "matches": true
           },
           "label": "dG_separated",
           "values": [
            -50.239
           ]
          },
          {
           "axis": {
            "matches": true
           },
           "label": "dG_separated/dSASAx100",
           "values": [
            -2.454
           ]
          }
         ],
         "hovertemplate": "id_new=Lsb001_04<br>%{xaxis.title.text}=%{x}<br>%{yaxis.title.text}=%{y}<extra></extra>",
         "legendgroup": "Lsb001_04",
         "marker": {
          "color": "#636efa",
          "symbol": "cross"
         },
         "name": "Lsb001_04",
         "showlegend": true,
         "type": "splom"
        },
        {
         "diagonal": {
          "visible": false
         },
         "dimensions": [
          {
           "axis": {
            "matches": true
           },
           "label": "plddt",
           "values": [
            90.6
           ]
          },
          {
           "axis": {
            "matches": true
           },
           "label": "ptm",
           "values": [
            0.783
           ]
          },
          {
           "axis": {
            "matches": true
           },
           "label": "total_score",
           "values": [
            -760.411
           ]
          },
          {
           "axis": {
            "matches": true
           },
           "label": "dG_separated",
           "values": [
            -61.05
           ]
          },
          {
           "axis": {
            "matches": true
           },
           "label": "dG_separated/dSASAx100",
           "values": [
            -2.719
           ]
          }
         ],
         "hovertemplate": "id_new=Lsb001_05<br>%{xaxis.title.text}=%{x}<br>%{yaxis.title.text}=%{y}<extra></extra>",
         "legendgroup": "Lsb001_05",
         "marker": {
          "color": "#636efa",
          "symbol": "circle"
         },
         "name": "Lsb001_05",
         "showlegend": true,
         "type": "splom"
        },
        {
         "diagonal": {
          "visible": false
         },
         "dimensions": [
          {
           "axis": {
            "matches": true
           },
           "label": "plddt",
           "values": [
            83.9
           ]
          },
          {
           "axis": {
            "matches": true
           },
           "label": "ptm",
           "values": [
            0.709
           ]
          },
          {
           "axis": {
            "matches": true
           },
           "label": "total_score",
           "values": [
            -646.152
           ]
          },
          {
           "axis": {
            "matches": true
           },
           "label": "dG_separated",
           "values": [
            -39.441
           ]
          },
          {
           "axis": {
            "matches": true
           },
           "label": "dG_separated/dSASAx100",
           "values": [
            -2.39
           ]
          }
         ],
         "hovertemplate": "id_new=Lsb001_06<br>%{xaxis.title.text}=%{x}<br>%{yaxis.title.text}=%{y}<extra></extra>",
         "legendgroup": "Lsb001_06",
         "marker": {
          "color": "#636efa",
          "symbol": "diamond"
         },
         "name": "Lsb001_06",
         "showlegend": true,
         "type": "splom"
        },
        {
         "diagonal": {
          "visible": false
         },
         "dimensions": [
          {
           "axis": {
            "matches": true
           },
           "label": "plddt",
           "values": [
            87.7
           ]
          },
          {
           "axis": {
            "matches": true
           },
           "label": "ptm",
           "values": [
            0.732
           ]
          },
          {
           "axis": {
            "matches": true
           },
           "label": "total_score",
           "values": [
            -743.006
           ]
          },
          {
           "axis": {
            "matches": true
           },
           "label": "dG_separated",
           "values": [
            -40.593
           ]
          },
          {
           "axis": {
            "matches": true
           },
           "label": "dG_separated/dSASAx100",
           "values": [
            -2.868
           ]
          }
         ],
         "hovertemplate": "id_new=Lsb001_07<br>%{xaxis.title.text}=%{x}<br>%{yaxis.title.text}=%{y}<extra></extra>",
         "legendgroup": "Lsb001_07",
         "marker": {
          "color": "#636efa",
          "symbol": "square"
         },
         "name": "Lsb001_07",
         "showlegend": true,
         "type": "splom"
        },
        {
         "diagonal": {
          "visible": false
         },
         "dimensions": [
          {
           "axis": {
            "matches": true
           },
           "label": "plddt",
           "values": [
            78.8
           ]
          },
          {
           "axis": {
            "matches": true
           },
           "label": "ptm",
           "values": [
            0.716
           ]
          },
          {
           "axis": {
            "matches": true
           },
           "label": "total_score",
           "values": [
            -694.431
           ]
          },
          {
           "axis": {
            "matches": true
           },
           "label": "dG_separated",
           "values": [
            -46.119
           ]
          },
          {
           "axis": {
            "matches": true
           },
           "label": "dG_separated/dSASAx100",
           "values": [
            -2.73
           ]
          }
         ],
         "hovertemplate": "id_new=Lsb001_08<br>%{xaxis.title.text}=%{x}<br>%{yaxis.title.text}=%{y}<extra></extra>",
         "legendgroup": "Lsb001_08",
         "marker": {
          "color": "#636efa",
          "symbol": "x"
         },
         "name": "Lsb001_08",
         "showlegend": true,
         "type": "splom"
        },
        {
         "diagonal": {
          "visible": false
         },
         "dimensions": [
          {
           "axis": {
            "matches": true
           },
           "label": "plddt",
           "values": [
            84.9
           ]
          },
          {
           "axis": {
            "matches": true
           },
           "label": "ptm",
           "values": [
            0.717
           ]
          },
          {
           "axis": {
            "matches": true
           },
           "label": "total_score",
           "values": [
            -750.398
           ]
          },
          {
           "axis": {
            "matches": true
           },
           "label": "dG_separated",
           "values": [
            -57.413
           ]
          },
          {
           "axis": {
            "matches": true
           },
           "label": "dG_separated/dSASAx100",
           "values": [
            -2.388
           ]
          }
         ],
         "hovertemplate": "id_new=Lsb001_09<br>%{xaxis.title.text}=%{x}<br>%{yaxis.title.text}=%{y}<extra></extra>",
         "legendgroup": "Lsb001_09",
         "marker": {
          "color": "#636efa",
          "symbol": "cross"
         },
         "name": "Lsb001_09",
         "showlegend": true,
         "type": "splom"
        },
        {
         "diagonal": {
          "visible": false
         },
         "dimensions": [
          {
           "axis": {
            "matches": true
           },
           "label": "plddt",
           "values": [
            90.2
           ]
          },
          {
           "axis": {
            "matches": true
           },
           "label": "ptm",
           "values": [
            0.711
           ]
          },
          {
           "axis": {
            "matches": true
           },
           "label": "total_score",
           "values": [
            -753.402
           ]
          },
          {
           "axis": {
            "matches": true
           },
           "label": "dG_separated",
           "values": [
            -50.577
           ]
          },
          {
           "axis": {
            "matches": true
           },
           "label": "dG_separated/dSASAx100",
           "values": [
            -2.506
           ]
          }
         ],
         "hovertemplate": "id_new=Lsb001_10<br>%{xaxis.title.text}=%{x}<br>%{yaxis.title.text}=%{y}<extra></extra>",
         "legendgroup": "Lsb001_10",
         "marker": {
          "color": "#636efa",
          "symbol": "circle"
         },
         "name": "Lsb001_10",
         "showlegend": true,
         "type": "splom"
        },
        {
         "diagonal": {
          "visible": false
         },
         "dimensions": [
          {
           "axis": {
            "matches": true
           },
           "label": "plddt",
           "values": [
            87.1
           ]
          },
          {
           "axis": {
            "matches": true
           },
           "label": "ptm",
           "values": [
            0.701
           ]
          },
          {
           "axis": {
            "matches": true
           },
           "label": "total_score",
           "values": [
            -714.44
           ]
          },
          {
           "axis": {
            "matches": true
           },
           "label": "dG_separated",
           "values": [
            -40.856
           ]
          },
          {
           "axis": {
            "matches": true
           },
           "label": "dG_separated/dSASAx100",
           "values": [
            -2.476
           ]
          }
         ],
         "hovertemplate": "id_new=Lsb001_11<br>%{xaxis.title.text}=%{x}<br>%{yaxis.title.text}=%{y}<extra></extra>",
         "legendgroup": "Lsb001_11",
         "marker": {
          "color": "#636efa",
          "symbol": "diamond"
         },
         "name": "Lsb001_11",
         "showlegend": true,
         "type": "splom"
        },
        {
         "diagonal": {
          "visible": false
         },
         "dimensions": [
          {
           "axis": {
            "matches": true
           },
           "label": "plddt",
           "values": [
            90.8
           ]
          },
          {
           "axis": {
            "matches": true
           },
           "label": "ptm",
           "values": [
            0.685
           ]
          },
          {
           "axis": {
            "matches": true
           },
           "label": "total_score",
           "values": [
            -726.076
           ]
          },
          {
           "axis": {
            "matches": true
           },
           "label": "dG_separated",
           "values": [
            -29.364
           ]
          },
          {
           "axis": {
            "matches": true
           },
           "label": "dG_separated/dSASAx100",
           "values": [
            -2.763
           ]
          }
         ],
         "hovertemplate": "id_new=Lsb001_12<br>%{xaxis.title.text}=%{x}<br>%{yaxis.title.text}=%{y}<extra></extra>",
         "legendgroup": "Lsb001_12",
         "marker": {
          "color": "#636efa",
          "symbol": "square"
         },
         "name": "Lsb001_12",
         "showlegend": true,
         "type": "splom"
        },
        {
         "diagonal": {
          "visible": false
         },
         "dimensions": [
          {
           "axis": {
            "matches": true
           },
           "label": "plddt",
           "values": [
            75.3
           ]
          },
          {
           "axis": {
            "matches": true
           },
           "label": "ptm",
           "values": [
            0.642
           ]
          },
          {
           "axis": {
            "matches": true
           },
           "label": "total_score",
           "values": [
            -698.122
           ]
          },
          {
           "axis": {
            "matches": true
           },
           "label": "dG_separated",
           "values": [
            -45.987
           ]
          },
          {
           "axis": {
            "matches": true
           },
           "label": "dG_separated/dSASAx100",
           "values": [
            -2.458
           ]
          }
         ],
         "hovertemplate": "id_new=Lsb001_13<br>%{xaxis.title.text}=%{x}<br>%{yaxis.title.text}=%{y}<extra></extra>",
         "legendgroup": "Lsb001_13",
         "marker": {
          "color": "#636efa",
          "symbol": "x"
         },
         "name": "Lsb001_13",
         "showlegend": true,
         "type": "splom"
        },
        {
         "diagonal": {
          "visible": false
         },
         "dimensions": [
          {
           "axis": {
            "matches": true
           },
           "label": "plddt",
           "values": [
            85.9
           ]
          },
          {
           "axis": {
            "matches": true
           },
           "label": "ptm",
           "values": [
            0.664
           ]
          },
          {
           "axis": {
            "matches": true
           },
           "label": "total_score",
           "values": [
            -684.195
           ]
          },
          {
           "axis": {
            "matches": true
           },
           "label": "dG_separated",
           "values": [
            -39.765
           ]
          },
          {
           "axis": {
            "matches": true
           },
           "label": "dG_separated/dSASAx100",
           "values": [
            -2.298
           ]
          }
         ],
         "hovertemplate": "id_new=Lsb001_14<br>%{xaxis.title.text}=%{x}<br>%{yaxis.title.text}=%{y}<extra></extra>",
         "legendgroup": "Lsb001_14",
         "marker": {
          "color": "#636efa",
          "symbol": "cross"
         },
         "name": "Lsb001_14",
         "showlegend": true,
         "type": "splom"
        },
        {
         "diagonal": {
          "visible": false
         },
         "dimensions": [
          {
           "axis": {
            "matches": true
           },
           "label": "plddt",
           "values": [
            86.1
           ]
          },
          {
           "axis": {
            "matches": true
           },
           "label": "ptm",
           "values": [
            0.673
           ]
          },
          {
           "axis": {
            "matches": true
           },
           "label": "total_score",
           "values": [
            -699.292
           ]
          },
          {
           "axis": {
            "matches": true
           },
           "label": "dG_separated",
           "values": [
            -30.387
           ]
          },
          {
           "axis": {
            "matches": true
           },
           "label": "dG_separated/dSASAx100",
           "values": [
            -2.344
           ]
          }
         ],
         "hovertemplate": "id_new=Lsb001_15<br>%{xaxis.title.text}=%{x}<br>%{yaxis.title.text}=%{y}<extra></extra>",
         "legendgroup": "Lsb001_15",
         "marker": {
          "color": "#636efa",
          "symbol": "circle"
         },
         "name": "Lsb001_15",
         "showlegend": true,
         "type": "splom"
        },
        {
         "diagonal": {
          "visible": false
         },
         "dimensions": [
          {
           "axis": {
            "matches": true
           },
           "label": "plddt",
           "values": [
            86.2
           ]
          },
          {
           "axis": {
            "matches": true
           },
           "label": "ptm",
           "values": [
            0.656
           ]
          },
          {
           "axis": {
            "matches": true
           },
           "label": "total_score",
           "values": [
            -726.22
           ]
          },
          {
           "axis": {
            "matches": true
           },
           "label": "dG_separated",
           "values": [
            -54.358
           ]
          },
          {
           "axis": {
            "matches": true
           },
           "label": "dG_separated/dSASAx100",
           "values": [
            -2.853
           ]
          }
         ],
         "hovertemplate": "id_new=Lsb001_16<br>%{xaxis.title.text}=%{x}<br>%{yaxis.title.text}=%{y}<extra></extra>",
         "legendgroup": "Lsb001_16",
         "marker": {
          "color": "#636efa",
          "symbol": "diamond"
         },
         "name": "Lsb001_16",
         "showlegend": true,
         "type": "splom"
        },
        {
         "diagonal": {
          "visible": false
         },
         "dimensions": [
          {
           "axis": {
            "matches": true
           },
           "label": "plddt",
           "values": [
            86.8
           ]
          },
          {
           "axis": {
            "matches": true
           },
           "label": "ptm",
           "values": [
            0.669
           ]
          },
          {
           "axis": {
            "matches": true
           },
           "label": "total_score",
           "values": [
            -729.775
           ]
          },
          {
           "axis": {
            "matches": true
           },
           "label": "dG_separated",
           "values": [
            -43.279
           ]
          },
          {
           "axis": {
            "matches": true
           },
           "label": "dG_separated/dSASAx100",
           "values": [
            -2.333
           ]
          }
         ],
         "hovertemplate": "id_new=Lsb001_17<br>%{xaxis.title.text}=%{x}<br>%{yaxis.title.text}=%{y}<extra></extra>",
         "legendgroup": "Lsb001_17",
         "marker": {
          "color": "#636efa",
          "symbol": "square"
         },
         "name": "Lsb001_17",
         "showlegend": true,
         "type": "splom"
        },
        {
         "diagonal": {
          "visible": false
         },
         "dimensions": [
          {
           "axis": {
            "matches": true
           },
           "label": "plddt",
           "values": [
            87.7
           ]
          },
          {
           "axis": {
            "matches": true
           },
           "label": "ptm",
           "values": [
            0.662
           ]
          },
          {
           "axis": {
            "matches": true
           },
           "label": "total_score",
           "values": [
            -707.664
           ]
          },
          {
           "axis": {
            "matches": true
           },
           "label": "dG_separated",
           "values": [
            -38.786
           ]
          },
          {
           "axis": {
            "matches": true
           },
           "label": "dG_separated/dSASAx100",
           "values": [
            -2.486
           ]
          }
         ],
         "hovertemplate": "id_new=Lsb001_18<br>%{xaxis.title.text}=%{x}<br>%{yaxis.title.text}=%{y}<extra></extra>",
         "legendgroup": "Lsb001_18",
         "marker": {
          "color": "#636efa",
          "symbol": "x"
         },
         "name": "Lsb001_18",
         "showlegend": true,
         "type": "splom"
        },
        {
         "diagonal": {
          "visible": false
         },
         "dimensions": [
          {
           "axis": {
            "matches": true
           },
           "label": "plddt",
           "values": [
            85.8
           ]
          },
          {
           "axis": {
            "matches": true
           },
           "label": "ptm",
           "values": [
            0.646
           ]
          },
          {
           "axis": {
            "matches": true
           },
           "label": "total_score",
           "values": [
            -710.091
           ]
          },
          {
           "axis": {
            "matches": true
           },
           "label": "dG_separated",
           "values": [
            -30.325
           ]
          },
          {
           "axis": {
            "matches": true
           },
           "label": "dG_separated/dSASAx100",
           "values": [
            -2.41
           ]
          }
         ],
         "hovertemplate": "id_new=Lsb001_19<br>%{xaxis.title.text}=%{x}<br>%{yaxis.title.text}=%{y}<extra></extra>",
         "legendgroup": "Lsb001_19",
         "marker": {
          "color": "#636efa",
          "symbol": "cross"
         },
         "name": "Lsb001_19",
         "showlegend": true,
         "type": "splom"
        },
        {
         "diagonal": {
          "visible": false
         },
         "dimensions": [
          {
           "axis": {
            "matches": true
           },
           "label": "plddt",
           "values": [
            78.7
           ]
          },
          {
           "axis": {
            "matches": true
           },
           "label": "ptm",
           "values": [
            0.635
           ]
          },
          {
           "axis": {
            "matches": true
           },
           "label": "total_score",
           "values": [
            -723.961
           ]
          },
          {
           "axis": {
            "matches": true
           },
           "label": "dG_separated",
           "values": [
            -33.777
           ]
          },
          {
           "axis": {
            "matches": true
           },
           "label": "dG_separated/dSASAx100",
           "values": [
            -2.253
           ]
          }
         ],
         "hovertemplate": "id_new=Lsb001_20<br>%{xaxis.title.text}=%{x}<br>%{yaxis.title.text}=%{y}<extra></extra>",
         "legendgroup": "Lsb001_20",
         "marker": {
          "color": "#636efa",
          "symbol": "circle"
         },
         "name": "Lsb001_20",
         "showlegend": true,
         "type": "splom"
        },
        {
         "diagonal": {
          "visible": false
         },
         "dimensions": [
          {
           "axis": {
            "matches": true
           },
           "label": "plddt",
           "values": [
            90.1
           ]
          },
          {
           "axis": {
            "matches": true
           },
           "label": "ptm",
           "values": [
            0.642
           ]
          },
          {
           "axis": {
            "matches": true
           },
           "label": "total_score",
           "values": [
            -723.357
           ]
          },
          {
           "axis": {
            "matches": true
           },
           "label": "dG_separated",
           "values": [
            -18.725
           ]
          },
          {
           "axis": {
            "matches": true
           },
           "label": "dG_separated/dSASAx100",
           "values": [
            -2.143
           ]
          }
         ],
         "hovertemplate": "id_new=Lsb001_21<br>%{xaxis.title.text}=%{x}<br>%{yaxis.title.text}=%{y}<extra></extra>",
         "legendgroup": "Lsb001_21",
         "marker": {
          "color": "#636efa",
          "symbol": "diamond"
         },
         "name": "Lsb001_21",
         "showlegend": true,
         "type": "splom"
        },
        {
         "diagonal": {
          "visible": false
         },
         "dimensions": [
          {
           "axis": {
            "matches": true
           },
           "label": "plddt",
           "values": [
            81.7
           ]
          },
          {
           "axis": {
            "matches": true
           },
           "label": "ptm",
           "values": [
            0.629
           ]
          },
          {
           "axis": {
            "matches": true
           },
           "label": "total_score",
           "values": [
            -754.822
           ]
          },
          {
           "axis": {
            "matches": true
           },
           "label": "dG_separated",
           "values": [
            -48.663
           ]
          },
          {
           "axis": {
            "matches": true
           },
           "label": "dG_separated/dSASAx100",
           "values": [
            -2.403
           ]
          }
         ],
         "hovertemplate": "id_new=Lsb001_22<br>%{xaxis.title.text}=%{x}<br>%{yaxis.title.text}=%{y}<extra></extra>",
         "legendgroup": "Lsb001_22",
         "marker": {
          "color": "#636efa",
          "symbol": "square"
         },
         "name": "Lsb001_22",
         "showlegend": true,
         "type": "splom"
        },
        {
         "diagonal": {
          "visible": false
         },
         "dimensions": [
          {
           "axis": {
            "matches": true
           },
           "label": "plddt",
           "values": [
            81.8
           ]
          },
          {
           "axis": {
            "matches": true
           },
           "label": "ptm",
           "values": [
            0.612
           ]
          },
          {
           "axis": {
            "matches": true
           },
           "label": "total_score",
           "values": [
            -675.735
           ]
          },
          {
           "axis": {
            "matches": true
           },
           "label": "dG_separated",
           "values": [
            -59.614
           ]
          },
          {
           "axis": {
            "matches": true
           },
           "label": "dG_separated/dSASAx100",
           "values": [
            -2.757
           ]
          }
         ],
         "hovertemplate": "id_new=Lsb001_23<br>%{xaxis.title.text}=%{x}<br>%{yaxis.title.text}=%{y}<extra></extra>",
         "legendgroup": "Lsb001_23",
         "marker": {
          "color": "#636efa",
          "symbol": "x"
         },
         "name": "Lsb001_23",
         "showlegend": true,
         "type": "splom"
        },
        {
         "diagonal": {
          "visible": false
         },
         "dimensions": [
          {
           "axis": {
            "matches": true
           },
           "label": "plddt",
           "values": [
            85.6
           ]
          },
          {
           "axis": {
            "matches": true
           },
           "label": "ptm",
           "values": [
            0.628
           ]
          },
          {
           "axis": {
            "matches": true
           },
           "label": "total_score",
           "values": [
            -693.38
           ]
          },
          {
           "axis": {
            "matches": true
           },
           "label": "dG_separated",
           "values": [
            -39.366
           ]
          },
          {
           "axis": {
            "matches": true
           },
           "label": "dG_separated/dSASAx100",
           "values": [
            -2.506
           ]
          }
         ],
         "hovertemplate": "id_new=Lsb001_24<br>%{xaxis.title.text}=%{x}<br>%{yaxis.title.text}=%{y}<extra></extra>",
         "legendgroup": "Lsb001_24",
         "marker": {
          "color": "#636efa",
          "symbol": "cross"
         },
         "name": "Lsb001_24",
         "showlegend": true,
         "type": "splom"
        },
        {
         "diagonal": {
          "visible": false
         },
         "dimensions": [
          {
           "axis": {
            "matches": true
           },
           "label": "plddt",
           "values": [
            84.9
           ]
          },
          {
           "axis": {
            "matches": true
           },
           "label": "ptm",
           "values": [
            0.622
           ]
          },
          {
           "axis": {
            "matches": true
           },
           "label": "total_score",
           "values": [
            -665.902
           ]
          },
          {
           "axis": {
            "matches": true
           },
           "label": "dG_separated",
           "values": [
            -30.672
           ]
          },
          {
           "axis": {
            "matches": true
           },
           "label": "dG_separated/dSASAx100",
           "values": [
            -2.114
           ]
          }
         ],
         "hovertemplate": "id_new=Lsb001_25<br>%{xaxis.title.text}=%{x}<br>%{yaxis.title.text}=%{y}<extra></extra>",
         "legendgroup": "Lsb001_25",
         "marker": {
          "color": "#636efa",
          "symbol": "circle"
         },
         "name": "Lsb001_25",
         "showlegend": true,
         "type": "splom"
        },
        {
         "diagonal": {
          "visible": false
         },
         "dimensions": [
          {
           "axis": {
            "matches": true
           },
           "label": "plddt",
           "values": [
            78.5
           ]
          },
          {
           "axis": {
            "matches": true
           },
           "label": "ptm",
           "values": [
            0.619
           ]
          },
          {
           "axis": {
            "matches": true
           },
           "label": "total_score",
           "values": [
            -656.404
           ]
          },
          {
           "axis": {
            "matches": true
           },
           "label": "dG_separated",
           "values": [
            -11.021
           ]
          },
          {
           "axis": {
            "matches": true
           },
           "label": "dG_separated/dSASAx100",
           "values": [
            -1.257
           ]
          }
         ],
         "hovertemplate": "id_new=Lsb001_26<br>%{xaxis.title.text}=%{x}<br>%{yaxis.title.text}=%{y}<extra></extra>",
         "legendgroup": "Lsb001_26",
         "marker": {
          "color": "#636efa",
          "symbol": "diamond"
         },
         "name": "Lsb001_26",
         "showlegend": true,
         "type": "splom"
        },
        {
         "diagonal": {
          "visible": false
         },
         "dimensions": [
          {
           "axis": {
            "matches": true
           },
           "label": "plddt",
           "values": [
            90
           ]
          },
          {
           "axis": {
            "matches": true
           },
           "label": "ptm",
           "values": [
            0.615
           ]
          },
          {
           "axis": {
            "matches": true
           },
           "label": "total_score",
           "values": [
            -736.48
           ]
          },
          {
           "axis": {
            "matches": true
           },
           "label": "dG_separated",
           "values": [
            -34.104
           ]
          },
          {
           "axis": {
            "matches": true
           },
           "label": "dG_separated/dSASAx100",
           "values": [
            -2.022
           ]
          }
         ],
         "hovertemplate": "id_new=Lsb001_27<br>%{xaxis.title.text}=%{x}<br>%{yaxis.title.text}=%{y}<extra></extra>",
         "legendgroup": "Lsb001_27",
         "marker": {
          "color": "#636efa",
          "symbol": "square"
         },
         "name": "Lsb001_27",
         "showlegend": true,
         "type": "splom"
        },
        {
         "diagonal": {
          "visible": false
         },
         "dimensions": [
          {
           "axis": {
            "matches": true
           },
           "label": "plddt",
           "values": [
            87.8
           ]
          },
          {
           "axis": {
            "matches": true
           },
           "label": "ptm",
           "values": [
            0.611
           ]
          },
          {
           "axis": {
            "matches": true
           },
           "label": "total_score",
           "values": [
            -719.039
           ]
          },
          {
           "axis": {
            "matches": true
           },
           "label": "dG_separated",
           "values": [
            -28.482
           ]
          },
          {
           "axis": {
            "matches": true
           },
           "label": "dG_separated/dSASAx100",
           "values": [
            -2.815
           ]
          }
         ],
         "hovertemplate": "id_new=Lsb001_28<br>%{xaxis.title.text}=%{x}<br>%{yaxis.title.text}=%{y}<extra></extra>",
         "legendgroup": "Lsb001_28",
         "marker": {
          "color": "#636efa",
          "symbol": "x"
         },
         "name": "Lsb001_28",
         "showlegend": true,
         "type": "splom"
        },
        {
         "diagonal": {
          "visible": false
         },
         "dimensions": [
          {
           "axis": {
            "matches": true
           },
           "label": "plddt",
           "values": [
            89.9
           ]
          },
          {
           "axis": {
            "matches": true
           },
           "label": "ptm",
           "values": [
            0.604
           ]
          },
          {
           "axis": {
            "matches": true
           },
           "label": "total_score",
           "values": [
            -722.384
           ]
          },
          {
           "axis": {
            "matches": true
           },
           "label": "dG_separated",
           "values": [
            -32.816
           ]
          },
          {
           "axis": {
            "matches": true
           },
           "label": "dG_separated/dSASAx100",
           "values": [
            -2.435
           ]
          }
         ],
         "hovertemplate": "id_new=Lsb001_29<br>%{xaxis.title.text}=%{x}<br>%{yaxis.title.text}=%{y}<extra></extra>",
         "legendgroup": "Lsb001_29",
         "marker": {
          "color": "#636efa",
          "symbol": "cross"
         },
         "name": "Lsb001_29",
         "showlegend": true,
         "type": "splom"
        },
        {
         "diagonal": {
          "visible": false
         },
         "dimensions": [
          {
           "axis": {
            "matches": true
           },
           "label": "plddt",
           "values": [
            87.6
           ]
          },
          {
           "axis": {
            "matches": true
           },
           "label": "ptm",
           "values": [
            0.599
           ]
          },
          {
           "axis": {
            "matches": true
           },
           "label": "total_score",
           "values": [
            -710.752
           ]
          },
          {
           "axis": {
            "matches": true
           },
           "label": "dG_separated",
           "values": [
            -32.471
           ]
          },
          {
           "axis": {
            "matches": true
           },
           "label": "dG_separated/dSASAx100",
           "values": [
            -2.228
           ]
          }
         ],
         "hovertemplate": "id_new=Lsb001_30<br>%{xaxis.title.text}=%{x}<br>%{yaxis.title.text}=%{y}<extra></extra>",
         "legendgroup": "Lsb001_30",
         "marker": {
          "color": "#636efa",
          "symbol": "circle"
         },
         "name": "Lsb001_30",
         "showlegend": true,
         "type": "splom"
        },
        {
         "diagonal": {
          "visible": false
         },
         "dimensions": [
          {
           "axis": {
            "matches": true
           },
           "label": "plddt",
           "values": [
            84.7
           ]
          },
          {
           "axis": {
            "matches": true
           },
           "label": "ptm",
           "values": [
            0.592
           ]
          },
          {
           "axis": {
            "matches": true
           },
           "label": "total_score",
           "values": [
            -693.206
           ]
          },
          {
           "axis": {
            "matches": true
           },
           "label": "dG_separated",
           "values": [
            -26.416
           ]
          },
          {
           "axis": {
            "matches": true
           },
           "label": "dG_separated/dSASAx100",
           "values": [
            -1.769
           ]
          }
         ],
         "hovertemplate": "id_new=Lsb001_31<br>%{xaxis.title.text}=%{x}<br>%{yaxis.title.text}=%{y}<extra></extra>",
         "legendgroup": "Lsb001_31",
         "marker": {
          "color": "#636efa",
          "symbol": "diamond"
         },
         "name": "Lsb001_31",
         "showlegend": true,
         "type": "splom"
        },
        {
         "diagonal": {
          "visible": false
         },
         "dimensions": [
          {
           "axis": {
            "matches": true
           },
           "label": "plddt",
           "values": [
            81.3
           ]
          },
          {
           "axis": {
            "matches": true
           },
           "label": "ptm",
           "values": [
            0.576
           ]
          },
          {
           "axis": {
            "matches": true
           },
           "label": "total_score",
           "values": [
            -745.838
           ]
          },
          {
           "axis": {
            "matches": true
           },
           "label": "dG_separated",
           "values": [
            -50.001
           ]
          },
          {
           "axis": {
            "matches": true
           },
           "label": "dG_separated/dSASAx100",
           "values": [
            -2.493
           ]
          }
         ],
         "hovertemplate": "id_new=Lsb001_32<br>%{xaxis.title.text}=%{x}<br>%{yaxis.title.text}=%{y}<extra></extra>",
         "legendgroup": "Lsb001_32",
         "marker": {
          "color": "#636efa",
          "symbol": "square"
         },
         "name": "Lsb001_32",
         "showlegend": true,
         "type": "splom"
        },
        {
         "diagonal": {
          "visible": false
         },
         "dimensions": [
          {
           "axis": {
            "matches": true
           },
           "label": "plddt",
           "values": [
            82.5
           ]
          },
          {
           "axis": {
            "matches": true
           },
           "label": "ptm",
           "values": [
            0.594
           ]
          },
          {
           "axis": {
            "matches": true
           },
           "label": "total_score",
           "values": [
            -724.379
           ]
          },
          {
           "axis": {
            "matches": true
           },
           "label": "dG_separated",
           "values": [
            -27.877
           ]
          },
          {
           "axis": {
            "matches": true
           },
           "label": "dG_separated/dSASAx100",
           "values": [
            -1.919
           ]
          }
         ],
         "hovertemplate": "id_new=Lsb001_33<br>%{xaxis.title.text}=%{x}<br>%{yaxis.title.text}=%{y}<extra></extra>",
         "legendgroup": "Lsb001_33",
         "marker": {
          "color": "#636efa",
          "symbol": "x"
         },
         "name": "Lsb001_33",
         "showlegend": true,
         "type": "splom"
        },
        {
         "diagonal": {
          "visible": false
         },
         "dimensions": [
          {
           "axis": {
            "matches": true
           },
           "label": "plddt",
           "values": [
            83.5
           ]
          },
          {
           "axis": {
            "matches": true
           },
           "label": "ptm",
           "values": [
            0.605
           ]
          },
          {
           "axis": {
            "matches": true
           },
           "label": "total_score",
           "values": [
            -628.556
           ]
          },
          {
           "axis": {
            "matches": true
           },
           "label": "dG_separated",
           "values": [
            -20.49
           ]
          },
          {
           "axis": {
            "matches": true
           },
           "label": "dG_separated/dSASAx100",
           "values": [
            -1.933
           ]
          }
         ],
         "hovertemplate": "id_new=Lsb001_34<br>%{xaxis.title.text}=%{x}<br>%{yaxis.title.text}=%{y}<extra></extra>",
         "legendgroup": "Lsb001_34",
         "marker": {
          "color": "#636efa",
          "symbol": "cross"
         },
         "name": "Lsb001_34",
         "showlegend": true,
         "type": "splom"
        },
        {
         "diagonal": {
          "visible": false
         },
         "dimensions": [
          {
           "axis": {
            "matches": true
           },
           "label": "plddt",
           "values": [
            89.5
           ]
          },
          {
           "axis": {
            "matches": true
           },
           "label": "ptm",
           "values": [
            0.576
           ]
          },
          {
           "axis": {
            "matches": true
           },
           "label": "total_score",
           "values": [
            -732.621
           ]
          },
          {
           "axis": {
            "matches": true
           },
           "label": "dG_separated",
           "values": [
            -23.687
           ]
          },
          {
           "axis": {
            "matches": true
           },
           "label": "dG_separated/dSASAx100",
           "values": [
            -2.404
           ]
          }
         ],
         "hovertemplate": "id_new=Lsb001_35<br>%{xaxis.title.text}=%{x}<br>%{yaxis.title.text}=%{y}<extra></extra>",
         "legendgroup": "Lsb001_35",
         "marker": {
          "color": "#636efa",
          "symbol": "circle"
         },
         "name": "Lsb001_35",
         "showlegend": true,
         "type": "splom"
        },
        {
         "diagonal": {
          "visible": false
         },
         "dimensions": [
          {
           "axis": {
            "matches": true
           },
           "label": "plddt",
           "values": [
            80.5
           ]
          },
          {
           "axis": {
            "matches": true
           },
           "label": "ptm",
           "values": [
            0.568
           ]
          },
          {
           "axis": {
            "matches": true
           },
           "label": "total_score",
           "values": [
            -724.233
           ]
          },
          {
           "axis": {
            "matches": true
           },
           "label": "dG_separated",
           "values": [
            -32.046
           ]
          },
          {
           "axis": {
            "matches": true
           },
           "label": "dG_separated/dSASAx100",
           "values": [
            -2.364
           ]
          }
         ],
         "hovertemplate": "id_new=Lsb001_36<br>%{xaxis.title.text}=%{x}<br>%{yaxis.title.text}=%{y}<extra></extra>",
         "legendgroup": "Lsb001_36",
         "marker": {
          "color": "#636efa",
          "symbol": "diamond"
         },
         "name": "Lsb001_36",
         "showlegend": true,
         "type": "splom"
        },
        {
         "diagonal": {
          "visible": false
         },
         "dimensions": [
          {
           "axis": {
            "matches": true
           },
           "label": "plddt",
           "values": [
            88.2
           ]
          },
          {
           "axis": {
            "matches": true
           },
           "label": "ptm",
           "values": [
            0.571
           ]
          },
          {
           "axis": {
            "matches": true
           },
           "label": "total_score",
           "values": [
            -715.071
           ]
          },
          {
           "axis": {
            "matches": true
           },
           "label": "dG_separated",
           "values": [
            -50.986
           ]
          },
          {
           "axis": {
            "matches": true
           },
           "label": "dG_separated/dSASAx100",
           "values": [
            -3.072
           ]
          }
         ],
         "hovertemplate": "id_new=Lsb001_37<br>%{xaxis.title.text}=%{x}<br>%{yaxis.title.text}=%{y}<extra></extra>",
         "legendgroup": "Lsb001_37",
         "marker": {
          "color": "#636efa",
          "symbol": "square"
         },
         "name": "Lsb001_37",
         "showlegend": true,
         "type": "splom"
        },
        {
         "diagonal": {
          "visible": false
         },
         "dimensions": [
          {
           "axis": {
            "matches": true
           },
           "label": "plddt",
           "values": [
            88.8
           ]
          },
          {
           "axis": {
            "matches": true
           },
           "label": "ptm",
           "values": [
            0.574
           ]
          },
          {
           "axis": {
            "matches": true
           },
           "label": "total_score",
           "values": [
            -718.399
           ]
          },
          {
           "axis": {
            "matches": true
           },
           "label": "dG_separated",
           "values": [
            -53.951
           ]
          },
          {
           "axis": {
            "matches": true
           },
           "label": "dG_separated/dSASAx100",
           "values": [
            -2.584
           ]
          }
         ],
         "hovertemplate": "id_new=Lsb001_38<br>%{xaxis.title.text}=%{x}<br>%{yaxis.title.text}=%{y}<extra></extra>",
         "legendgroup": "Lsb001_38",
         "marker": {
          "color": "#636efa",
          "symbol": "x"
         },
         "name": "Lsb001_38",
         "showlegend": true,
         "type": "splom"
        },
        {
         "diagonal": {
          "visible": false
         },
         "dimensions": [
          {
           "axis": {
            "matches": true
           },
           "label": "plddt",
           "values": [
            84.2
           ]
          },
          {
           "axis": {
            "matches": true
           },
           "label": "ptm",
           "values": [
            0.567
           ]
          },
          {
           "axis": {
            "matches": true
           },
           "label": "total_score",
           "values": [
            -637.373
           ]
          },
          {
           "axis": {
            "matches": true
           },
           "label": "dG_separated",
           "values": [
            -35.351
           ]
          },
          {
           "axis": {
            "matches": true
           },
           "label": "dG_separated/dSASAx100",
           "values": [
            -2.526
           ]
          }
         ],
         "hovertemplate": "id_new=Lsb001_39<br>%{xaxis.title.text}=%{x}<br>%{yaxis.title.text}=%{y}<extra></extra>",
         "legendgroup": "Lsb001_39",
         "marker": {
          "color": "#636efa",
          "symbol": "cross"
         },
         "name": "Lsb001_39",
         "showlegend": true,
         "type": "splom"
        },
        {
         "diagonal": {
          "visible": false
         },
         "dimensions": [
          {
           "axis": {
            "matches": true
           },
           "label": "plddt",
           "values": [
            85.2
           ]
          },
          {
           "axis": {
            "matches": true
           },
           "label": "ptm",
           "values": [
            0.57
           ]
          },
          {
           "axis": {
            "matches": true
           },
           "label": "total_score",
           "values": [
            -649.182
           ]
          },
          {
           "axis": {
            "matches": true
           },
           "label": "dG_separated",
           "values": [
            -27.518
           ]
          },
          {
           "axis": {
            "matches": true
           },
           "label": "dG_separated/dSASAx100",
           "values": [
            -1.707
           ]
          }
         ],
         "hovertemplate": "id_new=Lsb001_40<br>%{xaxis.title.text}=%{x}<br>%{yaxis.title.text}=%{y}<extra></extra>",
         "legendgroup": "Lsb001_40",
         "marker": {
          "color": "#636efa",
          "symbol": "circle"
         },
         "name": "Lsb001_40",
         "showlegend": true,
         "type": "splom"
        },
        {
         "diagonal": {
          "visible": false
         },
         "dimensions": [
          {
           "axis": {
            "matches": true
           },
           "label": "plddt",
           "values": [
            85.2
           ]
          },
          {
           "axis": {
            "matches": true
           },
           "label": "ptm",
           "values": [
            0.566
           ]
          },
          {
           "axis": {
            "matches": true
           },
           "label": "total_score",
           "values": [
            -703.215
           ]
          },
          {
           "axis": {
            "matches": true
           },
           "label": "dG_separated",
           "values": [
            -29.214
           ]
          },
          {
           "axis": {
            "matches": true
           },
           "label": "dG_separated/dSASAx100",
           "values": [
            -2.269
           ]
          }
         ],
         "hovertemplate": "id_new=Lsb001_41<br>%{xaxis.title.text}=%{x}<br>%{yaxis.title.text}=%{y}<extra></extra>",
         "legendgroup": "Lsb001_41",
         "marker": {
          "color": "#636efa",
          "symbol": "diamond"
         },
         "name": "Lsb001_41",
         "showlegend": true,
         "type": "splom"
        },
        {
         "diagonal": {
          "visible": false
         },
         "dimensions": [
          {
           "axis": {
            "matches": true
           },
           "label": "plddt",
           "values": [
            83.6
           ]
          },
          {
           "axis": {
            "matches": true
           },
           "label": "ptm",
           "values": [
            0.563
           ]
          },
          {
           "axis": {
            "matches": true
           },
           "label": "total_score",
           "values": [
            -735.7
           ]
          },
          {
           "axis": {
            "matches": true
           },
           "label": "dG_separated",
           "values": [
            -34.189
           ]
          },
          {
           "axis": {
            "matches": true
           },
           "label": "dG_separated/dSASAx100",
           "values": [
            -2.407
           ]
          }
         ],
         "hovertemplate": "id_new=Lsb001_42<br>%{xaxis.title.text}=%{x}<br>%{yaxis.title.text}=%{y}<extra></extra>",
         "legendgroup": "Lsb001_42",
         "marker": {
          "color": "#636efa",
          "symbol": "square"
         },
         "name": "Lsb001_42",
         "showlegend": true,
         "type": "splom"
        },
        {
         "diagonal": {
          "visible": false
         },
         "dimensions": [
          {
           "axis": {
            "matches": true
           },
           "label": "plddt",
           "values": [
            84.4
           ]
          },
          {
           "axis": {
            "matches": true
           },
           "label": "ptm",
           "values": [
            0.56
           ]
          },
          {
           "axis": {
            "matches": true
           },
           "label": "total_score",
           "values": [
            -740.646
           ]
          },
          {
           "axis": {
            "matches": true
           },
           "label": "dG_separated",
           "values": [
            -37.039
           ]
          },
          {
           "axis": {
            "matches": true
           },
           "label": "dG_separated/dSASAx100",
           "values": [
            -2.494
           ]
          }
         ],
         "hovertemplate": "id_new=Lsb001_43<br>%{xaxis.title.text}=%{x}<br>%{yaxis.title.text}=%{y}<extra></extra>",
         "legendgroup": "Lsb001_43",
         "marker": {
          "color": "#636efa",
          "symbol": "x"
         },
         "name": "Lsb001_43",
         "showlegend": true,
         "type": "splom"
        },
        {
         "diagonal": {
          "visible": false
         },
         "dimensions": [
          {
           "axis": {
            "matches": true
           },
           "label": "plddt",
           "values": [
            82
           ]
          },
          {
           "axis": {
            "matches": true
           },
           "label": "ptm",
           "values": [
            0.56
           ]
          },
          {
           "axis": {
            "matches": true
           },
           "label": "total_score",
           "values": [
            -725.319
           ]
          },
          {
           "axis": {
            "matches": true
           },
           "label": "dG_separated",
           "values": [
            -21.139
           ]
          },
          {
           "axis": {
            "matches": true
           },
           "label": "dG_separated/dSASAx100",
           "values": [
            -1.906
           ]
          }
         ],
         "hovertemplate": "id_new=Lsb001_44<br>%{xaxis.title.text}=%{x}<br>%{yaxis.title.text}=%{y}<extra></extra>",
         "legendgroup": "Lsb001_44",
         "marker": {
          "color": "#636efa",
          "symbol": "cross"
         },
         "name": "Lsb001_44",
         "showlegend": true,
         "type": "splom"
        },
        {
         "diagonal": {
          "visible": false
         },
         "dimensions": [
          {
           "axis": {
            "matches": true
           },
           "label": "plddt",
           "values": [
            89.1
           ]
          },
          {
           "axis": {
            "matches": true
           },
           "label": "ptm",
           "values": [
            0.559
           ]
          },
          {
           "axis": {
            "matches": true
           },
           "label": "total_score",
           "values": [
            -728.521
           ]
          },
          {
           "axis": {
            "matches": true
           },
           "label": "dG_separated",
           "values": [
            -31.455
           ]
          },
          {
           "axis": {
            "matches": true
           },
           "label": "dG_separated/dSASAx100",
           "values": [
            -2.292
           ]
          }
         ],
         "hovertemplate": "id_new=Lsb001_45<br>%{xaxis.title.text}=%{x}<br>%{yaxis.title.text}=%{y}<extra></extra>",
         "legendgroup": "Lsb001_45",
         "marker": {
          "color": "#636efa",
          "symbol": "circle"
         },
         "name": "Lsb001_45",
         "showlegend": true,
         "type": "splom"
        },
        {
         "diagonal": {
          "visible": false
         },
         "dimensions": [
          {
           "axis": {
            "matches": true
           },
           "label": "plddt",
           "values": [
            83.8
           ]
          },
          {
           "axis": {
            "matches": true
           },
           "label": "ptm",
           "values": [
            0.56
           ]
          },
          {
           "axis": {
            "matches": true
           },
           "label": "total_score",
           "values": [
            -688.915
           ]
          },
          {
           "axis": {
            "matches": true
           },
           "label": "dG_separated",
           "values": [
            -29.4
           ]
          },
          {
           "axis": {
            "matches": true
           },
           "label": "dG_separated/dSASAx100",
           "values": [
            -2.005
           ]
          }
         ],
         "hovertemplate": "id_new=Lsb001_46<br>%{xaxis.title.text}=%{x}<br>%{yaxis.title.text}=%{y}<extra></extra>",
         "legendgroup": "Lsb001_46",
         "marker": {
          "color": "#636efa",
          "symbol": "diamond"
         },
         "name": "Lsb001_46",
         "showlegend": true,
         "type": "splom"
        },
        {
         "diagonal": {
          "visible": false
         },
         "dimensions": [
          {
           "axis": {
            "matches": true
           },
           "label": "plddt",
           "values": [
            89.1
           ]
          },
          {
           "axis": {
            "matches": true
           },
           "label": "ptm",
           "values": [
            0.562
           ]
          },
          {
           "axis": {
            "matches": true
           },
           "label": "total_score",
           "values": [
            -739.981
           ]
          },
          {
           "axis": {
            "matches": true
           },
           "label": "dG_separated",
           "values": [
            -56.314
           ]
          },
          {
           "axis": {
            "matches": true
           },
           "label": "dG_separated/dSASAx100",
           "values": [
            -2.579
           ]
          }
         ],
         "hovertemplate": "id_new=Lsb001_47<br>%{xaxis.title.text}=%{x}<br>%{yaxis.title.text}=%{y}<extra></extra>",
         "legendgroup": "Lsb001_47",
         "marker": {
          "color": "#636efa",
          "symbol": "square"
         },
         "name": "Lsb001_47",
         "showlegend": true,
         "type": "splom"
        },
        {
         "diagonal": {
          "visible": false
         },
         "dimensions": [
          {
           "axis": {
            "matches": true
           },
           "label": "plddt",
           "values": [
            83.9
           ]
          },
          {
           "axis": {
            "matches": true
           },
           "label": "ptm",
           "values": [
            0.552
           ]
          },
          {
           "axis": {
            "matches": true
           },
           "label": "total_score",
           "values": [
            -750.393
           ]
          },
          {
           "axis": {
            "matches": true
           },
           "label": "dG_separated",
           "values": [
            -31.58
           ]
          },
          {
           "axis": {
            "matches": true
           },
           "label": "dG_separated/dSASAx100",
           "values": [
            -2.873
           ]
          }
         ],
         "hovertemplate": "id_new=Lsb001_48<br>%{xaxis.title.text}=%{x}<br>%{yaxis.title.text}=%{y}<extra></extra>",
         "legendgroup": "Lsb001_48",
         "marker": {
          "color": "#636efa",
          "symbol": "x"
         },
         "name": "Lsb001_48",
         "showlegend": true,
         "type": "splom"
        },
        {
         "diagonal": {
          "visible": false
         },
         "dimensions": [
          {
           "axis": {
            "matches": true
           },
           "label": "plddt",
           "values": [
            86.9
           ]
          },
          {
           "axis": {
            "matches": true
           },
           "label": "ptm",
           "values": [
            0.55
           ]
          },
          {
           "axis": {
            "matches": true
           },
           "label": "total_score",
           "values": [
            -691.114
           ]
          },
          {
           "axis": {
            "matches": true
           },
           "label": "dG_separated",
           "values": [
            -31.001
           ]
          },
          {
           "axis": {
            "matches": true
           },
           "label": "dG_separated/dSASAx100",
           "values": [
            -2.48
           ]
          }
         ],
         "hovertemplate": "id_new=Lsb001_49<br>%{xaxis.title.text}=%{x}<br>%{yaxis.title.text}=%{y}<extra></extra>",
         "legendgroup": "Lsb001_49",
         "marker": {
          "color": "#636efa",
          "symbol": "cross"
         },
         "name": "Lsb001_49",
         "showlegend": true,
         "type": "splom"
        },
        {
         "diagonal": {
          "visible": false
         },
         "dimensions": [
          {
           "axis": {
            "matches": true
           },
           "label": "plddt",
           "values": [
            89.4
           ]
          },
          {
           "axis": {
            "matches": true
           },
           "label": "ptm",
           "values": [
            0.553
           ]
          },
          {
           "axis": {
            "matches": true
           },
           "label": "total_score",
           "values": [
            -719.057
           ]
          },
          {
           "axis": {
            "matches": true
           },
           "label": "dG_separated",
           "values": [
            -21.486
           ]
          },
          {
           "axis": {
            "matches": true
           },
           "label": "dG_separated/dSASAx100",
           "values": [
            -2.031
           ]
          }
         ],
         "hovertemplate": "id_new=Lsb001_50<br>%{xaxis.title.text}=%{x}<br>%{yaxis.title.text}=%{y}<extra></extra>",
         "legendgroup": "Lsb001_50",
         "marker": {
          "color": "#636efa",
          "symbol": "circle"
         },
         "name": "Lsb001_50",
         "showlegend": true,
         "type": "splom"
        },
        {
         "diagonal": {
          "visible": false
         },
         "dimensions": [
          {
           "axis": {
            "matches": true
           },
           "label": "plddt",
           "values": [
            80.7
           ]
          },
          {
           "axis": {
            "matches": true
           },
           "label": "ptm",
           "values": [
            0.547
           ]
          },
          {
           "axis": {
            "matches": true
           },
           "label": "total_score",
           "values": [
            -701.678
           ]
          },
          {
           "axis": {
            "matches": true
           },
           "label": "dG_separated",
           "values": [
            -49.452
           ]
          },
          {
           "axis": {
            "matches": true
           },
           "label": "dG_separated/dSASAx100",
           "values": [
            -2.497
           ]
          }
         ],
         "hovertemplate": "id_new=Lsb001_51<br>%{xaxis.title.text}=%{x}<br>%{yaxis.title.text}=%{y}<extra></extra>",
         "legendgroup": "Lsb001_51",
         "marker": {
          "color": "#636efa",
          "symbol": "diamond"
         },
         "name": "Lsb001_51",
         "showlegend": true,
         "type": "splom"
        },
        {
         "diagonal": {
          "visible": false
         },
         "dimensions": [
          {
           "axis": {
            "matches": true
           },
           "label": "plddt",
           "values": [
            78.5
           ]
          },
          {
           "axis": {
            "matches": true
           },
           "label": "ptm",
           "values": [
            0.546
           ]
          },
          {
           "axis": {
            "matches": true
           },
           "label": "total_score",
           "values": [
            -722.785
           ]
          },
          {
           "axis": {
            "matches": true
           },
           "label": "dG_separated",
           "values": [
            -46.86
           ]
          },
          {
           "axis": {
            "matches": true
           },
           "label": "dG_separated/dSASAx100",
           "values": [
            -2.809
           ]
          }
         ],
         "hovertemplate": "id_new=Lsb001_52<br>%{xaxis.title.text}=%{x}<br>%{yaxis.title.text}=%{y}<extra></extra>",
         "legendgroup": "Lsb001_52",
         "marker": {
          "color": "#636efa",
          "symbol": "square"
         },
         "name": "Lsb001_52",
         "showlegend": true,
         "type": "splom"
        },
        {
         "diagonal": {
          "visible": false
         },
         "dimensions": [
          {
           "axis": {
            "matches": true
           },
           "label": "plddt",
           "values": [
            80.6
           ]
          },
          {
           "axis": {
            "matches": true
           },
           "label": "ptm",
           "values": [
            0.551
           ]
          },
          {
           "axis": {
            "matches": true
           },
           "label": "total_score",
           "values": [
            -730.048
           ]
          },
          {
           "axis": {
            "matches": true
           },
           "label": "dG_separated",
           "values": [
            -23.623
           ]
          },
          {
           "axis": {
            "matches": true
           },
           "label": "dG_separated/dSASAx100",
           "values": [
            -2.293
           ]
          }
         ],
         "hovertemplate": "id_new=Lsb001_53<br>%{xaxis.title.text}=%{x}<br>%{yaxis.title.text}=%{y}<extra></extra>",
         "legendgroup": "Lsb001_53",
         "marker": {
          "color": "#636efa",
          "symbol": "x"
         },
         "name": "Lsb001_53",
         "showlegend": true,
         "type": "splom"
        },
        {
         "diagonal": {
          "visible": false
         },
         "dimensions": [
          {
           "axis": {
            "matches": true
           },
           "label": "plddt",
           "values": [
            89.2
           ]
          },
          {
           "axis": {
            "matches": true
           },
           "label": "ptm",
           "values": [
            0.554
           ]
          },
          {
           "axis": {
            "matches": true
           },
           "label": "total_score",
           "values": [
            -706.877
           ]
          },
          {
           "axis": {
            "matches": true
           },
           "label": "dG_separated",
           "values": [
            -22.479
           ]
          },
          {
           "axis": {
            "matches": true
           },
           "label": "dG_separated/dSASAx100",
           "values": [
            -2.081
           ]
          }
         ],
         "hovertemplate": "id_new=Lsb001_54<br>%{xaxis.title.text}=%{x}<br>%{yaxis.title.text}=%{y}<extra></extra>",
         "legendgroup": "Lsb001_54",
         "marker": {
          "color": "#636efa",
          "symbol": "cross"
         },
         "name": "Lsb001_54",
         "showlegend": true,
         "type": "splom"
        },
        {
         "diagonal": {
          "visible": false
         },
         "dimensions": [
          {
           "axis": {
            "matches": true
           },
           "label": "plddt",
           "values": [
            88.6
           ]
          },
          {
           "axis": {
            "matches": true
           },
           "label": "ptm",
           "values": [
            0.55
           ]
          },
          {
           "axis": {
            "matches": true
           },
           "label": "total_score",
           "values": [
            -721.664
           ]
          },
          {
           "axis": {
            "matches": true
           },
           "label": "dG_separated",
           "values": [
            -25.613
           ]
          },
          {
           "axis": {
            "matches": true
           },
           "label": "dG_separated/dSASAx100",
           "values": [
            -2.246
           ]
          }
         ],
         "hovertemplate": "id_new=Lsb001_55<br>%{xaxis.title.text}=%{x}<br>%{yaxis.title.text}=%{y}<extra></extra>",
         "legendgroup": "Lsb001_55",
         "marker": {
          "color": "#636efa",
          "symbol": "circle"
         },
         "name": "Lsb001_55",
         "showlegend": true,
         "type": "splom"
        },
        {
         "diagonal": {
          "visible": false
         },
         "dimensions": [
          {
           "axis": {
            "matches": true
           },
           "label": "plddt",
           "values": [
            88.1
           ]
          },
          {
           "axis": {
            "matches": true
           },
           "label": "ptm",
           "values": [
            0.551
           ]
          },
          {
           "axis": {
            "matches": true
           },
           "label": "total_score",
           "values": [
            -730.286
           ]
          },
          {
           "axis": {
            "matches": true
           },
           "label": "dG_separated",
           "values": [
            -29.357
           ]
          },
          {
           "axis": {
            "matches": true
           },
           "label": "dG_separated/dSASAx100",
           "values": [
            -2.191
           ]
          }
         ],
         "hovertemplate": "id_new=Lsb001_56<br>%{xaxis.title.text}=%{x}<br>%{yaxis.title.text}=%{y}<extra></extra>",
         "legendgroup": "Lsb001_56",
         "marker": {
          "color": "#636efa",
          "symbol": "diamond"
         },
         "name": "Lsb001_56",
         "showlegend": true,
         "type": "splom"
        },
        {
         "diagonal": {
          "visible": false
         },
         "dimensions": [
          {
           "axis": {
            "matches": true
           },
           "label": "plddt",
           "values": [
            87.6
           ]
          },
          {
           "axis": {
            "matches": true
           },
           "label": "ptm",
           "values": [
            0.557
           ]
          },
          {
           "axis": {
            "matches": true
           },
           "label": "total_score",
           "values": [
            -575.12
           ]
          },
          {
           "axis": {
            "matches": true
           },
           "label": "dG_separated",
           "values": [
            -3.493
           ]
          },
          {
           "axis": {
            "matches": true
           },
           "label": "dG_separated/dSASAx100",
           "values": [
            -0.213
           ]
          }
         ],
         "hovertemplate": "id_new=Lsb001_57<br>%{xaxis.title.text}=%{x}<br>%{yaxis.title.text}=%{y}<extra></extra>",
         "legendgroup": "Lsb001_57",
         "marker": {
          "color": "#636efa",
          "symbol": "square"
         },
         "name": "Lsb001_57",
         "showlegend": true,
         "type": "splom"
        },
        {
         "diagonal": {
          "visible": false
         },
         "dimensions": [
          {
           "axis": {
            "matches": true
           },
           "label": "plddt",
           "values": [
            80.8
           ]
          },
          {
           "axis": {
            "matches": true
           },
           "label": "ptm",
           "values": [
            0.548
           ]
          },
          {
           "axis": {
            "matches": true
           },
           "label": "total_score",
           "values": [
            -733.635
           ]
          },
          {
           "axis": {
            "matches": true
           },
           "label": "dG_separated",
           "values": [
            -27.3
           ]
          },
          {
           "axis": {
            "matches": true
           },
           "label": "dG_separated/dSASAx100",
           "values": [
            -2.479
           ]
          }
         ],
         "hovertemplate": "id_new=Lsb001_58<br>%{xaxis.title.text}=%{x}<br>%{yaxis.title.text}=%{y}<extra></extra>",
         "legendgroup": "Lsb001_58",
         "marker": {
          "color": "#636efa",
          "symbol": "x"
         },
         "name": "Lsb001_58",
         "showlegend": true,
         "type": "splom"
        },
        {
         "diagonal": {
          "visible": false
         },
         "dimensions": [
          {
           "axis": {
            "matches": true
           },
           "label": "plddt",
           "values": [
            81.9
           ]
          },
          {
           "axis": {
            "matches": true
           },
           "label": "ptm",
           "values": [
            0.545
           ]
          },
          {
           "axis": {
            "matches": true
           },
           "label": "total_score",
           "values": [
            -740.397
           ]
          },
          {
           "axis": {
            "matches": true
           },
           "label": "dG_separated",
           "values": [
            -21.372
           ]
          },
          {
           "axis": {
            "matches": true
           },
           "label": "dG_separated/dSASAx100",
           "values": [
            -1.96
           ]
          }
         ],
         "hovertemplate": "id_new=Lsb001_59<br>%{xaxis.title.text}=%{x}<br>%{yaxis.title.text}=%{y}<extra></extra>",
         "legendgroup": "Lsb001_59",
         "marker": {
          "color": "#636efa",
          "symbol": "cross"
         },
         "name": "Lsb001_59",
         "showlegend": true,
         "type": "splom"
        },
        {
         "diagonal": {
          "visible": false
         },
         "dimensions": [
          {
           "axis": {
            "matches": true
           },
           "label": "plddt",
           "values": [
            83.8
           ]
          },
          {
           "axis": {
            "matches": true
           },
           "label": "ptm",
           "values": [
            0.545
           ]
          },
          {
           "axis": {
            "matches": true
           },
           "label": "total_score",
           "values": [
            -650.948
           ]
          },
          {
           "axis": {
            "matches": true
           },
           "label": "dG_separated",
           "values": [
            -20.181
           ]
          },
          {
           "axis": {
            "matches": true
           },
           "label": "dG_separated/dSASAx100",
           "values": [
            -1.766
           ]
          }
         ],
         "hovertemplate": "id_new=Lsb001_60<br>%{xaxis.title.text}=%{x}<br>%{yaxis.title.text}=%{y}<extra></extra>",
         "legendgroup": "Lsb001_60",
         "marker": {
          "color": "#636efa",
          "symbol": "circle"
         },
         "name": "Lsb001_60",
         "showlegend": true,
         "type": "splom"
        },
        {
         "diagonal": {
          "visible": false
         },
         "dimensions": [
          {
           "axis": {
            "matches": true
           },
           "label": "plddt",
           "values": [
            87
           ]
          },
          {
           "axis": {
            "matches": true
           },
           "label": "ptm",
           "values": [
            0.544
           ]
          },
          {
           "axis": {
            "matches": true
           },
           "label": "total_score",
           "values": [
            -675.137
           ]
          },
          {
           "axis": {
            "matches": true
           },
           "label": "dG_separated",
           "values": [
            -36.674
           ]
          },
          {
           "axis": {
            "matches": true
           },
           "label": "dG_separated/dSASAx100",
           "values": [
            -2.255
           ]
          }
         ],
         "hovertemplate": "id_new=Lsb001_61<br>%{xaxis.title.text}=%{x}<br>%{yaxis.title.text}=%{y}<extra></extra>",
         "legendgroup": "Lsb001_61",
         "marker": {
          "color": "#636efa",
          "symbol": "diamond"
         },
         "name": "Lsb001_61",
         "showlegend": true,
         "type": "splom"
        },
        {
         "diagonal": {
          "visible": false
         },
         "dimensions": [
          {
           "axis": {
            "matches": true
           },
           "label": "plddt",
           "values": [
            79.9
           ]
          },
          {
           "axis": {
            "matches": true
           },
           "label": "ptm",
           "values": [
            0.531
           ]
          },
          {
           "axis": {
            "matches": true
           },
           "label": "total_score",
           "values": [
            -729.61
           ]
          },
          {
           "axis": {
            "matches": true
           },
           "label": "dG_separated",
           "values": [
            -23.839
           ]
          },
          {
           "axis": {
            "matches": true
           },
           "label": "dG_separated/dSASAx100",
           "values": [
            -1.955
           ]
          }
         ],
         "hovertemplate": "id_new=Lsb001_62<br>%{xaxis.title.text}=%{x}<br>%{yaxis.title.text}=%{y}<extra></extra>",
         "legendgroup": "Lsb001_62",
         "marker": {
          "color": "#636efa",
          "symbol": "square"
         },
         "name": "Lsb001_62",
         "showlegend": true,
         "type": "splom"
        },
        {
         "diagonal": {
          "visible": false
         },
         "dimensions": [
          {
           "axis": {
            "matches": true
           },
           "label": "plddt",
           "values": [
            82.7
           ]
          },
          {
           "axis": {
            "matches": true
           },
           "label": "ptm",
           "values": [
            0.54
           ]
          },
          {
           "axis": {
            "matches": true
           },
           "label": "total_score",
           "values": [
            -733.088
           ]
          },
          {
           "axis": {
            "matches": true
           },
           "label": "dG_separated",
           "values": [
            -31.745
           ]
          },
          {
           "axis": {
            "matches": true
           },
           "label": "dG_separated/dSASAx100",
           "values": [
            -2.534
           ]
          }
         ],
         "hovertemplate": "id_new=Lsb001_63<br>%{xaxis.title.text}=%{x}<br>%{yaxis.title.text}=%{y}<extra></extra>",
         "legendgroup": "Lsb001_63",
         "marker": {
          "color": "#636efa",
          "symbol": "x"
         },
         "name": "Lsb001_63",
         "showlegend": true,
         "type": "splom"
        },
        {
         "diagonal": {
          "visible": false
         },
         "dimensions": [
          {
           "axis": {
            "matches": true
           },
           "label": "plddt",
           "values": [
            80.2
           ]
          },
          {
           "axis": {
            "matches": true
           },
           "label": "ptm",
           "values": [
            0.541
           ]
          },
          {
           "axis": {
            "matches": true
           },
           "label": "total_score",
           "values": [
            -735.148
           ]
          },
          {
           "axis": {
            "matches": true
           },
           "label": "dG_separated",
           "values": [
            -26.867
           ]
          },
          {
           "axis": {
            "matches": true
           },
           "label": "dG_separated/dSASAx100",
           "values": [
            -2.164
           ]
          }
         ],
         "hovertemplate": "id_new=Lsb001_64<br>%{xaxis.title.text}=%{x}<br>%{yaxis.title.text}=%{y}<extra></extra>",
         "legendgroup": "Lsb001_64",
         "marker": {
          "color": "#636efa",
          "symbol": "cross"
         },
         "name": "Lsb001_64",
         "showlegend": true,
         "type": "splom"
        },
        {
         "diagonal": {
          "visible": false
         },
         "dimensions": [
          {
           "axis": {
            "matches": true
           },
           "label": "plddt",
           "values": [
            89.5
           ]
          },
          {
           "axis": {
            "matches": true
           },
           "label": "ptm",
           "values": [
            0.539
           ]
          },
          {
           "axis": {
            "matches": true
           },
           "label": "total_score",
           "values": [
            -733.918
           ]
          },
          {
           "axis": {
            "matches": true
           },
           "label": "dG_separated",
           "values": [
            -27.569
           ]
          },
          {
           "axis": {
            "matches": true
           },
           "label": "dG_separated/dSASAx100",
           "values": [
            -2.21
           ]
          }
         ],
         "hovertemplate": "id_new=Lsb001_65<br>%{xaxis.title.text}=%{x}<br>%{yaxis.title.text}=%{y}<extra></extra>",
         "legendgroup": "Lsb001_65",
         "marker": {
          "color": "#636efa",
          "symbol": "circle"
         },
         "name": "Lsb001_65",
         "showlegend": true,
         "type": "splom"
        },
        {
         "diagonal": {
          "visible": false
         },
         "dimensions": [
          {
           "axis": {
            "matches": true
           },
           "label": "plddt",
           "values": [
            82.8
           ]
          },
          {
           "axis": {
            "matches": true
           },
           "label": "ptm",
           "values": [
            0.537
           ]
          },
          {
           "axis": {
            "matches": true
           },
           "label": "total_score",
           "values": [
            -726.865
           ]
          },
          {
           "axis": {
            "matches": true
           },
           "label": "dG_separated",
           "values": [
            -22.453
           ]
          },
          {
           "axis": {
            "matches": true
           },
           "label": "dG_separated/dSASAx100",
           "values": [
            -2.406
           ]
          }
         ],
         "hovertemplate": "id_new=Lsb001_66<br>%{xaxis.title.text}=%{x}<br>%{yaxis.title.text}=%{y}<extra></extra>",
         "legendgroup": "Lsb001_66",
         "marker": {
          "color": "#636efa",
          "symbol": "diamond"
         },
         "name": "Lsb001_66",
         "showlegend": true,
         "type": "splom"
        },
        {
         "diagonal": {
          "visible": false
         },
         "dimensions": [
          {
           "axis": {
            "matches": true
           },
           "label": "plddt",
           "values": [
            81.9
           ]
          },
          {
           "axis": {
            "matches": true
           },
           "label": "ptm",
           "values": [
            0.539
           ]
          },
          {
           "axis": {
            "matches": true
           },
           "label": "total_score",
           "values": [
            -733.852
           ]
          },
          {
           "axis": {
            "matches": true
           },
           "label": "dG_separated",
           "values": [
            -17.754
           ]
          },
          {
           "axis": {
            "matches": true
           },
           "label": "dG_separated/dSASAx100",
           "values": [
            -2.144
           ]
          }
         ],
         "hovertemplate": "id_new=Lsb001_67<br>%{xaxis.title.text}=%{x}<br>%{yaxis.title.text}=%{y}<extra></extra>",
         "legendgroup": "Lsb001_67",
         "marker": {
          "color": "#636efa",
          "symbol": "square"
         },
         "name": "Lsb001_67",
         "showlegend": true,
         "type": "splom"
        },
        {
         "diagonal": {
          "visible": false
         },
         "dimensions": [
          {
           "axis": {
            "matches": true
           },
           "label": "plddt",
           "values": [
            81.9
           ]
          },
          {
           "axis": {
            "matches": true
           },
           "label": "ptm",
           "values": [
            0.537
           ]
          },
          {
           "axis": {
            "matches": true
           },
           "label": "total_score",
           "values": [
            -726.767
           ]
          },
          {
           "axis": {
            "matches": true
           },
           "label": "dG_separated",
           "values": [
            -21.567
           ]
          },
          {
           "axis": {
            "matches": true
           },
           "label": "dG_separated/dSASAx100",
           "values": [
            -2.024
           ]
          }
         ],
         "hovertemplate": "id_new=Lsb001_68<br>%{xaxis.title.text}=%{x}<br>%{yaxis.title.text}=%{y}<extra></extra>",
         "legendgroup": "Lsb001_68",
         "marker": {
          "color": "#636efa",
          "symbol": "x"
         },
         "name": "Lsb001_68",
         "showlegend": true,
         "type": "splom"
        },
        {
         "diagonal": {
          "visible": false
         },
         "dimensions": [
          {
           "axis": {
            "matches": true
           },
           "label": "plddt",
           "values": [
            80.5
           ]
          },
          {
           "axis": {
            "matches": true
           },
           "label": "ptm",
           "values": [
            0.527
           ]
          },
          {
           "axis": {
            "matches": true
           },
           "label": "total_score",
           "values": [
            -728.621
           ]
          },
          {
           "axis": {
            "matches": true
           },
           "label": "dG_separated",
           "values": [
            -28.082
           ]
          },
          {
           "axis": {
            "matches": true
           },
           "label": "dG_separated/dSASAx100",
           "values": [
            -1.53
           ]
          }
         ],
         "hovertemplate": "id_new=Lsb001_69<br>%{xaxis.title.text}=%{x}<br>%{yaxis.title.text}=%{y}<extra></extra>",
         "legendgroup": "Lsb001_69",
         "marker": {
          "color": "#636efa",
          "symbol": "cross"
         },
         "name": "Lsb001_69",
         "showlegend": true,
         "type": "splom"
        },
        {
         "diagonal": {
          "visible": false
         },
         "dimensions": [
          {
           "axis": {
            "matches": true
           },
           "label": "plddt",
           "values": [
            82.6
           ]
          },
          {
           "axis": {
            "matches": true
           },
           "label": "ptm",
           "values": [
            0.532
           ]
          },
          {
           "axis": {
            "matches": true
           },
           "label": "total_score",
           "values": [
            -737.546
           ]
          },
          {
           "axis": {
            "matches": true
           },
           "label": "dG_separated",
           "values": [
            -28.259
           ]
          },
          {
           "axis": {
            "matches": true
           },
           "label": "dG_separated/dSASAx100",
           "values": [
            -1.955
           ]
          }
         ],
         "hovertemplate": "id_new=Lsb001_70<br>%{xaxis.title.text}=%{x}<br>%{yaxis.title.text}=%{y}<extra></extra>",
         "legendgroup": "Lsb001_70",
         "marker": {
          "color": "#636efa",
          "symbol": "circle"
         },
         "name": "Lsb001_70",
         "showlegend": true,
         "type": "splom"
        },
        {
         "diagonal": {
          "visible": false
         },
         "dimensions": [
          {
           "axis": {
            "matches": true
           },
           "label": "plddt",
           "values": [
            82.2
           ]
          },
          {
           "axis": {
            "matches": true
           },
           "label": "ptm",
           "values": [
            0.532
           ]
          },
          {
           "axis": {
            "matches": true
           },
           "label": "total_score",
           "values": [
            -733.999
           ]
          },
          {
           "axis": {
            "matches": true
           },
           "label": "dG_separated",
           "values": [
            -38.574
           ]
          },
          {
           "axis": {
            "matches": true
           },
           "label": "dG_separated/dSASAx100",
           "values": [
            -2.469
           ]
          }
         ],
         "hovertemplate": "id_new=Lsb001_71<br>%{xaxis.title.text}=%{x}<br>%{yaxis.title.text}=%{y}<extra></extra>",
         "legendgroup": "Lsb001_71",
         "marker": {
          "color": "#636efa",
          "symbol": "diamond"
         },
         "name": "Lsb001_71",
         "showlegend": true,
         "type": "splom"
        },
        {
         "diagonal": {
          "visible": false
         },
         "dimensions": [
          {
           "axis": {
            "matches": true
           },
           "label": "plddt",
           "values": [
            81.3
           ]
          },
          {
           "axis": {
            "matches": true
           },
           "label": "ptm",
           "values": [
            0.53
           ]
          },
          {
           "axis": {
            "matches": true
           },
           "label": "total_score",
           "values": [
            -737.423
           ]
          },
          {
           "axis": {
            "matches": true
           },
           "label": "dG_separated",
           "values": [
            -23.854
           ]
          },
          {
           "axis": {
            "matches": true
           },
           "label": "dG_separated/dSASAx100",
           "values": [
            -2.675
           ]
          }
         ],
         "hovertemplate": "id_new=Lsb001_72<br>%{xaxis.title.text}=%{x}<br>%{yaxis.title.text}=%{y}<extra></extra>",
         "legendgroup": "Lsb001_72",
         "marker": {
          "color": "#636efa",
          "symbol": "square"
         },
         "name": "Lsb001_72",
         "showlegend": true,
         "type": "splom"
        },
        {
         "diagonal": {
          "visible": false
         },
         "dimensions": [
          {
           "axis": {
            "matches": true
           },
           "label": "plddt",
           "values": [
            82.3
           ]
          },
          {
           "axis": {
            "matches": true
           },
           "label": "ptm",
           "values": [
            0.527
           ]
          },
          {
           "axis": {
            "matches": true
           },
           "label": "total_score",
           "values": [
            -743.378
           ]
          },
          {
           "axis": {
            "matches": true
           },
           "label": "dG_separated",
           "values": [
            -21.654
           ]
          },
          {
           "axis": {
            "matches": true
           },
           "label": "dG_separated/dSASAx100",
           "values": [
            -2.037
           ]
          }
         ],
         "hovertemplate": "id_new=Lsb001_73<br>%{xaxis.title.text}=%{x}<br>%{yaxis.title.text}=%{y}<extra></extra>",
         "legendgroup": "Lsb001_73",
         "marker": {
          "color": "#636efa",
          "symbol": "x"
         },
         "name": "Lsb001_73",
         "showlegend": true,
         "type": "splom"
        },
        {
         "diagonal": {
          "visible": false
         },
         "dimensions": [
          {
           "axis": {
            "matches": true
           },
           "label": "plddt",
           "values": [
            82.8
           ]
          },
          {
           "axis": {
            "matches": true
           },
           "label": "ptm",
           "values": [
            0.527
           ]
          },
          {
           "axis": {
            "matches": true
           },
           "label": "total_score",
           "values": [
            -744.257
           ]
          },
          {
           "axis": {
            "matches": true
           },
           "label": "dG_separated",
           "values": [
            -26.134
           ]
          },
          {
           "axis": {
            "matches": true
           },
           "label": "dG_separated/dSASAx100",
           "values": [
            -1.98
           ]
          }
         ],
         "hovertemplate": "id_new=Lsb001_74<br>%{xaxis.title.text}=%{x}<br>%{yaxis.title.text}=%{y}<extra></extra>",
         "legendgroup": "Lsb001_74",
         "marker": {
          "color": "#636efa",
          "symbol": "cross"
         },
         "name": "Lsb001_74",
         "showlegend": true,
         "type": "splom"
        },
        {
         "diagonal": {
          "visible": false
         },
         "dimensions": [
          {
           "axis": {
            "matches": true
           },
           "label": "plddt",
           "values": [
            80.3
           ]
          },
          {
           "axis": {
            "matches": true
           },
           "label": "ptm",
           "values": [
            0.525
           ]
          },
          {
           "axis": {
            "matches": true
           },
           "label": "total_score",
           "values": [
            -736.014
           ]
          },
          {
           "axis": {
            "matches": true
           },
           "label": "dG_separated",
           "values": [
            -31.934
           ]
          },
          {
           "axis": {
            "matches": true
           },
           "label": "dG_separated/dSASAx100",
           "values": [
            -2.504
           ]
          }
         ],
         "hovertemplate": "id_new=Lsb001_75<br>%{xaxis.title.text}=%{x}<br>%{yaxis.title.text}=%{y}<extra></extra>",
         "legendgroup": "Lsb001_75",
         "marker": {
          "color": "#636efa",
          "symbol": "circle"
         },
         "name": "Lsb001_75",
         "showlegend": true,
         "type": "splom"
        },
        {
         "diagonal": {
          "visible": false
         },
         "dimensions": [
          {
           "axis": {
            "matches": true
           },
           "label": "plddt",
           "values": [
            83.3
           ]
          },
          {
           "axis": {
            "matches": true
           },
           "label": "ptm",
           "values": [
            0.525
           ]
          },
          {
           "axis": {
            "matches": true
           },
           "label": "total_score",
           "values": [
            -750.253
           ]
          },
          {
           "axis": {
            "matches": true
           },
           "label": "dG_separated",
           "values": [
            -31.744
           ]
          },
          {
           "axis": {
            "matches": true
           },
           "label": "dG_separated/dSASAx100",
           "values": [
            -2.861
           ]
          }
         ],
         "hovertemplate": "id_new=Lsb001_76<br>%{xaxis.title.text}=%{x}<br>%{yaxis.title.text}=%{y}<extra></extra>",
         "legendgroup": "Lsb001_76",
         "marker": {
          "color": "#636efa",
          "symbol": "diamond"
         },
         "name": "Lsb001_76",
         "showlegend": true,
         "type": "splom"
        },
        {
         "diagonal": {
          "visible": false
         },
         "dimensions": [
          {
           "axis": {
            "matches": true
           },
           "label": "plddt",
           "values": [
            81.9
           ]
          },
          {
           "axis": {
            "matches": true
           },
           "label": "ptm",
           "values": [
            0.527
           ]
          },
          {
           "axis": {
            "matches": true
           },
           "label": "total_score",
           "values": [
            -727.365
           ]
          },
          {
           "axis": {
            "matches": true
           },
           "label": "dG_separated",
           "values": [
            -35.135
           ]
          },
          {
           "axis": {
            "matches": true
           },
           "label": "dG_separated/dSASAx100",
           "values": [
            -2.763
           ]
          }
         ],
         "hovertemplate": "id_new=Lsb001_77<br>%{xaxis.title.text}=%{x}<br>%{yaxis.title.text}=%{y}<extra></extra>",
         "legendgroup": "Lsb001_77",
         "marker": {
          "color": "#636efa",
          "symbol": "square"
         },
         "name": "Lsb001_77",
         "showlegend": true,
         "type": "splom"
        },
        {
         "diagonal": {
          "visible": false
         },
         "dimensions": [
          {
           "axis": {
            "matches": true
           },
           "label": "plddt",
           "values": [
            80.6
           ]
          },
          {
           "axis": {
            "matches": true
           },
           "label": "ptm",
           "values": [
            0.526
           ]
          },
          {
           "axis": {
            "matches": true
           },
           "label": "total_score",
           "values": [
            -722.456
           ]
          },
          {
           "axis": {
            "matches": true
           },
           "label": "dG_separated",
           "values": [
            -50.27
           ]
          },
          {
           "axis": {
            "matches": true
           },
           "label": "dG_separated/dSASAx100",
           "values": [
            -2.944
           ]
          }
         ],
         "hovertemplate": "id_new=Lsb001_78<br>%{xaxis.title.text}=%{x}<br>%{yaxis.title.text}=%{y}<extra></extra>",
         "legendgroup": "Lsb001_78",
         "marker": {
          "color": "#636efa",
          "symbol": "x"
         },
         "name": "Lsb001_78",
         "showlegend": true,
         "type": "splom"
        },
        {
         "diagonal": {
          "visible": false
         },
         "dimensions": [
          {
           "axis": {
            "matches": true
           },
           "label": "plddt",
           "values": [
            78.5
           ]
          },
          {
           "axis": {
            "matches": true
           },
           "label": "ptm",
           "values": [
            0.535
           ]
          },
          {
           "axis": {
            "matches": true
           },
           "label": "total_score",
           "values": [
            -726.028
           ]
          },
          {
           "axis": {
            "matches": true
           },
           "label": "dG_separated",
           "values": [
            -35.313
           ]
          },
          {
           "axis": {
            "matches": true
           },
           "label": "dG_separated/dSASAx100",
           "values": [
            -2.204
           ]
          }
         ],
         "hovertemplate": "id_new=Lsb001_79<br>%{xaxis.title.text}=%{x}<br>%{yaxis.title.text}=%{y}<extra></extra>",
         "legendgroup": "Lsb001_79",
         "marker": {
          "color": "#636efa",
          "symbol": "cross"
         },
         "name": "Lsb001_79",
         "showlegend": true,
         "type": "splom"
        },
        {
         "diagonal": {
          "visible": false
         },
         "dimensions": [
          {
           "axis": {
            "matches": true
           },
           "label": "plddt",
           "values": [
            86.6
           ]
          },
          {
           "axis": {
            "matches": true
           },
           "label": "ptm",
           "values": [
            0.533
           ]
          },
          {
           "axis": {
            "matches": true
           },
           "label": "total_score",
           "values": [
            -712.123
           ]
          },
          {
           "axis": {
            "matches": true
           },
           "label": "dG_separated",
           "values": [
            -18.571
           ]
          },
          {
           "axis": {
            "matches": true
           },
           "label": "dG_separated/dSASAx100",
           "values": [
            -1.962
           ]
          }
         ],
         "hovertemplate": "id_new=Lsb001_80<br>%{xaxis.title.text}=%{x}<br>%{yaxis.title.text}=%{y}<extra></extra>",
         "legendgroup": "Lsb001_80",
         "marker": {
          "color": "#636efa",
          "symbol": "circle"
         },
         "name": "Lsb001_80",
         "showlegend": true,
         "type": "splom"
        },
        {
         "diagonal": {
          "visible": false
         },
         "dimensions": [
          {
           "axis": {
            "matches": true
           },
           "label": "plddt",
           "values": [
            83
           ]
          },
          {
           "axis": {
            "matches": true
           },
           "label": "ptm",
           "values": [
            0.528
           ]
          },
          {
           "axis": {
            "matches": true
           },
           "label": "total_score",
           "values": [
            -728.993
           ]
          },
          {
           "axis": {
            "matches": true
           },
           "label": "dG_separated",
           "values": [
            -17.072
           ]
          },
          {
           "axis": {
            "matches": true
           },
           "label": "dG_separated/dSASAx100",
           "values": [
            -2.225
           ]
          }
         ],
         "hovertemplate": "id_new=Lsb001_81<br>%{xaxis.title.text}=%{x}<br>%{yaxis.title.text}=%{y}<extra></extra>",
         "legendgroup": "Lsb001_81",
         "marker": {
          "color": "#636efa",
          "symbol": "diamond"
         },
         "name": "Lsb001_81",
         "showlegend": true,
         "type": "splom"
        },
        {
         "diagonal": {
          "visible": false
         },
         "dimensions": [
          {
           "axis": {
            "matches": true
           },
           "label": "plddt",
           "values": [
            81.3
           ]
          },
          {
           "axis": {
            "matches": true
           },
           "label": "ptm",
           "values": [
            0.527
           ]
          },
          {
           "axis": {
            "matches": true
           },
           "label": "total_score",
           "values": [
            -732.287
           ]
          },
          {
           "axis": {
            "matches": true
           },
           "label": "dG_separated",
           "values": [
            -30.182
           ]
          },
          {
           "axis": {
            "matches": true
           },
           "label": "dG_separated/dSASAx100",
           "values": [
            -2.292
           ]
          }
         ],
         "hovertemplate": "id_new=Lsb001_82<br>%{xaxis.title.text}=%{x}<br>%{yaxis.title.text}=%{y}<extra></extra>",
         "legendgroup": "Lsb001_82",
         "marker": {
          "color": "#636efa",
          "symbol": "square"
         },
         "name": "Lsb001_82",
         "showlegend": true,
         "type": "splom"
        },
        {
         "diagonal": {
          "visible": false
         },
         "dimensions": [
          {
           "axis": {
            "matches": true
           },
           "label": "plddt",
           "values": [
            82.6
           ]
          },
          {
           "axis": {
            "matches": true
           },
           "label": "ptm",
           "values": [
            0.517
           ]
          },
          {
           "axis": {
            "matches": true
           },
           "label": "total_score",
           "values": [
            -749.843
           ]
          },
          {
           "axis": {
            "matches": true
           },
           "label": "dG_separated",
           "values": [
            -37.126
           ]
          },
          {
           "axis": {
            "matches": true
           },
           "label": "dG_separated/dSASAx100",
           "values": [
            -2.667
           ]
          }
         ],
         "hovertemplate": "id_new=Lsb001_83<br>%{xaxis.title.text}=%{x}<br>%{yaxis.title.text}=%{y}<extra></extra>",
         "legendgroup": "Lsb001_83",
         "marker": {
          "color": "#636efa",
          "symbol": "x"
         },
         "name": "Lsb001_83",
         "showlegend": true,
         "type": "splom"
        },
        {
         "diagonal": {
          "visible": false
         },
         "dimensions": [
          {
           "axis": {
            "matches": true
           },
           "label": "plddt",
           "values": [
            82.8
           ]
          },
          {
           "axis": {
            "matches": true
           },
           "label": "ptm",
           "values": [
            0.515
           ]
          },
          {
           "axis": {
            "matches": true
           },
           "label": "total_score",
           "values": [
            -750.216
           ]
          },
          {
           "axis": {
            "matches": true
           },
           "label": "dG_separated",
           "values": [
            -22.507
           ]
          },
          {
           "axis": {
            "matches": true
           },
           "label": "dG_separated/dSASAx100",
           "values": [
            -1.875
           ]
          }
         ],
         "hovertemplate": "id_new=Lsb001_84<br>%{xaxis.title.text}=%{x}<br>%{yaxis.title.text}=%{y}<extra></extra>",
         "legendgroup": "Lsb001_84",
         "marker": {
          "color": "#636efa",
          "symbol": "cross"
         },
         "name": "Lsb001_84",
         "showlegend": true,
         "type": "splom"
        }
       ],
       "layout": {
        "dragmode": "select",
        "height": 1300,
        "legend": {
         "title": {
          "text": "id_new"
         },
         "tracegroupgap": 0
        },
        "margin": {
         "t": 60
        },
        "template": {
         "data": {
          "bar": [
           {
            "error_x": {
             "color": "#2a3f5f"
            },
            "error_y": {
             "color": "#2a3f5f"
            },
            "marker": {
             "line": {
              "color": "#E5ECF6",
              "width": 0.5
             },
             "pattern": {
              "fillmode": "overlay",
              "size": 10,
              "solidity": 0.2
             }
            },
            "type": "bar"
           }
          ],
          "barpolar": [
           {
            "marker": {
             "line": {
              "color": "#E5ECF6",
              "width": 0.5
             },
             "pattern": {
              "fillmode": "overlay",
              "size": 10,
              "solidity": 0.2
             }
            },
            "type": "barpolar"
           }
          ],
          "carpet": [
           {
            "aaxis": {
             "endlinecolor": "#2a3f5f",
             "gridcolor": "white",
             "linecolor": "white",
             "minorgridcolor": "white",
             "startlinecolor": "#2a3f5f"
            },
            "baxis": {
             "endlinecolor": "#2a3f5f",
             "gridcolor": "white",
             "linecolor": "white",
             "minorgridcolor": "white",
             "startlinecolor": "#2a3f5f"
            },
            "type": "carpet"
           }
          ],
          "choropleth": [
           {
            "colorbar": {
             "outlinewidth": 0,
             "ticks": ""
            },
            "type": "choropleth"
           }
          ],
          "contour": [
           {
            "colorbar": {
             "outlinewidth": 0,
             "ticks": ""
            },
            "colorscale": [
             [
              0,
              "#0d0887"
             ],
             [
              0.1111111111111111,
              "#46039f"
             ],
             [
              0.2222222222222222,
              "#7201a8"
             ],
             [
              0.3333333333333333,
              "#9c179e"
             ],
             [
              0.4444444444444444,
              "#bd3786"
             ],
             [
              0.5555555555555556,
              "#d8576b"
             ],
             [
              0.6666666666666666,
              "#ed7953"
             ],
             [
              0.7777777777777778,
              "#fb9f3a"
             ],
             [
              0.8888888888888888,
              "#fdca26"
             ],
             [
              1,
              "#f0f921"
             ]
            ],
            "type": "contour"
           }
          ],
          "contourcarpet": [
           {
            "colorbar": {
             "outlinewidth": 0,
             "ticks": ""
            },
            "type": "contourcarpet"
           }
          ],
          "heatmap": [
           {
            "colorbar": {
             "outlinewidth": 0,
             "ticks": ""
            },
            "colorscale": [
             [
              0,
              "#0d0887"
             ],
             [
              0.1111111111111111,
              "#46039f"
             ],
             [
              0.2222222222222222,
              "#7201a8"
             ],
             [
              0.3333333333333333,
              "#9c179e"
             ],
             [
              0.4444444444444444,
              "#bd3786"
             ],
             [
              0.5555555555555556,
              "#d8576b"
             ],
             [
              0.6666666666666666,
              "#ed7953"
             ],
             [
              0.7777777777777778,
              "#fb9f3a"
             ],
             [
              0.8888888888888888,
              "#fdca26"
             ],
             [
              1,
              "#f0f921"
             ]
            ],
            "type": "heatmap"
           }
          ],
          "heatmapgl": [
           {
            "colorbar": {
             "outlinewidth": 0,
             "ticks": ""
            },
            "colorscale": [
             [
              0,
              "#0d0887"
             ],
             [
              0.1111111111111111,
              "#46039f"
             ],
             [
              0.2222222222222222,
              "#7201a8"
             ],
             [
              0.3333333333333333,
              "#9c179e"
             ],
             [
              0.4444444444444444,
              "#bd3786"
             ],
             [
              0.5555555555555556,
              "#d8576b"
             ],
             [
              0.6666666666666666,
              "#ed7953"
             ],
             [
              0.7777777777777778,
              "#fb9f3a"
             ],
             [
              0.8888888888888888,
              "#fdca26"
             ],
             [
              1,
              "#f0f921"
             ]
            ],
            "type": "heatmapgl"
           }
          ],
          "histogram": [
           {
            "marker": {
             "pattern": {
              "fillmode": "overlay",
              "size": 10,
              "solidity": 0.2
             }
            },
            "type": "histogram"
           }
          ],
          "histogram2d": [
           {
            "colorbar": {
             "outlinewidth": 0,
             "ticks": ""
            },
            "colorscale": [
             [
              0,
              "#0d0887"
             ],
             [
              0.1111111111111111,
              "#46039f"
             ],
             [
              0.2222222222222222,
              "#7201a8"
             ],
             [
              0.3333333333333333,
              "#9c179e"
             ],
             [
              0.4444444444444444,
              "#bd3786"
             ],
             [
              0.5555555555555556,
              "#d8576b"
             ],
             [
              0.6666666666666666,
              "#ed7953"
             ],
             [
              0.7777777777777778,
              "#fb9f3a"
             ],
             [
              0.8888888888888888,
              "#fdca26"
             ],
             [
              1,
              "#f0f921"
             ]
            ],
            "type": "histogram2d"
           }
          ],
          "histogram2dcontour": [
           {
            "colorbar": {
             "outlinewidth": 0,
             "ticks": ""
            },
            "colorscale": [
             [
              0,
              "#0d0887"
             ],
             [
              0.1111111111111111,
              "#46039f"
             ],
             [
              0.2222222222222222,
              "#7201a8"
             ],
             [
              0.3333333333333333,
              "#9c179e"
             ],
             [
              0.4444444444444444,
              "#bd3786"
             ],
             [
              0.5555555555555556,
              "#d8576b"
             ],
             [
              0.6666666666666666,
              "#ed7953"
             ],
             [
              0.7777777777777778,
              "#fb9f3a"
             ],
             [
              0.8888888888888888,
              "#fdca26"
             ],
             [
              1,
              "#f0f921"
             ]
            ],
            "type": "histogram2dcontour"
           }
          ],
          "mesh3d": [
           {
            "colorbar": {
             "outlinewidth": 0,
             "ticks": ""
            },
            "type": "mesh3d"
           }
          ],
          "parcoords": [
           {
            "line": {
             "colorbar": {
              "outlinewidth": 0,
              "ticks": ""
             }
            },
            "type": "parcoords"
           }
          ],
          "pie": [
           {
            "automargin": true,
            "type": "pie"
           }
          ],
          "scatter": [
           {
            "fillpattern": {
             "fillmode": "overlay",
             "size": 10,
             "solidity": 0.2
            },
            "type": "scatter"
           }
          ],
          "scatter3d": [
           {
            "line": {
             "colorbar": {
              "outlinewidth": 0,
              "ticks": ""
             }
            },
            "marker": {
             "colorbar": {
              "outlinewidth": 0,
              "ticks": ""
             }
            },
            "type": "scatter3d"
           }
          ],
          "scattercarpet": [
           {
            "marker": {
             "colorbar": {
              "outlinewidth": 0,
              "ticks": ""
             }
            },
            "type": "scattercarpet"
           }
          ],
          "scattergeo": [
           {
            "marker": {
             "colorbar": {
              "outlinewidth": 0,
              "ticks": ""
             }
            },
            "type": "scattergeo"
           }
          ],
          "scattergl": [
           {
            "marker": {
             "colorbar": {
              "outlinewidth": 0,
              "ticks": ""
             }
            },
            "type": "scattergl"
           }
          ],
          "scattermapbox": [
           {
            "marker": {
             "colorbar": {
              "outlinewidth": 0,
              "ticks": ""
             }
            },
            "type": "scattermapbox"
           }
          ],
          "scatterpolar": [
           {
            "marker": {
             "colorbar": {
              "outlinewidth": 0,
              "ticks": ""
             }
            },
            "type": "scatterpolar"
           }
          ],
          "scatterpolargl": [
           {
            "marker": {
             "colorbar": {
              "outlinewidth": 0,
              "ticks": ""
             }
            },
            "type": "scatterpolargl"
           }
          ],
          "scatterternary": [
           {
            "marker": {
             "colorbar": {
              "outlinewidth": 0,
              "ticks": ""
             }
            },
            "type": "scatterternary"
           }
          ],
          "surface": [
           {
            "colorbar": {
             "outlinewidth": 0,
             "ticks": ""
            },
            "colorscale": [
             [
              0,
              "#0d0887"
             ],
             [
              0.1111111111111111,
              "#46039f"
             ],
             [
              0.2222222222222222,
              "#7201a8"
             ],
             [
              0.3333333333333333,
              "#9c179e"
             ],
             [
              0.4444444444444444,
              "#bd3786"
             ],
             [
              0.5555555555555556,
              "#d8576b"
             ],
             [
              0.6666666666666666,
              "#ed7953"
             ],
             [
              0.7777777777777778,
              "#fb9f3a"
             ],
             [
              0.8888888888888888,
              "#fdca26"
             ],
             [
              1,
              "#f0f921"
             ]
            ],
            "type": "surface"
           }
          ],
          "table": [
           {
            "cells": {
             "fill": {
              "color": "#EBF0F8"
             },
             "line": {
              "color": "white"
             }
            },
            "header": {
             "fill": {
              "color": "#C8D4E3"
             },
             "line": {
              "color": "white"
             }
            },
            "type": "table"
           }
          ]
         },
         "layout": {
          "annotationdefaults": {
           "arrowcolor": "#2a3f5f",
           "arrowhead": 0,
           "arrowwidth": 1
          },
          "autotypenumbers": "strict",
          "coloraxis": {
           "colorbar": {
            "outlinewidth": 0,
            "ticks": ""
           }
          },
          "colorscale": {
           "diverging": [
            [
             0,
             "#8e0152"
            ],
            [
             0.1,
             "#c51b7d"
            ],
            [
             0.2,
             "#de77ae"
            ],
            [
             0.3,
             "#f1b6da"
            ],
            [
             0.4,
             "#fde0ef"
            ],
            [
             0.5,
             "#f7f7f7"
            ],
            [
             0.6,
             "#e6f5d0"
            ],
            [
             0.7,
             "#b8e186"
            ],
            [
             0.8,
             "#7fbc41"
            ],
            [
             0.9,
             "#4d9221"
            ],
            [
             1,
             "#276419"
            ]
           ],
           "sequential": [
            [
             0,
             "#0d0887"
            ],
            [
             0.1111111111111111,
             "#46039f"
            ],
            [
             0.2222222222222222,
             "#7201a8"
            ],
            [
             0.3333333333333333,
             "#9c179e"
            ],
            [
             0.4444444444444444,
             "#bd3786"
            ],
            [
             0.5555555555555556,
             "#d8576b"
            ],
            [
             0.6666666666666666,
             "#ed7953"
            ],
            [
             0.7777777777777778,
             "#fb9f3a"
            ],
            [
             0.8888888888888888,
             "#fdca26"
            ],
            [
             1,
             "#f0f921"
            ]
           ],
           "sequentialminus": [
            [
             0,
             "#0d0887"
            ],
            [
             0.1111111111111111,
             "#46039f"
            ],
            [
             0.2222222222222222,
             "#7201a8"
            ],
            [
             0.3333333333333333,
             "#9c179e"
            ],
            [
             0.4444444444444444,
             "#bd3786"
            ],
            [
             0.5555555555555556,
             "#d8576b"
            ],
            [
             0.6666666666666666,
             "#ed7953"
            ],
            [
             0.7777777777777778,
             "#fb9f3a"
            ],
            [
             0.8888888888888888,
             "#fdca26"
            ],
            [
             1,
             "#f0f921"
            ]
           ]
          },
          "colorway": [
           "#636efa",
           "#EF553B",
           "#00cc96",
           "#ab63fa",
           "#FFA15A",
           "#19d3f3",
           "#FF6692",
           "#B6E880",
           "#FF97FF",
           "#FECB52"
          ],
          "font": {
           "color": "#2a3f5f"
          },
          "geo": {
           "bgcolor": "white",
           "lakecolor": "white",
           "landcolor": "#E5ECF6",
           "showlakes": true,
           "showland": true,
           "subunitcolor": "white"
          },
          "hoverlabel": {
           "align": "left"
          },
          "hovermode": "closest",
          "mapbox": {
           "style": "light"
          },
          "paper_bgcolor": "white",
          "plot_bgcolor": "#E5ECF6",
          "polar": {
           "angularaxis": {
            "gridcolor": "white",
            "linecolor": "white",
            "ticks": ""
           },
           "bgcolor": "#E5ECF6",
           "radialaxis": {
            "gridcolor": "white",
            "linecolor": "white",
            "ticks": ""
           }
          },
          "scene": {
           "xaxis": {
            "backgroundcolor": "#E5ECF6",
            "gridcolor": "white",
            "gridwidth": 2,
            "linecolor": "white",
            "showbackground": true,
            "ticks": "",
            "zerolinecolor": "white"
           },
           "yaxis": {
            "backgroundcolor": "#E5ECF6",
            "gridcolor": "white",
            "gridwidth": 2,
            "linecolor": "white",
            "showbackground": true,
            "ticks": "",
            "zerolinecolor": "white"
           },
           "zaxis": {
            "backgroundcolor": "#E5ECF6",
            "gridcolor": "white",
            "gridwidth": 2,
            "linecolor": "white",
            "showbackground": true,
            "ticks": "",
            "zerolinecolor": "white"
           }
          },
          "shapedefaults": {
           "line": {
            "color": "#2a3f5f"
           }
          },
          "ternary": {
           "aaxis": {
            "gridcolor": "white",
            "linecolor": "white",
            "ticks": ""
           },
           "baxis": {
            "gridcolor": "white",
            "linecolor": "white",
            "ticks": ""
           },
           "bgcolor": "#E5ECF6",
           "caxis": {
            "gridcolor": "white",
            "linecolor": "white",
            "ticks": ""
           }
          },
          "title": {
           "x": 0.05
          },
          "xaxis": {
           "automargin": true,
           "gridcolor": "white",
           "linecolor": "white",
           "ticks": "",
           "title": {
            "standoff": 15
           },
           "zerolinecolor": "white",
           "zerolinewidth": 2
          },
          "yaxis": {
           "automargin": true,
           "gridcolor": "white",
           "linecolor": "white",
           "ticks": "",
           "title": {
            "standoff": 15
           },
           "zerolinecolor": "white",
           "zerolinewidth": 2
          }
         }
        },
        "width": 1300
       }
      },
      "text/html": [
       "<div>                            <div id=\"ce040f6f-7b68-4448-ab2e-6ad535a0832d\" class=\"plotly-graph-div\" style=\"height:1300px; width:1300px;\"></div>            <script type=\"text/javascript\">                require([\"plotly\"], function(Plotly) {                    window.PLOTLYENV=window.PLOTLYENV || {};                                    if (document.getElementById(\"ce040f6f-7b68-4448-ab2e-6ad535a0832d\")) {                    Plotly.newPlot(                        \"ce040f6f-7b68-4448-ab2e-6ad535a0832d\",                        [{\"dimensions\":[{\"axis\":{\"matches\":true},\"label\":\"plddt\",\"values\":[92.0]},{\"axis\":{\"matches\":true},\"label\":\"ptm\",\"values\":[0.898]},{\"axis\":{\"matches\":true},\"label\":\"total_score\",\"values\":[-747.048]},{\"axis\":{\"matches\":true},\"label\":\"dG_separated\",\"values\":[-58.461]},{\"axis\":{\"matches\":true},\"label\":\"dG_separated/dSASAx100\",\"values\":[-2.782]}],\"hovertemplate\":\"id_new=Lsb001_00<br>%{xaxis.title.text}=%{x}<br>%{yaxis.title.text}=%{y}<extra></extra>\",\"legendgroup\":\"Lsb001_00\",\"marker\":{\"color\":\"#636efa\",\"symbol\":\"circle\"},\"name\":\"Lsb001_00\",\"showlegend\":true,\"type\":\"splom\",\"diagonal\":{\"visible\":false}},{\"dimensions\":[{\"axis\":{\"matches\":true},\"label\":\"plddt\",\"values\":[92.9]},{\"axis\":{\"matches\":true},\"label\":\"ptm\",\"values\":[0.887]},{\"axis\":{\"matches\":true},\"label\":\"total_score\",\"values\":[-749.2]},{\"axis\":{\"matches\":true},\"label\":\"dG_separated\",\"values\":[-48.092]},{\"axis\":{\"matches\":true},\"label\":\"dG_separated/dSASAx100\",\"values\":[-2.376]}],\"hovertemplate\":\"id_new=Lsb001_01<br>%{xaxis.title.text}=%{x}<br>%{yaxis.title.text}=%{y}<extra></extra>\",\"legendgroup\":\"Lsb001_01\",\"marker\":{\"color\":\"#636efa\",\"symbol\":\"diamond\"},\"name\":\"Lsb001_01\",\"showlegend\":true,\"type\":\"splom\",\"diagonal\":{\"visible\":false}},{\"dimensions\":[{\"axis\":{\"matches\":true},\"label\":\"plddt\",\"values\":[86.6]},{\"axis\":{\"matches\":true},\"label\":\"ptm\",\"values\":[0.832]},{\"axis\":{\"matches\":true},\"label\":\"total_score\",\"values\":[-731.113]},{\"axis\":{\"matches\":true},\"label\":\"dG_separated\",\"values\":[-46.071]},{\"axis\":{\"matches\":true},\"label\":\"dG_separated/dSASAx100\",\"values\":[-2.289]}],\"hovertemplate\":\"id_new=Lsb001_02<br>%{xaxis.title.text}=%{x}<br>%{yaxis.title.text}=%{y}<extra></extra>\",\"legendgroup\":\"Lsb001_02\",\"marker\":{\"color\":\"#636efa\",\"symbol\":\"square\"},\"name\":\"Lsb001_02\",\"showlegend\":true,\"type\":\"splom\",\"diagonal\":{\"visible\":false}},{\"dimensions\":[{\"axis\":{\"matches\":true},\"label\":\"plddt\",\"values\":[90.2]},{\"axis\":{\"matches\":true},\"label\":\"ptm\",\"values\":[0.803]},{\"axis\":{\"matches\":true},\"label\":\"total_score\",\"values\":[-728.61]},{\"axis\":{\"matches\":true},\"label\":\"dG_separated\",\"values\":[-50.889]},{\"axis\":{\"matches\":true},\"label\":\"dG_separated/dSASAx100\",\"values\":[-2.088]}],\"hovertemplate\":\"id_new=Lsb001_03<br>%{xaxis.title.text}=%{x}<br>%{yaxis.title.text}=%{y}<extra></extra>\",\"legendgroup\":\"Lsb001_03\",\"marker\":{\"color\":\"#636efa\",\"symbol\":\"x\"},\"name\":\"Lsb001_03\",\"showlegend\":true,\"type\":\"splom\",\"diagonal\":{\"visible\":false}},{\"dimensions\":[{\"axis\":{\"matches\":true},\"label\":\"plddt\",\"values\":[81.9]},{\"axis\":{\"matches\":true},\"label\":\"ptm\",\"values\":[0.776]},{\"axis\":{\"matches\":true},\"label\":\"total_score\",\"values\":[-648.218]},{\"axis\":{\"matches\":true},\"label\":\"dG_separated\",\"values\":[-50.239]},{\"axis\":{\"matches\":true},\"label\":\"dG_separated/dSASAx100\",\"values\":[-2.454]}],\"hovertemplate\":\"id_new=Lsb001_04<br>%{xaxis.title.text}=%{x}<br>%{yaxis.title.text}=%{y}<extra></extra>\",\"legendgroup\":\"Lsb001_04\",\"marker\":{\"color\":\"#636efa\",\"symbol\":\"cross\"},\"name\":\"Lsb001_04\",\"showlegend\":true,\"type\":\"splom\",\"diagonal\":{\"visible\":false}},{\"dimensions\":[{\"axis\":{\"matches\":true},\"label\":\"plddt\",\"values\":[90.6]},{\"axis\":{\"matches\":true},\"label\":\"ptm\",\"values\":[0.783]},{\"axis\":{\"matches\":true},\"label\":\"total_score\",\"values\":[-760.411]},{\"axis\":{\"matches\":true},\"label\":\"dG_separated\",\"values\":[-61.05]},{\"axis\":{\"matches\":true},\"label\":\"dG_separated/dSASAx100\",\"values\":[-2.719]}],\"hovertemplate\":\"id_new=Lsb001_05<br>%{xaxis.title.text}=%{x}<br>%{yaxis.title.text}=%{y}<extra></extra>\",\"legendgroup\":\"Lsb001_05\",\"marker\":{\"color\":\"#636efa\",\"symbol\":\"circle\"},\"name\":\"Lsb001_05\",\"showlegend\":true,\"type\":\"splom\",\"diagonal\":{\"visible\":false}},{\"dimensions\":[{\"axis\":{\"matches\":true},\"label\":\"plddt\",\"values\":[83.9]},{\"axis\":{\"matches\":true},\"label\":\"ptm\",\"values\":[0.709]},{\"axis\":{\"matches\":true},\"label\":\"total_score\",\"values\":[-646.152]},{\"axis\":{\"matches\":true},\"label\":\"dG_separated\",\"values\":[-39.441]},{\"axis\":{\"matches\":true},\"label\":\"dG_separated/dSASAx100\",\"values\":[-2.39]}],\"hovertemplate\":\"id_new=Lsb001_06<br>%{xaxis.title.text}=%{x}<br>%{yaxis.title.text}=%{y}<extra></extra>\",\"legendgroup\":\"Lsb001_06\",\"marker\":{\"color\":\"#636efa\",\"symbol\":\"diamond\"},\"name\":\"Lsb001_06\",\"showlegend\":true,\"type\":\"splom\",\"diagonal\":{\"visible\":false}},{\"dimensions\":[{\"axis\":{\"matches\":true},\"label\":\"plddt\",\"values\":[87.7]},{\"axis\":{\"matches\":true},\"label\":\"ptm\",\"values\":[0.732]},{\"axis\":{\"matches\":true},\"label\":\"total_score\",\"values\":[-743.006]},{\"axis\":{\"matches\":true},\"label\":\"dG_separated\",\"values\":[-40.593]},{\"axis\":{\"matches\":true},\"label\":\"dG_separated/dSASAx100\",\"values\":[-2.868]}],\"hovertemplate\":\"id_new=Lsb001_07<br>%{xaxis.title.text}=%{x}<br>%{yaxis.title.text}=%{y}<extra></extra>\",\"legendgroup\":\"Lsb001_07\",\"marker\":{\"color\":\"#636efa\",\"symbol\":\"square\"},\"name\":\"Lsb001_07\",\"showlegend\":true,\"type\":\"splom\",\"diagonal\":{\"visible\":false}},{\"dimensions\":[{\"axis\":{\"matches\":true},\"label\":\"plddt\",\"values\":[78.8]},{\"axis\":{\"matches\":true},\"label\":\"ptm\",\"values\":[0.716]},{\"axis\":{\"matches\":true},\"label\":\"total_score\",\"values\":[-694.431]},{\"axis\":{\"matches\":true},\"label\":\"dG_separated\",\"values\":[-46.119]},{\"axis\":{\"matches\":true},\"label\":\"dG_separated/dSASAx100\",\"values\":[-2.73]}],\"hovertemplate\":\"id_new=Lsb001_08<br>%{xaxis.title.text}=%{x}<br>%{yaxis.title.text}=%{y}<extra></extra>\",\"legendgroup\":\"Lsb001_08\",\"marker\":{\"color\":\"#636efa\",\"symbol\":\"x\"},\"name\":\"Lsb001_08\",\"showlegend\":true,\"type\":\"splom\",\"diagonal\":{\"visible\":false}},{\"dimensions\":[{\"axis\":{\"matches\":true},\"label\":\"plddt\",\"values\":[84.9]},{\"axis\":{\"matches\":true},\"label\":\"ptm\",\"values\":[0.717]},{\"axis\":{\"matches\":true},\"label\":\"total_score\",\"values\":[-750.398]},{\"axis\":{\"matches\":true},\"label\":\"dG_separated\",\"values\":[-57.413]},{\"axis\":{\"matches\":true},\"label\":\"dG_separated/dSASAx100\",\"values\":[-2.388]}],\"hovertemplate\":\"id_new=Lsb001_09<br>%{xaxis.title.text}=%{x}<br>%{yaxis.title.text}=%{y}<extra></extra>\",\"legendgroup\":\"Lsb001_09\",\"marker\":{\"color\":\"#636efa\",\"symbol\":\"cross\"},\"name\":\"Lsb001_09\",\"showlegend\":true,\"type\":\"splom\",\"diagonal\":{\"visible\":false}},{\"dimensions\":[{\"axis\":{\"matches\":true},\"label\":\"plddt\",\"values\":[90.2]},{\"axis\":{\"matches\":true},\"label\":\"ptm\",\"values\":[0.711]},{\"axis\":{\"matches\":true},\"label\":\"total_score\",\"values\":[-753.402]},{\"axis\":{\"matches\":true},\"label\":\"dG_separated\",\"values\":[-50.577]},{\"axis\":{\"matches\":true},\"label\":\"dG_separated/dSASAx100\",\"values\":[-2.506]}],\"hovertemplate\":\"id_new=Lsb001_10<br>%{xaxis.title.text}=%{x}<br>%{yaxis.title.text}=%{y}<extra></extra>\",\"legendgroup\":\"Lsb001_10\",\"marker\":{\"color\":\"#636efa\",\"symbol\":\"circle\"},\"name\":\"Lsb001_10\",\"showlegend\":true,\"type\":\"splom\",\"diagonal\":{\"visible\":false}},{\"dimensions\":[{\"axis\":{\"matches\":true},\"label\":\"plddt\",\"values\":[87.1]},{\"axis\":{\"matches\":true},\"label\":\"ptm\",\"values\":[0.701]},{\"axis\":{\"matches\":true},\"label\":\"total_score\",\"values\":[-714.44]},{\"axis\":{\"matches\":true},\"label\":\"dG_separated\",\"values\":[-40.856]},{\"axis\":{\"matches\":true},\"label\":\"dG_separated/dSASAx100\",\"values\":[-2.476]}],\"hovertemplate\":\"id_new=Lsb001_11<br>%{xaxis.title.text}=%{x}<br>%{yaxis.title.text}=%{y}<extra></extra>\",\"legendgroup\":\"Lsb001_11\",\"marker\":{\"color\":\"#636efa\",\"symbol\":\"diamond\"},\"name\":\"Lsb001_11\",\"showlegend\":true,\"type\":\"splom\",\"diagonal\":{\"visible\":false}},{\"dimensions\":[{\"axis\":{\"matches\":true},\"label\":\"plddt\",\"values\":[90.8]},{\"axis\":{\"matches\":true},\"label\":\"ptm\",\"values\":[0.685]},{\"axis\":{\"matches\":true},\"label\":\"total_score\",\"values\":[-726.076]},{\"axis\":{\"matches\":true},\"label\":\"dG_separated\",\"values\":[-29.364]},{\"axis\":{\"matches\":true},\"label\":\"dG_separated/dSASAx100\",\"values\":[-2.763]}],\"hovertemplate\":\"id_new=Lsb001_12<br>%{xaxis.title.text}=%{x}<br>%{yaxis.title.text}=%{y}<extra></extra>\",\"legendgroup\":\"Lsb001_12\",\"marker\":{\"color\":\"#636efa\",\"symbol\":\"square\"},\"name\":\"Lsb001_12\",\"showlegend\":true,\"type\":\"splom\",\"diagonal\":{\"visible\":false}},{\"dimensions\":[{\"axis\":{\"matches\":true},\"label\":\"plddt\",\"values\":[75.3]},{\"axis\":{\"matches\":true},\"label\":\"ptm\",\"values\":[0.642]},{\"axis\":{\"matches\":true},\"label\":\"total_score\",\"values\":[-698.122]},{\"axis\":{\"matches\":true},\"label\":\"dG_separated\",\"values\":[-45.987]},{\"axis\":{\"matches\":true},\"label\":\"dG_separated/dSASAx100\",\"values\":[-2.458]}],\"hovertemplate\":\"id_new=Lsb001_13<br>%{xaxis.title.text}=%{x}<br>%{yaxis.title.text}=%{y}<extra></extra>\",\"legendgroup\":\"Lsb001_13\",\"marker\":{\"color\":\"#636efa\",\"symbol\":\"x\"},\"name\":\"Lsb001_13\",\"showlegend\":true,\"type\":\"splom\",\"diagonal\":{\"visible\":false}},{\"dimensions\":[{\"axis\":{\"matches\":true},\"label\":\"plddt\",\"values\":[85.9]},{\"axis\":{\"matches\":true},\"label\":\"ptm\",\"values\":[0.664]},{\"axis\":{\"matches\":true},\"label\":\"total_score\",\"values\":[-684.195]},{\"axis\":{\"matches\":true},\"label\":\"dG_separated\",\"values\":[-39.765]},{\"axis\":{\"matches\":true},\"label\":\"dG_separated/dSASAx100\",\"values\":[-2.298]}],\"hovertemplate\":\"id_new=Lsb001_14<br>%{xaxis.title.text}=%{x}<br>%{yaxis.title.text}=%{y}<extra></extra>\",\"legendgroup\":\"Lsb001_14\",\"marker\":{\"color\":\"#636efa\",\"symbol\":\"cross\"},\"name\":\"Lsb001_14\",\"showlegend\":true,\"type\":\"splom\",\"diagonal\":{\"visible\":false}},{\"dimensions\":[{\"axis\":{\"matches\":true},\"label\":\"plddt\",\"values\":[86.1]},{\"axis\":{\"matches\":true},\"label\":\"ptm\",\"values\":[0.673]},{\"axis\":{\"matches\":true},\"label\":\"total_score\",\"values\":[-699.292]},{\"axis\":{\"matches\":true},\"label\":\"dG_separated\",\"values\":[-30.387]},{\"axis\":{\"matches\":true},\"label\":\"dG_separated/dSASAx100\",\"values\":[-2.344]}],\"hovertemplate\":\"id_new=Lsb001_15<br>%{xaxis.title.text}=%{x}<br>%{yaxis.title.text}=%{y}<extra></extra>\",\"legendgroup\":\"Lsb001_15\",\"marker\":{\"color\":\"#636efa\",\"symbol\":\"circle\"},\"name\":\"Lsb001_15\",\"showlegend\":true,\"type\":\"splom\",\"diagonal\":{\"visible\":false}},{\"dimensions\":[{\"axis\":{\"matches\":true},\"label\":\"plddt\",\"values\":[86.2]},{\"axis\":{\"matches\":true},\"label\":\"ptm\",\"values\":[0.656]},{\"axis\":{\"matches\":true},\"label\":\"total_score\",\"values\":[-726.22]},{\"axis\":{\"matches\":true},\"label\":\"dG_separated\",\"values\":[-54.358]},{\"axis\":{\"matches\":true},\"label\":\"dG_separated/dSASAx100\",\"values\":[-2.853]}],\"hovertemplate\":\"id_new=Lsb001_16<br>%{xaxis.title.text}=%{x}<br>%{yaxis.title.text}=%{y}<extra></extra>\",\"legendgroup\":\"Lsb001_16\",\"marker\":{\"color\":\"#636efa\",\"symbol\":\"diamond\"},\"name\":\"Lsb001_16\",\"showlegend\":true,\"type\":\"splom\",\"diagonal\":{\"visible\":false}},{\"dimensions\":[{\"axis\":{\"matches\":true},\"label\":\"plddt\",\"values\":[86.8]},{\"axis\":{\"matches\":true},\"label\":\"ptm\",\"values\":[0.669]},{\"axis\":{\"matches\":true},\"label\":\"total_score\",\"values\":[-729.775]},{\"axis\":{\"matches\":true},\"label\":\"dG_separated\",\"values\":[-43.279]},{\"axis\":{\"matches\":true},\"label\":\"dG_separated/dSASAx100\",\"values\":[-2.333]}],\"hovertemplate\":\"id_new=Lsb001_17<br>%{xaxis.title.text}=%{x}<br>%{yaxis.title.text}=%{y}<extra></extra>\",\"legendgroup\":\"Lsb001_17\",\"marker\":{\"color\":\"#636efa\",\"symbol\":\"square\"},\"name\":\"Lsb001_17\",\"showlegend\":true,\"type\":\"splom\",\"diagonal\":{\"visible\":false}},{\"dimensions\":[{\"axis\":{\"matches\":true},\"label\":\"plddt\",\"values\":[87.7]},{\"axis\":{\"matches\":true},\"label\":\"ptm\",\"values\":[0.662]},{\"axis\":{\"matches\":true},\"label\":\"total_score\",\"values\":[-707.664]},{\"axis\":{\"matches\":true},\"label\":\"dG_separated\",\"values\":[-38.786]},{\"axis\":{\"matches\":true},\"label\":\"dG_separated/dSASAx100\",\"values\":[-2.486]}],\"hovertemplate\":\"id_new=Lsb001_18<br>%{xaxis.title.text}=%{x}<br>%{yaxis.title.text}=%{y}<extra></extra>\",\"legendgroup\":\"Lsb001_18\",\"marker\":{\"color\":\"#636efa\",\"symbol\":\"x\"},\"name\":\"Lsb001_18\",\"showlegend\":true,\"type\":\"splom\",\"diagonal\":{\"visible\":false}},{\"dimensions\":[{\"axis\":{\"matches\":true},\"label\":\"plddt\",\"values\":[85.8]},{\"axis\":{\"matches\":true},\"label\":\"ptm\",\"values\":[0.646]},{\"axis\":{\"matches\":true},\"label\":\"total_score\",\"values\":[-710.091]},{\"axis\":{\"matches\":true},\"label\":\"dG_separated\",\"values\":[-30.325]},{\"axis\":{\"matches\":true},\"label\":\"dG_separated/dSASAx100\",\"values\":[-2.41]}],\"hovertemplate\":\"id_new=Lsb001_19<br>%{xaxis.title.text}=%{x}<br>%{yaxis.title.text}=%{y}<extra></extra>\",\"legendgroup\":\"Lsb001_19\",\"marker\":{\"color\":\"#636efa\",\"symbol\":\"cross\"},\"name\":\"Lsb001_19\",\"showlegend\":true,\"type\":\"splom\",\"diagonal\":{\"visible\":false}},{\"dimensions\":[{\"axis\":{\"matches\":true},\"label\":\"plddt\",\"values\":[78.7]},{\"axis\":{\"matches\":true},\"label\":\"ptm\",\"values\":[0.635]},{\"axis\":{\"matches\":true},\"label\":\"total_score\",\"values\":[-723.961]},{\"axis\":{\"matches\":true},\"label\":\"dG_separated\",\"values\":[-33.777]},{\"axis\":{\"matches\":true},\"label\":\"dG_separated/dSASAx100\",\"values\":[-2.253]}],\"hovertemplate\":\"id_new=Lsb001_20<br>%{xaxis.title.text}=%{x}<br>%{yaxis.title.text}=%{y}<extra></extra>\",\"legendgroup\":\"Lsb001_20\",\"marker\":{\"color\":\"#636efa\",\"symbol\":\"circle\"},\"name\":\"Lsb001_20\",\"showlegend\":true,\"type\":\"splom\",\"diagonal\":{\"visible\":false}},{\"dimensions\":[{\"axis\":{\"matches\":true},\"label\":\"plddt\",\"values\":[90.1]},{\"axis\":{\"matches\":true},\"label\":\"ptm\",\"values\":[0.642]},{\"axis\":{\"matches\":true},\"label\":\"total_score\",\"values\":[-723.357]},{\"axis\":{\"matches\":true},\"label\":\"dG_separated\",\"values\":[-18.725]},{\"axis\":{\"matches\":true},\"label\":\"dG_separated/dSASAx100\",\"values\":[-2.143]}],\"hovertemplate\":\"id_new=Lsb001_21<br>%{xaxis.title.text}=%{x}<br>%{yaxis.title.text}=%{y}<extra></extra>\",\"legendgroup\":\"Lsb001_21\",\"marker\":{\"color\":\"#636efa\",\"symbol\":\"diamond\"},\"name\":\"Lsb001_21\",\"showlegend\":true,\"type\":\"splom\",\"diagonal\":{\"visible\":false}},{\"dimensions\":[{\"axis\":{\"matches\":true},\"label\":\"plddt\",\"values\":[81.7]},{\"axis\":{\"matches\":true},\"label\":\"ptm\",\"values\":[0.629]},{\"axis\":{\"matches\":true},\"label\":\"total_score\",\"values\":[-754.822]},{\"axis\":{\"matches\":true},\"label\":\"dG_separated\",\"values\":[-48.663]},{\"axis\":{\"matches\":true},\"label\":\"dG_separated/dSASAx100\",\"values\":[-2.403]}],\"hovertemplate\":\"id_new=Lsb001_22<br>%{xaxis.title.text}=%{x}<br>%{yaxis.title.text}=%{y}<extra></extra>\",\"legendgroup\":\"Lsb001_22\",\"marker\":{\"color\":\"#636efa\",\"symbol\":\"square\"},\"name\":\"Lsb001_22\",\"showlegend\":true,\"type\":\"splom\",\"diagonal\":{\"visible\":false}},{\"dimensions\":[{\"axis\":{\"matches\":true},\"label\":\"plddt\",\"values\":[81.8]},{\"axis\":{\"matches\":true},\"label\":\"ptm\",\"values\":[0.612]},{\"axis\":{\"matches\":true},\"label\":\"total_score\",\"values\":[-675.735]},{\"axis\":{\"matches\":true},\"label\":\"dG_separated\",\"values\":[-59.614]},{\"axis\":{\"matches\":true},\"label\":\"dG_separated/dSASAx100\",\"values\":[-2.757]}],\"hovertemplate\":\"id_new=Lsb001_23<br>%{xaxis.title.text}=%{x}<br>%{yaxis.title.text}=%{y}<extra></extra>\",\"legendgroup\":\"Lsb001_23\",\"marker\":{\"color\":\"#636efa\",\"symbol\":\"x\"},\"name\":\"Lsb001_23\",\"showlegend\":true,\"type\":\"splom\",\"diagonal\":{\"visible\":false}},{\"dimensions\":[{\"axis\":{\"matches\":true},\"label\":\"plddt\",\"values\":[85.6]},{\"axis\":{\"matches\":true},\"label\":\"ptm\",\"values\":[0.628]},{\"axis\":{\"matches\":true},\"label\":\"total_score\",\"values\":[-693.38]},{\"axis\":{\"matches\":true},\"label\":\"dG_separated\",\"values\":[-39.366]},{\"axis\":{\"matches\":true},\"label\":\"dG_separated/dSASAx100\",\"values\":[-2.506]}],\"hovertemplate\":\"id_new=Lsb001_24<br>%{xaxis.title.text}=%{x}<br>%{yaxis.title.text}=%{y}<extra></extra>\",\"legendgroup\":\"Lsb001_24\",\"marker\":{\"color\":\"#636efa\",\"symbol\":\"cross\"},\"name\":\"Lsb001_24\",\"showlegend\":true,\"type\":\"splom\",\"diagonal\":{\"visible\":false}},{\"dimensions\":[{\"axis\":{\"matches\":true},\"label\":\"plddt\",\"values\":[84.9]},{\"axis\":{\"matches\":true},\"label\":\"ptm\",\"values\":[0.622]},{\"axis\":{\"matches\":true},\"label\":\"total_score\",\"values\":[-665.902]},{\"axis\":{\"matches\":true},\"label\":\"dG_separated\",\"values\":[-30.672]},{\"axis\":{\"matches\":true},\"label\":\"dG_separated/dSASAx100\",\"values\":[-2.114]}],\"hovertemplate\":\"id_new=Lsb001_25<br>%{xaxis.title.text}=%{x}<br>%{yaxis.title.text}=%{y}<extra></extra>\",\"legendgroup\":\"Lsb001_25\",\"marker\":{\"color\":\"#636efa\",\"symbol\":\"circle\"},\"name\":\"Lsb001_25\",\"showlegend\":true,\"type\":\"splom\",\"diagonal\":{\"visible\":false}},{\"dimensions\":[{\"axis\":{\"matches\":true},\"label\":\"plddt\",\"values\":[78.5]},{\"axis\":{\"matches\":true},\"label\":\"ptm\",\"values\":[0.619]},{\"axis\":{\"matches\":true},\"label\":\"total_score\",\"values\":[-656.404]},{\"axis\":{\"matches\":true},\"label\":\"dG_separated\",\"values\":[-11.021]},{\"axis\":{\"matches\":true},\"label\":\"dG_separated/dSASAx100\",\"values\":[-1.257]}],\"hovertemplate\":\"id_new=Lsb001_26<br>%{xaxis.title.text}=%{x}<br>%{yaxis.title.text}=%{y}<extra></extra>\",\"legendgroup\":\"Lsb001_26\",\"marker\":{\"color\":\"#636efa\",\"symbol\":\"diamond\"},\"name\":\"Lsb001_26\",\"showlegend\":true,\"type\":\"splom\",\"diagonal\":{\"visible\":false}},{\"dimensions\":[{\"axis\":{\"matches\":true},\"label\":\"plddt\",\"values\":[90.0]},{\"axis\":{\"matches\":true},\"label\":\"ptm\",\"values\":[0.615]},{\"axis\":{\"matches\":true},\"label\":\"total_score\",\"values\":[-736.48]},{\"axis\":{\"matches\":true},\"label\":\"dG_separated\",\"values\":[-34.104]},{\"axis\":{\"matches\":true},\"label\":\"dG_separated/dSASAx100\",\"values\":[-2.022]}],\"hovertemplate\":\"id_new=Lsb001_27<br>%{xaxis.title.text}=%{x}<br>%{yaxis.title.text}=%{y}<extra></extra>\",\"legendgroup\":\"Lsb001_27\",\"marker\":{\"color\":\"#636efa\",\"symbol\":\"square\"},\"name\":\"Lsb001_27\",\"showlegend\":true,\"type\":\"splom\",\"diagonal\":{\"visible\":false}},{\"dimensions\":[{\"axis\":{\"matches\":true},\"label\":\"plddt\",\"values\":[87.8]},{\"axis\":{\"matches\":true},\"label\":\"ptm\",\"values\":[0.611]},{\"axis\":{\"matches\":true},\"label\":\"total_score\",\"values\":[-719.039]},{\"axis\":{\"matches\":true},\"label\":\"dG_separated\",\"values\":[-28.482]},{\"axis\":{\"matches\":true},\"label\":\"dG_separated/dSASAx100\",\"values\":[-2.815]}],\"hovertemplate\":\"id_new=Lsb001_28<br>%{xaxis.title.text}=%{x}<br>%{yaxis.title.text}=%{y}<extra></extra>\",\"legendgroup\":\"Lsb001_28\",\"marker\":{\"color\":\"#636efa\",\"symbol\":\"x\"},\"name\":\"Lsb001_28\",\"showlegend\":true,\"type\":\"splom\",\"diagonal\":{\"visible\":false}},{\"dimensions\":[{\"axis\":{\"matches\":true},\"label\":\"plddt\",\"values\":[89.9]},{\"axis\":{\"matches\":true},\"label\":\"ptm\",\"values\":[0.604]},{\"axis\":{\"matches\":true},\"label\":\"total_score\",\"values\":[-722.384]},{\"axis\":{\"matches\":true},\"label\":\"dG_separated\",\"values\":[-32.816]},{\"axis\":{\"matches\":true},\"label\":\"dG_separated/dSASAx100\",\"values\":[-2.435]}],\"hovertemplate\":\"id_new=Lsb001_29<br>%{xaxis.title.text}=%{x}<br>%{yaxis.title.text}=%{y}<extra></extra>\",\"legendgroup\":\"Lsb001_29\",\"marker\":{\"color\":\"#636efa\",\"symbol\":\"cross\"},\"name\":\"Lsb001_29\",\"showlegend\":true,\"type\":\"splom\",\"diagonal\":{\"visible\":false}},{\"dimensions\":[{\"axis\":{\"matches\":true},\"label\":\"plddt\",\"values\":[87.6]},{\"axis\":{\"matches\":true},\"label\":\"ptm\",\"values\":[0.599]},{\"axis\":{\"matches\":true},\"label\":\"total_score\",\"values\":[-710.752]},{\"axis\":{\"matches\":true},\"label\":\"dG_separated\",\"values\":[-32.471]},{\"axis\":{\"matches\":true},\"label\":\"dG_separated/dSASAx100\",\"values\":[-2.228]}],\"hovertemplate\":\"id_new=Lsb001_30<br>%{xaxis.title.text}=%{x}<br>%{yaxis.title.text}=%{y}<extra></extra>\",\"legendgroup\":\"Lsb001_30\",\"marker\":{\"color\":\"#636efa\",\"symbol\":\"circle\"},\"name\":\"Lsb001_30\",\"showlegend\":true,\"type\":\"splom\",\"diagonal\":{\"visible\":false}},{\"dimensions\":[{\"axis\":{\"matches\":true},\"label\":\"plddt\",\"values\":[84.7]},{\"axis\":{\"matches\":true},\"label\":\"ptm\",\"values\":[0.592]},{\"axis\":{\"matches\":true},\"label\":\"total_score\",\"values\":[-693.206]},{\"axis\":{\"matches\":true},\"label\":\"dG_separated\",\"values\":[-26.416]},{\"axis\":{\"matches\":true},\"label\":\"dG_separated/dSASAx100\",\"values\":[-1.769]}],\"hovertemplate\":\"id_new=Lsb001_31<br>%{xaxis.title.text}=%{x}<br>%{yaxis.title.text}=%{y}<extra></extra>\",\"legendgroup\":\"Lsb001_31\",\"marker\":{\"color\":\"#636efa\",\"symbol\":\"diamond\"},\"name\":\"Lsb001_31\",\"showlegend\":true,\"type\":\"splom\",\"diagonal\":{\"visible\":false}},{\"dimensions\":[{\"axis\":{\"matches\":true},\"label\":\"plddt\",\"values\":[81.3]},{\"axis\":{\"matches\":true},\"label\":\"ptm\",\"values\":[0.576]},{\"axis\":{\"matches\":true},\"label\":\"total_score\",\"values\":[-745.838]},{\"axis\":{\"matches\":true},\"label\":\"dG_separated\",\"values\":[-50.001]},{\"axis\":{\"matches\":true},\"label\":\"dG_separated/dSASAx100\",\"values\":[-2.493]}],\"hovertemplate\":\"id_new=Lsb001_32<br>%{xaxis.title.text}=%{x}<br>%{yaxis.title.text}=%{y}<extra></extra>\",\"legendgroup\":\"Lsb001_32\",\"marker\":{\"color\":\"#636efa\",\"symbol\":\"square\"},\"name\":\"Lsb001_32\",\"showlegend\":true,\"type\":\"splom\",\"diagonal\":{\"visible\":false}},{\"dimensions\":[{\"axis\":{\"matches\":true},\"label\":\"plddt\",\"values\":[82.5]},{\"axis\":{\"matches\":true},\"label\":\"ptm\",\"values\":[0.594]},{\"axis\":{\"matches\":true},\"label\":\"total_score\",\"values\":[-724.379]},{\"axis\":{\"matches\":true},\"label\":\"dG_separated\",\"values\":[-27.877]},{\"axis\":{\"matches\":true},\"label\":\"dG_separated/dSASAx100\",\"values\":[-1.919]}],\"hovertemplate\":\"id_new=Lsb001_33<br>%{xaxis.title.text}=%{x}<br>%{yaxis.title.text}=%{y}<extra></extra>\",\"legendgroup\":\"Lsb001_33\",\"marker\":{\"color\":\"#636efa\",\"symbol\":\"x\"},\"name\":\"Lsb001_33\",\"showlegend\":true,\"type\":\"splom\",\"diagonal\":{\"visible\":false}},{\"dimensions\":[{\"axis\":{\"matches\":true},\"label\":\"plddt\",\"values\":[83.5]},{\"axis\":{\"matches\":true},\"label\":\"ptm\",\"values\":[0.605]},{\"axis\":{\"matches\":true},\"label\":\"total_score\",\"values\":[-628.556]},{\"axis\":{\"matches\":true},\"label\":\"dG_separated\",\"values\":[-20.49]},{\"axis\":{\"matches\":true},\"label\":\"dG_separated/dSASAx100\",\"values\":[-1.933]}],\"hovertemplate\":\"id_new=Lsb001_34<br>%{xaxis.title.text}=%{x}<br>%{yaxis.title.text}=%{y}<extra></extra>\",\"legendgroup\":\"Lsb001_34\",\"marker\":{\"color\":\"#636efa\",\"symbol\":\"cross\"},\"name\":\"Lsb001_34\",\"showlegend\":true,\"type\":\"splom\",\"diagonal\":{\"visible\":false}},{\"dimensions\":[{\"axis\":{\"matches\":true},\"label\":\"plddt\",\"values\":[89.5]},{\"axis\":{\"matches\":true},\"label\":\"ptm\",\"values\":[0.576]},{\"axis\":{\"matches\":true},\"label\":\"total_score\",\"values\":[-732.621]},{\"axis\":{\"matches\":true},\"label\":\"dG_separated\",\"values\":[-23.687]},{\"axis\":{\"matches\":true},\"label\":\"dG_separated/dSASAx100\",\"values\":[-2.404]}],\"hovertemplate\":\"id_new=Lsb001_35<br>%{xaxis.title.text}=%{x}<br>%{yaxis.title.text}=%{y}<extra></extra>\",\"legendgroup\":\"Lsb001_35\",\"marker\":{\"color\":\"#636efa\",\"symbol\":\"circle\"},\"name\":\"Lsb001_35\",\"showlegend\":true,\"type\":\"splom\",\"diagonal\":{\"visible\":false}},{\"dimensions\":[{\"axis\":{\"matches\":true},\"label\":\"plddt\",\"values\":[80.5]},{\"axis\":{\"matches\":true},\"label\":\"ptm\",\"values\":[0.568]},{\"axis\":{\"matches\":true},\"label\":\"total_score\",\"values\":[-724.233]},{\"axis\":{\"matches\":true},\"label\":\"dG_separated\",\"values\":[-32.046]},{\"axis\":{\"matches\":true},\"label\":\"dG_separated/dSASAx100\",\"values\":[-2.364]}],\"hovertemplate\":\"id_new=Lsb001_36<br>%{xaxis.title.text}=%{x}<br>%{yaxis.title.text}=%{y}<extra></extra>\",\"legendgroup\":\"Lsb001_36\",\"marker\":{\"color\":\"#636efa\",\"symbol\":\"diamond\"},\"name\":\"Lsb001_36\",\"showlegend\":true,\"type\":\"splom\",\"diagonal\":{\"visible\":false}},{\"dimensions\":[{\"axis\":{\"matches\":true},\"label\":\"plddt\",\"values\":[88.2]},{\"axis\":{\"matches\":true},\"label\":\"ptm\",\"values\":[0.571]},{\"axis\":{\"matches\":true},\"label\":\"total_score\",\"values\":[-715.071]},{\"axis\":{\"matches\":true},\"label\":\"dG_separated\",\"values\":[-50.986]},{\"axis\":{\"matches\":true},\"label\":\"dG_separated/dSASAx100\",\"values\":[-3.072]}],\"hovertemplate\":\"id_new=Lsb001_37<br>%{xaxis.title.text}=%{x}<br>%{yaxis.title.text}=%{y}<extra></extra>\",\"legendgroup\":\"Lsb001_37\",\"marker\":{\"color\":\"#636efa\",\"symbol\":\"square\"},\"name\":\"Lsb001_37\",\"showlegend\":true,\"type\":\"splom\",\"diagonal\":{\"visible\":false}},{\"dimensions\":[{\"axis\":{\"matches\":true},\"label\":\"plddt\",\"values\":[88.8]},{\"axis\":{\"matches\":true},\"label\":\"ptm\",\"values\":[0.574]},{\"axis\":{\"matches\":true},\"label\":\"total_score\",\"values\":[-718.399]},{\"axis\":{\"matches\":true},\"label\":\"dG_separated\",\"values\":[-53.951]},{\"axis\":{\"matches\":true},\"label\":\"dG_separated/dSASAx100\",\"values\":[-2.584]}],\"hovertemplate\":\"id_new=Lsb001_38<br>%{xaxis.title.text}=%{x}<br>%{yaxis.title.text}=%{y}<extra></extra>\",\"legendgroup\":\"Lsb001_38\",\"marker\":{\"color\":\"#636efa\",\"symbol\":\"x\"},\"name\":\"Lsb001_38\",\"showlegend\":true,\"type\":\"splom\",\"diagonal\":{\"visible\":false}},{\"dimensions\":[{\"axis\":{\"matches\":true},\"label\":\"plddt\",\"values\":[84.2]},{\"axis\":{\"matches\":true},\"label\":\"ptm\",\"values\":[0.567]},{\"axis\":{\"matches\":true},\"label\":\"total_score\",\"values\":[-637.373]},{\"axis\":{\"matches\":true},\"label\":\"dG_separated\",\"values\":[-35.351]},{\"axis\":{\"matches\":true},\"label\":\"dG_separated/dSASAx100\",\"values\":[-2.526]}],\"hovertemplate\":\"id_new=Lsb001_39<br>%{xaxis.title.text}=%{x}<br>%{yaxis.title.text}=%{y}<extra></extra>\",\"legendgroup\":\"Lsb001_39\",\"marker\":{\"color\":\"#636efa\",\"symbol\":\"cross\"},\"name\":\"Lsb001_39\",\"showlegend\":true,\"type\":\"splom\",\"diagonal\":{\"visible\":false}},{\"dimensions\":[{\"axis\":{\"matches\":true},\"label\":\"plddt\",\"values\":[85.2]},{\"axis\":{\"matches\":true},\"label\":\"ptm\",\"values\":[0.57]},{\"axis\":{\"matches\":true},\"label\":\"total_score\",\"values\":[-649.182]},{\"axis\":{\"matches\":true},\"label\":\"dG_separated\",\"values\":[-27.518]},{\"axis\":{\"matches\":true},\"label\":\"dG_separated/dSASAx100\",\"values\":[-1.707]}],\"hovertemplate\":\"id_new=Lsb001_40<br>%{xaxis.title.text}=%{x}<br>%{yaxis.title.text}=%{y}<extra></extra>\",\"legendgroup\":\"Lsb001_40\",\"marker\":{\"color\":\"#636efa\",\"symbol\":\"circle\"},\"name\":\"Lsb001_40\",\"showlegend\":true,\"type\":\"splom\",\"diagonal\":{\"visible\":false}},{\"dimensions\":[{\"axis\":{\"matches\":true},\"label\":\"plddt\",\"values\":[85.2]},{\"axis\":{\"matches\":true},\"label\":\"ptm\",\"values\":[0.566]},{\"axis\":{\"matches\":true},\"label\":\"total_score\",\"values\":[-703.215]},{\"axis\":{\"matches\":true},\"label\":\"dG_separated\",\"values\":[-29.214]},{\"axis\":{\"matches\":true},\"label\":\"dG_separated/dSASAx100\",\"values\":[-2.269]}],\"hovertemplate\":\"id_new=Lsb001_41<br>%{xaxis.title.text}=%{x}<br>%{yaxis.title.text}=%{y}<extra></extra>\",\"legendgroup\":\"Lsb001_41\",\"marker\":{\"color\":\"#636efa\",\"symbol\":\"diamond\"},\"name\":\"Lsb001_41\",\"showlegend\":true,\"type\":\"splom\",\"diagonal\":{\"visible\":false}},{\"dimensions\":[{\"axis\":{\"matches\":true},\"label\":\"plddt\",\"values\":[83.6]},{\"axis\":{\"matches\":true},\"label\":\"ptm\",\"values\":[0.563]},{\"axis\":{\"matches\":true},\"label\":\"total_score\",\"values\":[-735.7]},{\"axis\":{\"matches\":true},\"label\":\"dG_separated\",\"values\":[-34.189]},{\"axis\":{\"matches\":true},\"label\":\"dG_separated/dSASAx100\",\"values\":[-2.407]}],\"hovertemplate\":\"id_new=Lsb001_42<br>%{xaxis.title.text}=%{x}<br>%{yaxis.title.text}=%{y}<extra></extra>\",\"legendgroup\":\"Lsb001_42\",\"marker\":{\"color\":\"#636efa\",\"symbol\":\"square\"},\"name\":\"Lsb001_42\",\"showlegend\":true,\"type\":\"splom\",\"diagonal\":{\"visible\":false}},{\"dimensions\":[{\"axis\":{\"matches\":true},\"label\":\"plddt\",\"values\":[84.4]},{\"axis\":{\"matches\":true},\"label\":\"ptm\",\"values\":[0.56]},{\"axis\":{\"matches\":true},\"label\":\"total_score\",\"values\":[-740.646]},{\"axis\":{\"matches\":true},\"label\":\"dG_separated\",\"values\":[-37.039]},{\"axis\":{\"matches\":true},\"label\":\"dG_separated/dSASAx100\",\"values\":[-2.494]}],\"hovertemplate\":\"id_new=Lsb001_43<br>%{xaxis.title.text}=%{x}<br>%{yaxis.title.text}=%{y}<extra></extra>\",\"legendgroup\":\"Lsb001_43\",\"marker\":{\"color\":\"#636efa\",\"symbol\":\"x\"},\"name\":\"Lsb001_43\",\"showlegend\":true,\"type\":\"splom\",\"diagonal\":{\"visible\":false}},{\"dimensions\":[{\"axis\":{\"matches\":true},\"label\":\"plddt\",\"values\":[82.0]},{\"axis\":{\"matches\":true},\"label\":\"ptm\",\"values\":[0.56]},{\"axis\":{\"matches\":true},\"label\":\"total_score\",\"values\":[-725.319]},{\"axis\":{\"matches\":true},\"label\":\"dG_separated\",\"values\":[-21.139]},{\"axis\":{\"matches\":true},\"label\":\"dG_separated/dSASAx100\",\"values\":[-1.906]}],\"hovertemplate\":\"id_new=Lsb001_44<br>%{xaxis.title.text}=%{x}<br>%{yaxis.title.text}=%{y}<extra></extra>\",\"legendgroup\":\"Lsb001_44\",\"marker\":{\"color\":\"#636efa\",\"symbol\":\"cross\"},\"name\":\"Lsb001_44\",\"showlegend\":true,\"type\":\"splom\",\"diagonal\":{\"visible\":false}},{\"dimensions\":[{\"axis\":{\"matches\":true},\"label\":\"plddt\",\"values\":[89.1]},{\"axis\":{\"matches\":true},\"label\":\"ptm\",\"values\":[0.559]},{\"axis\":{\"matches\":true},\"label\":\"total_score\",\"values\":[-728.521]},{\"axis\":{\"matches\":true},\"label\":\"dG_separated\",\"values\":[-31.455]},{\"axis\":{\"matches\":true},\"label\":\"dG_separated/dSASAx100\",\"values\":[-2.292]}],\"hovertemplate\":\"id_new=Lsb001_45<br>%{xaxis.title.text}=%{x}<br>%{yaxis.title.text}=%{y}<extra></extra>\",\"legendgroup\":\"Lsb001_45\",\"marker\":{\"color\":\"#636efa\",\"symbol\":\"circle\"},\"name\":\"Lsb001_45\",\"showlegend\":true,\"type\":\"splom\",\"diagonal\":{\"visible\":false}},{\"dimensions\":[{\"axis\":{\"matches\":true},\"label\":\"plddt\",\"values\":[83.8]},{\"axis\":{\"matches\":true},\"label\":\"ptm\",\"values\":[0.56]},{\"axis\":{\"matches\":true},\"label\":\"total_score\",\"values\":[-688.915]},{\"axis\":{\"matches\":true},\"label\":\"dG_separated\",\"values\":[-29.4]},{\"axis\":{\"matches\":true},\"label\":\"dG_separated/dSASAx100\",\"values\":[-2.005]}],\"hovertemplate\":\"id_new=Lsb001_46<br>%{xaxis.title.text}=%{x}<br>%{yaxis.title.text}=%{y}<extra></extra>\",\"legendgroup\":\"Lsb001_46\",\"marker\":{\"color\":\"#636efa\",\"symbol\":\"diamond\"},\"name\":\"Lsb001_46\",\"showlegend\":true,\"type\":\"splom\",\"diagonal\":{\"visible\":false}},{\"dimensions\":[{\"axis\":{\"matches\":true},\"label\":\"plddt\",\"values\":[89.1]},{\"axis\":{\"matches\":true},\"label\":\"ptm\",\"values\":[0.562]},{\"axis\":{\"matches\":true},\"label\":\"total_score\",\"values\":[-739.981]},{\"axis\":{\"matches\":true},\"label\":\"dG_separated\",\"values\":[-56.314]},{\"axis\":{\"matches\":true},\"label\":\"dG_separated/dSASAx100\",\"values\":[-2.579]}],\"hovertemplate\":\"id_new=Lsb001_47<br>%{xaxis.title.text}=%{x}<br>%{yaxis.title.text}=%{y}<extra></extra>\",\"legendgroup\":\"Lsb001_47\",\"marker\":{\"color\":\"#636efa\",\"symbol\":\"square\"},\"name\":\"Lsb001_47\",\"showlegend\":true,\"type\":\"splom\",\"diagonal\":{\"visible\":false}},{\"dimensions\":[{\"axis\":{\"matches\":true},\"label\":\"plddt\",\"values\":[83.9]},{\"axis\":{\"matches\":true},\"label\":\"ptm\",\"values\":[0.552]},{\"axis\":{\"matches\":true},\"label\":\"total_score\",\"values\":[-750.393]},{\"axis\":{\"matches\":true},\"label\":\"dG_separated\",\"values\":[-31.58]},{\"axis\":{\"matches\":true},\"label\":\"dG_separated/dSASAx100\",\"values\":[-2.873]}],\"hovertemplate\":\"id_new=Lsb001_48<br>%{xaxis.title.text}=%{x}<br>%{yaxis.title.text}=%{y}<extra></extra>\",\"legendgroup\":\"Lsb001_48\",\"marker\":{\"color\":\"#636efa\",\"symbol\":\"x\"},\"name\":\"Lsb001_48\",\"showlegend\":true,\"type\":\"splom\",\"diagonal\":{\"visible\":false}},{\"dimensions\":[{\"axis\":{\"matches\":true},\"label\":\"plddt\",\"values\":[86.9]},{\"axis\":{\"matches\":true},\"label\":\"ptm\",\"values\":[0.55]},{\"axis\":{\"matches\":true},\"label\":\"total_score\",\"values\":[-691.114]},{\"axis\":{\"matches\":true},\"label\":\"dG_separated\",\"values\":[-31.001]},{\"axis\":{\"matches\":true},\"label\":\"dG_separated/dSASAx100\",\"values\":[-2.48]}],\"hovertemplate\":\"id_new=Lsb001_49<br>%{xaxis.title.text}=%{x}<br>%{yaxis.title.text}=%{y}<extra></extra>\",\"legendgroup\":\"Lsb001_49\",\"marker\":{\"color\":\"#636efa\",\"symbol\":\"cross\"},\"name\":\"Lsb001_49\",\"showlegend\":true,\"type\":\"splom\",\"diagonal\":{\"visible\":false}},{\"dimensions\":[{\"axis\":{\"matches\":true},\"label\":\"plddt\",\"values\":[89.4]},{\"axis\":{\"matches\":true},\"label\":\"ptm\",\"values\":[0.553]},{\"axis\":{\"matches\":true},\"label\":\"total_score\",\"values\":[-719.057]},{\"axis\":{\"matches\":true},\"label\":\"dG_separated\",\"values\":[-21.486]},{\"axis\":{\"matches\":true},\"label\":\"dG_separated/dSASAx100\",\"values\":[-2.031]}],\"hovertemplate\":\"id_new=Lsb001_50<br>%{xaxis.title.text}=%{x}<br>%{yaxis.title.text}=%{y}<extra></extra>\",\"legendgroup\":\"Lsb001_50\",\"marker\":{\"color\":\"#636efa\",\"symbol\":\"circle\"},\"name\":\"Lsb001_50\",\"showlegend\":true,\"type\":\"splom\",\"diagonal\":{\"visible\":false}},{\"dimensions\":[{\"axis\":{\"matches\":true},\"label\":\"plddt\",\"values\":[80.7]},{\"axis\":{\"matches\":true},\"label\":\"ptm\",\"values\":[0.547]},{\"axis\":{\"matches\":true},\"label\":\"total_score\",\"values\":[-701.678]},{\"axis\":{\"matches\":true},\"label\":\"dG_separated\",\"values\":[-49.452]},{\"axis\":{\"matches\":true},\"label\":\"dG_separated/dSASAx100\",\"values\":[-2.497]}],\"hovertemplate\":\"id_new=Lsb001_51<br>%{xaxis.title.text}=%{x}<br>%{yaxis.title.text}=%{y}<extra></extra>\",\"legendgroup\":\"Lsb001_51\",\"marker\":{\"color\":\"#636efa\",\"symbol\":\"diamond\"},\"name\":\"Lsb001_51\",\"showlegend\":true,\"type\":\"splom\",\"diagonal\":{\"visible\":false}},{\"dimensions\":[{\"axis\":{\"matches\":true},\"label\":\"plddt\",\"values\":[78.5]},{\"axis\":{\"matches\":true},\"label\":\"ptm\",\"values\":[0.546]},{\"axis\":{\"matches\":true},\"label\":\"total_score\",\"values\":[-722.785]},{\"axis\":{\"matches\":true},\"label\":\"dG_separated\",\"values\":[-46.86]},{\"axis\":{\"matches\":true},\"label\":\"dG_separated/dSASAx100\",\"values\":[-2.809]}],\"hovertemplate\":\"id_new=Lsb001_52<br>%{xaxis.title.text}=%{x}<br>%{yaxis.title.text}=%{y}<extra></extra>\",\"legendgroup\":\"Lsb001_52\",\"marker\":{\"color\":\"#636efa\",\"symbol\":\"square\"},\"name\":\"Lsb001_52\",\"showlegend\":true,\"type\":\"splom\",\"diagonal\":{\"visible\":false}},{\"dimensions\":[{\"axis\":{\"matches\":true},\"label\":\"plddt\",\"values\":[80.6]},{\"axis\":{\"matches\":true},\"label\":\"ptm\",\"values\":[0.551]},{\"axis\":{\"matches\":true},\"label\":\"total_score\",\"values\":[-730.048]},{\"axis\":{\"matches\":true},\"label\":\"dG_separated\",\"values\":[-23.623]},{\"axis\":{\"matches\":true},\"label\":\"dG_separated/dSASAx100\",\"values\":[-2.293]}],\"hovertemplate\":\"id_new=Lsb001_53<br>%{xaxis.title.text}=%{x}<br>%{yaxis.title.text}=%{y}<extra></extra>\",\"legendgroup\":\"Lsb001_53\",\"marker\":{\"color\":\"#636efa\",\"symbol\":\"x\"},\"name\":\"Lsb001_53\",\"showlegend\":true,\"type\":\"splom\",\"diagonal\":{\"visible\":false}},{\"dimensions\":[{\"axis\":{\"matches\":true},\"label\":\"plddt\",\"values\":[89.2]},{\"axis\":{\"matches\":true},\"label\":\"ptm\",\"values\":[0.554]},{\"axis\":{\"matches\":true},\"label\":\"total_score\",\"values\":[-706.877]},{\"axis\":{\"matches\":true},\"label\":\"dG_separated\",\"values\":[-22.479]},{\"axis\":{\"matches\":true},\"label\":\"dG_separated/dSASAx100\",\"values\":[-2.081]}],\"hovertemplate\":\"id_new=Lsb001_54<br>%{xaxis.title.text}=%{x}<br>%{yaxis.title.text}=%{y}<extra></extra>\",\"legendgroup\":\"Lsb001_54\",\"marker\":{\"color\":\"#636efa\",\"symbol\":\"cross\"},\"name\":\"Lsb001_54\",\"showlegend\":true,\"type\":\"splom\",\"diagonal\":{\"visible\":false}},{\"dimensions\":[{\"axis\":{\"matches\":true},\"label\":\"plddt\",\"values\":[88.6]},{\"axis\":{\"matches\":true},\"label\":\"ptm\",\"values\":[0.55]},{\"axis\":{\"matches\":true},\"label\":\"total_score\",\"values\":[-721.664]},{\"axis\":{\"matches\":true},\"label\":\"dG_separated\",\"values\":[-25.613]},{\"axis\":{\"matches\":true},\"label\":\"dG_separated/dSASAx100\",\"values\":[-2.246]}],\"hovertemplate\":\"id_new=Lsb001_55<br>%{xaxis.title.text}=%{x}<br>%{yaxis.title.text}=%{y}<extra></extra>\",\"legendgroup\":\"Lsb001_55\",\"marker\":{\"color\":\"#636efa\",\"symbol\":\"circle\"},\"name\":\"Lsb001_55\",\"showlegend\":true,\"type\":\"splom\",\"diagonal\":{\"visible\":false}},{\"dimensions\":[{\"axis\":{\"matches\":true},\"label\":\"plddt\",\"values\":[88.1]},{\"axis\":{\"matches\":true},\"label\":\"ptm\",\"values\":[0.551]},{\"axis\":{\"matches\":true},\"label\":\"total_score\",\"values\":[-730.286]},{\"axis\":{\"matches\":true},\"label\":\"dG_separated\",\"values\":[-29.357]},{\"axis\":{\"matches\":true},\"label\":\"dG_separated/dSASAx100\",\"values\":[-2.191]}],\"hovertemplate\":\"id_new=Lsb001_56<br>%{xaxis.title.text}=%{x}<br>%{yaxis.title.text}=%{y}<extra></extra>\",\"legendgroup\":\"Lsb001_56\",\"marker\":{\"color\":\"#636efa\",\"symbol\":\"diamond\"},\"name\":\"Lsb001_56\",\"showlegend\":true,\"type\":\"splom\",\"diagonal\":{\"visible\":false}},{\"dimensions\":[{\"axis\":{\"matches\":true},\"label\":\"plddt\",\"values\":[87.6]},{\"axis\":{\"matches\":true},\"label\":\"ptm\",\"values\":[0.557]},{\"axis\":{\"matches\":true},\"label\":\"total_score\",\"values\":[-575.12]},{\"axis\":{\"matches\":true},\"label\":\"dG_separated\",\"values\":[-3.493]},{\"axis\":{\"matches\":true},\"label\":\"dG_separated/dSASAx100\",\"values\":[-0.213]}],\"hovertemplate\":\"id_new=Lsb001_57<br>%{xaxis.title.text}=%{x}<br>%{yaxis.title.text}=%{y}<extra></extra>\",\"legendgroup\":\"Lsb001_57\",\"marker\":{\"color\":\"#636efa\",\"symbol\":\"square\"},\"name\":\"Lsb001_57\",\"showlegend\":true,\"type\":\"splom\",\"diagonal\":{\"visible\":false}},{\"dimensions\":[{\"axis\":{\"matches\":true},\"label\":\"plddt\",\"values\":[80.8]},{\"axis\":{\"matches\":true},\"label\":\"ptm\",\"values\":[0.548]},{\"axis\":{\"matches\":true},\"label\":\"total_score\",\"values\":[-733.635]},{\"axis\":{\"matches\":true},\"label\":\"dG_separated\",\"values\":[-27.3]},{\"axis\":{\"matches\":true},\"label\":\"dG_separated/dSASAx100\",\"values\":[-2.479]}],\"hovertemplate\":\"id_new=Lsb001_58<br>%{xaxis.title.text}=%{x}<br>%{yaxis.title.text}=%{y}<extra></extra>\",\"legendgroup\":\"Lsb001_58\",\"marker\":{\"color\":\"#636efa\",\"symbol\":\"x\"},\"name\":\"Lsb001_58\",\"showlegend\":true,\"type\":\"splom\",\"diagonal\":{\"visible\":false}},{\"dimensions\":[{\"axis\":{\"matches\":true},\"label\":\"plddt\",\"values\":[81.9]},{\"axis\":{\"matches\":true},\"label\":\"ptm\",\"values\":[0.545]},{\"axis\":{\"matches\":true},\"label\":\"total_score\",\"values\":[-740.397]},{\"axis\":{\"matches\":true},\"label\":\"dG_separated\",\"values\":[-21.372]},{\"axis\":{\"matches\":true},\"label\":\"dG_separated/dSASAx100\",\"values\":[-1.96]}],\"hovertemplate\":\"id_new=Lsb001_59<br>%{xaxis.title.text}=%{x}<br>%{yaxis.title.text}=%{y}<extra></extra>\",\"legendgroup\":\"Lsb001_59\",\"marker\":{\"color\":\"#636efa\",\"symbol\":\"cross\"},\"name\":\"Lsb001_59\",\"showlegend\":true,\"type\":\"splom\",\"diagonal\":{\"visible\":false}},{\"dimensions\":[{\"axis\":{\"matches\":true},\"label\":\"plddt\",\"values\":[83.8]},{\"axis\":{\"matches\":true},\"label\":\"ptm\",\"values\":[0.545]},{\"axis\":{\"matches\":true},\"label\":\"total_score\",\"values\":[-650.948]},{\"axis\":{\"matches\":true},\"label\":\"dG_separated\",\"values\":[-20.181]},{\"axis\":{\"matches\":true},\"label\":\"dG_separated/dSASAx100\",\"values\":[-1.766]}],\"hovertemplate\":\"id_new=Lsb001_60<br>%{xaxis.title.text}=%{x}<br>%{yaxis.title.text}=%{y}<extra></extra>\",\"legendgroup\":\"Lsb001_60\",\"marker\":{\"color\":\"#636efa\",\"symbol\":\"circle\"},\"name\":\"Lsb001_60\",\"showlegend\":true,\"type\":\"splom\",\"diagonal\":{\"visible\":false}},{\"dimensions\":[{\"axis\":{\"matches\":true},\"label\":\"plddt\",\"values\":[87.0]},{\"axis\":{\"matches\":true},\"label\":\"ptm\",\"values\":[0.544]},{\"axis\":{\"matches\":true},\"label\":\"total_score\",\"values\":[-675.137]},{\"axis\":{\"matches\":true},\"label\":\"dG_separated\",\"values\":[-36.674]},{\"axis\":{\"matches\":true},\"label\":\"dG_separated/dSASAx100\",\"values\":[-2.255]}],\"hovertemplate\":\"id_new=Lsb001_61<br>%{xaxis.title.text}=%{x}<br>%{yaxis.title.text}=%{y}<extra></extra>\",\"legendgroup\":\"Lsb001_61\",\"marker\":{\"color\":\"#636efa\",\"symbol\":\"diamond\"},\"name\":\"Lsb001_61\",\"showlegend\":true,\"type\":\"splom\",\"diagonal\":{\"visible\":false}},{\"dimensions\":[{\"axis\":{\"matches\":true},\"label\":\"plddt\",\"values\":[79.9]},{\"axis\":{\"matches\":true},\"label\":\"ptm\",\"values\":[0.531]},{\"axis\":{\"matches\":true},\"label\":\"total_score\",\"values\":[-729.61]},{\"axis\":{\"matches\":true},\"label\":\"dG_separated\",\"values\":[-23.839]},{\"axis\":{\"matches\":true},\"label\":\"dG_separated/dSASAx100\",\"values\":[-1.955]}],\"hovertemplate\":\"id_new=Lsb001_62<br>%{xaxis.title.text}=%{x}<br>%{yaxis.title.text}=%{y}<extra></extra>\",\"legendgroup\":\"Lsb001_62\",\"marker\":{\"color\":\"#636efa\",\"symbol\":\"square\"},\"name\":\"Lsb001_62\",\"showlegend\":true,\"type\":\"splom\",\"diagonal\":{\"visible\":false}},{\"dimensions\":[{\"axis\":{\"matches\":true},\"label\":\"plddt\",\"values\":[82.7]},{\"axis\":{\"matches\":true},\"label\":\"ptm\",\"values\":[0.54]},{\"axis\":{\"matches\":true},\"label\":\"total_score\",\"values\":[-733.088]},{\"axis\":{\"matches\":true},\"label\":\"dG_separated\",\"values\":[-31.745]},{\"axis\":{\"matches\":true},\"label\":\"dG_separated/dSASAx100\",\"values\":[-2.534]}],\"hovertemplate\":\"id_new=Lsb001_63<br>%{xaxis.title.text}=%{x}<br>%{yaxis.title.text}=%{y}<extra></extra>\",\"legendgroup\":\"Lsb001_63\",\"marker\":{\"color\":\"#636efa\",\"symbol\":\"x\"},\"name\":\"Lsb001_63\",\"showlegend\":true,\"type\":\"splom\",\"diagonal\":{\"visible\":false}},{\"dimensions\":[{\"axis\":{\"matches\":true},\"label\":\"plddt\",\"values\":[80.2]},{\"axis\":{\"matches\":true},\"label\":\"ptm\",\"values\":[0.541]},{\"axis\":{\"matches\":true},\"label\":\"total_score\",\"values\":[-735.148]},{\"axis\":{\"matches\":true},\"label\":\"dG_separated\",\"values\":[-26.867]},{\"axis\":{\"matches\":true},\"label\":\"dG_separated/dSASAx100\",\"values\":[-2.164]}],\"hovertemplate\":\"id_new=Lsb001_64<br>%{xaxis.title.text}=%{x}<br>%{yaxis.title.text}=%{y}<extra></extra>\",\"legendgroup\":\"Lsb001_64\",\"marker\":{\"color\":\"#636efa\",\"symbol\":\"cross\"},\"name\":\"Lsb001_64\",\"showlegend\":true,\"type\":\"splom\",\"diagonal\":{\"visible\":false}},{\"dimensions\":[{\"axis\":{\"matches\":true},\"label\":\"plddt\",\"values\":[89.5]},{\"axis\":{\"matches\":true},\"label\":\"ptm\",\"values\":[0.539]},{\"axis\":{\"matches\":true},\"label\":\"total_score\",\"values\":[-733.918]},{\"axis\":{\"matches\":true},\"label\":\"dG_separated\",\"values\":[-27.569]},{\"axis\":{\"matches\":true},\"label\":\"dG_separated/dSASAx100\",\"values\":[-2.21]}],\"hovertemplate\":\"id_new=Lsb001_65<br>%{xaxis.title.text}=%{x}<br>%{yaxis.title.text}=%{y}<extra></extra>\",\"legendgroup\":\"Lsb001_65\",\"marker\":{\"color\":\"#636efa\",\"symbol\":\"circle\"},\"name\":\"Lsb001_65\",\"showlegend\":true,\"type\":\"splom\",\"diagonal\":{\"visible\":false}},{\"dimensions\":[{\"axis\":{\"matches\":true},\"label\":\"plddt\",\"values\":[82.8]},{\"axis\":{\"matches\":true},\"label\":\"ptm\",\"values\":[0.537]},{\"axis\":{\"matches\":true},\"label\":\"total_score\",\"values\":[-726.865]},{\"axis\":{\"matches\":true},\"label\":\"dG_separated\",\"values\":[-22.453]},{\"axis\":{\"matches\":true},\"label\":\"dG_separated/dSASAx100\",\"values\":[-2.406]}],\"hovertemplate\":\"id_new=Lsb001_66<br>%{xaxis.title.text}=%{x}<br>%{yaxis.title.text}=%{y}<extra></extra>\",\"legendgroup\":\"Lsb001_66\",\"marker\":{\"color\":\"#636efa\",\"symbol\":\"diamond\"},\"name\":\"Lsb001_66\",\"showlegend\":true,\"type\":\"splom\",\"diagonal\":{\"visible\":false}},{\"dimensions\":[{\"axis\":{\"matches\":true},\"label\":\"plddt\",\"values\":[81.9]},{\"axis\":{\"matches\":true},\"label\":\"ptm\",\"values\":[0.539]},{\"axis\":{\"matches\":true},\"label\":\"total_score\",\"values\":[-733.852]},{\"axis\":{\"matches\":true},\"label\":\"dG_separated\",\"values\":[-17.754]},{\"axis\":{\"matches\":true},\"label\":\"dG_separated/dSASAx100\",\"values\":[-2.144]}],\"hovertemplate\":\"id_new=Lsb001_67<br>%{xaxis.title.text}=%{x}<br>%{yaxis.title.text}=%{y}<extra></extra>\",\"legendgroup\":\"Lsb001_67\",\"marker\":{\"color\":\"#636efa\",\"symbol\":\"square\"},\"name\":\"Lsb001_67\",\"showlegend\":true,\"type\":\"splom\",\"diagonal\":{\"visible\":false}},{\"dimensions\":[{\"axis\":{\"matches\":true},\"label\":\"plddt\",\"values\":[81.9]},{\"axis\":{\"matches\":true},\"label\":\"ptm\",\"values\":[0.537]},{\"axis\":{\"matches\":true},\"label\":\"total_score\",\"values\":[-726.767]},{\"axis\":{\"matches\":true},\"label\":\"dG_separated\",\"values\":[-21.567]},{\"axis\":{\"matches\":true},\"label\":\"dG_separated/dSASAx100\",\"values\":[-2.024]}],\"hovertemplate\":\"id_new=Lsb001_68<br>%{xaxis.title.text}=%{x}<br>%{yaxis.title.text}=%{y}<extra></extra>\",\"legendgroup\":\"Lsb001_68\",\"marker\":{\"color\":\"#636efa\",\"symbol\":\"x\"},\"name\":\"Lsb001_68\",\"showlegend\":true,\"type\":\"splom\",\"diagonal\":{\"visible\":false}},{\"dimensions\":[{\"axis\":{\"matches\":true},\"label\":\"plddt\",\"values\":[80.5]},{\"axis\":{\"matches\":true},\"label\":\"ptm\",\"values\":[0.527]},{\"axis\":{\"matches\":true},\"label\":\"total_score\",\"values\":[-728.621]},{\"axis\":{\"matches\":true},\"label\":\"dG_separated\",\"values\":[-28.082]},{\"axis\":{\"matches\":true},\"label\":\"dG_separated/dSASAx100\",\"values\":[-1.53]}],\"hovertemplate\":\"id_new=Lsb001_69<br>%{xaxis.title.text}=%{x}<br>%{yaxis.title.text}=%{y}<extra></extra>\",\"legendgroup\":\"Lsb001_69\",\"marker\":{\"color\":\"#636efa\",\"symbol\":\"cross\"},\"name\":\"Lsb001_69\",\"showlegend\":true,\"type\":\"splom\",\"diagonal\":{\"visible\":false}},{\"dimensions\":[{\"axis\":{\"matches\":true},\"label\":\"plddt\",\"values\":[82.6]},{\"axis\":{\"matches\":true},\"label\":\"ptm\",\"values\":[0.532]},{\"axis\":{\"matches\":true},\"label\":\"total_score\",\"values\":[-737.546]},{\"axis\":{\"matches\":true},\"label\":\"dG_separated\",\"values\":[-28.259]},{\"axis\":{\"matches\":true},\"label\":\"dG_separated/dSASAx100\",\"values\":[-1.955]}],\"hovertemplate\":\"id_new=Lsb001_70<br>%{xaxis.title.text}=%{x}<br>%{yaxis.title.text}=%{y}<extra></extra>\",\"legendgroup\":\"Lsb001_70\",\"marker\":{\"color\":\"#636efa\",\"symbol\":\"circle\"},\"name\":\"Lsb001_70\",\"showlegend\":true,\"type\":\"splom\",\"diagonal\":{\"visible\":false}},{\"dimensions\":[{\"axis\":{\"matches\":true},\"label\":\"plddt\",\"values\":[82.2]},{\"axis\":{\"matches\":true},\"label\":\"ptm\",\"values\":[0.532]},{\"axis\":{\"matches\":true},\"label\":\"total_score\",\"values\":[-733.999]},{\"axis\":{\"matches\":true},\"label\":\"dG_separated\",\"values\":[-38.574]},{\"axis\":{\"matches\":true},\"label\":\"dG_separated/dSASAx100\",\"values\":[-2.469]}],\"hovertemplate\":\"id_new=Lsb001_71<br>%{xaxis.title.text}=%{x}<br>%{yaxis.title.text}=%{y}<extra></extra>\",\"legendgroup\":\"Lsb001_71\",\"marker\":{\"color\":\"#636efa\",\"symbol\":\"diamond\"},\"name\":\"Lsb001_71\",\"showlegend\":true,\"type\":\"splom\",\"diagonal\":{\"visible\":false}},{\"dimensions\":[{\"axis\":{\"matches\":true},\"label\":\"plddt\",\"values\":[81.3]},{\"axis\":{\"matches\":true},\"label\":\"ptm\",\"values\":[0.53]},{\"axis\":{\"matches\":true},\"label\":\"total_score\",\"values\":[-737.423]},{\"axis\":{\"matches\":true},\"label\":\"dG_separated\",\"values\":[-23.854]},{\"axis\":{\"matches\":true},\"label\":\"dG_separated/dSASAx100\",\"values\":[-2.675]}],\"hovertemplate\":\"id_new=Lsb001_72<br>%{xaxis.title.text}=%{x}<br>%{yaxis.title.text}=%{y}<extra></extra>\",\"legendgroup\":\"Lsb001_72\",\"marker\":{\"color\":\"#636efa\",\"symbol\":\"square\"},\"name\":\"Lsb001_72\",\"showlegend\":true,\"type\":\"splom\",\"diagonal\":{\"visible\":false}},{\"dimensions\":[{\"axis\":{\"matches\":true},\"label\":\"plddt\",\"values\":[82.3]},{\"axis\":{\"matches\":true},\"label\":\"ptm\",\"values\":[0.527]},{\"axis\":{\"matches\":true},\"label\":\"total_score\",\"values\":[-743.378]},{\"axis\":{\"matches\":true},\"label\":\"dG_separated\",\"values\":[-21.654]},{\"axis\":{\"matches\":true},\"label\":\"dG_separated/dSASAx100\",\"values\":[-2.037]}],\"hovertemplate\":\"id_new=Lsb001_73<br>%{xaxis.title.text}=%{x}<br>%{yaxis.title.text}=%{y}<extra></extra>\",\"legendgroup\":\"Lsb001_73\",\"marker\":{\"color\":\"#636efa\",\"symbol\":\"x\"},\"name\":\"Lsb001_73\",\"showlegend\":true,\"type\":\"splom\",\"diagonal\":{\"visible\":false}},{\"dimensions\":[{\"axis\":{\"matches\":true},\"label\":\"plddt\",\"values\":[82.8]},{\"axis\":{\"matches\":true},\"label\":\"ptm\",\"values\":[0.527]},{\"axis\":{\"matches\":true},\"label\":\"total_score\",\"values\":[-744.257]},{\"axis\":{\"matches\":true},\"label\":\"dG_separated\",\"values\":[-26.134]},{\"axis\":{\"matches\":true},\"label\":\"dG_separated/dSASAx100\",\"values\":[-1.98]}],\"hovertemplate\":\"id_new=Lsb001_74<br>%{xaxis.title.text}=%{x}<br>%{yaxis.title.text}=%{y}<extra></extra>\",\"legendgroup\":\"Lsb001_74\",\"marker\":{\"color\":\"#636efa\",\"symbol\":\"cross\"},\"name\":\"Lsb001_74\",\"showlegend\":true,\"type\":\"splom\",\"diagonal\":{\"visible\":false}},{\"dimensions\":[{\"axis\":{\"matches\":true},\"label\":\"plddt\",\"values\":[80.3]},{\"axis\":{\"matches\":true},\"label\":\"ptm\",\"values\":[0.525]},{\"axis\":{\"matches\":true},\"label\":\"total_score\",\"values\":[-736.014]},{\"axis\":{\"matches\":true},\"label\":\"dG_separated\",\"values\":[-31.934]},{\"axis\":{\"matches\":true},\"label\":\"dG_separated/dSASAx100\",\"values\":[-2.504]}],\"hovertemplate\":\"id_new=Lsb001_75<br>%{xaxis.title.text}=%{x}<br>%{yaxis.title.text}=%{y}<extra></extra>\",\"legendgroup\":\"Lsb001_75\",\"marker\":{\"color\":\"#636efa\",\"symbol\":\"circle\"},\"name\":\"Lsb001_75\",\"showlegend\":true,\"type\":\"splom\",\"diagonal\":{\"visible\":false}},{\"dimensions\":[{\"axis\":{\"matches\":true},\"label\":\"plddt\",\"values\":[83.3]},{\"axis\":{\"matches\":true},\"label\":\"ptm\",\"values\":[0.525]},{\"axis\":{\"matches\":true},\"label\":\"total_score\",\"values\":[-750.253]},{\"axis\":{\"matches\":true},\"label\":\"dG_separated\",\"values\":[-31.744]},{\"axis\":{\"matches\":true},\"label\":\"dG_separated/dSASAx100\",\"values\":[-2.861]}],\"hovertemplate\":\"id_new=Lsb001_76<br>%{xaxis.title.text}=%{x}<br>%{yaxis.title.text}=%{y}<extra></extra>\",\"legendgroup\":\"Lsb001_76\",\"marker\":{\"color\":\"#636efa\",\"symbol\":\"diamond\"},\"name\":\"Lsb001_76\",\"showlegend\":true,\"type\":\"splom\",\"diagonal\":{\"visible\":false}},{\"dimensions\":[{\"axis\":{\"matches\":true},\"label\":\"plddt\",\"values\":[81.9]},{\"axis\":{\"matches\":true},\"label\":\"ptm\",\"values\":[0.527]},{\"axis\":{\"matches\":true},\"label\":\"total_score\",\"values\":[-727.365]},{\"axis\":{\"matches\":true},\"label\":\"dG_separated\",\"values\":[-35.135]},{\"axis\":{\"matches\":true},\"label\":\"dG_separated/dSASAx100\",\"values\":[-2.763]}],\"hovertemplate\":\"id_new=Lsb001_77<br>%{xaxis.title.text}=%{x}<br>%{yaxis.title.text}=%{y}<extra></extra>\",\"legendgroup\":\"Lsb001_77\",\"marker\":{\"color\":\"#636efa\",\"symbol\":\"square\"},\"name\":\"Lsb001_77\",\"showlegend\":true,\"type\":\"splom\",\"diagonal\":{\"visible\":false}},{\"dimensions\":[{\"axis\":{\"matches\":true},\"label\":\"plddt\",\"values\":[80.6]},{\"axis\":{\"matches\":true},\"label\":\"ptm\",\"values\":[0.526]},{\"axis\":{\"matches\":true},\"label\":\"total_score\",\"values\":[-722.456]},{\"axis\":{\"matches\":true},\"label\":\"dG_separated\",\"values\":[-50.27]},{\"axis\":{\"matches\":true},\"label\":\"dG_separated/dSASAx100\",\"values\":[-2.944]}],\"hovertemplate\":\"id_new=Lsb001_78<br>%{xaxis.title.text}=%{x}<br>%{yaxis.title.text}=%{y}<extra></extra>\",\"legendgroup\":\"Lsb001_78\",\"marker\":{\"color\":\"#636efa\",\"symbol\":\"x\"},\"name\":\"Lsb001_78\",\"showlegend\":true,\"type\":\"splom\",\"diagonal\":{\"visible\":false}},{\"dimensions\":[{\"axis\":{\"matches\":true},\"label\":\"plddt\",\"values\":[78.5]},{\"axis\":{\"matches\":true},\"label\":\"ptm\",\"values\":[0.535]},{\"axis\":{\"matches\":true},\"label\":\"total_score\",\"values\":[-726.028]},{\"axis\":{\"matches\":true},\"label\":\"dG_separated\",\"values\":[-35.313]},{\"axis\":{\"matches\":true},\"label\":\"dG_separated/dSASAx100\",\"values\":[-2.204]}],\"hovertemplate\":\"id_new=Lsb001_79<br>%{xaxis.title.text}=%{x}<br>%{yaxis.title.text}=%{y}<extra></extra>\",\"legendgroup\":\"Lsb001_79\",\"marker\":{\"color\":\"#636efa\",\"symbol\":\"cross\"},\"name\":\"Lsb001_79\",\"showlegend\":true,\"type\":\"splom\",\"diagonal\":{\"visible\":false}},{\"dimensions\":[{\"axis\":{\"matches\":true},\"label\":\"plddt\",\"values\":[86.6]},{\"axis\":{\"matches\":true},\"label\":\"ptm\",\"values\":[0.533]},{\"axis\":{\"matches\":true},\"label\":\"total_score\",\"values\":[-712.123]},{\"axis\":{\"matches\":true},\"label\":\"dG_separated\",\"values\":[-18.571]},{\"axis\":{\"matches\":true},\"label\":\"dG_separated/dSASAx100\",\"values\":[-1.962]}],\"hovertemplate\":\"id_new=Lsb001_80<br>%{xaxis.title.text}=%{x}<br>%{yaxis.title.text}=%{y}<extra></extra>\",\"legendgroup\":\"Lsb001_80\",\"marker\":{\"color\":\"#636efa\",\"symbol\":\"circle\"},\"name\":\"Lsb001_80\",\"showlegend\":true,\"type\":\"splom\",\"diagonal\":{\"visible\":false}},{\"dimensions\":[{\"axis\":{\"matches\":true},\"label\":\"plddt\",\"values\":[83.0]},{\"axis\":{\"matches\":true},\"label\":\"ptm\",\"values\":[0.528]},{\"axis\":{\"matches\":true},\"label\":\"total_score\",\"values\":[-728.993]},{\"axis\":{\"matches\":true},\"label\":\"dG_separated\",\"values\":[-17.072]},{\"axis\":{\"matches\":true},\"label\":\"dG_separated/dSASAx100\",\"values\":[-2.225]}],\"hovertemplate\":\"id_new=Lsb001_81<br>%{xaxis.title.text}=%{x}<br>%{yaxis.title.text}=%{y}<extra></extra>\",\"legendgroup\":\"Lsb001_81\",\"marker\":{\"color\":\"#636efa\",\"symbol\":\"diamond\"},\"name\":\"Lsb001_81\",\"showlegend\":true,\"type\":\"splom\",\"diagonal\":{\"visible\":false}},{\"dimensions\":[{\"axis\":{\"matches\":true},\"label\":\"plddt\",\"values\":[81.3]},{\"axis\":{\"matches\":true},\"label\":\"ptm\",\"values\":[0.527]},{\"axis\":{\"matches\":true},\"label\":\"total_score\",\"values\":[-732.287]},{\"axis\":{\"matches\":true},\"label\":\"dG_separated\",\"values\":[-30.182]},{\"axis\":{\"matches\":true},\"label\":\"dG_separated/dSASAx100\",\"values\":[-2.292]}],\"hovertemplate\":\"id_new=Lsb001_82<br>%{xaxis.title.text}=%{x}<br>%{yaxis.title.text}=%{y}<extra></extra>\",\"legendgroup\":\"Lsb001_82\",\"marker\":{\"color\":\"#636efa\",\"symbol\":\"square\"},\"name\":\"Lsb001_82\",\"showlegend\":true,\"type\":\"splom\",\"diagonal\":{\"visible\":false}},{\"dimensions\":[{\"axis\":{\"matches\":true},\"label\":\"plddt\",\"values\":[82.6]},{\"axis\":{\"matches\":true},\"label\":\"ptm\",\"values\":[0.517]},{\"axis\":{\"matches\":true},\"label\":\"total_score\",\"values\":[-749.843]},{\"axis\":{\"matches\":true},\"label\":\"dG_separated\",\"values\":[-37.126]},{\"axis\":{\"matches\":true},\"label\":\"dG_separated/dSASAx100\",\"values\":[-2.667]}],\"hovertemplate\":\"id_new=Lsb001_83<br>%{xaxis.title.text}=%{x}<br>%{yaxis.title.text}=%{y}<extra></extra>\",\"legendgroup\":\"Lsb001_83\",\"marker\":{\"color\":\"#636efa\",\"symbol\":\"x\"},\"name\":\"Lsb001_83\",\"showlegend\":true,\"type\":\"splom\",\"diagonal\":{\"visible\":false}},{\"dimensions\":[{\"axis\":{\"matches\":true},\"label\":\"plddt\",\"values\":[82.8]},{\"axis\":{\"matches\":true},\"label\":\"ptm\",\"values\":[0.515]},{\"axis\":{\"matches\":true},\"label\":\"total_score\",\"values\":[-750.216]},{\"axis\":{\"matches\":true},\"label\":\"dG_separated\",\"values\":[-22.507]},{\"axis\":{\"matches\":true},\"label\":\"dG_separated/dSASAx100\",\"values\":[-1.875]}],\"hovertemplate\":\"id_new=Lsb001_84<br>%{xaxis.title.text}=%{x}<br>%{yaxis.title.text}=%{y}<extra></extra>\",\"legendgroup\":\"Lsb001_84\",\"marker\":{\"color\":\"#636efa\",\"symbol\":\"cross\"},\"name\":\"Lsb001_84\",\"showlegend\":true,\"type\":\"splom\",\"diagonal\":{\"visible\":false}}],                        {\"template\":{\"data\":{\"histogram2dcontour\":[{\"type\":\"histogram2dcontour\",\"colorbar\":{\"outlinewidth\":0,\"ticks\":\"\"},\"colorscale\":[[0.0,\"#0d0887\"],[0.1111111111111111,\"#46039f\"],[0.2222222222222222,\"#7201a8\"],[0.3333333333333333,\"#9c179e\"],[0.4444444444444444,\"#bd3786\"],[0.5555555555555556,\"#d8576b\"],[0.6666666666666666,\"#ed7953\"],[0.7777777777777778,\"#fb9f3a\"],[0.8888888888888888,\"#fdca26\"],[1.0,\"#f0f921\"]]}],\"choropleth\":[{\"type\":\"choropleth\",\"colorbar\":{\"outlinewidth\":0,\"ticks\":\"\"}}],\"histogram2d\":[{\"type\":\"histogram2d\",\"colorbar\":{\"outlinewidth\":0,\"ticks\":\"\"},\"colorscale\":[[0.0,\"#0d0887\"],[0.1111111111111111,\"#46039f\"],[0.2222222222222222,\"#7201a8\"],[0.3333333333333333,\"#9c179e\"],[0.4444444444444444,\"#bd3786\"],[0.5555555555555556,\"#d8576b\"],[0.6666666666666666,\"#ed7953\"],[0.7777777777777778,\"#fb9f3a\"],[0.8888888888888888,\"#fdca26\"],[1.0,\"#f0f921\"]]}],\"heatmap\":[{\"type\":\"heatmap\",\"colorbar\":{\"outlinewidth\":0,\"ticks\":\"\"},\"colorscale\":[[0.0,\"#0d0887\"],[0.1111111111111111,\"#46039f\"],[0.2222222222222222,\"#7201a8\"],[0.3333333333333333,\"#9c179e\"],[0.4444444444444444,\"#bd3786\"],[0.5555555555555556,\"#d8576b\"],[0.6666666666666666,\"#ed7953\"],[0.7777777777777778,\"#fb9f3a\"],[0.8888888888888888,\"#fdca26\"],[1.0,\"#f0f921\"]]}],\"heatmapgl\":[{\"type\":\"heatmapgl\",\"colorbar\":{\"outlinewidth\":0,\"ticks\":\"\"},\"colorscale\":[[0.0,\"#0d0887\"],[0.1111111111111111,\"#46039f\"],[0.2222222222222222,\"#7201a8\"],[0.3333333333333333,\"#9c179e\"],[0.4444444444444444,\"#bd3786\"],[0.5555555555555556,\"#d8576b\"],[0.6666666666666666,\"#ed7953\"],[0.7777777777777778,\"#fb9f3a\"],[0.8888888888888888,\"#fdca26\"],[1.0,\"#f0f921\"]]}],\"contourcarpet\":[{\"type\":\"contourcarpet\",\"colorbar\":{\"outlinewidth\":0,\"ticks\":\"\"}}],\"contour\":[{\"type\":\"contour\",\"colorbar\":{\"outlinewidth\":0,\"ticks\":\"\"},\"colorscale\":[[0.0,\"#0d0887\"],[0.1111111111111111,\"#46039f\"],[0.2222222222222222,\"#7201a8\"],[0.3333333333333333,\"#9c179e\"],[0.4444444444444444,\"#bd3786\"],[0.5555555555555556,\"#d8576b\"],[0.6666666666666666,\"#ed7953\"],[0.7777777777777778,\"#fb9f3a\"],[0.8888888888888888,\"#fdca26\"],[1.0,\"#f0f921\"]]}],\"surface\":[{\"type\":\"surface\",\"colorbar\":{\"outlinewidth\":0,\"ticks\":\"\"},\"colorscale\":[[0.0,\"#0d0887\"],[0.1111111111111111,\"#46039f\"],[0.2222222222222222,\"#7201a8\"],[0.3333333333333333,\"#9c179e\"],[0.4444444444444444,\"#bd3786\"],[0.5555555555555556,\"#d8576b\"],[0.6666666666666666,\"#ed7953\"],[0.7777777777777778,\"#fb9f3a\"],[0.8888888888888888,\"#fdca26\"],[1.0,\"#f0f921\"]]}],\"mesh3d\":[{\"type\":\"mesh3d\",\"colorbar\":{\"outlinewidth\":0,\"ticks\":\"\"}}],\"scatter\":[{\"fillpattern\":{\"fillmode\":\"overlay\",\"size\":10,\"solidity\":0.2},\"type\":\"scatter\"}],\"parcoords\":[{\"type\":\"parcoords\",\"line\":{\"colorbar\":{\"outlinewidth\":0,\"ticks\":\"\"}}}],\"scatterpolargl\":[{\"type\":\"scatterpolargl\",\"marker\":{\"colorbar\":{\"outlinewidth\":0,\"ticks\":\"\"}}}],\"bar\":[{\"error_x\":{\"color\":\"#2a3f5f\"},\"error_y\":{\"color\":\"#2a3f5f\"},\"marker\":{\"line\":{\"color\":\"#E5ECF6\",\"width\":0.5},\"pattern\":{\"fillmode\":\"overlay\",\"size\":10,\"solidity\":0.2}},\"type\":\"bar\"}],\"scattergeo\":[{\"type\":\"scattergeo\",\"marker\":{\"colorbar\":{\"outlinewidth\":0,\"ticks\":\"\"}}}],\"scatterpolar\":[{\"type\":\"scatterpolar\",\"marker\":{\"colorbar\":{\"outlinewidth\":0,\"ticks\":\"\"}}}],\"histogram\":[{\"marker\":{\"pattern\":{\"fillmode\":\"overlay\",\"size\":10,\"solidity\":0.2}},\"type\":\"histogram\"}],\"scattergl\":[{\"type\":\"scattergl\",\"marker\":{\"colorbar\":{\"outlinewidth\":0,\"ticks\":\"\"}}}],\"scatter3d\":[{\"type\":\"scatter3d\",\"line\":{\"colorbar\":{\"outlinewidth\":0,\"ticks\":\"\"}},\"marker\":{\"colorbar\":{\"outlinewidth\":0,\"ticks\":\"\"}}}],\"scattermapbox\":[{\"type\":\"scattermapbox\",\"marker\":{\"colorbar\":{\"outlinewidth\":0,\"ticks\":\"\"}}}],\"scatterternary\":[{\"type\":\"scatterternary\",\"marker\":{\"colorbar\":{\"outlinewidth\":0,\"ticks\":\"\"}}}],\"scattercarpet\":[{\"type\":\"scattercarpet\",\"marker\":{\"colorbar\":{\"outlinewidth\":0,\"ticks\":\"\"}}}],\"carpet\":[{\"aaxis\":{\"endlinecolor\":\"#2a3f5f\",\"gridcolor\":\"white\",\"linecolor\":\"white\",\"minorgridcolor\":\"white\",\"startlinecolor\":\"#2a3f5f\"},\"baxis\":{\"endlinecolor\":\"#2a3f5f\",\"gridcolor\":\"white\",\"linecolor\":\"white\",\"minorgridcolor\":\"white\",\"startlinecolor\":\"#2a3f5f\"},\"type\":\"carpet\"}],\"table\":[{\"cells\":{\"fill\":{\"color\":\"#EBF0F8\"},\"line\":{\"color\":\"white\"}},\"header\":{\"fill\":{\"color\":\"#C8D4E3\"},\"line\":{\"color\":\"white\"}},\"type\":\"table\"}],\"barpolar\":[{\"marker\":{\"line\":{\"color\":\"#E5ECF6\",\"width\":0.5},\"pattern\":{\"fillmode\":\"overlay\",\"size\":10,\"solidity\":0.2}},\"type\":\"barpolar\"}],\"pie\":[{\"automargin\":true,\"type\":\"pie\"}]},\"layout\":{\"autotypenumbers\":\"strict\",\"colorway\":[\"#636efa\",\"#EF553B\",\"#00cc96\",\"#ab63fa\",\"#FFA15A\",\"#19d3f3\",\"#FF6692\",\"#B6E880\",\"#FF97FF\",\"#FECB52\"],\"font\":{\"color\":\"#2a3f5f\"},\"hovermode\":\"closest\",\"hoverlabel\":{\"align\":\"left\"},\"paper_bgcolor\":\"white\",\"plot_bgcolor\":\"#E5ECF6\",\"polar\":{\"bgcolor\":\"#E5ECF6\",\"angularaxis\":{\"gridcolor\":\"white\",\"linecolor\":\"white\",\"ticks\":\"\"},\"radialaxis\":{\"gridcolor\":\"white\",\"linecolor\":\"white\",\"ticks\":\"\"}},\"ternary\":{\"bgcolor\":\"#E5ECF6\",\"aaxis\":{\"gridcolor\":\"white\",\"linecolor\":\"white\",\"ticks\":\"\"},\"baxis\":{\"gridcolor\":\"white\",\"linecolor\":\"white\",\"ticks\":\"\"},\"caxis\":{\"gridcolor\":\"white\",\"linecolor\":\"white\",\"ticks\":\"\"}},\"coloraxis\":{\"colorbar\":{\"outlinewidth\":0,\"ticks\":\"\"}},\"colorscale\":{\"sequential\":[[0.0,\"#0d0887\"],[0.1111111111111111,\"#46039f\"],[0.2222222222222222,\"#7201a8\"],[0.3333333333333333,\"#9c179e\"],[0.4444444444444444,\"#bd3786\"],[0.5555555555555556,\"#d8576b\"],[0.6666666666666666,\"#ed7953\"],[0.7777777777777778,\"#fb9f3a\"],[0.8888888888888888,\"#fdca26\"],[1.0,\"#f0f921\"]],\"sequentialminus\":[[0.0,\"#0d0887\"],[0.1111111111111111,\"#46039f\"],[0.2222222222222222,\"#7201a8\"],[0.3333333333333333,\"#9c179e\"],[0.4444444444444444,\"#bd3786\"],[0.5555555555555556,\"#d8576b\"],[0.6666666666666666,\"#ed7953\"],[0.7777777777777778,\"#fb9f3a\"],[0.8888888888888888,\"#fdca26\"],[1.0,\"#f0f921\"]],\"diverging\":[[0,\"#8e0152\"],[0.1,\"#c51b7d\"],[0.2,\"#de77ae\"],[0.3,\"#f1b6da\"],[0.4,\"#fde0ef\"],[0.5,\"#f7f7f7\"],[0.6,\"#e6f5d0\"],[0.7,\"#b8e186\"],[0.8,\"#7fbc41\"],[0.9,\"#4d9221\"],[1,\"#276419\"]]},\"xaxis\":{\"gridcolor\":\"white\",\"linecolor\":\"white\",\"ticks\":\"\",\"title\":{\"standoff\":15},\"zerolinecolor\":\"white\",\"automargin\":true,\"zerolinewidth\":2},\"yaxis\":{\"gridcolor\":\"white\",\"linecolor\":\"white\",\"ticks\":\"\",\"title\":{\"standoff\":15},\"zerolinecolor\":\"white\",\"automargin\":true,\"zerolinewidth\":2},\"scene\":{\"xaxis\":{\"backgroundcolor\":\"#E5ECF6\",\"gridcolor\":\"white\",\"linecolor\":\"white\",\"showbackground\":true,\"ticks\":\"\",\"zerolinecolor\":\"white\",\"gridwidth\":2},\"yaxis\":{\"backgroundcolor\":\"#E5ECF6\",\"gridcolor\":\"white\",\"linecolor\":\"white\",\"showbackground\":true,\"ticks\":\"\",\"zerolinecolor\":\"white\",\"gridwidth\":2},\"zaxis\":{\"backgroundcolor\":\"#E5ECF6\",\"gridcolor\":\"white\",\"linecolor\":\"white\",\"showbackground\":true,\"ticks\":\"\",\"zerolinecolor\":\"white\",\"gridwidth\":2}},\"shapedefaults\":{\"line\":{\"color\":\"#2a3f5f\"}},\"annotationdefaults\":{\"arrowcolor\":\"#2a3f5f\",\"arrowhead\":0,\"arrowwidth\":1},\"geo\":{\"bgcolor\":\"white\",\"landcolor\":\"#E5ECF6\",\"subunitcolor\":\"white\",\"showland\":true,\"showlakes\":true,\"lakecolor\":\"white\"},\"title\":{\"x\":0.05},\"mapbox\":{\"style\":\"light\"}}},\"legend\":{\"title\":{\"text\":\"id_new\"},\"tracegroupgap\":0},\"margin\":{\"t\":60},\"dragmode\":\"select\",\"height\":1300,\"width\":1300},                        {\"responsive\": true}                    ).then(function(){\n",
       "                            \n",
       "var gd = document.getElementById('ce040f6f-7b68-4448-ab2e-6ad535a0832d');\n",
       "var x = new MutationObserver(function (mutations, observer) {{\n",
       "        var display = window.getComputedStyle(gd).display;\n",
       "        if (!display || display === 'none') {{\n",
       "            console.log([gd, 'removed!']);\n",
       "            Plotly.purge(gd);\n",
       "            observer.disconnect();\n",
       "        }}\n",
       "}});\n",
       "\n",
       "// Listen for the removal of the full notebook cells\n",
       "var notebookContainer = gd.closest('#notebook-container');\n",
       "if (notebookContainer) {{\n",
       "    x.observe(notebookContainer, {childList: true});\n",
       "}}\n",
       "\n",
       "// Listen for the clearing of the current output cell\n",
       "var outputEl = gd.closest('.output');\n",
       "if (outputEl) {{\n",
       "    x.observe(outputEl, {childList: true});\n",
       "}}\n",
       "\n",
       "                        })                };                });            </script>        </div>"
      ]
     },
     "metadata": {},
     "output_type": "display_data"
    }
   ],
   "source": [
    "# plt.Figure(figsize=(40,40))\n",
    "df_scatter = df_merge.loc[:,['plddt','ptm','iptm','RC','total_score','dG_separated','dG_separated/dSASAx100']]\n",
    "pd.plotting.scatter_matrix(df_scatter, alpha=0.7,figsize=(13,13))\n"
   ]
  },
  {
   "cell_type": "markdown",
   "metadata": {},
   "source": [
    "# 5 clustering"
   ]
  },
  {
   "cell_type": "code",
   "execution_count": null,
   "metadata": {},
   "outputs": [],
   "source": [
    "## reference mdtraj clustering\n",
    "from __future__ import print_function\n",
    "%matplotlib inline\n",
    "import mdtraj as md\n",
    "import numpy as np\n",
    "import matplotlib.pyplot as plt\n",
    "import scipy.cluster.hierarchy\n",
    "# from scipy.cluster.hierarchy import linkage, fcluster, dendrogram\n",
    "from scipy.spatial.distance import squareform\n",
    "\n",
    "l_traj=[md.load('01_rename_pdbs/'+i+'.pdb') for i in id_new]\n",
    "traj=md.join(l_traj)\n",
    "traj\n",
    "\n",
    "distances = np.empty((traj.n_frames, traj.n_frames))\n",
    "for i in range(traj.n_frames):\n",
    "    distances[i] = md.rmsd(traj, traj, i)\n",
    "print('Max pairwise rmsd: %f nm' % np.max(distances))\n"
   ]
  },
  {
   "cell_type": "code",
   "execution_count": 28,
   "metadata": {},
   "outputs": [
    {
     "name": "stdout",
     "output_type": "stream",
     "text": [
      "[[ 24.          25.           0.20663589   2.        ]\n",
      " [ 10.          37.           0.21666208   2.        ]\n",
      " [  1.          17.           0.21846552   2.        ]\n",
      " [ 40.          41.           0.21876687   2.        ]\n",
      " [  2.          22.           0.22000402   2.        ]\n",
      " [ 31.          60.           0.22190857   2.        ]\n",
      " [ 32.          52.           0.22243991   2.        ]\n",
      " [ 29.          35.           0.22301608   2.        ]\n",
      " [ 38.          65.           0.22457151   2.        ]\n",
      " [ 19.          54.           0.22505794   2.        ]\n",
      " [ 43.          48.           0.22704779   2.        ]\n",
      " [  0.           9.           0.22704895   2.        ]\n",
      " [ 11.          94.           0.22721975   3.        ]\n",
      " [ 47.          61.           0.22845124   2.        ]\n",
      " [ 36.          58.           0.22922274   2.        ]\n",
      " [  7.          12.           0.23095664   2.        ]\n",
      " [ 59.          66.           0.2324       2.        ]\n",
      " [ 71.          95.           0.23267289   3.        ]\n",
      " [ 44.          67.           0.23441856   2.        ]\n",
      " [ 70.          77.           0.23465562   2.        ]\n",
      " [  3.          91.           0.23472094   3.        ]\n",
      " [ 27.          88.           0.23798571   3.        ]\n",
      " [ 49.          68.           0.23861545   2.        ]\n",
      " [ 53.          82.           0.24005666   2.        ]\n",
      " [ 46.          80.           0.24228126   2.        ]\n",
      " [ 51.          79.           0.2532329    2.        ]\n",
      " [ 16.          87.           0.25518861   3.        ]\n",
      " [ 15.          97.           0.25835044   4.        ]\n",
      " [ 55.          62.           0.25888163   2.        ]\n",
      " [ 85.         107.           0.26120808   4.        ]\n",
      " [ 45.          56.           0.26267493   2.        ]\n",
      " [  5.          93.           0.26490958   3.        ]\n",
      " [ 18.          34.           0.26954708   2.        ]\n",
      " [ 63.          73.           0.27163494   2.        ]\n",
      " [ 75.          83.           0.27543822   2.        ]\n",
      " [ 20.          96.           0.27930203   3.        ]\n",
      " [ 30.         109.           0.27964558   3.        ]\n",
      " [ 21.          86.           0.28403345   3.        ]\n",
      " [ 92.         106.           0.30102546   5.        ]\n",
      " [ 64.          78.           0.30371836   2.        ]\n",
      " [ 98.         105.           0.30807046   5.        ]\n",
      " [113.         115.           0.30969476   4.        ]\n",
      " [ 72.          74.           0.31149748   2.        ]\n",
      " [  4.          23.           0.31198266   2.        ]\n",
      " [ 42.         103.           0.31200629   3.        ]\n",
      " [ 28.         102.           0.31238263   4.        ]\n",
      " [100.         112.           0.31619362   6.        ]\n",
      " [ 81.         108.           0.32108934   3.        ]\n",
      " [ 99.         124.           0.32247198   4.        ]\n",
      " [120.         125.           0.32779139   8.        ]\n",
      " [  8.          89.           0.3279677    3.        ]\n",
      " [ 90.         116.           0.32973056   5.        ]\n",
      " [111.         117.           0.33193553   5.        ]\n",
      " [ 76.         122.           0.33534962   4.        ]\n",
      " [ 57.         104.           0.33863673   3.        ]\n",
      " [ 39.         121.           0.34234594   4.        ]\n",
      " [118.         131.           0.34788006   8.        ]\n",
      " [101.         132.           0.35766084   5.        ]\n",
      " [  6.         134.           0.35823878   9.        ]\n",
      " [119.         126.           0.36530145   6.        ]\n",
      " [123.         140.           0.37273985   9.        ]\n",
      " [128.         143.           0.37721161  11.        ]\n",
      " [110.         136.           0.38293485   7.        ]\n",
      " [ 84.         144.           0.38868153   7.        ]\n",
      " [114.         138.           0.38984047   8.        ]\n",
      " [135.         146.           0.41956491  14.        ]\n",
      " [ 33.         129.           0.44799057   4.        ]\n",
      " [127.         137.           0.44840862   7.        ]\n",
      " [133.         148.           0.44957516  11.        ]\n",
      " [ 26.         145.           0.4528613   10.        ]\n",
      " [141.         149.           0.45338298  16.        ]\n",
      " [130.         139.           0.45565928   7.        ]\n",
      " [ 13.          14.           0.45946747   2.        ]\n",
      " [147.         153.           0.48773566  18.        ]\n",
      " [ 50.         154.           0.49442219  11.        ]\n",
      " [150.         157.           0.53334196  16.        ]\n",
      " [151.         156.           0.56922867  11.        ]\n",
      " [155.         159.           0.58590406  27.        ]\n",
      " [142.         160.           0.59329135  21.        ]\n",
      " [158.         163.           0.63047403  39.        ]\n",
      " [152.         161.           0.66099966  18.        ]\n",
      " [ 69.         162.           0.78875923  28.        ]\n",
      " [164.         166.           0.99623729  67.        ]\n",
      " [165.         167.           1.21754747  85.        ]]\n"
     ]
    },
    {
     "data": {
      "text/plain": [
       "(array([  5,  15,  25,  35,  45,  55,  65,  75,  85,  95, 105, 115, 125,\n",
       "        135, 145, 155, 165, 175, 185, 195, 205, 215, 225, 235, 245, 255,\n",
       "        265, 275, 285, 295, 305, 315, 325, 335, 345, 355, 365, 375, 385,\n",
       "        395, 405, 415, 425, 435, 445, 455, 465, 475, 485, 495, 505, 515,\n",
       "        525, 535, 545, 555, 565, 575, 585, 595, 605, 615, 625, 635, 645,\n",
       "        655, 665, 675, 685, 695, 705, 715, 725, 735, 745, 755, 765, 775,\n",
       "        785, 795, 805, 815, 825, 835, 845]),\n",
       " [Text(5, 0, '72'),\n",
       "  Text(15, 0, '74'),\n",
       "  Text(25, 0, '16'),\n",
       "  Text(35, 0, '1'),\n",
       "  Text(45, 0, '17'),\n",
       "  Text(55, 0, '18'),\n",
       "  Text(65, 0, '34'),\n",
       "  Text(75, 0, '33'),\n",
       "  Text(85, 0, '42'),\n",
       "  Text(95, 0, '44'),\n",
       "  Text(105, 0, '67'),\n",
       "  Text(115, 0, '28'),\n",
       "  Text(125, 0, '71'),\n",
       "  Text(135, 0, '43'),\n",
       "  Text(145, 0, '48'),\n",
       "  Text(155, 0, '57'),\n",
       "  Text(165, 0, '70'),\n",
       "  Text(175, 0, '77'),\n",
       "  Text(185, 0, '51'),\n",
       "  Text(195, 0, '79'),\n",
       "  Text(205, 0, '31'),\n",
       "  Text(215, 0, '60'),\n",
       "  Text(225, 0, '5'),\n",
       "  Text(235, 0, '38'),\n",
       "  Text(245, 0, '65'),\n",
       "  Text(255, 0, '36'),\n",
       "  Text(265, 0, '58'),\n",
       "  Text(275, 0, '64'),\n",
       "  Text(285, 0, '78'),\n",
       "  Text(295, 0, '84'),\n",
       "  Text(305, 0, '75'),\n",
       "  Text(315, 0, '83'),\n",
       "  Text(325, 0, '55'),\n",
       "  Text(335, 0, '62'),\n",
       "  Text(345, 0, '45'),\n",
       "  Text(355, 0, '56'),\n",
       "  Text(365, 0, '59'),\n",
       "  Text(375, 0, '66'),\n",
       "  Text(385, 0, '81'),\n",
       "  Text(395, 0, '53'),\n",
       "  Text(405, 0, '82'),\n",
       "  Text(415, 0, '8'),\n",
       "  Text(425, 0, '2'),\n",
       "  Text(435, 0, '22'),\n",
       "  Text(445, 0, '4'),\n",
       "  Text(455, 0, '23'),\n",
       "  Text(465, 0, '6'),\n",
       "  Text(475, 0, '20'),\n",
       "  Text(485, 0, '0'),\n",
       "  Text(495, 0, '9'),\n",
       "  Text(505, 0, '47'),\n",
       "  Text(515, 0, '61'),\n",
       "  Text(525, 0, '3'),\n",
       "  Text(535, 0, '32'),\n",
       "  Text(545, 0, '52'),\n",
       "  Text(555, 0, '13'),\n",
       "  Text(565, 0, '14'),\n",
       "  Text(575, 0, '69'),\n",
       "  Text(585, 0, '63'),\n",
       "  Text(595, 0, '73'),\n",
       "  Text(605, 0, '7'),\n",
       "  Text(615, 0, '12'),\n",
       "  Text(625, 0, '15'),\n",
       "  Text(635, 0, '11'),\n",
       "  Text(645, 0, '19'),\n",
       "  Text(655, 0, '54'),\n",
       "  Text(665, 0, '24'),\n",
       "  Text(675, 0, '25'),\n",
       "  Text(685, 0, '49'),\n",
       "  Text(695, 0, '68'),\n",
       "  Text(705, 0, '76'),\n",
       "  Text(715, 0, '21'),\n",
       "  Text(725, 0, '10'),\n",
       "  Text(735, 0, '37'),\n",
       "  Text(745, 0, '50'),\n",
       "  Text(755, 0, '26'),\n",
       "  Text(765, 0, '29'),\n",
       "  Text(775, 0, '35'),\n",
       "  Text(785, 0, '27'),\n",
       "  Text(795, 0, '40'),\n",
       "  Text(805, 0, '41'),\n",
       "  Text(815, 0, '39'),\n",
       "  Text(825, 0, '30'),\n",
       "  Text(835, 0, '46'),\n",
       "  Text(845, 0, '80')])"
      ]
     },
     "execution_count": 28,
     "metadata": {},
     "output_type": "execute_result"
    },
    {
     "data": {
      "image/png": "[encoded data removed]",
      "text/plain": [
       "<Figure size 1500x300 with 1 Axes>"
      ]
     },
     "metadata": {},
     "output_type": "display_data"
    }
   ],
   "source": [
    "\n",
    "# Clustering only accepts reduced form. Squareform's checks are too stringent\n",
    "# assert np.all(distances - distances.T < 1e-6)\n",
    "reduced_distances = squareform(distances, checks=False)\n",
    "\n",
    "\n",
    "linkage = scipy.cluster.hierarchy.linkage(reduced_distances, method='average')\n",
    "print(linkage)\n",
    "plt.figure(figsize=(15,3))\n",
    "plt.title('RMSD Average linkage hierarchical clustering')\n",
    "_ = scipy.cluster.hierarchy.dendrogram(linkage,  count_sort='descendent')\n",
    "plt.xticks(rotation=0)"
   ]
  },
  {
   "cell_type": "code",
   "execution_count": 69,
   "metadata": {},
   "outputs": [
    {
     "data": {
      "text/html": [
       "<div>\n",
       "<style scoped>\n",
       "    .dataframe tbody tr th:only-of-type {\n",
       "        vertical-align: middle;\n",
       "    }\n",
       "\n",
       "    .dataframe tbody tr th {\n",
       "        vertical-align: top;\n",
       "    }\n",
       "\n",
       "    .dataframe thead th {\n",
       "        text-align: right;\n",
       "    }\n",
       "</style>\n",
       "<table border=\"1\" class=\"dataframe\">\n",
       "  <thead>\n",
       "    <tr style=\"text-align: right;\">\n",
       "      <th></th>\n",
       "      <th>id</th>\n",
       "      <th>model</th>\n",
       "      <th>recycle</th>\n",
       "      <th>plddt</th>\n",
       "      <th>ptm</th>\n",
       "      <th>iptm</th>\n",
       "      <th>RC</th>\n",
       "      <th>pdb_filepath</th>\n",
       "      <th>id_new</th>\n",
       "      <th>SCORE:</th>\n",
       "      <th>...</th>\n",
       "      <th>rama_prepro</th>\n",
       "      <th>ref</th>\n",
       "      <th>sc_value</th>\n",
       "      <th>side1_normalized</th>\n",
       "      <th>side1_score</th>\n",
       "      <th>side2_normalized</th>\n",
       "      <th>side2_score</th>\n",
       "      <th>yhh_planarity</th>\n",
       "      <th>description</th>\n",
       "      <th>cluster</th>\n",
       "    </tr>\n",
       "  </thead>\n",
       "  <tbody>\n",
       "    <tr>\n",
       "      <th>0</th>\n",
       "      <td>Lsb001</td>\n",
       "      <td>alphafold2_multimer_v3_model_3_seed_057</td>\n",
       "      <td>20</td>\n",
       "      <td>92.0</td>\n",
       "      <td>0.898</td>\n",
       "      <td>0.865</td>\n",
       "      <td>0.8716</td>\n",
       "      <td>vhh_al_001/af_m/54_v3/Lsb001_unrelaxed_rank_00...</td>\n",
       "      <td>Lsb001_00</td>\n",
       "      <td>SCORE:</td>\n",
       "      <td>...</td>\n",
       "      <td>-10.260</td>\n",
       "      <td>78.95</td>\n",
       "      <td>0.602</td>\n",
       "      <td>-3.332</td>\n",
       "      <td>-69.980</td>\n",
       "      <td>-2.721</td>\n",
       "      <td>-62.592</td>\n",
       "      <td>0.209</td>\n",
       "      <td>Lsb001_00_0001_0001</td>\n",
       "      <td>cluster_2</td>\n",
       "    </tr>\n",
       "    <tr>\n",
       "      <th>1</th>\n",
       "      <td>Lsb001</td>\n",
       "      <td>alphafold2_multimer_v2_model_1_seed_044</td>\n",
       "      <td>19</td>\n",
       "      <td>92.9</td>\n",
       "      <td>0.887</td>\n",
       "      <td>0.860</td>\n",
       "      <td>0.8654</td>\n",
       "      <td>vhh_al_001/af_m/42_v2_t/Lsb001_unrelaxed_rank_...</td>\n",
       "      <td>Lsb001_01</td>\n",
       "      <td>SCORE:</td>\n",
       "      <td>...</td>\n",
       "      <td>-5.765</td>\n",
       "      <td>78.95</td>\n",
       "      <td>0.652</td>\n",
       "      <td>-2.924</td>\n",
       "      <td>-70.184</td>\n",
       "      <td>-3.074</td>\n",
       "      <td>-76.862</td>\n",
       "      <td>0.173</td>\n",
       "      <td>Lsb001_01_0001_0001</td>\n",
       "      <td>cluster_1</td>\n",
       "    </tr>\n",
       "    <tr>\n",
       "      <th>2</th>\n",
       "      <td>Lsb001</td>\n",
       "      <td>alphafold2_multimer_v3_model_3_seed_033</td>\n",
       "      <td>0</td>\n",
       "      <td>86.6</td>\n",
       "      <td>0.832</td>\n",
       "      <td>0.735</td>\n",
       "      <td>0.7544</td>\n",
       "      <td>vhh_al_001/af_m/30_v3/Lsb001_unrelaxed_rank_00...</td>\n",
       "      <td>Lsb001_02</td>\n",
       "      <td>SCORE:</td>\n",
       "      <td>...</td>\n",
       "      <td>-0.880</td>\n",
       "      <td>78.95</td>\n",
       "      <td>0.619</td>\n",
       "      <td>-2.274</td>\n",
       "      <td>-50.029</td>\n",
       "      <td>-3.012</td>\n",
       "      <td>-78.306</td>\n",
       "      <td>0.598</td>\n",
       "      <td>Lsb001_02_0001_0001</td>\n",
       "      <td>cluster_2</td>\n",
       "    </tr>\n",
       "    <tr>\n",
       "      <th>3</th>\n",
       "      <td>Lsb001</td>\n",
       "      <td>alphafold2_multimer_v1_model_4_seed_035</td>\n",
       "      <td>1</td>\n",
       "      <td>90.2</td>\n",
       "      <td>0.803</td>\n",
       "      <td>0.696</td>\n",
       "      <td>0.7174</td>\n",
       "      <td>vhh_al_001/af_m/30_v1_m2/Lsb001_unrelaxed_rank...</td>\n",
       "      <td>Lsb001_03</td>\n",
       "      <td>SCORE:</td>\n",
       "      <td>...</td>\n",
       "      <td>-0.837</td>\n",
       "      <td>78.95</td>\n",
       "      <td>0.580</td>\n",
       "      <td>-2.623</td>\n",
       "      <td>-78.704</td>\n",
       "      <td>-2.754</td>\n",
       "      <td>-85.366</td>\n",
       "      <td>0.131</td>\n",
       "      <td>Lsb001_03_0001_0001</td>\n",
       "      <td>cluster_2</td>\n",
       "    </tr>\n",
       "    <tr>\n",
       "      <th>4</th>\n",
       "      <td>Lsb001</td>\n",
       "      <td>alphafold2_multimer_v1_model_3_seed_029</td>\n",
       "      <td>0</td>\n",
       "      <td>81.9</td>\n",
       "      <td>0.776</td>\n",
       "      <td>0.667</td>\n",
       "      <td>0.6888</td>\n",
       "      <td>vhh_al_001/af_m/24_v1_m2/Lsb001_unrelaxed_rank...</td>\n",
       "      <td>Lsb001_04</td>\n",
       "      <td>SCORE:</td>\n",
       "      <td>...</td>\n",
       "      <td>4.500</td>\n",
       "      <td>78.95</td>\n",
       "      <td>0.600</td>\n",
       "      <td>-1.962</td>\n",
       "      <td>-37.274</td>\n",
       "      <td>-2.227</td>\n",
       "      <td>-57.903</td>\n",
       "      <td>0.190</td>\n",
       "      <td>Lsb001_04_0001_0001</td>\n",
       "      <td>cluster_2</td>\n",
       "    </tr>\n",
       "    <tr>\n",
       "      <th>...</th>\n",
       "      <td>...</td>\n",
       "      <td>...</td>\n",
       "      <td>...</td>\n",
       "      <td>...</td>\n",
       "      <td>...</td>\n",
       "      <td>...</td>\n",
       "      <td>...</td>\n",
       "      <td>...</td>\n",
       "      <td>...</td>\n",
       "      <td>...</td>\n",
       "      <td>...</td>\n",
       "      <td>...</td>\n",
       "      <td>...</td>\n",
       "      <td>...</td>\n",
       "      <td>...</td>\n",
       "      <td>...</td>\n",
       "      <td>...</td>\n",
       "      <td>...</td>\n",
       "      <td>...</td>\n",
       "      <td>...</td>\n",
       "      <td>...</td>\n",
       "    </tr>\n",
       "    <tr>\n",
       "      <th>80</th>\n",
       "      <td>Lsb001</td>\n",
       "      <td>alphafold2_multimer_v1_model_1_seed_018</td>\n",
       "      <td>1</td>\n",
       "      <td>86.6</td>\n",
       "      <td>0.533</td>\n",
       "      <td>0.162</td>\n",
       "      <td>0.2362</td>\n",
       "      <td>vhh_al_001/af_m/18_v1_dt/Lsb001_unrelaxed_rank...</td>\n",
       "      <td>Lsb001_80</td>\n",
       "      <td>SCORE:</td>\n",
       "      <td>...</td>\n",
       "      <td>-3.909</td>\n",
       "      <td>78.95</td>\n",
       "      <td>0.602</td>\n",
       "      <td>-1.499</td>\n",
       "      <td>-17.991</td>\n",
       "      <td>-0.785</td>\n",
       "      <td>-8.638</td>\n",
       "      <td>0.407</td>\n",
       "      <td>Lsb001_80_0001_0001</td>\n",
       "      <td>cluster_3</td>\n",
       "    </tr>\n",
       "    <tr>\n",
       "      <th>81</th>\n",
       "      <td>Lsb001</td>\n",
       "      <td>alphafold2_multimer_v2_model_1_seed_024</td>\n",
       "      <td>2</td>\n",
       "      <td>83.0</td>\n",
       "      <td>0.528</td>\n",
       "      <td>0.160</td>\n",
       "      <td>0.2336</td>\n",
       "      <td>vhh_al_001/af_m/24_v2_dt/Lsb001_unrelaxed_rank...</td>\n",
       "      <td>Lsb001_81</td>\n",
       "      <td>SCORE:</td>\n",
       "      <td>...</td>\n",
       "      <td>-9.012</td>\n",
       "      <td>78.95</td>\n",
       "      <td>0.693</td>\n",
       "      <td>-1.803</td>\n",
       "      <td>-18.031</td>\n",
       "      <td>-2.127</td>\n",
       "      <td>-21.265</td>\n",
       "      <td>0.618</td>\n",
       "      <td>Lsb001_81_0001_0001</td>\n",
       "      <td>cluster_2</td>\n",
       "    </tr>\n",
       "    <tr>\n",
       "      <th>82</th>\n",
       "      <td>Lsb001</td>\n",
       "      <td>alphafold2_multimer_v3_model_2_seed_053</td>\n",
       "      <td>11</td>\n",
       "      <td>81.3</td>\n",
       "      <td>0.527</td>\n",
       "      <td>0.155</td>\n",
       "      <td>0.2294</td>\n",
       "      <td>vhh_al_001/af_m/48_v3_m2/Lsb001_unrelaxed_rank...</td>\n",
       "      <td>Lsb001_82</td>\n",
       "      <td>SCORE:</td>\n",
       "      <td>...</td>\n",
       "      <td>-9.959</td>\n",
       "      <td>78.95</td>\n",
       "      <td>0.614</td>\n",
       "      <td>-2.667</td>\n",
       "      <td>-45.332</td>\n",
       "      <td>-2.489</td>\n",
       "      <td>-39.817</td>\n",
       "      <td>0.147</td>\n",
       "      <td>Lsb001_82_0001_0001</td>\n",
       "      <td>cluster_2</td>\n",
       "    </tr>\n",
       "    <tr>\n",
       "      <th>83</th>\n",
       "      <td>Lsb001</td>\n",
       "      <td>alphafold2_multimer_v2_model_2_seed_020</td>\n",
       "      <td>0</td>\n",
       "      <td>82.6</td>\n",
       "      <td>0.517</td>\n",
       "      <td>0.125</td>\n",
       "      <td>0.2034</td>\n",
       "      <td>vhh_al_001/af_m/18_v2_t/Lsb001_unrelaxed_rank_...</td>\n",
       "      <td>Lsb001_83</td>\n",
       "      <td>SCORE:</td>\n",
       "      <td>...</td>\n",
       "      <td>-7.846</td>\n",
       "      <td>78.95</td>\n",
       "      <td>0.596</td>\n",
       "      <td>-3.360</td>\n",
       "      <td>-60.471</td>\n",
       "      <td>-3.065</td>\n",
       "      <td>-49.040</td>\n",
       "      <td>0.404</td>\n",
       "      <td>Lsb001_83_0001_0001</td>\n",
       "      <td>cluster_2</td>\n",
       "    </tr>\n",
       "    <tr>\n",
       "      <th>84</th>\n",
       "      <td>Lsb001</td>\n",
       "      <td>alphafold2_multimer_v2_model_1_seed_038</td>\n",
       "      <td>0</td>\n",
       "      <td>82.8</td>\n",
       "      <td>0.515</td>\n",
       "      <td>0.113</td>\n",
       "      <td>0.1934</td>\n",
       "      <td>vhh_al_001/af_m/36_v2_t/Lsb001_unrelaxed_rank_...</td>\n",
       "      <td>Lsb001_84</td>\n",
       "      <td>SCORE:</td>\n",
       "      <td>...</td>\n",
       "      <td>-14.530</td>\n",
       "      <td>78.95</td>\n",
       "      <td>0.628</td>\n",
       "      <td>-3.082</td>\n",
       "      <td>-43.146</td>\n",
       "      <td>-2.615</td>\n",
       "      <td>-36.606</td>\n",
       "      <td>0.600</td>\n",
       "      <td>Lsb001_84_0001_0001</td>\n",
       "      <td>cluster_2</td>\n",
       "    </tr>\n",
       "  </tbody>\n",
       "</table>\n",
       "<p>85 rows × 52 columns</p>\n",
       "</div>"
      ],
      "text/plain": [
       "        id                                    model  recycle  plddt    ptm  \\\n",
       "0   Lsb001  alphafold2_multimer_v3_model_3_seed_057       20   92.0  0.898   \n",
       "1   Lsb001  alphafold2_multimer_v2_model_1_seed_044       19   92.9  0.887   \n",
       "2   Lsb001  alphafold2_multimer_v3_model_3_seed_033        0   86.6  0.832   \n",
       "3   Lsb001  alphafold2_multimer_v1_model_4_seed_035        1   90.2  0.803   \n",
       "4   Lsb001  alphafold2_multimer_v1_model_3_seed_029        0   81.9  0.776   \n",
       "..     ...                                      ...      ...    ...    ...   \n",
       "80  Lsb001  alphafold2_multimer_v1_model_1_seed_018        1   86.6  0.533   \n",
       "81  Lsb001  alphafold2_multimer_v2_model_1_seed_024        2   83.0  0.528   \n",
       "82  Lsb001  alphafold2_multimer_v3_model_2_seed_053       11   81.3  0.527   \n",
       "83  Lsb001  alphafold2_multimer_v2_model_2_seed_020        0   82.6  0.517   \n",
       "84  Lsb001  alphafold2_multimer_v2_model_1_seed_038        0   82.8  0.515   \n",
       "\n",
       "     iptm      RC                                       pdb_filepath  \\\n",
       "0   0.865  0.8716  vhh_al_001/af_m/54_v3/Lsb001_unrelaxed_rank_00...   \n",
       "1   0.860  0.8654  vhh_al_001/af_m/42_v2_t/Lsb001_unrelaxed_rank_...   \n",
       "2   0.735  0.7544  vhh_al_001/af_m/30_v3/Lsb001_unrelaxed_rank_00...   \n",
       "3   0.696  0.7174  vhh_al_001/af_m/30_v1_m2/Lsb001_unrelaxed_rank...   \n",
       "4   0.667  0.6888  vhh_al_001/af_m/24_v1_m2/Lsb001_unrelaxed_rank...   \n",
       "..    ...     ...                                                ...   \n",
       "80  0.162  0.2362  vhh_al_001/af_m/18_v1_dt/Lsb001_unrelaxed_rank...   \n",
       "81  0.160  0.2336  vhh_al_001/af_m/24_v2_dt/Lsb001_unrelaxed_rank...   \n",
       "82  0.155  0.2294  vhh_al_001/af_m/48_v3_m2/Lsb001_unrelaxed_rank...   \n",
       "83  0.125  0.2034  vhh_al_001/af_m/18_v2_t/Lsb001_unrelaxed_rank_...   \n",
       "84  0.113  0.1934  vhh_al_001/af_m/36_v2_t/Lsb001_unrelaxed_rank_...   \n",
       "\n",
       "       id_new  SCORE:  ...  rama_prepro    ref  sc_value  side1_normalized  \\\n",
       "0   Lsb001_00  SCORE:  ...      -10.260  78.95     0.602            -3.332   \n",
       "1   Lsb001_01  SCORE:  ...       -5.765  78.95     0.652            -2.924   \n",
       "2   Lsb001_02  SCORE:  ...       -0.880  78.95     0.619            -2.274   \n",
       "3   Lsb001_03  SCORE:  ...       -0.837  78.95     0.580            -2.623   \n",
       "4   Lsb001_04  SCORE:  ...        4.500  78.95     0.600            -1.962   \n",
       "..        ...     ...  ...          ...    ...       ...               ...   \n",
       "80  Lsb001_80  SCORE:  ...       -3.909  78.95     0.602            -1.499   \n",
       "81  Lsb001_81  SCORE:  ...       -9.012  78.95     0.693            -1.803   \n",
       "82  Lsb001_82  SCORE:  ...       -9.959  78.95     0.614            -2.667   \n",
       "83  Lsb001_83  SCORE:  ...       -7.846  78.95     0.596            -3.360   \n",
       "84  Lsb001_84  SCORE:  ...      -14.530  78.95     0.628            -3.082   \n",
       "\n",
       "    side1_score  side2_normalized  side2_score  yhh_planarity  \\\n",
       "0       -69.980            -2.721      -62.592          0.209   \n",
       "1       -70.184            -3.074      -76.862          0.173   \n",
       "2       -50.029            -3.012      -78.306          0.598   \n",
       "3       -78.704            -2.754      -85.366          0.131   \n",
       "4       -37.274            -2.227      -57.903          0.190   \n",
       "..          ...               ...          ...            ...   \n",
       "80      -17.991            -0.785       -8.638          0.407   \n",
       "81      -18.031            -2.127      -21.265          0.618   \n",
       "82      -45.332            -2.489      -39.817          0.147   \n",
       "83      -60.471            -3.065      -49.040          0.404   \n",
       "84      -43.146            -2.615      -36.606          0.600   \n",
       "\n",
       "            description    cluster  \n",
       "0   Lsb001_00_0001_0001  cluster_2  \n",
       "1   Lsb001_01_0001_0001  cluster_1  \n",
       "2   Lsb001_02_0001_0001  cluster_2  \n",
       "3   Lsb001_03_0001_0001  cluster_2  \n",
       "4   Lsb001_04_0001_0001  cluster_2  \n",
       "..                  ...        ...  \n",
       "80  Lsb001_80_0001_0001  cluster_3  \n",
       "81  Lsb001_81_0001_0001  cluster_2  \n",
       "82  Lsb001_82_0001_0001  cluster_2  \n",
       "83  Lsb001_83_0001_0001  cluster_2  \n",
       "84  Lsb001_84_0001_0001  cluster_2  \n",
       "\n",
       "[85 rows x 52 columns]"
      ]
     },
     "execution_count": 69,
     "metadata": {},
     "output_type": "execute_result"
    }
   ],
   "source": [
    "from scipy.cluster.hierarchy import linkage, fcluster, dendrogram\n",
    "Z = linkage(reduced_distances, metric='euclidean', method='average')\n",
    "df_merge['cluster'] = ['cluster_'+str(i) for i in fcluster(Z, 3, criterion='maxclust')]\n",
    "df_merge"
   ]
  },
  {
   "cell_type": "code",
   "execution_count": 76,
   "metadata": {},
   "outputs": [
    {
     "data": {
      "application/vnd.plotly.v1+json": {
       "config": {
        "plotlyServerURL": "https://plot.ly"
       },
       "data": [
        {
         "diagonal": {
          "visible": false
         },
         "dimensions": [
          {
           "axis": {
            "matches": true
           },
           "label": "plddt",
           "values": [
            92
           ]
          },
          {
           "axis": {
            "matches": true
           },
           "label": "ptm",
           "values": [
            0.898
           ]
          },
          {
           "axis": {
            "matches": true
           },
           "label": "total_score",
           "values": [
            -747.048
           ]
          },
          {
           "axis": {
            "matches": true
           },
           "label": "dG_separated",
           "values": [
            -58.461
           ]
          },
          {
           "axis": {
            "matches": true
           },
           "label": "dG_separated/dSASAx100",
           "values": [
            -2.782
           ]
          }
         ],
         "hovertemplate": "cluster=cluster_2<br>id_new=Lsb001_00<br>%{xaxis.title.text}=%{x}<br>%{yaxis.title.text}=%{y}<extra></extra>",
         "legendgroup": "cluster_2, Lsb001_00",
         "marker": {
          "color": "green",
          "symbol": "circle"
         },
         "name": "cluster_2, Lsb001_00",
         "showlegend": true,
         "type": "splom"
        },
        {
         "diagonal": {
          "visible": false
         },
         "dimensions": [
          {
           "axis": {
            "matches": true
           },
           "label": "plddt",
           "values": [
            86.6
           ]
          },
          {
           "axis": {
            "matches": true
           },
           "label": "ptm",
           "values": [
            0.832
           ]
          },
          {
           "axis": {
            "matches": true
           },
           "label": "total_score",
           "values": [
            -731.113
           ]
          },
          {
           "axis": {
            "matches": true
           },
           "label": "dG_separated",
           "values": [
            -46.071
           ]
          },
          {
           "axis": {
            "matches": true
           },
           "label": "dG_separated/dSASAx100",
           "values": [
            -2.289
           ]
          }
         ],
         "hovertemplate": "cluster=cluster_2<br>id_new=Lsb001_02<br>%{xaxis.title.text}=%{x}<br>%{yaxis.title.text}=%{y}<extra></extra>",
         "legendgroup": "cluster_2, Lsb001_02",
         "marker": {
          "color": "green",
          "symbol": "square"
         },
         "name": "cluster_2, Lsb001_02",
         "showlegend": true,
         "type": "splom"
        },
        {
         "diagonal": {
          "visible": false
         },
         "dimensions": [
          {
           "axis": {
            "matches": true
           },
           "label": "plddt",
           "values": [
            90.2
           ]
          },
          {
           "axis": {
            "matches": true
           },
           "label": "ptm",
           "values": [
            0.803
           ]
          },
          {
           "axis": {
            "matches": true
           },
           "label": "total_score",
           "values": [
            -728.61
           ]
          },
          {
           "axis": {
            "matches": true
           },
           "label": "dG_separated",
           "values": [
            -50.889
           ]
          },
          {
           "axis": {
            "matches": true
           },
           "label": "dG_separated/dSASAx100",
           "values": [
            -2.088
           ]
          }
         ],
         "hovertemplate": "cluster=cluster_2<br>id_new=Lsb001_03<br>%{xaxis.title.text}=%{x}<br>%{yaxis.title.text}=%{y}<extra></extra>",
         "legendgroup": "cluster_2, Lsb001_03",
         "marker": {
          "color": "green",
          "symbol": "x"
         },
         "name": "cluster_2, Lsb001_03",
         "showlegend": true,
         "type": "splom"
        },
        {
         "diagonal": {
          "visible": false
         },
         "dimensions": [
          {
           "axis": {
            "matches": true
           },
           "label": "plddt",
           "values": [
            81.9
           ]
          },
          {
           "axis": {
            "matches": true
           },
           "label": "ptm",
           "values": [
            0.776
           ]
          },
          {
           "axis": {
            "matches": true
           },
           "label": "total_score",
           "values": [
            -648.218
           ]
          },
          {
           "axis": {
            "matches": true
           },
           "label": "dG_separated",
           "values": [
            -50.239
           ]
          },
          {
           "axis": {
            "matches": true
           },
           "label": "dG_separated/dSASAx100",
           "values": [
            -2.454
           ]
          }
         ],
         "hovertemplate": "cluster=cluster_2<br>id_new=Lsb001_04<br>%{xaxis.title.text}=%{x}<br>%{yaxis.title.text}=%{y}<extra></extra>",
         "legendgroup": "cluster_2, Lsb001_04",
         "marker": {
          "color": "green",
          "symbol": "cross"
         },
         "name": "cluster_2, Lsb001_04",
         "showlegend": true,
         "type": "splom"
        },
        {
         "diagonal": {
          "visible": false
         },
         "dimensions": [
          {
           "axis": {
            "matches": true
           },
           "label": "plddt",
           "values": [
            90.6
           ]
          },
          {
           "axis": {
            "matches": true
           },
           "label": "ptm",
           "values": [
            0.783
           ]
          },
          {
           "axis": {
            "matches": true
           },
           "label": "total_score",
           "values": [
            -760.411
           ]
          },
          {
           "axis": {
            "matches": true
           },
           "label": "dG_separated",
           "values": [
            -61.05
           ]
          },
          {
           "axis": {
            "matches": true
           },
           "label": "dG_separated/dSASAx100",
           "values": [
            -2.719
           ]
          }
         ],
         "hovertemplate": "cluster=cluster_2<br>id_new=Lsb001_05<br>%{xaxis.title.text}=%{x}<br>%{yaxis.title.text}=%{y}<extra></extra>",
         "legendgroup": "cluster_2, Lsb001_05",
         "marker": {
          "color": "green",
          "symbol": "circle"
         },
         "name": "cluster_2, Lsb001_05",
         "showlegend": true,
         "type": "splom"
        },
        {
         "diagonal": {
          "visible": false
         },
         "dimensions": [
          {
           "axis": {
            "matches": true
           },
           "label": "plddt",
           "values": [
            83.9
           ]
          },
          {
           "axis": {
            "matches": true
           },
           "label": "ptm",
           "values": [
            0.709
           ]
          },
          {
           "axis": {
            "matches": true
           },
           "label": "total_score",
           "values": [
            -646.152
           ]
          },
          {
           "axis": {
            "matches": true
           },
           "label": "dG_separated",
           "values": [
            -39.441
           ]
          },
          {
           "axis": {
            "matches": true
           },
           "label": "dG_separated/dSASAx100",
           "values": [
            -2.39
           ]
          }
         ],
         "hovertemplate": "cluster=cluster_2<br>id_new=Lsb001_06<br>%{xaxis.title.text}=%{x}<br>%{yaxis.title.text}=%{y}<extra></extra>",
         "legendgroup": "cluster_2, Lsb001_06",
         "marker": {
          "color": "green",
          "symbol": "diamond"
         },
         "name": "cluster_2, Lsb001_06",
         "showlegend": true,
         "type": "splom"
        },
        {
         "diagonal": {
          "visible": false
         },
         "dimensions": [
          {
           "axis": {
            "matches": true
           },
           "label": "plddt",
           "values": [
            78.8
           ]
          },
          {
           "axis": {
            "matches": true
           },
           "label": "ptm",
           "values": [
            0.716
           ]
          },
          {
           "axis": {
            "matches": true
           },
           "label": "total_score",
           "values": [
            -694.431
           ]
          },
          {
           "axis": {
            "matches": true
           },
           "label": "dG_separated",
           "values": [
            -46.119
           ]
          },
          {
           "axis": {
            "matches": true
           },
           "label": "dG_separated/dSASAx100",
           "values": [
            -2.73
           ]
          }
         ],
         "hovertemplate": "cluster=cluster_2<br>id_new=Lsb001_08<br>%{xaxis.title.text}=%{x}<br>%{yaxis.title.text}=%{y}<extra></extra>",
         "legendgroup": "cluster_2, Lsb001_08",
         "marker": {
          "color": "green",
          "symbol": "x"
         },
         "name": "cluster_2, Lsb001_08",
         "showlegend": true,
         "type": "splom"
        },
        {
         "diagonal": {
          "visible": false
         },
         "dimensions": [
          {
           "axis": {
            "matches": true
           },
           "label": "plddt",
           "values": [
            84.9
           ]
          },
          {
           "axis": {
            "matches": true
           },
           "label": "ptm",
           "values": [
            0.717
           ]
          },
          {
           "axis": {
            "matches": true
           },
           "label": "total_score",
           "values": [
            -750.398
           ]
          },
          {
           "axis": {
            "matches": true
           },
           "label": "dG_separated",
           "values": [
            -57.413
           ]
          },
          {
           "axis": {
            "matches": true
           },
           "label": "dG_separated/dSASAx100",
           "values": [
            -2.388
           ]
          }
         ],
         "hovertemplate": "cluster=cluster_2<br>id_new=Lsb001_09<br>%{xaxis.title.text}=%{x}<br>%{yaxis.title.text}=%{y}<extra></extra>",
         "legendgroup": "cluster_2, Lsb001_09",
         "marker": {
          "color": "green",
          "symbol": "cross"
         },
         "name": "cluster_2, Lsb001_09",
         "showlegend": true,
         "type": "splom"
        },
        {
         "diagonal": {
          "visible": false
         },
         "dimensions": [
          {
           "axis": {
            "matches": true
           },
           "label": "plddt",
           "values": [
            75.3
           ]
          },
          {
           "axis": {
            "matches": true
           },
           "label": "ptm",
           "values": [
            0.642
           ]
          },
          {
           "axis": {
            "matches": true
           },
           "label": "total_score",
           "values": [
            -698.122
           ]
          },
          {
           "axis": {
            "matches": true
           },
           "label": "dG_separated",
           "values": [
            -45.987
           ]
          },
          {
           "axis": {
            "matches": true
           },
           "label": "dG_separated/dSASAx100",
           "values": [
            -2.458
           ]
          }
         ],
         "hovertemplate": "cluster=cluster_2<br>id_new=Lsb001_13<br>%{xaxis.title.text}=%{x}<br>%{yaxis.title.text}=%{y}<extra></extra>",
         "legendgroup": "cluster_2, Lsb001_13",
         "marker": {
          "color": "green",
          "symbol": "x"
         },
         "name": "cluster_2, Lsb001_13",
         "showlegend": true,
         "type": "splom"
        },
        {
         "diagonal": {
          "visible": false
         },
         "dimensions": [
          {
           "axis": {
            "matches": true
           },
           "label": "plddt",
           "values": [
            85.9
           ]
          },
          {
           "axis": {
            "matches": true
           },
           "label": "ptm",
           "values": [
            0.664
           ]
          },
          {
           "axis": {
            "matches": true
           },
           "label": "total_score",
           "values": [
            -684.195
           ]
          },
          {
           "axis": {
            "matches": true
           },
           "label": "dG_separated",
           "values": [
            -39.765
           ]
          },
          {
           "axis": {
            "matches": true
           },
           "label": "dG_separated/dSASAx100",
           "values": [
            -2.298
           ]
          }
         ],
         "hovertemplate": "cluster=cluster_2<br>id_new=Lsb001_14<br>%{xaxis.title.text}=%{x}<br>%{yaxis.title.text}=%{y}<extra></extra>",
         "legendgroup": "cluster_2, Lsb001_14",
         "marker": {
          "color": "green",
          "symbol": "cross"
         },
         "name": "cluster_2, Lsb001_14",
         "showlegend": true,
         "type": "splom"
        },
        {
         "diagonal": {
          "visible": false
         },
         "dimensions": [
          {
           "axis": {
            "matches": true
           },
           "label": "plddt",
           "values": [
            78.7
           ]
          },
          {
           "axis": {
            "matches": true
           },
           "label": "ptm",
           "values": [
            0.635
           ]
          },
          {
           "axis": {
            "matches": true
           },
           "label": "total_score",
           "values": [
            -723.961
           ]
          },
          {
           "axis": {
            "matches": true
           },
           "label": "dG_separated",
           "values": [
            -33.777
           ]
          },
          {
           "axis": {
            "matches": true
           },
           "label": "dG_separated/dSASAx100",
           "values": [
            -2.253
           ]
          }
         ],
         "hovertemplate": "cluster=cluster_2<br>id_new=Lsb001_20<br>%{xaxis.title.text}=%{x}<br>%{yaxis.title.text}=%{y}<extra></extra>",
         "legendgroup": "cluster_2, Lsb001_20",
         "marker": {
          "color": "green",
          "symbol": "circle"
         },
         "name": "cluster_2, Lsb001_20",
         "showlegend": true,
         "type": "splom"
        },
        {
         "diagonal": {
          "visible": false
         },
         "dimensions": [
          {
           "axis": {
            "matches": true
           },
           "label": "plddt",
           "values": [
            81.7
           ]
          },
          {
           "axis": {
            "matches": true
           },
           "label": "ptm",
           "values": [
            0.629
           ]
          },
          {
           "axis": {
            "matches": true
           },
           "label": "total_score",
           "values": [
            -754.822
           ]
          },
          {
           "axis": {
            "matches": true
           },
           "label": "dG_separated",
           "values": [
            -48.663
           ]
          },
          {
           "axis": {
            "matches": true
           },
           "label": "dG_separated/dSASAx100",
           "values": [
            -2.403
           ]
          }
         ],
         "hovertemplate": "cluster=cluster_2<br>id_new=Lsb001_22<br>%{xaxis.title.text}=%{x}<br>%{yaxis.title.text}=%{y}<extra></extra>",
         "legendgroup": "cluster_2, Lsb001_22",
         "marker": {
          "color": "green",
          "symbol": "square"
         },
         "name": "cluster_2, Lsb001_22",
         "showlegend": true,
         "type": "splom"
        },
        {
         "diagonal": {
          "visible": false
         },
         "dimensions": [
          {
           "axis": {
            "matches": true
           },
           "label": "plddt",
           "values": [
            81.8
           ]
          },
          {
           "axis": {
            "matches": true
           },
           "label": "ptm",
           "values": [
            0.612
           ]
          },
          {
           "axis": {
            "matches": true
           },
           "label": "total_score",
           "values": [
            -675.735
           ]
          },
          {
           "axis": {
            "matches": true
           },
           "label": "dG_separated",
           "values": [
            -59.614
           ]
          },
          {
           "axis": {
            "matches": true
           },
           "label": "dG_separated/dSASAx100",
           "values": [
            -2.757
           ]
          }
         ],
         "hovertemplate": "cluster=cluster_2<br>id_new=Lsb001_23<br>%{xaxis.title.text}=%{x}<br>%{yaxis.title.text}=%{y}<extra></extra>",
         "legendgroup": "cluster_2, Lsb001_23",
         "marker": {
          "color": "green",
          "symbol": "x"
         },
         "name": "cluster_2, Lsb001_23",
         "showlegend": true,
         "type": "splom"
        },
        {
         "diagonal": {
          "visible": false
         },
         "dimensions": [
          {
           "axis": {
            "matches": true
           },
           "label": "plddt",
           "values": [
            84.7
           ]
          },
          {
           "axis": {
            "matches": true
           },
           "label": "ptm",
           "values": [
            0.592
           ]
          },
          {
           "axis": {
            "matches": true
           },
           "label": "total_score",
           "values": [
            -693.206
           ]
          },
          {
           "axis": {
            "matches": true
           },
           "label": "dG_separated",
           "values": [
            -26.416
           ]
          },
          {
           "axis": {
            "matches": true
           },
           "label": "dG_separated/dSASAx100",
           "values": [
            -1.769
           ]
          }
         ],
         "hovertemplate": "cluster=cluster_2<br>id_new=Lsb001_31<br>%{xaxis.title.text}=%{x}<br>%{yaxis.title.text}=%{y}<extra></extra>",
         "legendgroup": "cluster_2, Lsb001_31",
         "marker": {
          "color": "green",
          "symbol": "diamond"
         },
         "name": "cluster_2, Lsb001_31",
         "showlegend": true,
         "type": "splom"
        },
        {
         "diagonal": {
          "visible": false
         },
         "dimensions": [
          {
           "axis": {
            "matches": true
           },
           "label": "plddt",
           "values": [
            81.3
           ]
          },
          {
           "axis": {
            "matches": true
           },
           "label": "ptm",
           "values": [
            0.576
           ]
          },
          {
           "axis": {
            "matches": true
           },
           "label": "total_score",
           "values": [
            -745.838
           ]
          },
          {
           "axis": {
            "matches": true
           },
           "label": "dG_separated",
           "values": [
            -50.001
           ]
          },
          {
           "axis": {
            "matches": true
           },
           "label": "dG_separated/dSASAx100",
           "values": [
            -2.493
           ]
          }
         ],
         "hovertemplate": "cluster=cluster_2<br>id_new=Lsb001_32<br>%{xaxis.title.text}=%{x}<br>%{yaxis.title.text}=%{y}<extra></extra>",
         "legendgroup": "cluster_2, Lsb001_32",
         "marker": {
          "color": "green",
          "symbol": "square"
         },
         "name": "cluster_2, Lsb001_32",
         "showlegend": true,
         "type": "splom"
        },
        {
         "diagonal": {
          "visible": false
         },
         "dimensions": [
          {
           "axis": {
            "matches": true
           },
           "label": "plddt",
           "values": [
            80.5
           ]
          },
          {
           "axis": {
            "matches": true
           },
           "label": "ptm",
           "values": [
            0.568
           ]
          },
          {
           "axis": {
            "matches": true
           },
           "label": "total_score",
           "values": [
            -724.233
           ]
          },
          {
           "axis": {
            "matches": true
           },
           "label": "dG_separated",
           "values": [
            -32.046
           ]
          },
          {
           "axis": {
            "matches": true
           },
           "label": "dG_separated/dSASAx100",
           "values": [
            -2.364
           ]
          }
         ],
         "hovertemplate": "cluster=cluster_2<br>id_new=Lsb001_36<br>%{xaxis.title.text}=%{x}<br>%{yaxis.title.text}=%{y}<extra></extra>",
         "legendgroup": "cluster_2, Lsb001_36",
         "marker": {
          "color": "green",
          "symbol": "diamond"
         },
         "name": "cluster_2, Lsb001_36",
         "showlegend": true,
         "type": "splom"
        },
        {
         "diagonal": {
          "visible": false
         },
         "dimensions": [
          {
           "axis": {
            "matches": true
           },
           "label": "plddt",
           "values": [
            88.8
           ]
          },
          {
           "axis": {
            "matches": true
           },
           "label": "ptm",
           "values": [
            0.574
           ]
          },
          {
           "axis": {
            "matches": true
           },
           "label": "total_score",
           "values": [
            -718.399
           ]
          },
          {
           "axis": {
            "matches": true
           },
           "label": "dG_separated",
           "values": [
            -53.951
           ]
          },
          {
           "axis": {
            "matches": true
           },
           "label": "dG_separated/dSASAx100",
           "values": [
            -2.584
           ]
          }
         ],
         "hovertemplate": "cluster=cluster_2<br>id_new=Lsb001_38<br>%{xaxis.title.text}=%{x}<br>%{yaxis.title.text}=%{y}<extra></extra>",
         "legendgroup": "cluster_2, Lsb001_38",
         "marker": {
          "color": "green",
          "symbol": "x"
         },
         "name": "cluster_2, Lsb001_38",
         "showlegend": true,
         "type": "splom"
        },
        {
         "diagonal": {
          "visible": false
         },
         "dimensions": [
          {
           "axis": {
            "matches": true
           },
           "label": "plddt",
           "values": [
            89.1
           ]
          },
          {
           "axis": {
            "matches": true
           },
           "label": "ptm",
           "values": [
            0.559
           ]
          },
          {
           "axis": {
            "matches": true
           },
           "label": "total_score",
           "values": [
            -728.521
           ]
          },
          {
           "axis": {
            "matches": true
           },
           "label": "dG_separated",
           "values": [
            -31.455
           ]
          },
          {
           "axis": {
            "matches": true
           },
           "label": "dG_separated/dSASAx100",
           "values": [
            -2.292
           ]
          }
         ],
         "hovertemplate": "cluster=cluster_2<br>id_new=Lsb001_45<br>%{xaxis.title.text}=%{x}<br>%{yaxis.title.text}=%{y}<extra></extra>",
         "legendgroup": "cluster_2, Lsb001_45",
         "marker": {
          "color": "green",
          "symbol": "circle"
         },
         "name": "cluster_2, Lsb001_45",
         "showlegend": true,
         "type": "splom"
        },
        {
         "diagonal": {
          "visible": false
         },
         "dimensions": [
          {
           "axis": {
            "matches": true
           },
           "label": "plddt",
           "values": [
            89.1
           ]
          },
          {
           "axis": {
            "matches": true
           },
           "label": "ptm",
           "values": [
            0.562
           ]
          },
          {
           "axis": {
            "matches": true
           },
           "label": "total_score",
           "values": [
            -739.981
           ]
          },
          {
           "axis": {
            "matches": true
           },
           "label": "dG_separated",
           "values": [
            -56.314
           ]
          },
          {
           "axis": {
            "matches": true
           },
           "label": "dG_separated/dSASAx100",
           "values": [
            -2.579
           ]
          }
         ],
         "hovertemplate": "cluster=cluster_2<br>id_new=Lsb001_47<br>%{xaxis.title.text}=%{x}<br>%{yaxis.title.text}=%{y}<extra></extra>",
         "legendgroup": "cluster_2, Lsb001_47",
         "marker": {
          "color": "green",
          "symbol": "square"
         },
         "name": "cluster_2, Lsb001_47",
         "showlegend": true,
         "type": "splom"
        },
        {
         "diagonal": {
          "visible": false
         },
         "dimensions": [
          {
           "axis": {
            "matches": true
           },
           "label": "plddt",
           "values": [
            80.7
           ]
          },
          {
           "axis": {
            "matches": true
           },
           "label": "ptm",
           "values": [
            0.547
           ]
          },
          {
           "axis": {
            "matches": true
           },
           "label": "total_score",
           "values": [
            -701.678
           ]
          },
          {
           "axis": {
            "matches": true
           },
           "label": "dG_separated",
           "values": [
            -49.452
           ]
          },
          {
           "axis": {
            "matches": true
           },
           "label": "dG_separated/dSASAx100",
           "values": [
            -2.497
           ]
          }
         ],
         "hovertemplate": "cluster=cluster_2<br>id_new=Lsb001_51<br>%{xaxis.title.text}=%{x}<br>%{yaxis.title.text}=%{y}<extra></extra>",
         "legendgroup": "cluster_2, Lsb001_51",
         "marker": {
          "color": "green",
          "symbol": "diamond"
         },
         "name": "cluster_2, Lsb001_51",
         "showlegend": true,
         "type": "splom"
        },
        {
         "diagonal": {
          "visible": false
         },
         "dimensions": [
          {
           "axis": {
            "matches": true
           },
           "label": "plddt",
           "values": [
            78.5
           ]
          },
          {
           "axis": {
            "matches": true
           },
           "label": "ptm",
           "values": [
            0.546
           ]
          },
          {
           "axis": {
            "matches": true
           },
           "label": "total_score",
           "values": [
            -722.785
           ]
          },
          {
           "axis": {
            "matches": true
           },
           "label": "dG_separated",
           "values": [
            -46.86
           ]
          },
          {
           "axis": {
            "matches": true
           },
           "label": "dG_separated/dSASAx100",
           "values": [
            -2.809
           ]
          }
         ],
         "hovertemplate": "cluster=cluster_2<br>id_new=Lsb001_52<br>%{xaxis.title.text}=%{x}<br>%{yaxis.title.text}=%{y}<extra></extra>",
         "legendgroup": "cluster_2, Lsb001_52",
         "marker": {
          "color": "green",
          "symbol": "square"
         },
         "name": "cluster_2, Lsb001_52",
         "showlegend": true,
         "type": "splom"
        },
        {
         "diagonal": {
          "visible": false
         },
         "dimensions": [
          {
           "axis": {
            "matches": true
           },
           "label": "plddt",
           "values": [
            80.6
           ]
          },
          {
           "axis": {
            "matches": true
           },
           "label": "ptm",
           "values": [
            0.551
           ]
          },
          {
           "axis": {
            "matches": true
           },
           "label": "total_score",
           "values": [
            -730.048
           ]
          },
          {
           "axis": {
            "matches": true
           },
           "label": "dG_separated",
           "values": [
            -23.623
           ]
          },
          {
           "axis": {
            "matches": true
           },
           "label": "dG_separated/dSASAx100",
           "values": [
            -2.293
           ]
          }
         ],
         "hovertemplate": "cluster=cluster_2<br>id_new=Lsb001_53<br>%{xaxis.title.text}=%{x}<br>%{yaxis.title.text}=%{y}<extra></extra>",
         "legendgroup": "cluster_2, Lsb001_53",
         "marker": {
          "color": "green",
          "symbol": "x"
         },
         "name": "cluster_2, Lsb001_53",
         "showlegend": true,
         "type": "splom"
        },
        {
         "diagonal": {
          "visible": false
         },
         "dimensions": [
          {
           "axis": {
            "matches": true
           },
           "label": "plddt",
           "values": [
            88.6
           ]
          },
          {
           "axis": {
            "matches": true
           },
           "label": "ptm",
           "values": [
            0.55
           ]
          },
          {
           "axis": {
            "matches": true
           },
           "label": "total_score",
           "values": [
            -721.664
           ]
          },
          {
           "axis": {
            "matches": true
           },
           "label": "dG_separated",
           "values": [
            -25.613
           ]
          },
          {
           "axis": {
            "matches": true
           },
           "label": "dG_separated/dSASAx100",
           "values": [
            -2.246
           ]
          }
         ],
         "hovertemplate": "cluster=cluster_2<br>id_new=Lsb001_55<br>%{xaxis.title.text}=%{x}<br>%{yaxis.title.text}=%{y}<extra></extra>",
         "legendgroup": "cluster_2, Lsb001_55",
         "marker": {
          "color": "green",
          "symbol": "circle"
         },
         "name": "cluster_2, Lsb001_55",
         "showlegend": true,
         "type": "splom"
        },
        {
         "diagonal": {
          "visible": false
         },
         "dimensions": [
          {
           "axis": {
            "matches": true
           },
           "label": "plddt",
           "values": [
            88.1
           ]
          },
          {
           "axis": {
            "matches": true
           },
           "label": "ptm",
           "values": [
            0.551
           ]
          },
          {
           "axis": {
            "matches": true
           },
           "label": "total_score",
           "values": [
            -730.286
           ]
          },
          {
           "axis": {
            "matches": true
           },
           "label": "dG_separated",
           "values": [
            -29.357
           ]
          },
          {
           "axis": {
            "matches": true
           },
           "label": "dG_separated/dSASAx100",
           "values": [
            -2.191
           ]
          }
         ],
         "hovertemplate": "cluster=cluster_2<br>id_new=Lsb001_56<br>%{xaxis.title.text}=%{x}<br>%{yaxis.title.text}=%{y}<extra></extra>",
         "legendgroup": "cluster_2, Lsb001_56",
         "marker": {
          "color": "green",
          "symbol": "diamond"
         },
         "name": "cluster_2, Lsb001_56",
         "showlegend": true,
         "type": "splom"
        },
        {
         "diagonal": {
          "visible": false
         },
         "dimensions": [
          {
           "axis": {
            "matches": true
           },
           "label": "plddt",
           "values": [
            80.8
           ]
          },
          {
           "axis": {
            "matches": true
           },
           "label": "ptm",
           "values": [
            0.548
           ]
          },
          {
           "axis": {
            "matches": true
           },
           "label": "total_score",
           "values": [
            -733.635
           ]
          },
          {
           "axis": {
            "matches": true
           },
           "label": "dG_separated",
           "values": [
            -27.3
           ]
          },
          {
           "axis": {
            "matches": true
           },
           "label": "dG_separated/dSASAx100",
           "values": [
            -2.479
           ]
          }
         ],
         "hovertemplate": "cluster=cluster_2<br>id_new=Lsb001_58<br>%{xaxis.title.text}=%{x}<br>%{yaxis.title.text}=%{y}<extra></extra>",
         "legendgroup": "cluster_2, Lsb001_58",
         "marker": {
          "color": "green",
          "symbol": "x"
         },
         "name": "cluster_2, Lsb001_58",
         "showlegend": true,
         "type": "splom"
        },
        {
         "diagonal": {
          "visible": false
         },
         "dimensions": [
          {
           "axis": {
            "matches": true
           },
           "label": "plddt",
           "values": [
            81.9
           ]
          },
          {
           "axis": {
            "matches": true
           },
           "label": "ptm",
           "values": [
            0.545
           ]
          },
          {
           "axis": {
            "matches": true
           },
           "label": "total_score",
           "values": [
            -740.397
           ]
          },
          {
           "axis": {
            "matches": true
           },
           "label": "dG_separated",
           "values": [
            -21.372
           ]
          },
          {
           "axis": {
            "matches": true
           },
           "label": "dG_separated/dSASAx100",
           "values": [
            -1.96
           ]
          }
         ],
         "hovertemplate": "cluster=cluster_2<br>id_new=Lsb001_59<br>%{xaxis.title.text}=%{x}<br>%{yaxis.title.text}=%{y}<extra></extra>",
         "legendgroup": "cluster_2, Lsb001_59",
         "marker": {
          "color": "green",
          "symbol": "cross"
         },
         "name": "cluster_2, Lsb001_59",
         "showlegend": true,
         "type": "splom"
        },
        {
         "diagonal": {
          "visible": false
         },
         "dimensions": [
          {
           "axis": {
            "matches": true
           },
           "label": "plddt",
           "values": [
            83.8
           ]
          },
          {
           "axis": {
            "matches": true
           },
           "label": "ptm",
           "values": [
            0.545
           ]
          },
          {
           "axis": {
            "matches": true
           },
           "label": "total_score",
           "values": [
            -650.948
           ]
          },
          {
           "axis": {
            "matches": true
           },
           "label": "dG_separated",
           "values": [
            -20.181
           ]
          },
          {
           "axis": {
            "matches": true
           },
           "label": "dG_separated/dSASAx100",
           "values": [
            -1.766
           ]
          }
         ],
         "hovertemplate": "cluster=cluster_2<br>id_new=Lsb001_60<br>%{xaxis.title.text}=%{x}<br>%{yaxis.title.text}=%{y}<extra></extra>",
         "legendgroup": "cluster_2, Lsb001_60",
         "marker": {
          "color": "green",
          "symbol": "circle"
         },
         "name": "cluster_2, Lsb001_60",
         "showlegend": true,
         "type": "splom"
        },
        {
         "diagonal": {
          "visible": false
         },
         "dimensions": [
          {
           "axis": {
            "matches": true
           },
           "label": "plddt",
           "values": [
            87
           ]
          },
          {
           "axis": {
            "matches": true
           },
           "label": "ptm",
           "values": [
            0.544
           ]
          },
          {
           "axis": {
            "matches": true
           },
           "label": "total_score",
           "values": [
            -675.137
           ]
          },
          {
           "axis": {
            "matches": true
           },
           "label": "dG_separated",
           "values": [
            -36.674
           ]
          },
          {
           "axis": {
            "matches": true
           },
           "label": "dG_separated/dSASAx100",
           "values": [
            -2.255
           ]
          }
         ],
         "hovertemplate": "cluster=cluster_2<br>id_new=Lsb001_61<br>%{xaxis.title.text}=%{x}<br>%{yaxis.title.text}=%{y}<extra></extra>",
         "legendgroup": "cluster_2, Lsb001_61",
         "marker": {
          "color": "green",
          "symbol": "diamond"
         },
         "name": "cluster_2, Lsb001_61",
         "showlegend": true,
         "type": "splom"
        },
        {
         "diagonal": {
          "visible": false
         },
         "dimensions": [
          {
           "axis": {
            "matches": true
           },
           "label": "plddt",
           "values": [
            79.9
           ]
          },
          {
           "axis": {
            "matches": true
           },
           "label": "ptm",
           "values": [
            0.531
           ]
          },
          {
           "axis": {
            "matches": true
           },
           "label": "total_score",
           "values": [
            -729.61
           ]
          },
          {
           "axis": {
            "matches": true
           },
           "label": "dG_separated",
           "values": [
            -23.839
           ]
          },
          {
           "axis": {
            "matches": true
           },
           "label": "dG_separated/dSASAx100",
           "values": [
            -1.955
           ]
          }
         ],
         "hovertemplate": "cluster=cluster_2<br>id_new=Lsb001_62<br>%{xaxis.title.text}=%{x}<br>%{yaxis.title.text}=%{y}<extra></extra>",
         "legendgroup": "cluster_2, Lsb001_62",
         "marker": {
          "color": "green",
          "symbol": "square"
         },
         "name": "cluster_2, Lsb001_62",
         "showlegend": true,
         "type": "splom"
        },
        {
         "diagonal": {
          "visible": false
         },
         "dimensions": [
          {
           "axis": {
            "matches": true
           },
           "label": "plddt",
           "values": [
            80.2
           ]
          },
          {
           "axis": {
            "matches": true
           },
           "label": "ptm",
           "values": [
            0.541
           ]
          },
          {
           "axis": {
            "matches": true
           },
           "label": "total_score",
           "values": [
            -735.148
           ]
          },
          {
           "axis": {
            "matches": true
           },
           "label": "dG_separated",
           "values": [
            -26.867
           ]
          },
          {
           "axis": {
            "matches": true
           },
           "label": "dG_separated/dSASAx100",
           "values": [
            -2.164
           ]
          }
         ],
         "hovertemplate": "cluster=cluster_2<br>id_new=Lsb001_64<br>%{xaxis.title.text}=%{x}<br>%{yaxis.title.text}=%{y}<extra></extra>",
         "legendgroup": "cluster_2, Lsb001_64",
         "marker": {
          "color": "green",
          "symbol": "cross"
         },
         "name": "cluster_2, Lsb001_64",
         "showlegend": true,
         "type": "splom"
        },
        {
         "diagonal": {
          "visible": false
         },
         "dimensions": [
          {
           "axis": {
            "matches": true
           },
           "label": "plddt",
           "values": [
            89.5
           ]
          },
          {
           "axis": {
            "matches": true
           },
           "label": "ptm",
           "values": [
            0.539
           ]
          },
          {
           "axis": {
            "matches": true
           },
           "label": "total_score",
           "values": [
            -733.918
           ]
          },
          {
           "axis": {
            "matches": true
           },
           "label": "dG_separated",
           "values": [
            -27.569
           ]
          },
          {
           "axis": {
            "matches": true
           },
           "label": "dG_separated/dSASAx100",
           "values": [
            -2.21
           ]
          }
         ],
         "hovertemplate": "cluster=cluster_2<br>id_new=Lsb001_65<br>%{xaxis.title.text}=%{x}<br>%{yaxis.title.text}=%{y}<extra></extra>",
         "legendgroup": "cluster_2, Lsb001_65",
         "marker": {
          "color": "green",
          "symbol": "circle"
         },
         "name": "cluster_2, Lsb001_65",
         "showlegend": true,
         "type": "splom"
        },
        {
         "diagonal": {
          "visible": false
         },
         "dimensions": [
          {
           "axis": {
            "matches": true
           },
           "label": "plddt",
           "values": [
            82.8
           ]
          },
          {
           "axis": {
            "matches": true
           },
           "label": "ptm",
           "values": [
            0.537
           ]
          },
          {
           "axis": {
            "matches": true
           },
           "label": "total_score",
           "values": [
            -726.865
           ]
          },
          {
           "axis": {
            "matches": true
           },
           "label": "dG_separated",
           "values": [
            -22.453
           ]
          },
          {
           "axis": {
            "matches": true
           },
           "label": "dG_separated/dSASAx100",
           "values": [
            -2.406
           ]
          }
         ],
         "hovertemplate": "cluster=cluster_2<br>id_new=Lsb001_66<br>%{xaxis.title.text}=%{x}<br>%{yaxis.title.text}=%{y}<extra></extra>",
         "legendgroup": "cluster_2, Lsb001_66",
         "marker": {
          "color": "green",
          "symbol": "diamond"
         },
         "name": "cluster_2, Lsb001_66",
         "showlegend": true,
         "type": "splom"
        },
        {
         "diagonal": {
          "visible": false
         },
         "dimensions": [
          {
           "axis": {
            "matches": true
           },
           "label": "plddt",
           "values": [
            80.3
           ]
          },
          {
           "axis": {
            "matches": true
           },
           "label": "ptm",
           "values": [
            0.525
           ]
          },
          {
           "axis": {
            "matches": true
           },
           "label": "total_score",
           "values": [
            -736.014
           ]
          },
          {
           "axis": {
            "matches": true
           },
           "label": "dG_separated",
           "values": [
            -31.934
           ]
          },
          {
           "axis": {
            "matches": true
           },
           "label": "dG_separated/dSASAx100",
           "values": [
            -2.504
           ]
          }
         ],
         "hovertemplate": "cluster=cluster_2<br>id_new=Lsb001_75<br>%{xaxis.title.text}=%{x}<br>%{yaxis.title.text}=%{y}<extra></extra>",
         "legendgroup": "cluster_2, Lsb001_75",
         "marker": {
          "color": "green",
          "symbol": "circle"
         },
         "name": "cluster_2, Lsb001_75",
         "showlegend": true,
         "type": "splom"
        },
        {
         "diagonal": {
          "visible": false
         },
         "dimensions": [
          {
           "axis": {
            "matches": true
           },
           "label": "plddt",
           "values": [
            80.6
           ]
          },
          {
           "axis": {
            "matches": true
           },
           "label": "ptm",
           "values": [
            0.526
           ]
          },
          {
           "axis": {
            "matches": true
           },
           "label": "total_score",
           "values": [
            -722.456
           ]
          },
          {
           "axis": {
            "matches": true
           },
           "label": "dG_separated",
           "values": [
            -50.27
           ]
          },
          {
           "axis": {
            "matches": true
           },
           "label": "dG_separated/dSASAx100",
           "values": [
            -2.944
           ]
          }
         ],
         "hovertemplate": "cluster=cluster_2<br>id_new=Lsb001_78<br>%{xaxis.title.text}=%{x}<br>%{yaxis.title.text}=%{y}<extra></extra>",
         "legendgroup": "cluster_2, Lsb001_78",
         "marker": {
          "color": "green",
          "symbol": "x"
         },
         "name": "cluster_2, Lsb001_78",
         "showlegend": true,
         "type": "splom"
        },
        {
         "diagonal": {
          "visible": false
         },
         "dimensions": [
          {
           "axis": {
            "matches": true
           },
           "label": "plddt",
           "values": [
            78.5
           ]
          },
          {
           "axis": {
            "matches": true
           },
           "label": "ptm",
           "values": [
            0.535
           ]
          },
          {
           "axis": {
            "matches": true
           },
           "label": "total_score",
           "values": [
            -726.028
           ]
          },
          {
           "axis": {
            "matches": true
           },
           "label": "dG_separated",
           "values": [
            -35.313
           ]
          },
          {
           "axis": {
            "matches": true
           },
           "label": "dG_separated/dSASAx100",
           "values": [
            -2.204
           ]
          }
         ],
         "hovertemplate": "cluster=cluster_2<br>id_new=Lsb001_79<br>%{xaxis.title.text}=%{x}<br>%{yaxis.title.text}=%{y}<extra></extra>",
         "legendgroup": "cluster_2, Lsb001_79",
         "marker": {
          "color": "green",
          "symbol": "cross"
         },
         "name": "cluster_2, Lsb001_79",
         "showlegend": true,
         "type": "splom"
        },
        {
         "diagonal": {
          "visible": false
         },
         "dimensions": [
          {
           "axis": {
            "matches": true
           },
           "label": "plddt",
           "values": [
            83
           ]
          },
          {
           "axis": {
            "matches": true
           },
           "label": "ptm",
           "values": [
            0.528
           ]
          },
          {
           "axis": {
            "matches": true
           },
           "label": "total_score",
           "values": [
            -728.993
           ]
          },
          {
           "axis": {
            "matches": true
           },
           "label": "dG_separated",
           "values": [
            -17.072
           ]
          },
          {
           "axis": {
            "matches": true
           },
           "label": "dG_separated/dSASAx100",
           "values": [
            -2.225
           ]
          }
         ],
         "hovertemplate": "cluster=cluster_2<br>id_new=Lsb001_81<br>%{xaxis.title.text}=%{x}<br>%{yaxis.title.text}=%{y}<extra></extra>",
         "legendgroup": "cluster_2, Lsb001_81",
         "marker": {
          "color": "green",
          "symbol": "diamond"
         },
         "name": "cluster_2, Lsb001_81",
         "showlegend": true,
         "type": "splom"
        },
        {
         "diagonal": {
          "visible": false
         },
         "dimensions": [
          {
           "axis": {
            "matches": true
           },
           "label": "plddt",
           "values": [
            81.3
           ]
          },
          {
           "axis": {
            "matches": true
           },
           "label": "ptm",
           "values": [
            0.527
           ]
          },
          {
           "axis": {
            "matches": true
           },
           "label": "total_score",
           "values": [
            -732.287
           ]
          },
          {
           "axis": {
            "matches": true
           },
           "label": "dG_separated",
           "values": [
            -30.182
           ]
          },
          {
           "axis": {
            "matches": true
           },
           "label": "dG_separated/dSASAx100",
           "values": [
            -2.292
           ]
          }
         ],
         "hovertemplate": "cluster=cluster_2<br>id_new=Lsb001_82<br>%{xaxis.title.text}=%{x}<br>%{yaxis.title.text}=%{y}<extra></extra>",
         "legendgroup": "cluster_2, Lsb001_82",
         "marker": {
          "color": "green",
          "symbol": "square"
         },
         "name": "cluster_2, Lsb001_82",
         "showlegend": true,
         "type": "splom"
        },
        {
         "diagonal": {
          "visible": false
         },
         "dimensions": [
          {
           "axis": {
            "matches": true
           },
           "label": "plddt",
           "values": [
            82.6
           ]
          },
          {
           "axis": {
            "matches": true
           },
           "label": "ptm",
           "values": [
            0.517
           ]
          },
          {
           "axis": {
            "matches": true
           },
           "label": "total_score",
           "values": [
            -749.843
           ]
          },
          {
           "axis": {
            "matches": true
           },
           "label": "dG_separated",
           "values": [
            -37.126
           ]
          },
          {
           "axis": {
            "matches": true
           },
           "label": "dG_separated/dSASAx100",
           "values": [
            -2.667
           ]
          }
         ],
         "hovertemplate": "cluster=cluster_2<br>id_new=Lsb001_83<br>%{xaxis.title.text}=%{x}<br>%{yaxis.title.text}=%{y}<extra></extra>",
         "legendgroup": "cluster_2, Lsb001_83",
         "marker": {
          "color": "green",
          "symbol": "x"
         },
         "name": "cluster_2, Lsb001_83",
         "showlegend": true,
         "type": "splom"
        },
        {
         "diagonal": {
          "visible": false
         },
         "dimensions": [
          {
           "axis": {
            "matches": true
           },
           "label": "plddt",
           "values": [
            82.8
           ]
          },
          {
           "axis": {
            "matches": true
           },
           "label": "ptm",
           "values": [
            0.515
           ]
          },
          {
           "axis": {
            "matches": true
           },
           "label": "total_score",
           "values": [
            -750.216
           ]
          },
          {
           "axis": {
            "matches": true
           },
           "label": "dG_separated",
           "values": [
            -22.507
           ]
          },
          {
           "axis": {
            "matches": true
           },
           "label": "dG_separated/dSASAx100",
           "values": [
            -1.875
           ]
          }
         ],
         "hovertemplate": "cluster=cluster_2<br>id_new=Lsb001_84<br>%{xaxis.title.text}=%{x}<br>%{yaxis.title.text}=%{y}<extra></extra>",
         "legendgroup": "cluster_2, Lsb001_84",
         "marker": {
          "color": "green",
          "symbol": "cross"
         },
         "name": "cluster_2, Lsb001_84",
         "showlegend": true,
         "type": "splom"
        },
        {
         "diagonal": {
          "visible": false
         },
         "dimensions": [
          {
           "axis": {
            "matches": true
           },
           "label": "plddt",
           "values": [
            92.9
           ]
          },
          {
           "axis": {
            "matches": true
           },
           "label": "ptm",
           "values": [
            0.887
           ]
          },
          {
           "axis": {
            "matches": true
           },
           "label": "total_score",
           "values": [
            -749.2
           ]
          },
          {
           "axis": {
            "matches": true
           },
           "label": "dG_separated",
           "values": [
            -48.092
           ]
          },
          {
           "axis": {
            "matches": true
           },
           "label": "dG_separated/dSASAx100",
           "values": [
            -2.376
           ]
          }
         ],
         "hovertemplate": "cluster=cluster_1<br>id_new=Lsb001_01<br>%{xaxis.title.text}=%{x}<br>%{yaxis.title.text}=%{y}<extra></extra>",
         "legendgroup": "cluster_1, Lsb001_01",
         "marker": {
          "color": "orange",
          "symbol": "diamond"
         },
         "name": "cluster_1, Lsb001_01",
         "showlegend": true,
         "type": "splom"
        },
        {
         "diagonal": {
          "visible": false
         },
         "dimensions": [
          {
           "axis": {
            "matches": true
           },
           "label": "plddt",
           "values": [
            86.2
           ]
          },
          {
           "axis": {
            "matches": true
           },
           "label": "ptm",
           "values": [
            0.656
           ]
          },
          {
           "axis": {
            "matches": true
           },
           "label": "total_score",
           "values": [
            -726.22
           ]
          },
          {
           "axis": {
            "matches": true
           },
           "label": "dG_separated",
           "values": [
            -54.358
           ]
          },
          {
           "axis": {
            "matches": true
           },
           "label": "dG_separated/dSASAx100",
           "values": [
            -2.853
           ]
          }
         ],
         "hovertemplate": "cluster=cluster_1<br>id_new=Lsb001_16<br>%{xaxis.title.text}=%{x}<br>%{yaxis.title.text}=%{y}<extra></extra>",
         "legendgroup": "cluster_1, Lsb001_16",
         "marker": {
          "color": "orange",
          "symbol": "diamond"
         },
         "name": "cluster_1, Lsb001_16",
         "showlegend": true,
         "type": "splom"
        },
        {
         "diagonal": {
          "visible": false
         },
         "dimensions": [
          {
           "axis": {
            "matches": true
           },
           "label": "plddt",
           "values": [
            86.8
           ]
          },
          {
           "axis": {
            "matches": true
           },
           "label": "ptm",
           "values": [
            0.669
           ]
          },
          {
           "axis": {
            "matches": true
           },
           "label": "total_score",
           "values": [
            -729.775
           ]
          },
          {
           "axis": {
            "matches": true
           },
           "label": "dG_separated",
           "values": [
            -43.279
           ]
          },
          {
           "axis": {
            "matches": true
           },
           "label": "dG_separated/dSASAx100",
           "values": [
            -2.333
           ]
          }
         ],
         "hovertemplate": "cluster=cluster_1<br>id_new=Lsb001_17<br>%{xaxis.title.text}=%{x}<br>%{yaxis.title.text}=%{y}<extra></extra>",
         "legendgroup": "cluster_1, Lsb001_17",
         "marker": {
          "color": "orange",
          "symbol": "square"
         },
         "name": "cluster_1, Lsb001_17",
         "showlegend": true,
         "type": "splom"
        },
        {
         "diagonal": {
          "visible": false
         },
         "dimensions": [
          {
           "axis": {
            "matches": true
           },
           "label": "plddt",
           "values": [
            87.7
           ]
          },
          {
           "axis": {
            "matches": true
           },
           "label": "ptm",
           "values": [
            0.662
           ]
          },
          {
           "axis": {
            "matches": true
           },
           "label": "total_score",
           "values": [
            -707.664
           ]
          },
          {
           "axis": {
            "matches": true
           },
           "label": "dG_separated",
           "values": [
            -38.786
           ]
          },
          {
           "axis": {
            "matches": true
           },
           "label": "dG_separated/dSASAx100",
           "values": [
            -2.486
           ]
          }
         ],
         "hovertemplate": "cluster=cluster_1<br>id_new=Lsb001_18<br>%{xaxis.title.text}=%{x}<br>%{yaxis.title.text}=%{y}<extra></extra>",
         "legendgroup": "cluster_1, Lsb001_18",
         "marker": {
          "color": "orange",
          "symbol": "x"
         },
         "name": "cluster_1, Lsb001_18",
         "showlegend": true,
         "type": "splom"
        },
        {
         "diagonal": {
          "visible": false
         },
         "dimensions": [
          {
           "axis": {
            "matches": true
           },
           "label": "plddt",
           "values": [
            87.8
           ]
          },
          {
           "axis": {
            "matches": true
           },
           "label": "ptm",
           "values": [
            0.611
           ]
          },
          {
           "axis": {
            "matches": true
           },
           "label": "total_score",
           "values": [
            -719.039
           ]
          },
          {
           "axis": {
            "matches": true
           },
           "label": "dG_separated",
           "values": [
            -28.482
           ]
          },
          {
           "axis": {
            "matches": true
           },
           "label": "dG_separated/dSASAx100",
           "values": [
            -2.815
           ]
          }
         ],
         "hovertemplate": "cluster=cluster_1<br>id_new=Lsb001_28<br>%{xaxis.title.text}=%{x}<br>%{yaxis.title.text}=%{y}<extra></extra>",
         "legendgroup": "cluster_1, Lsb001_28",
         "marker": {
          "color": "orange",
          "symbol": "x"
         },
         "name": "cluster_1, Lsb001_28",
         "showlegend": true,
         "type": "splom"
        },
        {
         "diagonal": {
          "visible": false
         },
         "dimensions": [
          {
           "axis": {
            "matches": true
           },
           "label": "plddt",
           "values": [
            82.5
           ]
          },
          {
           "axis": {
            "matches": true
           },
           "label": "ptm",
           "values": [
            0.594
           ]
          },
          {
           "axis": {
            "matches": true
           },
           "label": "total_score",
           "values": [
            -724.379
           ]
          },
          {
           "axis": {
            "matches": true
           },
           "label": "dG_separated",
           "values": [
            -27.877
           ]
          },
          {
           "axis": {
            "matches": true
           },
           "label": "dG_separated/dSASAx100",
           "values": [
            -1.919
           ]
          }
         ],
         "hovertemplate": "cluster=cluster_1<br>id_new=Lsb001_33<br>%{xaxis.title.text}=%{x}<br>%{yaxis.title.text}=%{y}<extra></extra>",
         "legendgroup": "cluster_1, Lsb001_33",
         "marker": {
          "color": "orange",
          "symbol": "x"
         },
         "name": "cluster_1, Lsb001_33",
         "showlegend": true,
         "type": "splom"
        },
        {
         "diagonal": {
          "visible": false
         },
         "dimensions": [
          {
           "axis": {
            "matches": true
           },
           "label": "plddt",
           "values": [
            83.5
           ]
          },
          {
           "axis": {
            "matches": true
           },
           "label": "ptm",
           "values": [
            0.605
           ]
          },
          {
           "axis": {
            "matches": true
           },
           "label": "total_score",
           "values": [
            -628.556
           ]
          },
          {
           "axis": {
            "matches": true
           },
           "label": "dG_separated",
           "values": [
            -20.49
           ]
          },
          {
           "axis": {
            "matches": true
           },
           "label": "dG_separated/dSASAx100",
           "values": [
            -1.933
           ]
          }
         ],
         "hovertemplate": "cluster=cluster_1<br>id_new=Lsb001_34<br>%{xaxis.title.text}=%{x}<br>%{yaxis.title.text}=%{y}<extra></extra>",
         "legendgroup": "cluster_1, Lsb001_34",
         "marker": {
          "color": "orange",
          "symbol": "cross"
         },
         "name": "cluster_1, Lsb001_34",
         "showlegend": true,
         "type": "splom"
        },
        {
         "diagonal": {
          "visible": false
         },
         "dimensions": [
          {
           "axis": {
            "matches": true
           },
           "label": "plddt",
           "values": [
            83.6
           ]
          },
          {
           "axis": {
            "matches": true
           },
           "label": "ptm",
           "values": [
            0.563
           ]
          },
          {
           "axis": {
            "matches": true
           },
           "label": "total_score",
           "values": [
            -735.7
           ]
          },
          {
           "axis": {
            "matches": true
           },
           "label": "dG_separated",
           "values": [
            -34.189
           ]
          },
          {
           "axis": {
            "matches": true
           },
           "label": "dG_separated/dSASAx100",
           "values": [
            -2.407
           ]
          }
         ],
         "hovertemplate": "cluster=cluster_1<br>id_new=Lsb001_42<br>%{xaxis.title.text}=%{x}<br>%{yaxis.title.text}=%{y}<extra></extra>",
         "legendgroup": "cluster_1, Lsb001_42",
         "marker": {
          "color": "orange",
          "symbol": "square"
         },
         "name": "cluster_1, Lsb001_42",
         "showlegend": true,
         "type": "splom"
        },
        {
         "diagonal": {
          "visible": false
         },
         "dimensions": [
          {
           "axis": {
            "matches": true
           },
           "label": "plddt",
           "values": [
            84.4
           ]
          },
          {
           "axis": {
            "matches": true
           },
           "label": "ptm",
           "values": [
            0.56
           ]
          },
          {
           "axis": {
            "matches": true
           },
           "label": "total_score",
           "values": [
            -740.646
           ]
          },
          {
           "axis": {
            "matches": true
           },
           "label": "dG_separated",
           "values": [
            -37.039
           ]
          },
          {
           "axis": {
            "matches": true
           },
           "label": "dG_separated/dSASAx100",
           "values": [
            -2.494
           ]
          }
         ],
         "hovertemplate": "cluster=cluster_1<br>id_new=Lsb001_43<br>%{xaxis.title.text}=%{x}<br>%{yaxis.title.text}=%{y}<extra></extra>",
         "legendgroup": "cluster_1, Lsb001_43",
         "marker": {
          "color": "orange",
          "symbol": "x"
         },
         "name": "cluster_1, Lsb001_43",
         "showlegend": true,
         "type": "splom"
        },
        {
         "diagonal": {
          "visible": false
         },
         "dimensions": [
          {
           "axis": {
            "matches": true
           },
           "label": "plddt",
           "values": [
            82
           ]
          },
          {
           "axis": {
            "matches": true
           },
           "label": "ptm",
           "values": [
            0.56
           ]
          },
          {
           "axis": {
            "matches": true
           },
           "label": "total_score",
           "values": [
            -725.319
           ]
          },
          {
           "axis": {
            "matches": true
           },
           "label": "dG_separated",
           "values": [
            -21.139
           ]
          },
          {
           "axis": {
            "matches": true
           },
           "label": "dG_separated/dSASAx100",
           "values": [
            -1.906
           ]
          }
         ],
         "hovertemplate": "cluster=cluster_1<br>id_new=Lsb001_44<br>%{xaxis.title.text}=%{x}<br>%{yaxis.title.text}=%{y}<extra></extra>",
         "legendgroup": "cluster_1, Lsb001_44",
         "marker": {
          "color": "orange",
          "symbol": "cross"
         },
         "name": "cluster_1, Lsb001_44",
         "showlegend": true,
         "type": "splom"
        },
        {
         "diagonal": {
          "visible": false
         },
         "dimensions": [
          {
           "axis": {
            "matches": true
           },
           "label": "plddt",
           "values": [
            83.9
           ]
          },
          {
           "axis": {
            "matches": true
           },
           "label": "ptm",
           "values": [
            0.552
           ]
          },
          {
           "axis": {
            "matches": true
           },
           "label": "total_score",
           "values": [
            -750.393
           ]
          },
          {
           "axis": {
            "matches": true
           },
           "label": "dG_separated",
           "values": [
            -31.58
           ]
          },
          {
           "axis": {
            "matches": true
           },
           "label": "dG_separated/dSASAx100",
           "values": [
            -2.873
           ]
          }
         ],
         "hovertemplate": "cluster=cluster_1<br>id_new=Lsb001_48<br>%{xaxis.title.text}=%{x}<br>%{yaxis.title.text}=%{y}<extra></extra>",
         "legendgroup": "cluster_1, Lsb001_48",
         "marker": {
          "color": "orange",
          "symbol": "x"
         },
         "name": "cluster_1, Lsb001_48",
         "showlegend": true,
         "type": "splom"
        },
        {
         "diagonal": {
          "visible": false
         },
         "dimensions": [
          {
           "axis": {
            "matches": true
           },
           "label": "plddt",
           "values": [
            87.6
           ]
          },
          {
           "axis": {
            "matches": true
           },
           "label": "ptm",
           "values": [
            0.557
           ]
          },
          {
           "axis": {
            "matches": true
           },
           "label": "total_score",
           "values": [
            -575.12
           ]
          },
          {
           "axis": {
            "matches": true
           },
           "label": "dG_separated",
           "values": [
            -3.493
           ]
          },
          {
           "axis": {
            "matches": true
           },
           "label": "dG_separated/dSASAx100",
           "values": [
            -0.213
           ]
          }
         ],
         "hovertemplate": "cluster=cluster_1<br>id_new=Lsb001_57<br>%{xaxis.title.text}=%{x}<br>%{yaxis.title.text}=%{y}<extra></extra>",
         "legendgroup": "cluster_1, Lsb001_57",
         "marker": {
          "color": "orange",
          "symbol": "square"
         },
         "name": "cluster_1, Lsb001_57",
         "showlegend": true,
         "type": "splom"
        },
        {
         "diagonal": {
          "visible": false
         },
         "dimensions": [
          {
           "axis": {
            "matches": true
           },
           "label": "plddt",
           "values": [
            81.9
           ]
          },
          {
           "axis": {
            "matches": true
           },
           "label": "ptm",
           "values": [
            0.539
           ]
          },
          {
           "axis": {
            "matches": true
           },
           "label": "total_score",
           "values": [
            -733.852
           ]
          },
          {
           "axis": {
            "matches": true
           },
           "label": "dG_separated",
           "values": [
            -17.754
           ]
          },
          {
           "axis": {
            "matches": true
           },
           "label": "dG_separated/dSASAx100",
           "values": [
            -2.144
           ]
          }
         ],
         "hovertemplate": "cluster=cluster_1<br>id_new=Lsb001_67<br>%{xaxis.title.text}=%{x}<br>%{yaxis.title.text}=%{y}<extra></extra>",
         "legendgroup": "cluster_1, Lsb001_67",
         "marker": {
          "color": "orange",
          "symbol": "square"
         },
         "name": "cluster_1, Lsb001_67",
         "showlegend": true,
         "type": "splom"
        },
        {
         "diagonal": {
          "visible": false
         },
         "dimensions": [
          {
           "axis": {
            "matches": true
           },
           "label": "plddt",
           "values": [
            82.6
           ]
          },
          {
           "axis": {
            "matches": true
           },
           "label": "ptm",
           "values": [
            0.532
           ]
          },
          {
           "axis": {
            "matches": true
           },
           "label": "total_score",
           "values": [
            -737.546
           ]
          },
          {
           "axis": {
            "matches": true
           },
           "label": "dG_separated",
           "values": [
            -28.259
           ]
          },
          {
           "axis": {
            "matches": true
           },
           "label": "dG_separated/dSASAx100",
           "values": [
            -1.955
           ]
          }
         ],
         "hovertemplate": "cluster=cluster_1<br>id_new=Lsb001_70<br>%{xaxis.title.text}=%{x}<br>%{yaxis.title.text}=%{y}<extra></extra>",
         "legendgroup": "cluster_1, Lsb001_70",
         "marker": {
          "color": "orange",
          "symbol": "circle"
         },
         "name": "cluster_1, Lsb001_70",
         "showlegend": true,
         "type": "splom"
        },
        {
         "diagonal": {
          "visible": false
         },
         "dimensions": [
          {
           "axis": {
            "matches": true
           },
           "label": "plddt",
           "values": [
            82.2
           ]
          },
          {
           "axis": {
            "matches": true
           },
           "label": "ptm",
           "values": [
            0.532
           ]
          },
          {
           "axis": {
            "matches": true
           },
           "label": "total_score",
           "values": [
            -733.999
           ]
          },
          {
           "axis": {
            "matches": true
           },
           "label": "dG_separated",
           "values": [
            -38.574
           ]
          },
          {
           "axis": {
            "matches": true
           },
           "label": "dG_separated/dSASAx100",
           "values": [
            -2.469
           ]
          }
         ],
         "hovertemplate": "cluster=cluster_1<br>id_new=Lsb001_71<br>%{xaxis.title.text}=%{x}<br>%{yaxis.title.text}=%{y}<extra></extra>",
         "legendgroup": "cluster_1, Lsb001_71",
         "marker": {
          "color": "orange",
          "symbol": "diamond"
         },
         "name": "cluster_1, Lsb001_71",
         "showlegend": true,
         "type": "splom"
        },
        {
         "diagonal": {
          "visible": false
         },
         "dimensions": [
          {
           "axis": {
            "matches": true
           },
           "label": "plddt",
           "values": [
            81.3
           ]
          },
          {
           "axis": {
            "matches": true
           },
           "label": "ptm",
           "values": [
            0.53
           ]
          },
          {
           "axis": {
            "matches": true
           },
           "label": "total_score",
           "values": [
            -737.423
           ]
          },
          {
           "axis": {
            "matches": true
           },
           "label": "dG_separated",
           "values": [
            -23.854
           ]
          },
          {
           "axis": {
            "matches": true
           },
           "label": "dG_separated/dSASAx100",
           "values": [
            -2.675
           ]
          }
         ],
         "hovertemplate": "cluster=cluster_1<br>id_new=Lsb001_72<br>%{xaxis.title.text}=%{x}<br>%{yaxis.title.text}=%{y}<extra></extra>",
         "legendgroup": "cluster_1, Lsb001_72",
         "marker": {
          "color": "orange",
          "symbol": "square"
         },
         "name": "cluster_1, Lsb001_72",
         "showlegend": true,
         "type": "splom"
        },
        {
         "diagonal": {
          "visible": false
         },
         "dimensions": [
          {
           "axis": {
            "matches": true
           },
           "label": "plddt",
           "values": [
            82.8
           ]
          },
          {
           "axis": {
            "matches": true
           },
           "label": "ptm",
           "values": [
            0.527
           ]
          },
          {
           "axis": {
            "matches": true
           },
           "label": "total_score",
           "values": [
            -744.257
           ]
          },
          {
           "axis": {
            "matches": true
           },
           "label": "dG_separated",
           "values": [
            -26.134
           ]
          },
          {
           "axis": {
            "matches": true
           },
           "label": "dG_separated/dSASAx100",
           "values": [
            -1.98
           ]
          }
         ],
         "hovertemplate": "cluster=cluster_1<br>id_new=Lsb001_74<br>%{xaxis.title.text}=%{x}<br>%{yaxis.title.text}=%{y}<extra></extra>",
         "legendgroup": "cluster_1, Lsb001_74",
         "marker": {
          "color": "orange",
          "symbol": "cross"
         },
         "name": "cluster_1, Lsb001_74",
         "showlegend": true,
         "type": "splom"
        },
        {
         "diagonal": {
          "visible": false
         },
         "dimensions": [
          {
           "axis": {
            "matches": true
           },
           "label": "plddt",
           "values": [
            81.9
           ]
          },
          {
           "axis": {
            "matches": true
           },
           "label": "ptm",
           "values": [
            0.527
           ]
          },
          {
           "axis": {
            "matches": true
           },
           "label": "total_score",
           "values": [
            -727.365
           ]
          },
          {
           "axis": {
            "matches": true
           },
           "label": "dG_separated",
           "values": [
            -35.135
           ]
          },
          {
           "axis": {
            "matches": true
           },
           "label": "dG_separated/dSASAx100",
           "values": [
            -2.763
           ]
          }
         ],
         "hovertemplate": "cluster=cluster_1<br>id_new=Lsb001_77<br>%{xaxis.title.text}=%{x}<br>%{yaxis.title.text}=%{y}<extra></extra>",
         "legendgroup": "cluster_1, Lsb001_77",
         "marker": {
          "color": "orange",
          "symbol": "square"
         },
         "name": "cluster_1, Lsb001_77",
         "showlegend": true,
         "type": "splom"
        },
        {
         "diagonal": {
          "visible": false
         },
         "dimensions": [
          {
           "axis": {
            "matches": true
           },
           "label": "plddt",
           "values": [
            87.7
           ]
          },
          {
           "axis": {
            "matches": true
           },
           "label": "ptm",
           "values": [
            0.732
           ]
          },
          {
           "axis": {
            "matches": true
           },
           "label": "total_score",
           "values": [
            -743.006
           ]
          },
          {
           "axis": {
            "matches": true
           },
           "label": "dG_separated",
           "values": [
            -40.593
           ]
          },
          {
           "axis": {
            "matches": true
           },
           "label": "dG_separated/dSASAx100",
           "values": [
            -2.868
           ]
          }
         ],
         "hovertemplate": "cluster=cluster_3<br>id_new=Lsb001_07<br>%{xaxis.title.text}=%{x}<br>%{yaxis.title.text}=%{y}<extra></extra>",
         "legendgroup": "cluster_3, Lsb001_07",
         "marker": {
          "color": "red",
          "symbol": "square"
         },
         "name": "cluster_3, Lsb001_07",
         "showlegend": true,
         "type": "splom"
        },
        {
         "diagonal": {
          "visible": false
         },
         "dimensions": [
          {
           "axis": {
            "matches": true
           },
           "label": "plddt",
           "values": [
            90.2
           ]
          },
          {
           "axis": {
            "matches": true
           },
           "label": "ptm",
           "values": [
            0.711
           ]
          },
          {
           "axis": {
            "matches": true
           },
           "label": "total_score",
           "values": [
            -753.402
           ]
          },
          {
           "axis": {
            "matches": true
           },
           "label": "dG_separated",
           "values": [
            -50.577
           ]
          },
          {
           "axis": {
            "matches": true
           },
           "label": "dG_separated/dSASAx100",
           "values": [
            -2.506
           ]
          }
         ],
         "hovertemplate": "cluster=cluster_3<br>id_new=Lsb001_10<br>%{xaxis.title.text}=%{x}<br>%{yaxis.title.text}=%{y}<extra></extra>",
         "legendgroup": "cluster_3, Lsb001_10",
         "marker": {
          "color": "red",
          "symbol": "circle"
         },
         "name": "cluster_3, Lsb001_10",
         "showlegend": true,
         "type": "splom"
        },
        {
         "diagonal": {
          "visible": false
         },
         "dimensions": [
          {
           "axis": {
            "matches": true
           },
           "label": "plddt",
           "values": [
            87.1
           ]
          },
          {
           "axis": {
            "matches": true
           },
           "label": "ptm",
           "values": [
            0.701
           ]
          },
          {
           "axis": {
            "matches": true
           },
           "label": "total_score",
           "values": [
            -714.44
           ]
          },
          {
           "axis": {
            "matches": true
           },
           "label": "dG_separated",
           "values": [
            -40.856
           ]
          },
          {
           "axis": {
            "matches": true
           },
           "label": "dG_separated/dSASAx100",
           "values": [
            -2.476
           ]
          }
         ],
         "hovertemplate": "cluster=cluster_3<br>id_new=Lsb001_11<br>%{xaxis.title.text}=%{x}<br>%{yaxis.title.text}=%{y}<extra></extra>",
         "legendgroup": "cluster_3, Lsb001_11",
         "marker": {
          "color": "red",
          "symbol": "diamond"
         },
         "name": "cluster_3, Lsb001_11",
         "showlegend": true,
         "type": "splom"
        },
        {
         "diagonal": {
          "visible": false
         },
         "dimensions": [
          {
           "axis": {
            "matches": true
           },
           "label": "plddt",
           "values": [
            90.8
           ]
          },
          {
           "axis": {
            "matches": true
           },
           "label": "ptm",
           "values": [
            0.685
           ]
          },
          {
           "axis": {
            "matches": true
           },
           "label": "total_score",
           "values": [
            -726.076
           ]
          },
          {
           "axis": {
            "matches": true
           },
           "label": "dG_separated",
           "values": [
            -29.364
           ]
          },
          {
           "axis": {
            "matches": true
           },
           "label": "dG_separated/dSASAx100",
           "values": [
            -2.763
           ]
          }
         ],
         "hovertemplate": "cluster=cluster_3<br>id_new=Lsb001_12<br>%{xaxis.title.text}=%{x}<br>%{yaxis.title.text}=%{y}<extra></extra>",
         "legendgroup": "cluster_3, Lsb001_12",
         "marker": {
          "color": "red",
          "symbol": "square"
         },
         "name": "cluster_3, Lsb001_12",
         "showlegend": true,
         "type": "splom"
        },
        {
         "diagonal": {
          "visible": false
         },
         "dimensions": [
          {
           "axis": {
            "matches": true
           },
           "label": "plddt",
           "values": [
            86.1
           ]
          },
          {
           "axis": {
            "matches": true
           },
           "label": "ptm",
           "values": [
            0.673
           ]
          },
          {
           "axis": {
            "matches": true
           },
           "label": "total_score",
           "values": [
            -699.292
           ]
          },
          {
           "axis": {
            "matches": true
           },
           "label": "dG_separated",
           "values": [
            -30.387
           ]
          },
          {
           "axis": {
            "matches": true
           },
           "label": "dG_separated/dSASAx100",
           "values": [
            -2.344
           ]
          }
         ],
         "hovertemplate": "cluster=cluster_3<br>id_new=Lsb001_15<br>%{xaxis.title.text}=%{x}<br>%{yaxis.title.text}=%{y}<extra></extra>",
         "legendgroup": "cluster_3, Lsb001_15",
         "marker": {
          "color": "red",
          "symbol": "circle"
         },
         "name": "cluster_3, Lsb001_15",
         "showlegend": true,
         "type": "splom"
        },
        {
         "diagonal": {
          "visible": false
         },
         "dimensions": [
          {
           "axis": {
            "matches": true
           },
           "label": "plddt",
           "values": [
            85.8
           ]
          },
          {
           "axis": {
            "matches": true
           },
           "label": "ptm",
           "values": [
            0.646
           ]
          },
          {
           "axis": {
            "matches": true
           },
           "label": "total_score",
           "values": [
            -710.091
           ]
          },
          {
           "axis": {
            "matches": true
           },
           "label": "dG_separated",
           "values": [
            -30.325
           ]
          },
          {
           "axis": {
            "matches": true
           },
           "label": "dG_separated/dSASAx100",
           "values": [
            -2.41
           ]
          }
         ],
         "hovertemplate": "cluster=cluster_3<br>id_new=Lsb001_19<br>%{xaxis.title.text}=%{x}<br>%{yaxis.title.text}=%{y}<extra></extra>",
         "legendgroup": "cluster_3, Lsb001_19",
         "marker": {
          "color": "red",
          "symbol": "cross"
         },
         "name": "cluster_3, Lsb001_19",
         "showlegend": true,
         "type": "splom"
        },
        {
         "diagonal": {
          "visible": false
         },
         "dimensions": [
          {
           "axis": {
            "matches": true
           },
           "label": "plddt",
           "values": [
            90.1
           ]
          },
          {
           "axis": {
            "matches": true
           },
           "label": "ptm",
           "values": [
            0.642
           ]
          },
          {
           "axis": {
            "matches": true
           },
           "label": "total_score",
           "values": [
            -723.357
           ]
          },
          {
           "axis": {
            "matches": true
           },
           "label": "dG_separated",
           "values": [
            -18.725
           ]
          },
          {
           "axis": {
            "matches": true
           },
           "label": "dG_separated/dSASAx100",
           "values": [
            -2.143
           ]
          }
         ],
         "hovertemplate": "cluster=cluster_3<br>id_new=Lsb001_21<br>%{xaxis.title.text}=%{x}<br>%{yaxis.title.text}=%{y}<extra></extra>",
         "legendgroup": "cluster_3, Lsb001_21",
         "marker": {
          "color": "red",
          "symbol": "diamond"
         },
         "name": "cluster_3, Lsb001_21",
         "showlegend": true,
         "type": "splom"
        },
        {
         "diagonal": {
          "visible": false
         },
         "dimensions": [
          {
           "axis": {
            "matches": true
           },
           "label": "plddt",
           "values": [
            85.6
           ]
          },
          {
           "axis": {
            "matches": true
           },
           "label": "ptm",
           "values": [
            0.628
           ]
          },
          {
           "axis": {
            "matches": true
           },
           "label": "total_score",
           "values": [
            -693.38
           ]
          },
          {
           "axis": {
            "matches": true
           },
           "label": "dG_separated",
           "values": [
            -39.366
           ]
          },
          {
           "axis": {
            "matches": true
           },
           "label": "dG_separated/dSASAx100",
           "values": [
            -2.506
           ]
          }
         ],
         "hovertemplate": "cluster=cluster_3<br>id_new=Lsb001_24<br>%{xaxis.title.text}=%{x}<br>%{yaxis.title.text}=%{y}<extra></extra>",
         "legendgroup": "cluster_3, Lsb001_24",
         "marker": {
          "color": "red",
          "symbol": "cross"
         },
         "name": "cluster_3, Lsb001_24",
         "showlegend": true,
         "type": "splom"
        },
        {
         "diagonal": {
          "visible": false
         },
         "dimensions": [
          {
           "axis": {
            "matches": true
           },
           "label": "plddt",
           "values": [
            84.9
           ]
          },
          {
           "axis": {
            "matches": true
           },
           "label": "ptm",
           "values": [
            0.622
           ]
          },
          {
           "axis": {
            "matches": true
           },
           "label": "total_score",
           "values": [
            -665.902
           ]
          },
          {
           "axis": {
            "matches": true
           },
           "label": "dG_separated",
           "values": [
            -30.672
           ]
          },
          {
           "axis": {
            "matches": true
           },
           "label": "dG_separated/dSASAx100",
           "values": [
            -2.114
           ]
          }
         ],
         "hovertemplate": "cluster=cluster_3<br>id_new=Lsb001_25<br>%{xaxis.title.text}=%{x}<br>%{yaxis.title.text}=%{y}<extra></extra>",
         "legendgroup": "cluster_3, Lsb001_25",
         "marker": {
          "color": "red",
          "symbol": "circle"
         },
         "name": "cluster_3, Lsb001_25",
         "showlegend": true,
         "type": "splom"
        },
        {
         "diagonal": {
          "visible": false
         },
         "dimensions": [
          {
           "axis": {
            "matches": true
           },
           "label": "plddt",
           "values": [
            78.5
           ]
          },
          {
           "axis": {
            "matches": true
           },
           "label": "ptm",
           "values": [
            0.619
           ]
          },
          {
           "axis": {
            "matches": true
           },
           "label": "total_score",
           "values": [
            -656.404
           ]
          },
          {
           "axis": {
            "matches": true
           },
           "label": "dG_separated",
           "values": [
            -11.021
           ]
          },
          {
           "axis": {
            "matches": true
           },
           "label": "dG_separated/dSASAx100",
           "values": [
            -1.257
           ]
          }
         ],
         "hovertemplate": "cluster=cluster_3<br>id_new=Lsb001_26<br>%{xaxis.title.text}=%{x}<br>%{yaxis.title.text}=%{y}<extra></extra>",
         "legendgroup": "cluster_3, Lsb001_26",
         "marker": {
          "color": "red",
          "symbol": "diamond"
         },
         "name": "cluster_3, Lsb001_26",
         "showlegend": true,
         "type": "splom"
        },
        {
         "diagonal": {
          "visible": false
         },
         "dimensions": [
          {
           "axis": {
            "matches": true
           },
           "label": "plddt",
           "values": [
            90
           ]
          },
          {
           "axis": {
            "matches": true
           },
           "label": "ptm",
           "values": [
            0.615
           ]
          },
          {
           "axis": {
            "matches": true
           },
           "label": "total_score",
           "values": [
            -736.48
           ]
          },
          {
           "axis": {
            "matches": true
           },
           "label": "dG_separated",
           "values": [
            -34.104
           ]
          },
          {
           "axis": {
            "matches": true
           },
           "label": "dG_separated/dSASAx100",
           "values": [
            -2.022
           ]
          }
         ],
         "hovertemplate": "cluster=cluster_3<br>id_new=Lsb001_27<br>%{xaxis.title.text}=%{x}<br>%{yaxis.title.text}=%{y}<extra></extra>",
         "legendgroup": "cluster_3, Lsb001_27",
         "marker": {
          "color": "red",
          "symbol": "square"
         },
         "name": "cluster_3, Lsb001_27",
         "showlegend": true,
         "type": "splom"
        },
        {
         "diagonal": {
          "visible": false
         },
         "dimensions": [
          {
           "axis": {
            "matches": true
           },
           "label": "plddt",
           "values": [
            89.9
           ]
          },
          {
           "axis": {
            "matches": true
           },
           "label": "ptm",
           "values": [
            0.604
           ]
          },
          {
           "axis": {
            "matches": true
           },
           "label": "total_score",
           "values": [
            -722.384
           ]
          },
          {
           "axis": {
            "matches": true
           },
           "label": "dG_separated",
           "values": [
            -32.816
           ]
          },
          {
           "axis": {
            "matches": true
           },
           "label": "dG_separated/dSASAx100",
           "values": [
            -2.435
           ]
          }
         ],
         "hovertemplate": "cluster=cluster_3<br>id_new=Lsb001_29<br>%{xaxis.title.text}=%{x}<br>%{yaxis.title.text}=%{y}<extra></extra>",
         "legendgroup": "cluster_3, Lsb001_29",
         "marker": {
          "color": "red",
          "symbol": "cross"
         },
         "name": "cluster_3, Lsb001_29",
         "showlegend": true,
         "type": "splom"
        },
        {
         "diagonal": {
          "visible": false
         },
         "dimensions": [
          {
           "axis": {
            "matches": true
           },
           "label": "plddt",
           "values": [
            87.6
           ]
          },
          {
           "axis": {
            "matches": true
           },
           "label": "ptm",
           "values": [
            0.599
           ]
          },
          {
           "axis": {
            "matches": true
           },
           "label": "total_score",
           "values": [
            -710.752
           ]
          },
          {
           "axis": {
            "matches": true
           },
           "label": "dG_separated",
           "values": [
            -32.471
           ]
          },
          {
           "axis": {
            "matches": true
           },
           "label": "dG_separated/dSASAx100",
           "values": [
            -2.228
           ]
          }
         ],
         "hovertemplate": "cluster=cluster_3<br>id_new=Lsb001_30<br>%{xaxis.title.text}=%{x}<br>%{yaxis.title.text}=%{y}<extra></extra>",
         "legendgroup": "cluster_3, Lsb001_30",
         "marker": {
          "color": "red",
          "symbol": "circle"
         },
         "name": "cluster_3, Lsb001_30",
         "showlegend": true,
         "type": "splom"
        },
        {
         "diagonal": {
          "visible": false
         },
         "dimensions": [
          {
           "axis": {
            "matches": true
           },
           "label": "plddt",
           "values": [
            89.5
           ]
          },
          {
           "axis": {
            "matches": true
           },
           "label": "ptm",
           "values": [
            0.576
           ]
          },
          {
           "axis": {
            "matches": true
           },
           "label": "total_score",
           "values": [
            -732.621
           ]
          },
          {
           "axis": {
            "matches": true
           },
           "label": "dG_separated",
           "values": [
            -23.687
           ]
          },
          {
           "axis": {
            "matches": true
           },
           "label": "dG_separated/dSASAx100",
           "values": [
            -2.404
           ]
          }
         ],
         "hovertemplate": "cluster=cluster_3<br>id_new=Lsb001_35<br>%{xaxis.title.text}=%{x}<br>%{yaxis.title.text}=%{y}<extra></extra>",
         "legendgroup": "cluster_3, Lsb001_35",
         "marker": {
          "color": "red",
          "symbol": "circle"
         },
         "name": "cluster_3, Lsb001_35",
         "showlegend": true,
         "type": "splom"
        },
        {
         "diagonal": {
          "visible": false
         },
         "dimensions": [
          {
           "axis": {
            "matches": true
           },
           "label": "plddt",
           "values": [
            88.2
           ]
          },
          {
           "axis": {
            "matches": true
           },
           "label": "ptm",
           "values": [
            0.571
           ]
          },
          {
           "axis": {
            "matches": true
           },
           "label": "total_score",
           "values": [
            -715.071
           ]
          },
          {
           "axis": {
            "matches": true
           },
           "label": "dG_separated",
           "values": [
            -50.986
           ]
          },
          {
           "axis": {
            "matches": true
           },
           "label": "dG_separated/dSASAx100",
           "values": [
            -3.072
           ]
          }
         ],
         "hovertemplate": "cluster=cluster_3<br>id_new=Lsb001_37<br>%{xaxis.title.text}=%{x}<br>%{yaxis.title.text}=%{y}<extra></extra>",
         "legendgroup": "cluster_3, Lsb001_37",
         "marker": {
          "color": "red",
          "symbol": "square"
         },
         "name": "cluster_3, Lsb001_37",
         "showlegend": true,
         "type": "splom"
        },
        {
         "diagonal": {
          "visible": false
         },
         "dimensions": [
          {
           "axis": {
            "matches": true
           },
           "label": "plddt",
           "values": [
            84.2
           ]
          },
          {
           "axis": {
            "matches": true
           },
           "label": "ptm",
           "values": [
            0.567
           ]
          },
          {
           "axis": {
            "matches": true
           },
           "label": "total_score",
           "values": [
            -637.373
           ]
          },
          {
           "axis": {
            "matches": true
           },
           "label": "dG_separated",
           "values": [
            -35.351
           ]
          },
          {
           "axis": {
            "matches": true
           },
           "label": "dG_separated/dSASAx100",
           "values": [
            -2.526
           ]
          }
         ],
         "hovertemplate": "cluster=cluster_3<br>id_new=Lsb001_39<br>%{xaxis.title.text}=%{x}<br>%{yaxis.title.text}=%{y}<extra></extra>",
         "legendgroup": "cluster_3, Lsb001_39",
         "marker": {
          "color": "red",
          "symbol": "cross"
         },
         "name": "cluster_3, Lsb001_39",
         "showlegend": true,
         "type": "splom"
        },
        {
         "diagonal": {
          "visible": false
         },
         "dimensions": [
          {
           "axis": {
            "matches": true
           },
           "label": "plddt",
           "values": [
            85.2
           ]
          },
          {
           "axis": {
            "matches": true
           },
           "label": "ptm",
           "values": [
            0.57
           ]
          },
          {
           "axis": {
            "matches": true
           },
           "label": "total_score",
           "values": [
            -649.182
           ]
          },
          {
           "axis": {
            "matches": true
           },
           "label": "dG_separated",
           "values": [
            -27.518
           ]
          },
          {
           "axis": {
            "matches": true
           },
           "label": "dG_separated/dSASAx100",
           "values": [
            -1.707
           ]
          }
         ],
         "hovertemplate": "cluster=cluster_3<br>id_new=Lsb001_40<br>%{xaxis.title.text}=%{x}<br>%{yaxis.title.text}=%{y}<extra></extra>",
         "legendgroup": "cluster_3, Lsb001_40",
         "marker": {
          "color": "red",
          "symbol": "circle"
         },
         "name": "cluster_3, Lsb001_40",
         "showlegend": true,
         "type": "splom"
        },
        {
         "diagonal": {
          "visible": false
         },
         "dimensions": [
          {
           "axis": {
            "matches": true
           },
           "label": "plddt",
           "values": [
            85.2
           ]
          },
          {
           "axis": {
            "matches": true
           },
           "label": "ptm",
           "values": [
            0.566
           ]
          },
          {
           "axis": {
            "matches": true
           },
           "label": "total_score",
           "values": [
            -703.215
           ]
          },
          {
           "axis": {
            "matches": true
           },
           "label": "dG_separated",
           "values": [
            -29.214
           ]
          },
          {
           "axis": {
            "matches": true
           },
           "label": "dG_separated/dSASAx100",
           "values": [
            -2.269
           ]
          }
         ],
         "hovertemplate": "cluster=cluster_3<br>id_new=Lsb001_41<br>%{xaxis.title.text}=%{x}<br>%{yaxis.title.text}=%{y}<extra></extra>",
         "legendgroup": "cluster_3, Lsb001_41",
         "marker": {
          "color": "red",
          "symbol": "diamond"
         },
         "name": "cluster_3, Lsb001_41",
         "showlegend": true,
         "type": "splom"
        },
        {
         "diagonal": {
          "visible": false
         },
         "dimensions": [
          {
           "axis": {
            "matches": true
           },
           "label": "plddt",
           "values": [
            83.8
           ]
          },
          {
           "axis": {
            "matches": true
           },
           "label": "ptm",
           "values": [
            0.56
           ]
          },
          {
           "axis": {
            "matches": true
           },
           "label": "total_score",
           "values": [
            -688.915
           ]
          },
          {
           "axis": {
            "matches": true
           },
           "label": "dG_separated",
           "values": [
            -29.4
           ]
          },
          {
           "axis": {
            "matches": true
           },
           "label": "dG_separated/dSASAx100",
           "values": [
            -2.005
           ]
          }
         ],
         "hovertemplate": "cluster=cluster_3<br>id_new=Lsb001_46<br>%{xaxis.title.text}=%{x}<br>%{yaxis.title.text}=%{y}<extra></extra>",
         "legendgroup": "cluster_3, Lsb001_46",
         "marker": {
          "color": "red",
          "symbol": "diamond"
         },
         "name": "cluster_3, Lsb001_46",
         "showlegend": true,
         "type": "splom"
        },
        {
         "diagonal": {
          "visible": false
         },
         "dimensions": [
          {
           "axis": {
            "matches": true
           },
           "label": "plddt",
           "values": [
            86.9
           ]
          },
          {
           "axis": {
            "matches": true
           },
           "label": "ptm",
           "values": [
            0.55
           ]
          },
          {
           "axis": {
            "matches": true
           },
           "label": "total_score",
           "values": [
            -691.114
           ]
          },
          {
           "axis": {
            "matches": true
           },
           "label": "dG_separated",
           "values": [
            -31.001
           ]
          },
          {
           "axis": {
            "matches": true
           },
           "label": "dG_separated/dSASAx100",
           "values": [
            -2.48
           ]
          }
         ],
         "hovertemplate": "cluster=cluster_3<br>id_new=Lsb001_49<br>%{xaxis.title.text}=%{x}<br>%{yaxis.title.text}=%{y}<extra></extra>",
         "legendgroup": "cluster_3, Lsb001_49",
         "marker": {
          "color": "red",
          "symbol": "cross"
         },
         "name": "cluster_3, Lsb001_49",
         "showlegend": true,
         "type": "splom"
        },
        {
         "diagonal": {
          "visible": false
         },
         "dimensions": [
          {
           "axis": {
            "matches": true
           },
           "label": "plddt",
           "values": [
            89.4
           ]
          },
          {
           "axis": {
            "matches": true
           },
           "label": "ptm",
           "values": [
            0.553
           ]
          },
          {
           "axis": {
            "matches": true
           },
           "label": "total_score",
           "values": [
            -719.057
           ]
          },
          {
           "axis": {
            "matches": true
           },
           "label": "dG_separated",
           "values": [
            -21.486
           ]
          },
          {
           "axis": {
            "matches": true
           },
           "label": "dG_separated/dSASAx100",
           "values": [
            -2.031
           ]
          }
         ],
         "hovertemplate": "cluster=cluster_3<br>id_new=Lsb001_50<br>%{xaxis.title.text}=%{x}<br>%{yaxis.title.text}=%{y}<extra></extra>",
         "legendgroup": "cluster_3, Lsb001_50",
         "marker": {
          "color": "red",
          "symbol": "circle"
         },
         "name": "cluster_3, Lsb001_50",
         "showlegend": true,
         "type": "splom"
        },
        {
         "diagonal": {
          "visible": false
         },
         "dimensions": [
          {
           "axis": {
            "matches": true
           },
           "label": "plddt",
           "values": [
            89.2
           ]
          },
          {
           "axis": {
            "matches": true
           },
           "label": "ptm",
           "values": [
            0.554
           ]
          },
          {
           "axis": {
            "matches": true
           },
           "label": "total_score",
           "values": [
            -706.877
           ]
          },
          {
           "axis": {
            "matches": true
           },
           "label": "dG_separated",
           "values": [
            -22.479
           ]
          },
          {
           "axis": {
            "matches": true
           },
           "label": "dG_separated/dSASAx100",
           "values": [
            -2.081
           ]
          }
         ],
         "hovertemplate": "cluster=cluster_3<br>id_new=Lsb001_54<br>%{xaxis.title.text}=%{x}<br>%{yaxis.title.text}=%{y}<extra></extra>",
         "legendgroup": "cluster_3, Lsb001_54",
         "marker": {
          "color": "red",
          "symbol": "cross"
         },
         "name": "cluster_3, Lsb001_54",
         "showlegend": true,
         "type": "splom"
        },
        {
         "diagonal": {
          "visible": false
         },
         "dimensions": [
          {
           "axis": {
            "matches": true
           },
           "label": "plddt",
           "values": [
            82.7
           ]
          },
          {
           "axis": {
            "matches": true
           },
           "label": "ptm",
           "values": [
            0.54
           ]
          },
          {
           "axis": {
            "matches": true
           },
           "label": "total_score",
           "values": [
            -733.088
           ]
          },
          {
           "axis": {
            "matches": true
           },
           "label": "dG_separated",
           "values": [
            -31.745
           ]
          },
          {
           "axis": {
            "matches": true
           },
           "label": "dG_separated/dSASAx100",
           "values": [
            -2.534
           ]
          }
         ],
         "hovertemplate": "cluster=cluster_3<br>id_new=Lsb001_63<br>%{xaxis.title.text}=%{x}<br>%{yaxis.title.text}=%{y}<extra></extra>",
         "legendgroup": "cluster_3, Lsb001_63",
         "marker": {
          "color": "red",
          "symbol": "x"
         },
         "name": "cluster_3, Lsb001_63",
         "showlegend": true,
         "type": "splom"
        },
        {
         "diagonal": {
          "visible": false
         },
         "dimensions": [
          {
           "axis": {
            "matches": true
           },
           "label": "plddt",
           "values": [
            81.9
           ]
          },
          {
           "axis": {
            "matches": true
           },
           "label": "ptm",
           "values": [
            0.537
           ]
          },
          {
           "axis": {
            "matches": true
           },
           "label": "total_score",
           "values": [
            -726.767
           ]
          },
          {
           "axis": {
            "matches": true
           },
           "label": "dG_separated",
           "values": [
            -21.567
           ]
          },
          {
           "axis": {
            "matches": true
           },
           "label": "dG_separated/dSASAx100",
           "values": [
            -2.024
           ]
          }
         ],
         "hovertemplate": "cluster=cluster_3<br>id_new=Lsb001_68<br>%{xaxis.title.text}=%{x}<br>%{yaxis.title.text}=%{y}<extra></extra>",
         "legendgroup": "cluster_3, Lsb001_68",
         "marker": {
          "color": "red",
          "symbol": "x"
         },
         "name": "cluster_3, Lsb001_68",
         "showlegend": true,
         "type": "splom"
        },
        {
         "diagonal": {
          "visible": false
         },
         "dimensions": [
          {
           "axis": {
            "matches": true
           },
           "label": "plddt",
           "values": [
            80.5
           ]
          },
          {
           "axis": {
            "matches": true
           },
           "label": "ptm",
           "values": [
            0.527
           ]
          },
          {
           "axis": {
            "matches": true
           },
           "label": "total_score",
           "values": [
            -728.621
           ]
          },
          {
           "axis": {
            "matches": true
           },
           "label": "dG_separated",
           "values": [
            -28.082
           ]
          },
          {
           "axis": {
            "matches": true
           },
           "label": "dG_separated/dSASAx100",
           "values": [
            -1.53
           ]
          }
         ],
         "hovertemplate": "cluster=cluster_3<br>id_new=Lsb001_69<br>%{xaxis.title.text}=%{x}<br>%{yaxis.title.text}=%{y}<extra></extra>",
         "legendgroup": "cluster_3, Lsb001_69",
         "marker": {
          "color": "red",
          "symbol": "cross"
         },
         "name": "cluster_3, Lsb001_69",
         "showlegend": true,
         "type": "splom"
        },
        {
         "diagonal": {
          "visible": false
         },
         "dimensions": [
          {
           "axis": {
            "matches": true
           },
           "label": "plddt",
           "values": [
            82.3
           ]
          },
          {
           "axis": {
            "matches": true
           },
           "label": "ptm",
           "values": [
            0.527
           ]
          },
          {
           "axis": {
            "matches": true
           },
           "label": "total_score",
           "values": [
            -743.378
           ]
          },
          {
           "axis": {
            "matches": true
           },
           "label": "dG_separated",
           "values": [
            -21.654
           ]
          },
          {
           "axis": {
            "matches": true
           },
           "label": "dG_separated/dSASAx100",
           "values": [
            -2.037
           ]
          }
         ],
         "hovertemplate": "cluster=cluster_3<br>id_new=Lsb001_73<br>%{xaxis.title.text}=%{x}<br>%{yaxis.title.text}=%{y}<extra></extra>",
         "legendgroup": "cluster_3, Lsb001_73",
         "marker": {
          "color": "red",
          "symbol": "x"
         },
         "name": "cluster_3, Lsb001_73",
         "showlegend": true,
         "type": "splom"
        },
        {
         "diagonal": {
          "visible": false
         },
         "dimensions": [
          {
           "axis": {
            "matches": true
           },
           "label": "plddt",
           "values": [
            83.3
           ]
          },
          {
           "axis": {
            "matches": true
           },
           "label": "ptm",
           "values": [
            0.525
           ]
          },
          {
           "axis": {
            "matches": true
           },
           "label": "total_score",
           "values": [
            -750.253
           ]
          },
          {
           "axis": {
            "matches": true
           },
           "label": "dG_separated",
           "values": [
            -31.744
           ]
          },
          {
           "axis": {
            "matches": true
           },
           "label": "dG_separated/dSASAx100",
           "values": [
            -2.861
           ]
          }
         ],
         "hovertemplate": "cluster=cluster_3<br>id_new=Lsb001_76<br>%{xaxis.title.text}=%{x}<br>%{yaxis.title.text}=%{y}<extra></extra>",
         "legendgroup": "cluster_3, Lsb001_76",
         "marker": {
          "color": "red",
          "symbol": "diamond"
         },
         "name": "cluster_3, Lsb001_76",
         "showlegend": true,
         "type": "splom"
        },
        {
         "diagonal": {
          "visible": false
         },
         "dimensions": [
          {
           "axis": {
            "matches": true
           },
           "label": "plddt",
           "values": [
            86.6
           ]
          },
          {
           "axis": {
            "matches": true
           },
           "label": "ptm",
           "values": [
            0.533
           ]
          },
          {
           "axis": {
            "matches": true
           },
           "label": "total_score",
           "values": [
            -712.123
           ]
          },
          {
           "axis": {
            "matches": true
           },
           "label": "dG_separated",
           "values": [
            -18.571
           ]
          },
          {
           "axis": {
            "matches": true
           },
           "label": "dG_separated/dSASAx100",
           "values": [
            -1.962
           ]
          }
         ],
         "hovertemplate": "cluster=cluster_3<br>id_new=Lsb001_80<br>%{xaxis.title.text}=%{x}<br>%{yaxis.title.text}=%{y}<extra></extra>",
         "legendgroup": "cluster_3, Lsb001_80",
         "marker": {
          "color": "red",
          "symbol": "circle"
         },
         "name": "cluster_3, Lsb001_80",
         "showlegend": true,
         "type": "splom"
        }
       ],
       "layout": {
        "dragmode": "select",
        "height": 1300,
        "legend": {
         "title": {
          "text": "cluster, id_new"
         },
         "tracegroupgap": 0
        },
        "margin": {
         "t": 60
        },
        "template": {
         "data": {
          "bar": [
           {
            "error_x": {
             "color": "#2a3f5f"
            },
            "error_y": {
             "color": "#2a3f5f"
            },
            "marker": {
             "line": {
              "color": "#E5ECF6",
              "width": 0.5
             },
             "pattern": {
              "fillmode": "overlay",
              "size": 10,
              "solidity": 0.2
             }
            },
            "type": "bar"
           }
          ],
          "barpolar": [
           {
            "marker": {
             "line": {
              "color": "#E5ECF6",
              "width": 0.5
             },
             "pattern": {
              "fillmode": "overlay",
              "size": 10,
              "solidity": 0.2
             }
            },
            "type": "barpolar"
           }
          ],
          "carpet": [
           {
            "aaxis": {
             "endlinecolor": "#2a3f5f",
             "gridcolor": "white",
             "linecolor": "white",
             "minorgridcolor": "white",
             "startlinecolor": "#2a3f5f"
            },
            "baxis": {
             "endlinecolor": "#2a3f5f",
             "gridcolor": "white",
             "linecolor": "white",
             "minorgridcolor": "white",
             "startlinecolor": "#2a3f5f"
            },
            "type": "carpet"
           }
          ],
          "choropleth": [
           {
            "colorbar": {
             "outlinewidth": 0,
             "ticks": ""
            },
            "type": "choropleth"
           }
          ],
          "contour": [
           {
            "colorbar": {
             "outlinewidth": 0,
             "ticks": ""
            },
            "colorscale": [
             [
              0,
              "#0d0887"
             ],
             [
              0.1111111111111111,
              "#46039f"
             ],
             [
              0.2222222222222222,
              "#7201a8"
             ],
             [
              0.3333333333333333,
              "#9c179e"
             ],
             [
              0.4444444444444444,
              "#bd3786"
             ],
             [
              0.5555555555555556,
              "#d8576b"
             ],
             [
              0.6666666666666666,
              "#ed7953"
             ],
             [
              0.7777777777777778,
              "#fb9f3a"
             ],
             [
              0.8888888888888888,
              "#fdca26"
             ],
             [
              1,
              "#f0f921"
             ]
            ],
            "type": "contour"
           }
          ],
          "contourcarpet": [
           {
            "colorbar": {
             "outlinewidth": 0,
             "ticks": ""
            },
            "type": "contourcarpet"
           }
          ],
          "heatmap": [
           {
            "colorbar": {
             "outlinewidth": 0,
             "ticks": ""
            },
            "colorscale": [
             [
              0,
              "#0d0887"
             ],
             [
              0.1111111111111111,
              "#46039f"
             ],
             [
              0.2222222222222222,
              "#7201a8"
             ],
             [
              0.3333333333333333,
              "#9c179e"
             ],
             [
              0.4444444444444444,
              "#bd3786"
             ],
             [
              0.5555555555555556,
              "#d8576b"
             ],
             [
              0.6666666666666666,
              "#ed7953"
             ],
             [
              0.7777777777777778,
              "#fb9f3a"
             ],
             [
              0.8888888888888888,
              "#fdca26"
             ],
             [
              1,
              "#f0f921"
             ]
            ],
            "type": "heatmap"
           }
          ],
          "heatmapgl": [
           {
            "colorbar": {
             "outlinewidth": 0,
             "ticks": ""
            },
            "colorscale": [
             [
              0,
              "#0d0887"
             ],
             [
              0.1111111111111111,
              "#46039f"
             ],
             [
              0.2222222222222222,
              "#7201a8"
             ],
             [
              0.3333333333333333,
              "#9c179e"
             ],
             [
              0.4444444444444444,
              "#bd3786"
             ],
             [
              0.5555555555555556,
              "#d8576b"
             ],
             [
              0.6666666666666666,
              "#ed7953"
             ],
             [
              0.7777777777777778,
              "#fb9f3a"
             ],
             [
              0.8888888888888888,
              "#fdca26"
             ],
             [
              1,
              "#f0f921"
             ]
            ],
            "type": "heatmapgl"
           }
          ],
          "histogram": [
           {
            "marker": {
             "pattern": {
              "fillmode": "overlay",
              "size": 10,
              "solidity": 0.2
             }
            },
            "type": "histogram"
           }
          ],
          "histogram2d": [
           {
            "colorbar": {
             "outlinewidth": 0,
             "ticks": ""
            },
            "colorscale": [
             [
              0,
              "#0d0887"
             ],
             [
              0.1111111111111111,
              "#46039f"
             ],
             [
              0.2222222222222222,
              "#7201a8"
             ],
             [
              0.3333333333333333,
              "#9c179e"
             ],
             [
              0.4444444444444444,
              "#bd3786"
             ],
             [
              0.5555555555555556,
              "#d8576b"
             ],
             [
              0.6666666666666666,
              "#ed7953"
             ],
             [
              0.7777777777777778,
              "#fb9f3a"
             ],
             [
              0.8888888888888888,
              "#fdca26"
             ],
             [
              1,
              "#f0f921"
             ]
            ],
            "type": "histogram2d"
           }
          ],
          "histogram2dcontour": [
           {
            "colorbar": {
             "outlinewidth": 0,
             "ticks": ""
            },
            "colorscale": [
             [
              0,
              "#0d0887"
             ],
             [
              0.1111111111111111,
              "#46039f"
             ],
             [
              0.2222222222222222,
              "#7201a8"
             ],
             [
              0.3333333333333333,
              "#9c179e"
             ],
             [
              0.4444444444444444,
              "#bd3786"
             ],
             [
              0.5555555555555556,
              "#d8576b"
             ],
             [
              0.6666666666666666,
              "#ed7953"
             ],
             [
              0.7777777777777778,
              "#fb9f3a"
             ],
             [
              0.8888888888888888,
              "#fdca26"
             ],
             [
              1,
              "#f0f921"
             ]
            ],
            "type": "histogram2dcontour"
           }
          ],
          "mesh3d": [
           {
            "colorbar": {
             "outlinewidth": 0,
             "ticks": ""
            },
            "type": "mesh3d"
           }
          ],
          "parcoords": [
           {
            "line": {
             "colorbar": {
              "outlinewidth": 0,
              "ticks": ""
             }
            },
            "type": "parcoords"
           }
          ],
          "pie": [
           {
            "automargin": true,
            "type": "pie"
           }
          ],
          "scatter": [
           {
            "fillpattern": {
             "fillmode": "overlay",
             "size": 10,
             "solidity": 0.2
            },
            "type": "scatter"
           }
          ],
          "scatter3d": [
           {
            "line": {
             "colorbar": {
              "outlinewidth": 0,
              "ticks": ""
             }
            },
            "marker": {
             "colorbar": {
              "outlinewidth": 0,
              "ticks": ""
             }
            },
            "type": "scatter3d"
           }
          ],
          "scattercarpet": [
           {
            "marker": {
             "colorbar": {
              "outlinewidth": 0,
              "ticks": ""
             }
            },
            "type": "scattercarpet"
           }
          ],
          "scattergeo": [
           {
            "marker": {
             "colorbar": {
              "outlinewidth": 0,
              "ticks": ""
             }
            },
            "type": "scattergeo"
           }
          ],
          "scattergl": [
           {
            "marker": {
             "colorbar": {
              "outlinewidth": 0,
              "ticks": ""
             }
            },
            "type": "scattergl"
           }
          ],
          "scattermapbox": [
           {
            "marker": {
             "colorbar": {
              "outlinewidth": 0,
              "ticks": ""
             }
            },
            "type": "scattermapbox"
           }
          ],
          "scatterpolar": [
           {
            "marker": {
             "colorbar": {
              "outlinewidth": 0,
              "ticks": ""
             }
            },
            "type": "scatterpolar"
           }
          ],
          "scatterpolargl": [
           {
            "marker": {
             "colorbar": {
              "outlinewidth": 0,
              "ticks": ""
             }
            },
            "type": "scatterpolargl"
           }
          ],
          "scatterternary": [
           {
            "marker": {
             "colorbar": {
              "outlinewidth": 0,
              "ticks": ""
             }
            },
            "type": "scatterternary"
           }
          ],
          "surface": [
           {
            "colorbar": {
             "outlinewidth": 0,
             "ticks": ""
            },
            "colorscale": [
             [
              0,
              "#0d0887"
             ],
             [
              0.1111111111111111,
              "#46039f"
             ],
             [
              0.2222222222222222,
              "#7201a8"
             ],
             [
              0.3333333333333333,
              "#9c179e"
             ],
             [
              0.4444444444444444,
              "#bd3786"
             ],
             [
              0.5555555555555556,
              "#d8576b"
             ],
             [
              0.6666666666666666,
              "#ed7953"
             ],
             [
              0.7777777777777778,
              "#fb9f3a"
             ],
             [
              0.8888888888888888,
              "#fdca26"
             ],
             [
              1,
              "#f0f921"
             ]
            ],
            "type": "surface"
           }
          ],
          "table": [
           {
            "cells": {
             "fill": {
              "color": "#EBF0F8"
             },
             "line": {
              "color": "white"
             }
            },
            "header": {
             "fill": {
              "color": "#C8D4E3"
             },
             "line": {
              "color": "white"
             }
            },
            "type": "table"
           }
          ]
         },
         "layout": {
          "annotationdefaults": {
           "arrowcolor": "#2a3f5f",
           "arrowhead": 0,
           "arrowwidth": 1
          },
          "autotypenumbers": "strict",
          "coloraxis": {
           "colorbar": {
            "outlinewidth": 0,
            "ticks": ""
           }
          },
          "colorscale": {
           "diverging": [
            [
             0,
             "#8e0152"
            ],
            [
             0.1,
             "#c51b7d"
            ],
            [
             0.2,
             "#de77ae"
            ],
            [
             0.3,
             "#f1b6da"
            ],
            [
             0.4,
             "#fde0ef"
            ],
            [
             0.5,
             "#f7f7f7"
            ],
            [
             0.6,
             "#e6f5d0"
            ],
            [
             0.7,
             "#b8e186"
            ],
            [
             0.8,
             "#7fbc41"
            ],
            [
             0.9,
             "#4d9221"
            ],
            [
             1,
             "#276419"
            ]
           ],
           "sequential": [
            [
             0,
             "#0d0887"
            ],
            [
             0.1111111111111111,
             "#46039f"
            ],
            [
             0.2222222222222222,
             "#7201a8"
            ],
            [
             0.3333333333333333,
             "#9c179e"
            ],
            [
             0.4444444444444444,
             "#bd3786"
            ],
            [
             0.5555555555555556,
             "#d8576b"
            ],
            [
             0.6666666666666666,
             "#ed7953"
            ],
            [
             0.7777777777777778,
             "#fb9f3a"
            ],
            [
             0.8888888888888888,
             "#fdca26"
            ],
            [
             1,
             "#f0f921"
            ]
           ],
           "sequentialminus": [
            [
             0,
             "#0d0887"
            ],
            [
             0.1111111111111111,
             "#46039f"
            ],
            [
             0.2222222222222222,
             "#7201a8"
            ],
            [
             0.3333333333333333,
             "#9c179e"
            ],
            [
             0.4444444444444444,
             "#bd3786"
            ],
            [
             0.5555555555555556,
             "#d8576b"
            ],
            [
             0.6666666666666666,
             "#ed7953"
            ],
            [
             0.7777777777777778,
             "#fb9f3a"
            ],
            [
             0.8888888888888888,
             "#fdca26"
            ],
            [
             1,
             "#f0f921"
            ]
           ]
          },
          "colorway": [
           "#636efa",
           "#EF553B",
           "#00cc96",
           "#ab63fa",
           "#FFA15A",
           "#19d3f3",
           "#FF6692",
           "#B6E880",
           "#FF97FF",
           "#FECB52"
          ],
          "font": {
           "color": "#2a3f5f"
          },
          "geo": {
           "bgcolor": "white",
           "lakecolor": "white",
           "landcolor": "#E5ECF6",
           "showlakes": true,
           "showland": true,
           "subunitcolor": "white"
          },
          "hoverlabel": {
           "align": "left"
          },
          "hovermode": "closest",
          "mapbox": {
           "style": "light"
          },
          "paper_bgcolor": "white",
          "plot_bgcolor": "#E5ECF6",
          "polar": {
           "angularaxis": {
            "gridcolor": "white",
            "linecolor": "white",
            "ticks": ""
           },
           "bgcolor": "#E5ECF6",
           "radialaxis": {
            "gridcolor": "white",
            "linecolor": "white",
            "ticks": ""
           }
          },
          "scene": {
           "xaxis": {
            "backgroundcolor": "#E5ECF6",
            "gridcolor": "white",
            "gridwidth": 2,
            "linecolor": "white",
            "showbackground": true,
            "ticks": "",
            "zerolinecolor": "white"
           },
           "yaxis": {
            "backgroundcolor": "#E5ECF6",
            "gridcolor": "white",
            "gridwidth": 2,
            "linecolor": "white",
            "showbackground": true,
            "ticks": "",
            "zerolinecolor": "white"
           },
           "zaxis": {
            "backgroundcolor": "#E5ECF6",
            "gridcolor": "white",
            "gridwidth": 2,
            "linecolor": "white",
            "showbackground": true,
            "ticks": "",
            "zerolinecolor": "white"
           }
          },
          "shapedefaults": {
           "line": {
            "color": "#2a3f5f"
           }
          },
          "ternary": {
           "aaxis": {
            "gridcolor": "white",
            "linecolor": "white",
            "ticks": ""
           },
           "baxis": {
            "gridcolor": "white",
            "linecolor": "white",
            "ticks": ""
           },
           "bgcolor": "#E5ECF6",
           "caxis": {
            "gridcolor": "white",
            "linecolor": "white",
            "ticks": ""
           }
          },
          "title": {
           "x": 0.05
          },
          "xaxis": {
           "automargin": true,
           "gridcolor": "white",
           "linecolor": "white",
           "ticks": "",
           "title": {
            "standoff": 15
           },
           "zerolinecolor": "white",
           "zerolinewidth": 2
          },
          "yaxis": {
           "automargin": true,
           "gridcolor": "white",
           "linecolor": "white",
           "ticks": "",
           "title": {
            "standoff": 15
           },
           "zerolinecolor": "white",
           "zerolinewidth": 2
          }
         }
        },
        "width": 1300
       }
      },
      "text/html": [
       "<div>                            <div id=\"25f9bce0-87da-4a6e-8f26-7a25cb7f31a7\" class=\"plotly-graph-div\" style=\"height:1300px; width:1300px;\"></div>            <script type=\"text/javascript\">                require([\"plotly\"], function(Plotly) {                    window.PLOTLYENV=window.PLOTLYENV || {};                                    if (document.getElementById(\"25f9bce0-87da-4a6e-8f26-7a25cb7f31a7\")) {                    Plotly.newPlot(                        \"25f9bce0-87da-4a6e-8f26-7a25cb7f31a7\",                        [{\"dimensions\":[{\"axis\":{\"matches\":true},\"label\":\"plddt\",\"values\":[92.0]},{\"axis\":{\"matches\":true},\"label\":\"ptm\",\"values\":[0.898]},{\"axis\":{\"matches\":true},\"label\":\"total_score\",\"values\":[-747.048]},{\"axis\":{\"matches\":true},\"label\":\"dG_separated\",\"values\":[-58.461]},{\"axis\":{\"matches\":true},\"label\":\"dG_separated/dSASAx100\",\"values\":[-2.782]}],\"hovertemplate\":\"cluster=cluster_2<br>id_new=Lsb001_00<br>%{xaxis.title.text}=%{x}<br>%{yaxis.title.text}=%{y}<extra></extra>\",\"legendgroup\":\"cluster_2, Lsb001_00\",\"marker\":{\"color\":\"green\",\"symbol\":\"circle\"},\"name\":\"cluster_2, Lsb001_00\",\"showlegend\":true,\"type\":\"splom\",\"diagonal\":{\"visible\":false}},{\"dimensions\":[{\"axis\":{\"matches\":true},\"label\":\"plddt\",\"values\":[86.6]},{\"axis\":{\"matches\":true},\"label\":\"ptm\",\"values\":[0.832]},{\"axis\":{\"matches\":true},\"label\":\"total_score\",\"values\":[-731.113]},{\"axis\":{\"matches\":true},\"label\":\"dG_separated\",\"values\":[-46.071]},{\"axis\":{\"matches\":true},\"label\":\"dG_separated/dSASAx100\",\"values\":[-2.289]}],\"hovertemplate\":\"cluster=cluster_2<br>id_new=Lsb001_02<br>%{xaxis.title.text}=%{x}<br>%{yaxis.title.text}=%{y}<extra></extra>\",\"legendgroup\":\"cluster_2, Lsb001_02\",\"marker\":{\"color\":\"green\",\"symbol\":\"square\"},\"name\":\"cluster_2, Lsb001_02\",\"showlegend\":true,\"type\":\"splom\",\"diagonal\":{\"visible\":false}},{\"dimensions\":[{\"axis\":{\"matches\":true},\"label\":\"plddt\",\"values\":[90.2]},{\"axis\":{\"matches\":true},\"label\":\"ptm\",\"values\":[0.803]},{\"axis\":{\"matches\":true},\"label\":\"total_score\",\"values\":[-728.61]},{\"axis\":{\"matches\":true},\"label\":\"dG_separated\",\"values\":[-50.889]},{\"axis\":{\"matches\":true},\"label\":\"dG_separated/dSASAx100\",\"values\":[-2.088]}],\"hovertemplate\":\"cluster=cluster_2<br>id_new=Lsb001_03<br>%{xaxis.title.text}=%{x}<br>%{yaxis.title.text}=%{y}<extra></extra>\",\"legendgroup\":\"cluster_2, Lsb001_03\",\"marker\":{\"color\":\"green\",\"symbol\":\"x\"},\"name\":\"cluster_2, Lsb001_03\",\"showlegend\":true,\"type\":\"splom\",\"diagonal\":{\"visible\":false}},{\"dimensions\":[{\"axis\":{\"matches\":true},\"label\":\"plddt\",\"values\":[81.9]},{\"axis\":{\"matches\":true},\"label\":\"ptm\",\"values\":[0.776]},{\"axis\":{\"matches\":true},\"label\":\"total_score\",\"values\":[-648.218]},{\"axis\":{\"matches\":true},\"label\":\"dG_separated\",\"values\":[-50.239]},{\"axis\":{\"matches\":true},\"label\":\"dG_separated/dSASAx100\",\"values\":[-2.454]}],\"hovertemplate\":\"cluster=cluster_2<br>id_new=Lsb001_04<br>%{xaxis.title.text}=%{x}<br>%{yaxis.title.text}=%{y}<extra></extra>\",\"legendgroup\":\"cluster_2, Lsb001_04\",\"marker\":{\"color\":\"green\",\"symbol\":\"cross\"},\"name\":\"cluster_2, Lsb001_04\",\"showlegend\":true,\"type\":\"splom\",\"diagonal\":{\"visible\":false}},{\"dimensions\":[{\"axis\":{\"matches\":true},\"label\":\"plddt\",\"values\":[90.6]},{\"axis\":{\"matches\":true},\"label\":\"ptm\",\"values\":[0.783]},{\"axis\":{\"matches\":true},\"label\":\"total_score\",\"values\":[-760.411]},{\"axis\":{\"matches\":true},\"label\":\"dG_separated\",\"values\":[-61.05]},{\"axis\":{\"matches\":true},\"label\":\"dG_separated/dSASAx100\",\"values\":[-2.719]}],\"hovertemplate\":\"cluster=cluster_2<br>id_new=Lsb001_05<br>%{xaxis.title.text}=%{x}<br>%{yaxis.title.text}=%{y}<extra></extra>\",\"legendgroup\":\"cluster_2, Lsb001_05\",\"marker\":{\"color\":\"green\",\"symbol\":\"circle\"},\"name\":\"cluster_2, Lsb001_05\",\"showlegend\":true,\"type\":\"splom\",\"diagonal\":{\"visible\":false}},{\"dimensions\":[{\"axis\":{\"matches\":true},\"label\":\"plddt\",\"values\":[83.9]},{\"axis\":{\"matches\":true},\"label\":\"ptm\",\"values\":[0.709]},{\"axis\":{\"matches\":true},\"label\":\"total_score\",\"values\":[-646.152]},{\"axis\":{\"matches\":true},\"label\":\"dG_separated\",\"values\":[-39.441]},{\"axis\":{\"matches\":true},\"label\":\"dG_separated/dSASAx100\",\"values\":[-2.39]}],\"hovertemplate\":\"cluster=cluster_2<br>id_new=Lsb001_06<br>%{xaxis.title.text}=%{x}<br>%{yaxis.title.text}=%{y}<extra></extra>\",\"legendgroup\":\"cluster_2, Lsb001_06\",\"marker\":{\"color\":\"green\",\"symbol\":\"diamond\"},\"name\":\"cluster_2, Lsb001_06\",\"showlegend\":true,\"type\":\"splom\",\"diagonal\":{\"visible\":false}},{\"dimensions\":[{\"axis\":{\"matches\":true},\"label\":\"plddt\",\"values\":[78.8]},{\"axis\":{\"matches\":true},\"label\":\"ptm\",\"values\":[0.716]},{\"axis\":{\"matches\":true},\"label\":\"total_score\",\"values\":[-694.431]},{\"axis\":{\"matches\":true},\"label\":\"dG_separated\",\"values\":[-46.119]},{\"axis\":{\"matches\":true},\"label\":\"dG_separated/dSASAx100\",\"values\":[-2.73]}],\"hovertemplate\":\"cluster=cluster_2<br>id_new=Lsb001_08<br>%{xaxis.title.text}=%{x}<br>%{yaxis.title.text}=%{y}<extra></extra>\",\"legendgroup\":\"cluster_2, Lsb001_08\",\"marker\":{\"color\":\"green\",\"symbol\":\"x\"},\"name\":\"cluster_2, Lsb001_08\",\"showlegend\":true,\"type\":\"splom\",\"diagonal\":{\"visible\":false}},{\"dimensions\":[{\"axis\":{\"matches\":true},\"label\":\"plddt\",\"values\":[84.9]},{\"axis\":{\"matches\":true},\"label\":\"ptm\",\"values\":[0.717]},{\"axis\":{\"matches\":true},\"label\":\"total_score\",\"values\":[-750.398]},{\"axis\":{\"matches\":true},\"label\":\"dG_separated\",\"values\":[-57.413]},{\"axis\":{\"matches\":true},\"label\":\"dG_separated/dSASAx100\",\"values\":[-2.388]}],\"hovertemplate\":\"cluster=cluster_2<br>id_new=Lsb001_09<br>%{xaxis.title.text}=%{x}<br>%{yaxis.title.text}=%{y}<extra></extra>\",\"legendgroup\":\"cluster_2, Lsb001_09\",\"marker\":{\"color\":\"green\",\"symbol\":\"cross\"},\"name\":\"cluster_2, Lsb001_09\",\"showlegend\":true,\"type\":\"splom\",\"diagonal\":{\"visible\":false}},{\"dimensions\":[{\"axis\":{\"matches\":true},\"label\":\"plddt\",\"values\":[75.3]},{\"axis\":{\"matches\":true},\"label\":\"ptm\",\"values\":[0.642]},{\"axis\":{\"matches\":true},\"label\":\"total_score\",\"values\":[-698.122]},{\"axis\":{\"matches\":true},\"label\":\"dG_separated\",\"values\":[-45.987]},{\"axis\":{\"matches\":true},\"label\":\"dG_separated/dSASAx100\",\"values\":[-2.458]}],\"hovertemplate\":\"cluster=cluster_2<br>id_new=Lsb001_13<br>%{xaxis.title.text}=%{x}<br>%{yaxis.title.text}=%{y}<extra></extra>\",\"legendgroup\":\"cluster_2, Lsb001_13\",\"marker\":{\"color\":\"green\",\"symbol\":\"x\"},\"name\":\"cluster_2, Lsb001_13\",\"showlegend\":true,\"type\":\"splom\",\"diagonal\":{\"visible\":false}},{\"dimensions\":[{\"axis\":{\"matches\":true},\"label\":\"plddt\",\"values\":[85.9]},{\"axis\":{\"matches\":true},\"label\":\"ptm\",\"values\":[0.664]},{\"axis\":{\"matches\":true},\"label\":\"total_score\",\"values\":[-684.195]},{\"axis\":{\"matches\":true},\"label\":\"dG_separated\",\"values\":[-39.765]},{\"axis\":{\"matches\":true},\"label\":\"dG_separated/dSASAx100\",\"values\":[-2.298]}],\"hovertemplate\":\"cluster=cluster_2<br>id_new=Lsb001_14<br>%{xaxis.title.text}=%{x}<br>%{yaxis.title.text}=%{y}<extra></extra>\",\"legendgroup\":\"cluster_2, Lsb001_14\",\"marker\":{\"color\":\"green\",\"symbol\":\"cross\"},\"name\":\"cluster_2, Lsb001_14\",\"showlegend\":true,\"type\":\"splom\",\"diagonal\":{\"visible\":false}},{\"dimensions\":[{\"axis\":{\"matches\":true},\"label\":\"plddt\",\"values\":[78.7]},{\"axis\":{\"matches\":true},\"label\":\"ptm\",\"values\":[0.635]},{\"axis\":{\"matches\":true},\"label\":\"total_score\",\"values\":[-723.961]},{\"axis\":{\"matches\":true},\"label\":\"dG_separated\",\"values\":[-33.777]},{\"axis\":{\"matches\":true},\"label\":\"dG_separated/dSASAx100\",\"values\":[-2.253]}],\"hovertemplate\":\"cluster=cluster_2<br>id_new=Lsb001_20<br>%{xaxis.title.text}=%{x}<br>%{yaxis.title.text}=%{y}<extra></extra>\",\"legendgroup\":\"cluster_2, Lsb001_20\",\"marker\":{\"color\":\"green\",\"symbol\":\"circle\"},\"name\":\"cluster_2, Lsb001_20\",\"showlegend\":true,\"type\":\"splom\",\"diagonal\":{\"visible\":false}},{\"dimensions\":[{\"axis\":{\"matches\":true},\"label\":\"plddt\",\"values\":[81.7]},{\"axis\":{\"matches\":true},\"label\":\"ptm\",\"values\":[0.629]},{\"axis\":{\"matches\":true},\"label\":\"total_score\",\"values\":[-754.822]},{\"axis\":{\"matches\":true},\"label\":\"dG_separated\",\"values\":[-48.663]},{\"axis\":{\"matches\":true},\"label\":\"dG_separated/dSASAx100\",\"values\":[-2.403]}],\"hovertemplate\":\"cluster=cluster_2<br>id_new=Lsb001_22<br>%{xaxis.title.text}=%{x}<br>%{yaxis.title.text}=%{y}<extra></extra>\",\"legendgroup\":\"cluster_2, Lsb001_22\",\"marker\":{\"color\":\"green\",\"symbol\":\"square\"},\"name\":\"cluster_2, Lsb001_22\",\"showlegend\":true,\"type\":\"splom\",\"diagonal\":{\"visible\":false}},{\"dimensions\":[{\"axis\":{\"matches\":true},\"label\":\"plddt\",\"values\":[81.8]},{\"axis\":{\"matches\":true},\"label\":\"ptm\",\"values\":[0.612]},{\"axis\":{\"matches\":true},\"label\":\"total_score\",\"values\":[-675.735]},{\"axis\":{\"matches\":true},\"label\":\"dG_separated\",\"values\":[-59.614]},{\"axis\":{\"matches\":true},\"label\":\"dG_separated/dSASAx100\",\"values\":[-2.757]}],\"hovertemplate\":\"cluster=cluster_2<br>id_new=Lsb001_23<br>%{xaxis.title.text}=%{x}<br>%{yaxis.title.text}=%{y}<extra></extra>\",\"legendgroup\":\"cluster_2, Lsb001_23\",\"marker\":{\"color\":\"green\",\"symbol\":\"x\"},\"name\":\"cluster_2, Lsb001_23\",\"showlegend\":true,\"type\":\"splom\",\"diagonal\":{\"visible\":false}},{\"dimensions\":[{\"axis\":{\"matches\":true},\"label\":\"plddt\",\"values\":[84.7]},{\"axis\":{\"matches\":true},\"label\":\"ptm\",\"values\":[0.592]},{\"axis\":{\"matches\":true},\"label\":\"total_score\",\"values\":[-693.206]},{\"axis\":{\"matches\":true},\"label\":\"dG_separated\",\"values\":[-26.416]},{\"axis\":{\"matches\":true},\"label\":\"dG_separated/dSASAx100\",\"values\":[-1.769]}],\"hovertemplate\":\"cluster=cluster_2<br>id_new=Lsb001_31<br>%{xaxis.title.text}=%{x}<br>%{yaxis.title.text}=%{y}<extra></extra>\",\"legendgroup\":\"cluster_2, Lsb001_31\",\"marker\":{\"color\":\"green\",\"symbol\":\"diamond\"},\"name\":\"cluster_2, Lsb001_31\",\"showlegend\":true,\"type\":\"splom\",\"diagonal\":{\"visible\":false}},{\"dimensions\":[{\"axis\":{\"matches\":true},\"label\":\"plddt\",\"values\":[81.3]},{\"axis\":{\"matches\":true},\"label\":\"ptm\",\"values\":[0.576]},{\"axis\":{\"matches\":true},\"label\":\"total_score\",\"values\":[-745.838]},{\"axis\":{\"matches\":true},\"label\":\"dG_separated\",\"values\":[-50.001]},{\"axis\":{\"matches\":true},\"label\":\"dG_separated/dSASAx100\",\"values\":[-2.493]}],\"hovertemplate\":\"cluster=cluster_2<br>id_new=Lsb001_32<br>%{xaxis.title.text}=%{x}<br>%{yaxis.title.text}=%{y}<extra></extra>\",\"legendgroup\":\"cluster_2, Lsb001_32\",\"marker\":{\"color\":\"green\",\"symbol\":\"square\"},\"name\":\"cluster_2, Lsb001_32\",\"showlegend\":true,\"type\":\"splom\",\"diagonal\":{\"visible\":false}},{\"dimensions\":[{\"axis\":{\"matches\":true},\"label\":\"plddt\",\"values\":[80.5]},{\"axis\":{\"matches\":true},\"label\":\"ptm\",\"values\":[0.568]},{\"axis\":{\"matches\":true},\"label\":\"total_score\",\"values\":[-724.233]},{\"axis\":{\"matches\":true},\"label\":\"dG_separated\",\"values\":[-32.046]},{\"axis\":{\"matches\":true},\"label\":\"dG_separated/dSASAx100\",\"values\":[-2.364]}],\"hovertemplate\":\"cluster=cluster_2<br>id_new=Lsb001_36<br>%{xaxis.title.text}=%{x}<br>%{yaxis.title.text}=%{y}<extra></extra>\",\"legendgroup\":\"cluster_2, Lsb001_36\",\"marker\":{\"color\":\"green\",\"symbol\":\"diamond\"},\"name\":\"cluster_2, Lsb001_36\",\"showlegend\":true,\"type\":\"splom\",\"diagonal\":{\"visible\":false}},{\"dimensions\":[{\"axis\":{\"matches\":true},\"label\":\"plddt\",\"values\":[88.8]},{\"axis\":{\"matches\":true},\"label\":\"ptm\",\"values\":[0.574]},{\"axis\":{\"matches\":true},\"label\":\"total_score\",\"values\":[-718.399]},{\"axis\":{\"matches\":true},\"label\":\"dG_separated\",\"values\":[-53.951]},{\"axis\":{\"matches\":true},\"label\":\"dG_separated/dSASAx100\",\"values\":[-2.584]}],\"hovertemplate\":\"cluster=cluster_2<br>id_new=Lsb001_38<br>%{xaxis.title.text}=%{x}<br>%{yaxis.title.text}=%{y}<extra></extra>\",\"legendgroup\":\"cluster_2, Lsb001_38\",\"marker\":{\"color\":\"green\",\"symbol\":\"x\"},\"name\":\"cluster_2, Lsb001_38\",\"showlegend\":true,\"type\":\"splom\",\"diagonal\":{\"visible\":false}},{\"dimensions\":[{\"axis\":{\"matches\":true},\"label\":\"plddt\",\"values\":[89.1]},{\"axis\":{\"matches\":true},\"label\":\"ptm\",\"values\":[0.559]},{\"axis\":{\"matches\":true},\"label\":\"total_score\",\"values\":[-728.521]},{\"axis\":{\"matches\":true},\"label\":\"dG_separated\",\"values\":[-31.455]},{\"axis\":{\"matches\":true},\"label\":\"dG_separated/dSASAx100\",\"values\":[-2.292]}],\"hovertemplate\":\"cluster=cluster_2<br>id_new=Lsb001_45<br>%{xaxis.title.text}=%{x}<br>%{yaxis.title.text}=%{y}<extra></extra>\",\"legendgroup\":\"cluster_2, Lsb001_45\",\"marker\":{\"color\":\"green\",\"symbol\":\"circle\"},\"name\":\"cluster_2, Lsb001_45\",\"showlegend\":true,\"type\":\"splom\",\"diagonal\":{\"visible\":false}},{\"dimensions\":[{\"axis\":{\"matches\":true},\"label\":\"plddt\",\"values\":[89.1]},{\"axis\":{\"matches\":true},\"label\":\"ptm\",\"values\":[0.562]},{\"axis\":{\"matches\":true},\"label\":\"total_score\",\"values\":[-739.981]},{\"axis\":{\"matches\":true},\"label\":\"dG_separated\",\"values\":[-56.314]},{\"axis\":{\"matches\":true},\"label\":\"dG_separated/dSASAx100\",\"values\":[-2.579]}],\"hovertemplate\":\"cluster=cluster_2<br>id_new=Lsb001_47<br>%{xaxis.title.text}=%{x}<br>%{yaxis.title.text}=%{y}<extra></extra>\",\"legendgroup\":\"cluster_2, Lsb001_47\",\"marker\":{\"color\":\"green\",\"symbol\":\"square\"},\"name\":\"cluster_2, Lsb001_47\",\"showlegend\":true,\"type\":\"splom\",\"diagonal\":{\"visible\":false}},{\"dimensions\":[{\"axis\":{\"matches\":true},\"label\":\"plddt\",\"values\":[80.7]},{\"axis\":{\"matches\":true},\"label\":\"ptm\",\"values\":[0.547]},{\"axis\":{\"matches\":true},\"label\":\"total_score\",\"values\":[-701.678]},{\"axis\":{\"matches\":true},\"label\":\"dG_separated\",\"values\":[-49.452]},{\"axis\":{\"matches\":true},\"label\":\"dG_separated/dSASAx100\",\"values\":[-2.497]}],\"hovertemplate\":\"cluster=cluster_2<br>id_new=Lsb001_51<br>%{xaxis.title.text}=%{x}<br>%{yaxis.title.text}=%{y}<extra></extra>\",\"legendgroup\":\"cluster_2, Lsb001_51\",\"marker\":{\"color\":\"green\",\"symbol\":\"diamond\"},\"name\":\"cluster_2, Lsb001_51\",\"showlegend\":true,\"type\":\"splom\",\"diagonal\":{\"visible\":false}},{\"dimensions\":[{\"axis\":{\"matches\":true},\"label\":\"plddt\",\"values\":[78.5]},{\"axis\":{\"matches\":true},\"label\":\"ptm\",\"values\":[0.546]},{\"axis\":{\"matches\":true},\"label\":\"total_score\",\"values\":[-722.785]},{\"axis\":{\"matches\":true},\"label\":\"dG_separated\",\"values\":[-46.86]},{\"axis\":{\"matches\":true},\"label\":\"dG_separated/dSASAx100\",\"values\":[-2.809]}],\"hovertemplate\":\"cluster=cluster_2<br>id_new=Lsb001_52<br>%{xaxis.title.text}=%{x}<br>%{yaxis.title.text}=%{y}<extra></extra>\",\"legendgroup\":\"cluster_2, Lsb001_52\",\"marker\":{\"color\":\"green\",\"symbol\":\"square\"},\"name\":\"cluster_2, Lsb001_52\",\"showlegend\":true,\"type\":\"splom\",\"diagonal\":{\"visible\":false}},{\"dimensions\":[{\"axis\":{\"matches\":true},\"label\":\"plddt\",\"values\":[80.6]},{\"axis\":{\"matches\":true},\"label\":\"ptm\",\"values\":[0.551]},{\"axis\":{\"matches\":true},\"label\":\"total_score\",\"values\":[-730.048]},{\"axis\":{\"matches\":true},\"label\":\"dG_separated\",\"values\":[-23.623]},{\"axis\":{\"matches\":true},\"label\":\"dG_separated/dSASAx100\",\"values\":[-2.293]}],\"hovertemplate\":\"cluster=cluster_2<br>id_new=Lsb001_53<br>%{xaxis.title.text}=%{x}<br>%{yaxis.title.text}=%{y}<extra></extra>\",\"legendgroup\":\"cluster_2, Lsb001_53\",\"marker\":{\"color\":\"green\",\"symbol\":\"x\"},\"name\":\"cluster_2, Lsb001_53\",\"showlegend\":true,\"type\":\"splom\",\"diagonal\":{\"visible\":false}},{\"dimensions\":[{\"axis\":{\"matches\":true},\"label\":\"plddt\",\"values\":[88.6]},{\"axis\":{\"matches\":true},\"label\":\"ptm\",\"values\":[0.55]},{\"axis\":{\"matches\":true},\"label\":\"total_score\",\"values\":[-721.664]},{\"axis\":{\"matches\":true},\"label\":\"dG_separated\",\"values\":[-25.613]},{\"axis\":{\"matches\":true},\"label\":\"dG_separated/dSASAx100\",\"values\":[-2.246]}],\"hovertemplate\":\"cluster=cluster_2<br>id_new=Lsb001_55<br>%{xaxis.title.text}=%{x}<br>%{yaxis.title.text}=%{y}<extra></extra>\",\"legendgroup\":\"cluster_2, Lsb001_55\",\"marker\":{\"color\":\"green\",\"symbol\":\"circle\"},\"name\":\"cluster_2, Lsb001_55\",\"showlegend\":true,\"type\":\"splom\",\"diagonal\":{\"visible\":false}},{\"dimensions\":[{\"axis\":{\"matches\":true},\"label\":\"plddt\",\"values\":[88.1]},{\"axis\":{\"matches\":true},\"label\":\"ptm\",\"values\":[0.551]},{\"axis\":{\"matches\":true},\"label\":\"total_score\",\"values\":[-730.286]},{\"axis\":{\"matches\":true},\"label\":\"dG_separated\",\"values\":[-29.357]},{\"axis\":{\"matches\":true},\"label\":\"dG_separated/dSASAx100\",\"values\":[-2.191]}],\"hovertemplate\":\"cluster=cluster_2<br>id_new=Lsb001_56<br>%{xaxis.title.text}=%{x}<br>%{yaxis.title.text}=%{y}<extra></extra>\",\"legendgroup\":\"cluster_2, Lsb001_56\",\"marker\":{\"color\":\"green\",\"symbol\":\"diamond\"},\"name\":\"cluster_2, Lsb001_56\",\"showlegend\":true,\"type\":\"splom\",\"diagonal\":{\"visible\":false}},{\"dimensions\":[{\"axis\":{\"matches\":true},\"label\":\"plddt\",\"values\":[80.8]},{\"axis\":{\"matches\":true},\"label\":\"ptm\",\"values\":[0.548]},{\"axis\":{\"matches\":true},\"label\":\"total_score\",\"values\":[-733.635]},{\"axis\":{\"matches\":true},\"label\":\"dG_separated\",\"values\":[-27.3]},{\"axis\":{\"matches\":true},\"label\":\"dG_separated/dSASAx100\",\"values\":[-2.479]}],\"hovertemplate\":\"cluster=cluster_2<br>id_new=Lsb001_58<br>%{xaxis.title.text}=%{x}<br>%{yaxis.title.text}=%{y}<extra></extra>\",\"legendgroup\":\"cluster_2, Lsb001_58\",\"marker\":{\"color\":\"green\",\"symbol\":\"x\"},\"name\":\"cluster_2, Lsb001_58\",\"showlegend\":true,\"type\":\"splom\",\"diagonal\":{\"visible\":false}},{\"dimensions\":[{\"axis\":{\"matches\":true},\"label\":\"plddt\",\"values\":[81.9]},{\"axis\":{\"matches\":true},\"label\":\"ptm\",\"values\":[0.545]},{\"axis\":{\"matches\":true},\"label\":\"total_score\",\"values\":[-740.397]},{\"axis\":{\"matches\":true},\"label\":\"dG_separated\",\"values\":[-21.372]},{\"axis\":{\"matches\":true},\"label\":\"dG_separated/dSASAx100\",\"values\":[-1.96]}],\"hovertemplate\":\"cluster=cluster_2<br>id_new=Lsb001_59<br>%{xaxis.title.text}=%{x}<br>%{yaxis.title.text}=%{y}<extra></extra>\",\"legendgroup\":\"cluster_2, Lsb001_59\",\"marker\":{\"color\":\"green\",\"symbol\":\"cross\"},\"name\":\"cluster_2, Lsb001_59\",\"showlegend\":true,\"type\":\"splom\",\"diagonal\":{\"visible\":false}},{\"dimensions\":[{\"axis\":{\"matches\":true},\"label\":\"plddt\",\"values\":[83.8]},{\"axis\":{\"matches\":true},\"label\":\"ptm\",\"values\":[0.545]},{\"axis\":{\"matches\":true},\"label\":\"total_score\",\"values\":[-650.948]},{\"axis\":{\"matches\":true},\"label\":\"dG_separated\",\"values\":[-20.181]},{\"axis\":{\"matches\":true},\"label\":\"dG_separated/dSASAx100\",\"values\":[-1.766]}],\"hovertemplate\":\"cluster=cluster_2<br>id_new=Lsb001_60<br>%{xaxis.title.text}=%{x}<br>%{yaxis.title.text}=%{y}<extra></extra>\",\"legendgroup\":\"cluster_2, Lsb001_60\",\"marker\":{\"color\":\"green\",\"symbol\":\"circle\"},\"name\":\"cluster_2, Lsb001_60\",\"showlegend\":true,\"type\":\"splom\",\"diagonal\":{\"visible\":false}},{\"dimensions\":[{\"axis\":{\"matches\":true},\"label\":\"plddt\",\"values\":[87.0]},{\"axis\":{\"matches\":true},\"label\":\"ptm\",\"values\":[0.544]},{\"axis\":{\"matches\":true},\"label\":\"total_score\",\"values\":[-675.137]},{\"axis\":{\"matches\":true},\"label\":\"dG_separated\",\"values\":[-36.674]},{\"axis\":{\"matches\":true},\"label\":\"dG_separated/dSASAx100\",\"values\":[-2.255]}],\"hovertemplate\":\"cluster=cluster_2<br>id_new=Lsb001_61<br>%{xaxis.title.text}=%{x}<br>%{yaxis.title.text}=%{y}<extra></extra>\",\"legendgroup\":\"cluster_2, Lsb001_61\",\"marker\":{\"color\":\"green\",\"symbol\":\"diamond\"},\"name\":\"cluster_2, Lsb001_61\",\"showlegend\":true,\"type\":\"splom\",\"diagonal\":{\"visible\":false}},{\"dimensions\":[{\"axis\":{\"matches\":true},\"label\":\"plddt\",\"values\":[79.9]},{\"axis\":{\"matches\":true},\"label\":\"ptm\",\"values\":[0.531]},{\"axis\":{\"matches\":true},\"label\":\"total_score\",\"values\":[-729.61]},{\"axis\":{\"matches\":true},\"label\":\"dG_separated\",\"values\":[-23.839]},{\"axis\":{\"matches\":true},\"label\":\"dG_separated/dSASAx100\",\"values\":[-1.955]}],\"hovertemplate\":\"cluster=cluster_2<br>id_new=Lsb001_62<br>%{xaxis.title.text}=%{x}<br>%{yaxis.title.text}=%{y}<extra></extra>\",\"legendgroup\":\"cluster_2, Lsb001_62\",\"marker\":{\"color\":\"green\",\"symbol\":\"square\"},\"name\":\"cluster_2, Lsb001_62\",\"showlegend\":true,\"type\":\"splom\",\"diagonal\":{\"visible\":false}},{\"dimensions\":[{\"axis\":{\"matches\":true},\"label\":\"plddt\",\"values\":[80.2]},{\"axis\":{\"matches\":true},\"label\":\"ptm\",\"values\":[0.541]},{\"axis\":{\"matches\":true},\"label\":\"total_score\",\"values\":[-735.148]},{\"axis\":{\"matches\":true},\"label\":\"dG_separated\",\"values\":[-26.867]},{\"axis\":{\"matches\":true},\"label\":\"dG_separated/dSASAx100\",\"values\":[-2.164]}],\"hovertemplate\":\"cluster=cluster_2<br>id_new=Lsb001_64<br>%{xaxis.title.text}=%{x}<br>%{yaxis.title.text}=%{y}<extra></extra>\",\"legendgroup\":\"cluster_2, Lsb001_64\",\"marker\":{\"color\":\"green\",\"symbol\":\"cross\"},\"name\":\"cluster_2, Lsb001_64\",\"showlegend\":true,\"type\":\"splom\",\"diagonal\":{\"visible\":false}},{\"dimensions\":[{\"axis\":{\"matches\":true},\"label\":\"plddt\",\"values\":[89.5]},{\"axis\":{\"matches\":true},\"label\":\"ptm\",\"values\":[0.539]},{\"axis\":{\"matches\":true},\"label\":\"total_score\",\"values\":[-733.918]},{\"axis\":{\"matches\":true},\"label\":\"dG_separated\",\"values\":[-27.569]},{\"axis\":{\"matches\":true},\"label\":\"dG_separated/dSASAx100\",\"values\":[-2.21]}],\"hovertemplate\":\"cluster=cluster_2<br>id_new=Lsb001_65<br>%{xaxis.title.text}=%{x}<br>%{yaxis.title.text}=%{y}<extra></extra>\",\"legendgroup\":\"cluster_2, Lsb001_65\",\"marker\":{\"color\":\"green\",\"symbol\":\"circle\"},\"name\":\"cluster_2, Lsb001_65\",\"showlegend\":true,\"type\":\"splom\",\"diagonal\":{\"visible\":false}},{\"dimensions\":[{\"axis\":{\"matches\":true},\"label\":\"plddt\",\"values\":[82.8]},{\"axis\":{\"matches\":true},\"label\":\"ptm\",\"values\":[0.537]},{\"axis\":{\"matches\":true},\"label\":\"total_score\",\"values\":[-726.865]},{\"axis\":{\"matches\":true},\"label\":\"dG_separated\",\"values\":[-22.453]},{\"axis\":{\"matches\":true},\"label\":\"dG_separated/dSASAx100\",\"values\":[-2.406]}],\"hovertemplate\":\"cluster=cluster_2<br>id_new=Lsb001_66<br>%{xaxis.title.text}=%{x}<br>%{yaxis.title.text}=%{y}<extra></extra>\",\"legendgroup\":\"cluster_2, Lsb001_66\",\"marker\":{\"color\":\"green\",\"symbol\":\"diamond\"},\"name\":\"cluster_2, Lsb001_66\",\"showlegend\":true,\"type\":\"splom\",\"diagonal\":{\"visible\":false}},{\"dimensions\":[{\"axis\":{\"matches\":true},\"label\":\"plddt\",\"values\":[80.3]},{\"axis\":{\"matches\":true},\"label\":\"ptm\",\"values\":[0.525]},{\"axis\":{\"matches\":true},\"label\":\"total_score\",\"values\":[-736.014]},{\"axis\":{\"matches\":true},\"label\":\"dG_separated\",\"values\":[-31.934]},{\"axis\":{\"matches\":true},\"label\":\"dG_separated/dSASAx100\",\"values\":[-2.504]}],\"hovertemplate\":\"cluster=cluster_2<br>id_new=Lsb001_75<br>%{xaxis.title.text}=%{x}<br>%{yaxis.title.text}=%{y}<extra></extra>\",\"legendgroup\":\"cluster_2, Lsb001_75\",\"marker\":{\"color\":\"green\",\"symbol\":\"circle\"},\"name\":\"cluster_2, Lsb001_75\",\"showlegend\":true,\"type\":\"splom\",\"diagonal\":{\"visible\":false}},{\"dimensions\":[{\"axis\":{\"matches\":true},\"label\":\"plddt\",\"values\":[80.6]},{\"axis\":{\"matches\":true},\"label\":\"ptm\",\"values\":[0.526]},{\"axis\":{\"matches\":true},\"label\":\"total_score\",\"values\":[-722.456]},{\"axis\":{\"matches\":true},\"label\":\"dG_separated\",\"values\":[-50.27]},{\"axis\":{\"matches\":true},\"label\":\"dG_separated/dSASAx100\",\"values\":[-2.944]}],\"hovertemplate\":\"cluster=cluster_2<br>id_new=Lsb001_78<br>%{xaxis.title.text}=%{x}<br>%{yaxis.title.text}=%{y}<extra></extra>\",\"legendgroup\":\"cluster_2, Lsb001_78\",\"marker\":{\"color\":\"green\",\"symbol\":\"x\"},\"name\":\"cluster_2, Lsb001_78\",\"showlegend\":true,\"type\":\"splom\",\"diagonal\":{\"visible\":false}},{\"dimensions\":[{\"axis\":{\"matches\":true},\"label\":\"plddt\",\"values\":[78.5]},{\"axis\":{\"matches\":true},\"label\":\"ptm\",\"values\":[0.535]},{\"axis\":{\"matches\":true},\"label\":\"total_score\",\"values\":[-726.028]},{\"axis\":{\"matches\":true},\"label\":\"dG_separated\",\"values\":[-35.313]},{\"axis\":{\"matches\":true},\"label\":\"dG_separated/dSASAx100\",\"values\":[-2.204]}],\"hovertemplate\":\"cluster=cluster_2<br>id_new=Lsb001_79<br>%{xaxis.title.text}=%{x}<br>%{yaxis.title.text}=%{y}<extra></extra>\",\"legendgroup\":\"cluster_2, Lsb001_79\",\"marker\":{\"color\":\"green\",\"symbol\":\"cross\"},\"name\":\"cluster_2, Lsb001_79\",\"showlegend\":true,\"type\":\"splom\",\"diagonal\":{\"visible\":false}},{\"dimensions\":[{\"axis\":{\"matches\":true},\"label\":\"plddt\",\"values\":[83.0]},{\"axis\":{\"matches\":true},\"label\":\"ptm\",\"values\":[0.528]},{\"axis\":{\"matches\":true},\"label\":\"total_score\",\"values\":[-728.993]},{\"axis\":{\"matches\":true},\"label\":\"dG_separated\",\"values\":[-17.072]},{\"axis\":{\"matches\":true},\"label\":\"dG_separated/dSASAx100\",\"values\":[-2.225]}],\"hovertemplate\":\"cluster=cluster_2<br>id_new=Lsb001_81<br>%{xaxis.title.text}=%{x}<br>%{yaxis.title.text}=%{y}<extra></extra>\",\"legendgroup\":\"cluster_2, Lsb001_81\",\"marker\":{\"color\":\"green\",\"symbol\":\"diamond\"},\"name\":\"cluster_2, Lsb001_81\",\"showlegend\":true,\"type\":\"splom\",\"diagonal\":{\"visible\":false}},{\"dimensions\":[{\"axis\":{\"matches\":true},\"label\":\"plddt\",\"values\":[81.3]},{\"axis\":{\"matches\":true},\"label\":\"ptm\",\"values\":[0.527]},{\"axis\":{\"matches\":true},\"label\":\"total_score\",\"values\":[-732.287]},{\"axis\":{\"matches\":true},\"label\":\"dG_separated\",\"values\":[-30.182]},{\"axis\":{\"matches\":true},\"label\":\"dG_separated/dSASAx100\",\"values\":[-2.292]}],\"hovertemplate\":\"cluster=cluster_2<br>id_new=Lsb001_82<br>%{xaxis.title.text}=%{x}<br>%{yaxis.title.text}=%{y}<extra></extra>\",\"legendgroup\":\"cluster_2, Lsb001_82\",\"marker\":{\"color\":\"green\",\"symbol\":\"square\"},\"name\":\"cluster_2, Lsb001_82\",\"showlegend\":true,\"type\":\"splom\",\"diagonal\":{\"visible\":false}},{\"dimensions\":[{\"axis\":{\"matches\":true},\"label\":\"plddt\",\"values\":[82.6]},{\"axis\":{\"matches\":true},\"label\":\"ptm\",\"values\":[0.517]},{\"axis\":{\"matches\":true},\"label\":\"total_score\",\"values\":[-749.843]},{\"axis\":{\"matches\":true},\"label\":\"dG_separated\",\"values\":[-37.126]},{\"axis\":{\"matches\":true},\"label\":\"dG_separated/dSASAx100\",\"values\":[-2.667]}],\"hovertemplate\":\"cluster=cluster_2<br>id_new=Lsb001_83<br>%{xaxis.title.text}=%{x}<br>%{yaxis.title.text}=%{y}<extra></extra>\",\"legendgroup\":\"cluster_2, Lsb001_83\",\"marker\":{\"color\":\"green\",\"symbol\":\"x\"},\"name\":\"cluster_2, Lsb001_83\",\"showlegend\":true,\"type\":\"splom\",\"diagonal\":{\"visible\":false}},{\"dimensions\":[{\"axis\":{\"matches\":true},\"label\":\"plddt\",\"values\":[82.8]},{\"axis\":{\"matches\":true},\"label\":\"ptm\",\"values\":[0.515]},{\"axis\":{\"matches\":true},\"label\":\"total_score\",\"values\":[-750.216]},{\"axis\":{\"matches\":true},\"label\":\"dG_separated\",\"values\":[-22.507]},{\"axis\":{\"matches\":true},\"label\":\"dG_separated/dSASAx100\",\"values\":[-1.875]}],\"hovertemplate\":\"cluster=cluster_2<br>id_new=Lsb001_84<br>%{xaxis.title.text}=%{x}<br>%{yaxis.title.text}=%{y}<extra></extra>\",\"legendgroup\":\"cluster_2, Lsb001_84\",\"marker\":{\"color\":\"green\",\"symbol\":\"cross\"},\"name\":\"cluster_2, Lsb001_84\",\"showlegend\":true,\"type\":\"splom\",\"diagonal\":{\"visible\":false}},{\"dimensions\":[{\"axis\":{\"matches\":true},\"label\":\"plddt\",\"values\":[92.9]},{\"axis\":{\"matches\":true},\"label\":\"ptm\",\"values\":[0.887]},{\"axis\":{\"matches\":true},\"label\":\"total_score\",\"values\":[-749.2]},{\"axis\":{\"matches\":true},\"label\":\"dG_separated\",\"values\":[-48.092]},{\"axis\":{\"matches\":true},\"label\":\"dG_separated/dSASAx100\",\"values\":[-2.376]}],\"hovertemplate\":\"cluster=cluster_1<br>id_new=Lsb001_01<br>%{xaxis.title.text}=%{x}<br>%{yaxis.title.text}=%{y}<extra></extra>\",\"legendgroup\":\"cluster_1, Lsb001_01\",\"marker\":{\"color\":\"orange\",\"symbol\":\"diamond\"},\"name\":\"cluster_1, Lsb001_01\",\"showlegend\":true,\"type\":\"splom\",\"diagonal\":{\"visible\":false}},{\"dimensions\":[{\"axis\":{\"matches\":true},\"label\":\"plddt\",\"values\":[86.2]},{\"axis\":{\"matches\":true},\"label\":\"ptm\",\"values\":[0.656]},{\"axis\":{\"matches\":true},\"label\":\"total_score\",\"values\":[-726.22]},{\"axis\":{\"matches\":true},\"label\":\"dG_separated\",\"values\":[-54.358]},{\"axis\":{\"matches\":true},\"label\":\"dG_separated/dSASAx100\",\"values\":[-2.853]}],\"hovertemplate\":\"cluster=cluster_1<br>id_new=Lsb001_16<br>%{xaxis.title.text}=%{x}<br>%{yaxis.title.text}=%{y}<extra></extra>\",\"legendgroup\":\"cluster_1, Lsb001_16\",\"marker\":{\"color\":\"orange\",\"symbol\":\"diamond\"},\"name\":\"cluster_1, Lsb001_16\",\"showlegend\":true,\"type\":\"splom\",\"diagonal\":{\"visible\":false}},{\"dimensions\":[{\"axis\":{\"matches\":true},\"label\":\"plddt\",\"values\":[86.8]},{\"axis\":{\"matches\":true},\"label\":\"ptm\",\"values\":[0.669]},{\"axis\":{\"matches\":true},\"label\":\"total_score\",\"values\":[-729.775]},{\"axis\":{\"matches\":true},\"label\":\"dG_separated\",\"values\":[-43.279]},{\"axis\":{\"matches\":true},\"label\":\"dG_separated/dSASAx100\",\"values\":[-2.333]}],\"hovertemplate\":\"cluster=cluster_1<br>id_new=Lsb001_17<br>%{xaxis.title.text}=%{x}<br>%{yaxis.title.text}=%{y}<extra></extra>\",\"legendgroup\":\"cluster_1, Lsb001_17\",\"marker\":{\"color\":\"orange\",\"symbol\":\"square\"},\"name\":\"cluster_1, Lsb001_17\",\"showlegend\":true,\"type\":\"splom\",\"diagonal\":{\"visible\":false}},{\"dimensions\":[{\"axis\":{\"matches\":true},\"label\":\"plddt\",\"values\":[87.7]},{\"axis\":{\"matches\":true},\"label\":\"ptm\",\"values\":[0.662]},{\"axis\":{\"matches\":true},\"label\":\"total_score\",\"values\":[-707.664]},{\"axis\":{\"matches\":true},\"label\":\"dG_separated\",\"values\":[-38.786]},{\"axis\":{\"matches\":true},\"label\":\"dG_separated/dSASAx100\",\"values\":[-2.486]}],\"hovertemplate\":\"cluster=cluster_1<br>id_new=Lsb001_18<br>%{xaxis.title.text}=%{x}<br>%{yaxis.title.text}=%{y}<extra></extra>\",\"legendgroup\":\"cluster_1, Lsb001_18\",\"marker\":{\"color\":\"orange\",\"symbol\":\"x\"},\"name\":\"cluster_1, Lsb001_18\",\"showlegend\":true,\"type\":\"splom\",\"diagonal\":{\"visible\":false}},{\"dimensions\":[{\"axis\":{\"matches\":true},\"label\":\"plddt\",\"values\":[87.8]},{\"axis\":{\"matches\":true},\"label\":\"ptm\",\"values\":[0.611]},{\"axis\":{\"matches\":true},\"label\":\"total_score\",\"values\":[-719.039]},{\"axis\":{\"matches\":true},\"label\":\"dG_separated\",\"values\":[-28.482]},{\"axis\":{\"matches\":true},\"label\":\"dG_separated/dSASAx100\",\"values\":[-2.815]}],\"hovertemplate\":\"cluster=cluster_1<br>id_new=Lsb001_28<br>%{xaxis.title.text}=%{x}<br>%{yaxis.title.text}=%{y}<extra></extra>\",\"legendgroup\":\"cluster_1, Lsb001_28\",\"marker\":{\"color\":\"orange\",\"symbol\":\"x\"},\"name\":\"cluster_1, Lsb001_28\",\"showlegend\":true,\"type\":\"splom\",\"diagonal\":{\"visible\":false}},{\"dimensions\":[{\"axis\":{\"matches\":true},\"label\":\"plddt\",\"values\":[82.5]},{\"axis\":{\"matches\":true},\"label\":\"ptm\",\"values\":[0.594]},{\"axis\":{\"matches\":true},\"label\":\"total_score\",\"values\":[-724.379]},{\"axis\":{\"matches\":true},\"label\":\"dG_separated\",\"values\":[-27.877]},{\"axis\":{\"matches\":true},\"label\":\"dG_separated/dSASAx100\",\"values\":[-1.919]}],\"hovertemplate\":\"cluster=cluster_1<br>id_new=Lsb001_33<br>%{xaxis.title.text}=%{x}<br>%{yaxis.title.text}=%{y}<extra></extra>\",\"legendgroup\":\"cluster_1, Lsb001_33\",\"marker\":{\"color\":\"orange\",\"symbol\":\"x\"},\"name\":\"cluster_1, Lsb001_33\",\"showlegend\":true,\"type\":\"splom\",\"diagonal\":{\"visible\":false}},{\"dimensions\":[{\"axis\":{\"matches\":true},\"label\":\"plddt\",\"values\":[83.5]},{\"axis\":{\"matches\":true},\"label\":\"ptm\",\"values\":[0.605]},{\"axis\":{\"matches\":true},\"label\":\"total_score\",\"values\":[-628.556]},{\"axis\":{\"matches\":true},\"label\":\"dG_separated\",\"values\":[-20.49]},{\"axis\":{\"matches\":true},\"label\":\"dG_separated/dSASAx100\",\"values\":[-1.933]}],\"hovertemplate\":\"cluster=cluster_1<br>id_new=Lsb001_34<br>%{xaxis.title.text}=%{x}<br>%{yaxis.title.text}=%{y}<extra></extra>\",\"legendgroup\":\"cluster_1, Lsb001_34\",\"marker\":{\"color\":\"orange\",\"symbol\":\"cross\"},\"name\":\"cluster_1, Lsb001_34\",\"showlegend\":true,\"type\":\"splom\",\"diagonal\":{\"visible\":false}},{\"dimensions\":[{\"axis\":{\"matches\":true},\"label\":\"plddt\",\"values\":[83.6]},{\"axis\":{\"matches\":true},\"label\":\"ptm\",\"values\":[0.563]},{\"axis\":{\"matches\":true},\"label\":\"total_score\",\"values\":[-735.7]},{\"axis\":{\"matches\":true},\"label\":\"dG_separated\",\"values\":[-34.189]},{\"axis\":{\"matches\":true},\"label\":\"dG_separated/dSASAx100\",\"values\":[-2.407]}],\"hovertemplate\":\"cluster=cluster_1<br>id_new=Lsb001_42<br>%{xaxis.title.text}=%{x}<br>%{yaxis.title.text}=%{y}<extra></extra>\",\"legendgroup\":\"cluster_1, Lsb001_42\",\"marker\":{\"color\":\"orange\",\"symbol\":\"square\"},\"name\":\"cluster_1, Lsb001_42\",\"showlegend\":true,\"type\":\"splom\",\"diagonal\":{\"visible\":false}},{\"dimensions\":[{\"axis\":{\"matches\":true},\"label\":\"plddt\",\"values\":[84.4]},{\"axis\":{\"matches\":true},\"label\":\"ptm\",\"values\":[0.56]},{\"axis\":{\"matches\":true},\"label\":\"total_score\",\"values\":[-740.646]},{\"axis\":{\"matches\":true},\"label\":\"dG_separated\",\"values\":[-37.039]},{\"axis\":{\"matches\":true},\"label\":\"dG_separated/dSASAx100\",\"values\":[-2.494]}],\"hovertemplate\":\"cluster=cluster_1<br>id_new=Lsb001_43<br>%{xaxis.title.text}=%{x}<br>%{yaxis.title.text}=%{y}<extra></extra>\",\"legendgroup\":\"cluster_1, Lsb001_43\",\"marker\":{\"color\":\"orange\",\"symbol\":\"x\"},\"name\":\"cluster_1, Lsb001_43\",\"showlegend\":true,\"type\":\"splom\",\"diagonal\":{\"visible\":false}},{\"dimensions\":[{\"axis\":{\"matches\":true},\"label\":\"plddt\",\"values\":[82.0]},{\"axis\":{\"matches\":true},\"label\":\"ptm\",\"values\":[0.56]},{\"axis\":{\"matches\":true},\"label\":\"total_score\",\"values\":[-725.319]},{\"axis\":{\"matches\":true},\"label\":\"dG_separated\",\"values\":[-21.139]},{\"axis\":{\"matches\":true},\"label\":\"dG_separated/dSASAx100\",\"values\":[-1.906]}],\"hovertemplate\":\"cluster=cluster_1<br>id_new=Lsb001_44<br>%{xaxis.title.text}=%{x}<br>%{yaxis.title.text}=%{y}<extra></extra>\",\"legendgroup\":\"cluster_1, Lsb001_44\",\"marker\":{\"color\":\"orange\",\"symbol\":\"cross\"},\"name\":\"cluster_1, Lsb001_44\",\"showlegend\":true,\"type\":\"splom\",\"diagonal\":{\"visible\":false}},{\"dimensions\":[{\"axis\":{\"matches\":true},\"label\":\"plddt\",\"values\":[83.9]},{\"axis\":{\"matches\":true},\"label\":\"ptm\",\"values\":[0.552]},{\"axis\":{\"matches\":true},\"label\":\"total_score\",\"values\":[-750.393]},{\"axis\":{\"matches\":true},\"label\":\"dG_separated\",\"values\":[-31.58]},{\"axis\":{\"matches\":true},\"label\":\"dG_separated/dSASAx100\",\"values\":[-2.873]}],\"hovertemplate\":\"cluster=cluster_1<br>id_new=Lsb001_48<br>%{xaxis.title.text}=%{x}<br>%{yaxis.title.text}=%{y}<extra></extra>\",\"legendgroup\":\"cluster_1, Lsb001_48\",\"marker\":{\"color\":\"orange\",\"symbol\":\"x\"},\"name\":\"cluster_1, Lsb001_48\",\"showlegend\":true,\"type\":\"splom\",\"diagonal\":{\"visible\":false}},{\"dimensions\":[{\"axis\":{\"matches\":true},\"label\":\"plddt\",\"values\":[87.6]},{\"axis\":{\"matches\":true},\"label\":\"ptm\",\"values\":[0.557]},{\"axis\":{\"matches\":true},\"label\":\"total_score\",\"values\":[-575.12]},{\"axis\":{\"matches\":true},\"label\":\"dG_separated\",\"values\":[-3.493]},{\"axis\":{\"matches\":true},\"label\":\"dG_separated/dSASAx100\",\"values\":[-0.213]}],\"hovertemplate\":\"cluster=cluster_1<br>id_new=Lsb001_57<br>%{xaxis.title.text}=%{x}<br>%{yaxis.title.text}=%{y}<extra></extra>\",\"legendgroup\":\"cluster_1, Lsb001_57\",\"marker\":{\"color\":\"orange\",\"symbol\":\"square\"},\"name\":\"cluster_1, Lsb001_57\",\"showlegend\":true,\"type\":\"splom\",\"diagonal\":{\"visible\":false}},{\"dimensions\":[{\"axis\":{\"matches\":true},\"label\":\"plddt\",\"values\":[81.9]},{\"axis\":{\"matches\":true},\"label\":\"ptm\",\"values\":[0.539]},{\"axis\":{\"matches\":true},\"label\":\"total_score\",\"values\":[-733.852]},{\"axis\":{\"matches\":true},\"label\":\"dG_separated\",\"values\":[-17.754]},{\"axis\":{\"matches\":true},\"label\":\"dG_separated/dSASAx100\",\"values\":[-2.144]}],\"hovertemplate\":\"cluster=cluster_1<br>id_new=Lsb001_67<br>%{xaxis.title.text}=%{x}<br>%{yaxis.title.text}=%{y}<extra></extra>\",\"legendgroup\":\"cluster_1, Lsb001_67\",\"marker\":{\"color\":\"orange\",\"symbol\":\"square\"},\"name\":\"cluster_1, Lsb001_67\",\"showlegend\":true,\"type\":\"splom\",\"diagonal\":{\"visible\":false}},{\"dimensions\":[{\"axis\":{\"matches\":true},\"label\":\"plddt\",\"values\":[82.6]},{\"axis\":{\"matches\":true},\"label\":\"ptm\",\"values\":[0.532]},{\"axis\":{\"matches\":true},\"label\":\"total_score\",\"values\":[-737.546]},{\"axis\":{\"matches\":true},\"label\":\"dG_separated\",\"values\":[-28.259]},{\"axis\":{\"matches\":true},\"label\":\"dG_separated/dSASAx100\",\"values\":[-1.955]}],\"hovertemplate\":\"cluster=cluster_1<br>id_new=Lsb001_70<br>%{xaxis.title.text}=%{x}<br>%{yaxis.title.text}=%{y}<extra></extra>\",\"legendgroup\":\"cluster_1, Lsb001_70\",\"marker\":{\"color\":\"orange\",\"symbol\":\"circle\"},\"name\":\"cluster_1, Lsb001_70\",\"showlegend\":true,\"type\":\"splom\",\"diagonal\":{\"visible\":false}},{\"dimensions\":[{\"axis\":{\"matches\":true},\"label\":\"plddt\",\"values\":[82.2]},{\"axis\":{\"matches\":true},\"label\":\"ptm\",\"values\":[0.532]},{\"axis\":{\"matches\":true},\"label\":\"total_score\",\"values\":[-733.999]},{\"axis\":{\"matches\":true},\"label\":\"dG_separated\",\"values\":[-38.574]},{\"axis\":{\"matches\":true},\"label\":\"dG_separated/dSASAx100\",\"values\":[-2.469]}],\"hovertemplate\":\"cluster=cluster_1<br>id_new=Lsb001_71<br>%{xaxis.title.text}=%{x}<br>%{yaxis.title.text}=%{y}<extra></extra>\",\"legendgroup\":\"cluster_1, Lsb001_71\",\"marker\":{\"color\":\"orange\",\"symbol\":\"diamond\"},\"name\":\"cluster_1, Lsb001_71\",\"showlegend\":true,\"type\":\"splom\",\"diagonal\":{\"visible\":false}},{\"dimensions\":[{\"axis\":{\"matches\":true},\"label\":\"plddt\",\"values\":[81.3]},{\"axis\":{\"matches\":true},\"label\":\"ptm\",\"values\":[0.53]},{\"axis\":{\"matches\":true},\"label\":\"total_score\",\"values\":[-737.423]},{\"axis\":{\"matches\":true},\"label\":\"dG_separated\",\"values\":[-23.854]},{\"axis\":{\"matches\":true},\"label\":\"dG_separated/dSASAx100\",\"values\":[-2.675]}],\"hovertemplate\":\"cluster=cluster_1<br>id_new=Lsb001_72<br>%{xaxis.title.text}=%{x}<br>%{yaxis.title.text}=%{y}<extra></extra>\",\"legendgroup\":\"cluster_1, Lsb001_72\",\"marker\":{\"color\":\"orange\",\"symbol\":\"square\"},\"name\":\"cluster_1, Lsb001_72\",\"showlegend\":true,\"type\":\"splom\",\"diagonal\":{\"visible\":false}},{\"dimensions\":[{\"axis\":{\"matches\":true},\"label\":\"plddt\",\"values\":[82.8]},{\"axis\":{\"matches\":true},\"label\":\"ptm\",\"values\":[0.527]},{\"axis\":{\"matches\":true},\"label\":\"total_score\",\"values\":[-744.257]},{\"axis\":{\"matches\":true},\"label\":\"dG_separated\",\"values\":[-26.134]},{\"axis\":{\"matches\":true},\"label\":\"dG_separated/dSASAx100\",\"values\":[-1.98]}],\"hovertemplate\":\"cluster=cluster_1<br>id_new=Lsb001_74<br>%{xaxis.title.text}=%{x}<br>%{yaxis.title.text}=%{y}<extra></extra>\",\"legendgroup\":\"cluster_1, Lsb001_74\",\"marker\":{\"color\":\"orange\",\"symbol\":\"cross\"},\"name\":\"cluster_1, Lsb001_74\",\"showlegend\":true,\"type\":\"splom\",\"diagonal\":{\"visible\":false}},{\"dimensions\":[{\"axis\":{\"matches\":true},\"label\":\"plddt\",\"values\":[81.9]},{\"axis\":{\"matches\":true},\"label\":\"ptm\",\"values\":[0.527]},{\"axis\":{\"matches\":true},\"label\":\"total_score\",\"values\":[-727.365]},{\"axis\":{\"matches\":true},\"label\":\"dG_separated\",\"values\":[-35.135]},{\"axis\":{\"matches\":true},\"label\":\"dG_separated/dSASAx100\",\"values\":[-2.763]}],\"hovertemplate\":\"cluster=cluster_1<br>id_new=Lsb001_77<br>%{xaxis.title.text}=%{x}<br>%{yaxis.title.text}=%{y}<extra></extra>\",\"legendgroup\":\"cluster_1, Lsb001_77\",\"marker\":{\"color\":\"orange\",\"symbol\":\"square\"},\"name\":\"cluster_1, Lsb001_77\",\"showlegend\":true,\"type\":\"splom\",\"diagonal\":{\"visible\":false}},{\"dimensions\":[{\"axis\":{\"matches\":true},\"label\":\"plddt\",\"values\":[87.7]},{\"axis\":{\"matches\":true},\"label\":\"ptm\",\"values\":[0.732]},{\"axis\":{\"matches\":true},\"label\":\"total_score\",\"values\":[-743.006]},{\"axis\":{\"matches\":true},\"label\":\"dG_separated\",\"values\":[-40.593]},{\"axis\":{\"matches\":true},\"label\":\"dG_separated/dSASAx100\",\"values\":[-2.868]}],\"hovertemplate\":\"cluster=cluster_3<br>id_new=Lsb001_07<br>%{xaxis.title.text}=%{x}<br>%{yaxis.title.text}=%{y}<extra></extra>\",\"legendgroup\":\"cluster_3, Lsb001_07\",\"marker\":{\"color\":\"red\",\"symbol\":\"square\"},\"name\":\"cluster_3, Lsb001_07\",\"showlegend\":true,\"type\":\"splom\",\"diagonal\":{\"visible\":false}},{\"dimensions\":[{\"axis\":{\"matches\":true},\"label\":\"plddt\",\"values\":[90.2]},{\"axis\":{\"matches\":true},\"label\":\"ptm\",\"values\":[0.711]},{\"axis\":{\"matches\":true},\"label\":\"total_score\",\"values\":[-753.402]},{\"axis\":{\"matches\":true},\"label\":\"dG_separated\",\"values\":[-50.577]},{\"axis\":{\"matches\":true},\"label\":\"dG_separated/dSASAx100\",\"values\":[-2.506]}],\"hovertemplate\":\"cluster=cluster_3<br>id_new=Lsb001_10<br>%{xaxis.title.text}=%{x}<br>%{yaxis.title.text}=%{y}<extra></extra>\",\"legendgroup\":\"cluster_3, Lsb001_10\",\"marker\":{\"color\":\"red\",\"symbol\":\"circle\"},\"name\":\"cluster_3, Lsb001_10\",\"showlegend\":true,\"type\":\"splom\",\"diagonal\":{\"visible\":false}},{\"dimensions\":[{\"axis\":{\"matches\":true},\"label\":\"plddt\",\"values\":[87.1]},{\"axis\":{\"matches\":true},\"label\":\"ptm\",\"values\":[0.701]},{\"axis\":{\"matches\":true},\"label\":\"total_score\",\"values\":[-714.44]},{\"axis\":{\"matches\":true},\"label\":\"dG_separated\",\"values\":[-40.856]},{\"axis\":{\"matches\":true},\"label\":\"dG_separated/dSASAx100\",\"values\":[-2.476]}],\"hovertemplate\":\"cluster=cluster_3<br>id_new=Lsb001_11<br>%{xaxis.title.text}=%{x}<br>%{yaxis.title.text}=%{y}<extra></extra>\",\"legendgroup\":\"cluster_3, Lsb001_11\",\"marker\":{\"color\":\"red\",\"symbol\":\"diamond\"},\"name\":\"cluster_3, Lsb001_11\",\"showlegend\":true,\"type\":\"splom\",\"diagonal\":{\"visible\":false}},{\"dimensions\":[{\"axis\":{\"matches\":true},\"label\":\"plddt\",\"values\":[90.8]},{\"axis\":{\"matches\":true},\"label\":\"ptm\",\"values\":[0.685]},{\"axis\":{\"matches\":true},\"label\":\"total_score\",\"values\":[-726.076]},{\"axis\":{\"matches\":true},\"label\":\"dG_separated\",\"values\":[-29.364]},{\"axis\":{\"matches\":true},\"label\":\"dG_separated/dSASAx100\",\"values\":[-2.763]}],\"hovertemplate\":\"cluster=cluster_3<br>id_new=Lsb001_12<br>%{xaxis.title.text}=%{x}<br>%{yaxis.title.text}=%{y}<extra></extra>\",\"legendgroup\":\"cluster_3, Lsb001_12\",\"marker\":{\"color\":\"red\",\"symbol\":\"square\"},\"name\":\"cluster_3, Lsb001_12\",\"showlegend\":true,\"type\":\"splom\",\"diagonal\":{\"visible\":false}},{\"dimensions\":[{\"axis\":{\"matches\":true},\"label\":\"plddt\",\"values\":[86.1]},{\"axis\":{\"matches\":true},\"label\":\"ptm\",\"values\":[0.673]},{\"axis\":{\"matches\":true},\"label\":\"total_score\",\"values\":[-699.292]},{\"axis\":{\"matches\":true},\"label\":\"dG_separated\",\"values\":[-30.387]},{\"axis\":{\"matches\":true},\"label\":\"dG_separated/dSASAx100\",\"values\":[-2.344]}],\"hovertemplate\":\"cluster=cluster_3<br>id_new=Lsb001_15<br>%{xaxis.title.text}=%{x}<br>%{yaxis.title.text}=%{y}<extra></extra>\",\"legendgroup\":\"cluster_3, Lsb001_15\",\"marker\":{\"color\":\"red\",\"symbol\":\"circle\"},\"name\":\"cluster_3, Lsb001_15\",\"showlegend\":true,\"type\":\"splom\",\"diagonal\":{\"visible\":false}},{\"dimensions\":[{\"axis\":{\"matches\":true},\"label\":\"plddt\",\"values\":[85.8]},{\"axis\":{\"matches\":true},\"label\":\"ptm\",\"values\":[0.646]},{\"axis\":{\"matches\":true},\"label\":\"total_score\",\"values\":[-710.091]},{\"axis\":{\"matches\":true},\"label\":\"dG_separated\",\"values\":[-30.325]},{\"axis\":{\"matches\":true},\"label\":\"dG_separated/dSASAx100\",\"values\":[-2.41]}],\"hovertemplate\":\"cluster=cluster_3<br>id_new=Lsb001_19<br>%{xaxis.title.text}=%{x}<br>%{yaxis.title.text}=%{y}<extra></extra>\",\"legendgroup\":\"cluster_3, Lsb001_19\",\"marker\":{\"color\":\"red\",\"symbol\":\"cross\"},\"name\":\"cluster_3, Lsb001_19\",\"showlegend\":true,\"type\":\"splom\",\"diagonal\":{\"visible\":false}},{\"dimensions\":[{\"axis\":{\"matches\":true},\"label\":\"plddt\",\"values\":[90.1]},{\"axis\":{\"matches\":true},\"label\":\"ptm\",\"values\":[0.642]},{\"axis\":{\"matches\":true},\"label\":\"total_score\",\"values\":[-723.357]},{\"axis\":{\"matches\":true},\"label\":\"dG_separated\",\"values\":[-18.725]},{\"axis\":{\"matches\":true},\"label\":\"dG_separated/dSASAx100\",\"values\":[-2.143]}],\"hovertemplate\":\"cluster=cluster_3<br>id_new=Lsb001_21<br>%{xaxis.title.text}=%{x}<br>%{yaxis.title.text}=%{y}<extra></extra>\",\"legendgroup\":\"cluster_3, Lsb001_21\",\"marker\":{\"color\":\"red\",\"symbol\":\"diamond\"},\"name\":\"cluster_3, Lsb001_21\",\"showlegend\":true,\"type\":\"splom\",\"diagonal\":{\"visible\":false}},{\"dimensions\":[{\"axis\":{\"matches\":true},\"label\":\"plddt\",\"values\":[85.6]},{\"axis\":{\"matches\":true},\"label\":\"ptm\",\"values\":[0.628]},{\"axis\":{\"matches\":true},\"label\":\"total_score\",\"values\":[-693.38]},{\"axis\":{\"matches\":true},\"label\":\"dG_separated\",\"values\":[-39.366]},{\"axis\":{\"matches\":true},\"label\":\"dG_separated/dSASAx100\",\"values\":[-2.506]}],\"hovertemplate\":\"cluster=cluster_3<br>id_new=Lsb001_24<br>%{xaxis.title.text}=%{x}<br>%{yaxis.title.text}=%{y}<extra></extra>\",\"legendgroup\":\"cluster_3, Lsb001_24\",\"marker\":{\"color\":\"red\",\"symbol\":\"cross\"},\"name\":\"cluster_3, Lsb001_24\",\"showlegend\":true,\"type\":\"splom\",\"diagonal\":{\"visible\":false}},{\"dimensions\":[{\"axis\":{\"matches\":true},\"label\":\"plddt\",\"values\":[84.9]},{\"axis\":{\"matches\":true},\"label\":\"ptm\",\"values\":[0.622]},{\"axis\":{\"matches\":true},\"label\":\"total_score\",\"values\":[-665.902]},{\"axis\":{\"matches\":true},\"label\":\"dG_separated\",\"values\":[-30.672]},{\"axis\":{\"matches\":true},\"label\":\"dG_separated/dSASAx100\",\"values\":[-2.114]}],\"hovertemplate\":\"cluster=cluster_3<br>id_new=Lsb001_25<br>%{xaxis.title.text}=%{x}<br>%{yaxis.title.text}=%{y}<extra></extra>\",\"legendgroup\":\"cluster_3, Lsb001_25\",\"marker\":{\"color\":\"red\",\"symbol\":\"circle\"},\"name\":\"cluster_3, Lsb001_25\",\"showlegend\":true,\"type\":\"splom\",\"diagonal\":{\"visible\":false}},{\"dimensions\":[{\"axis\":{\"matches\":true},\"label\":\"plddt\",\"values\":[78.5]},{\"axis\":{\"matches\":true},\"label\":\"ptm\",\"values\":[0.619]},{\"axis\":{\"matches\":true},\"label\":\"total_score\",\"values\":[-656.404]},{\"axis\":{\"matches\":true},\"label\":\"dG_separated\",\"values\":[-11.021]},{\"axis\":{\"matches\":true},\"label\":\"dG_separated/dSASAx100\",\"values\":[-1.257]}],\"hovertemplate\":\"cluster=cluster_3<br>id_new=Lsb001_26<br>%{xaxis.title.text}=%{x}<br>%{yaxis.title.text}=%{y}<extra></extra>\",\"legendgroup\":\"cluster_3, Lsb001_26\",\"marker\":{\"color\":\"red\",\"symbol\":\"diamond\"},\"name\":\"cluster_3, Lsb001_26\",\"showlegend\":true,\"type\":\"splom\",\"diagonal\":{\"visible\":false}},{\"dimensions\":[{\"axis\":{\"matches\":true},\"label\":\"plddt\",\"values\":[90.0]},{\"axis\":{\"matches\":true},\"label\":\"ptm\",\"values\":[0.615]},{\"axis\":{\"matches\":true},\"label\":\"total_score\",\"values\":[-736.48]},{\"axis\":{\"matches\":true},\"label\":\"dG_separated\",\"values\":[-34.104]},{\"axis\":{\"matches\":true},\"label\":\"dG_separated/dSASAx100\",\"values\":[-2.022]}],\"hovertemplate\":\"cluster=cluster_3<br>id_new=Lsb001_27<br>%{xaxis.title.text}=%{x}<br>%{yaxis.title.text}=%{y}<extra></extra>\",\"legendgroup\":\"cluster_3, Lsb001_27\",\"marker\":{\"color\":\"red\",\"symbol\":\"square\"},\"name\":\"cluster_3, Lsb001_27\",\"showlegend\":true,\"type\":\"splom\",\"diagonal\":{\"visible\":false}},{\"dimensions\":[{\"axis\":{\"matches\":true},\"label\":\"plddt\",\"values\":[89.9]},{\"axis\":{\"matches\":true},\"label\":\"ptm\",\"values\":[0.604]},{\"axis\":{\"matches\":true},\"label\":\"total_score\",\"values\":[-722.384]},{\"axis\":{\"matches\":true},\"label\":\"dG_separated\",\"values\":[-32.816]},{\"axis\":{\"matches\":true},\"label\":\"dG_separated/dSASAx100\",\"values\":[-2.435]}],\"hovertemplate\":\"cluster=cluster_3<br>id_new=Lsb001_29<br>%{xaxis.title.text}=%{x}<br>%{yaxis.title.text}=%{y}<extra></extra>\",\"legendgroup\":\"cluster_3, Lsb001_29\",\"marker\":{\"color\":\"red\",\"symbol\":\"cross\"},\"name\":\"cluster_3, Lsb001_29\",\"showlegend\":true,\"type\":\"splom\",\"diagonal\":{\"visible\":false}},{\"dimensions\":[{\"axis\":{\"matches\":true},\"label\":\"plddt\",\"values\":[87.6]},{\"axis\":{\"matches\":true},\"label\":\"ptm\",\"values\":[0.599]},{\"axis\":{\"matches\":true},\"label\":\"total_score\",\"values\":[-710.752]},{\"axis\":{\"matches\":true},\"label\":\"dG_separated\",\"values\":[-32.471]},{\"axis\":{\"matches\":true},\"label\":\"dG_separated/dSASAx100\",\"values\":[-2.228]}],\"hovertemplate\":\"cluster=cluster_3<br>id_new=Lsb001_30<br>%{xaxis.title.text}=%{x}<br>%{yaxis.title.text}=%{y}<extra></extra>\",\"legendgroup\":\"cluster_3, Lsb001_30\",\"marker\":{\"color\":\"red\",\"symbol\":\"circle\"},\"name\":\"cluster_3, Lsb001_30\",\"showlegend\":true,\"type\":\"splom\",\"diagonal\":{\"visible\":false}},{\"dimensions\":[{\"axis\":{\"matches\":true},\"label\":\"plddt\",\"values\":[89.5]},{\"axis\":{\"matches\":true},\"label\":\"ptm\",\"values\":[0.576]},{\"axis\":{\"matches\":true},\"label\":\"total_score\",\"values\":[-732.621]},{\"axis\":{\"matches\":true},\"label\":\"dG_separated\",\"values\":[-23.687]},{\"axis\":{\"matches\":true},\"label\":\"dG_separated/dSASAx100\",\"values\":[-2.404]}],\"hovertemplate\":\"cluster=cluster_3<br>id_new=Lsb001_35<br>%{xaxis.title.text}=%{x}<br>%{yaxis.title.text}=%{y}<extra></extra>\",\"legendgroup\":\"cluster_3, Lsb001_35\",\"marker\":{\"color\":\"red\",\"symbol\":\"circle\"},\"name\":\"cluster_3, Lsb001_35\",\"showlegend\":true,\"type\":\"splom\",\"diagonal\":{\"visible\":false}},{\"dimensions\":[{\"axis\":{\"matches\":true},\"label\":\"plddt\",\"values\":[88.2]},{\"axis\":{\"matches\":true},\"label\":\"ptm\",\"values\":[0.571]},{\"axis\":{\"matches\":true},\"label\":\"total_score\",\"values\":[-715.071]},{\"axis\":{\"matches\":true},\"label\":\"dG_separated\",\"values\":[-50.986]},{\"axis\":{\"matches\":true},\"label\":\"dG_separated/dSASAx100\",\"values\":[-3.072]}],\"hovertemplate\":\"cluster=cluster_3<br>id_new=Lsb001_37<br>%{xaxis.title.text}=%{x}<br>%{yaxis.title.text}=%{y}<extra></extra>\",\"legendgroup\":\"cluster_3, Lsb001_37\",\"marker\":{\"color\":\"red\",\"symbol\":\"square\"},\"name\":\"cluster_3, Lsb001_37\",\"showlegend\":true,\"type\":\"splom\",\"diagonal\":{\"visible\":false}},{\"dimensions\":[{\"axis\":{\"matches\":true},\"label\":\"plddt\",\"values\":[84.2]},{\"axis\":{\"matches\":true},\"label\":\"ptm\",\"values\":[0.567]},{\"axis\":{\"matches\":true},\"label\":\"total_score\",\"values\":[-637.373]},{\"axis\":{\"matches\":true},\"label\":\"dG_separated\",\"values\":[-35.351]},{\"axis\":{\"matches\":true},\"label\":\"dG_separated/dSASAx100\",\"values\":[-2.526]}],\"hovertemplate\":\"cluster=cluster_3<br>id_new=Lsb001_39<br>%{xaxis.title.text}=%{x}<br>%{yaxis.title.text}=%{y}<extra></extra>\",\"legendgroup\":\"cluster_3, Lsb001_39\",\"marker\":{\"color\":\"red\",\"symbol\":\"cross\"},\"name\":\"cluster_3, Lsb001_39\",\"showlegend\":true,\"type\":\"splom\",\"diagonal\":{\"visible\":false}},{\"dimensions\":[{\"axis\":{\"matches\":true},\"label\":\"plddt\",\"values\":[85.2]},{\"axis\":{\"matches\":true},\"label\":\"ptm\",\"values\":[0.57]},{\"axis\":{\"matches\":true},\"label\":\"total_score\",\"values\":[-649.182]},{\"axis\":{\"matches\":true},\"label\":\"dG_separated\",\"values\":[-27.518]},{\"axis\":{\"matches\":true},\"label\":\"dG_separated/dSASAx100\",\"values\":[-1.707]}],\"hovertemplate\":\"cluster=cluster_3<br>id_new=Lsb001_40<br>%{xaxis.title.text}=%{x}<br>%{yaxis.title.text}=%{y}<extra></extra>\",\"legendgroup\":\"cluster_3, Lsb001_40\",\"marker\":{\"color\":\"red\",\"symbol\":\"circle\"},\"name\":\"cluster_3, Lsb001_40\",\"showlegend\":true,\"type\":\"splom\",\"diagonal\":{\"visible\":false}},{\"dimensions\":[{\"axis\":{\"matches\":true},\"label\":\"plddt\",\"values\":[85.2]},{\"axis\":{\"matches\":true},\"label\":\"ptm\",\"values\":[0.566]},{\"axis\":{\"matches\":true},\"label\":\"total_score\",\"values\":[-703.215]},{\"axis\":{\"matches\":true},\"label\":\"dG_separated\",\"values\":[-29.214]},{\"axis\":{\"matches\":true},\"label\":\"dG_separated/dSASAx100\",\"values\":[-2.269]}],\"hovertemplate\":\"cluster=cluster_3<br>id_new=Lsb001_41<br>%{xaxis.title.text}=%{x}<br>%{yaxis.title.text}=%{y}<extra></extra>\",\"legendgroup\":\"cluster_3, Lsb001_41\",\"marker\":{\"color\":\"red\",\"symbol\":\"diamond\"},\"name\":\"cluster_3, Lsb001_41\",\"showlegend\":true,\"type\":\"splom\",\"diagonal\":{\"visible\":false}},{\"dimensions\":[{\"axis\":{\"matches\":true},\"label\":\"plddt\",\"values\":[83.8]},{\"axis\":{\"matches\":true},\"label\":\"ptm\",\"values\":[0.56]},{\"axis\":{\"matches\":true},\"label\":\"total_score\",\"values\":[-688.915]},{\"axis\":{\"matches\":true},\"label\":\"dG_separated\",\"values\":[-29.4]},{\"axis\":{\"matches\":true},\"label\":\"dG_separated/dSASAx100\",\"values\":[-2.005]}],\"hovertemplate\":\"cluster=cluster_3<br>id_new=Lsb001_46<br>%{xaxis.title.text}=%{x}<br>%{yaxis.title.text}=%{y}<extra></extra>\",\"legendgroup\":\"cluster_3, Lsb001_46\",\"marker\":{\"color\":\"red\",\"symbol\":\"diamond\"},\"name\":\"cluster_3, Lsb001_46\",\"showlegend\":true,\"type\":\"splom\",\"diagonal\":{\"visible\":false}},{\"dimensions\":[{\"axis\":{\"matches\":true},\"label\":\"plddt\",\"values\":[86.9]},{\"axis\":{\"matches\":true},\"label\":\"ptm\",\"values\":[0.55]},{\"axis\":{\"matches\":true},\"label\":\"total_score\",\"values\":[-691.114]},{\"axis\":{\"matches\":true},\"label\":\"dG_separated\",\"values\":[-31.001]},{\"axis\":{\"matches\":true},\"label\":\"dG_separated/dSASAx100\",\"values\":[-2.48]}],\"hovertemplate\":\"cluster=cluster_3<br>id_new=Lsb001_49<br>%{xaxis.title.text}=%{x}<br>%{yaxis.title.text}=%{y}<extra></extra>\",\"legendgroup\":\"cluster_3, Lsb001_49\",\"marker\":{\"color\":\"red\",\"symbol\":\"cross\"},\"name\":\"cluster_3, Lsb001_49\",\"showlegend\":true,\"type\":\"splom\",\"diagonal\":{\"visible\":false}},{\"dimensions\":[{\"axis\":{\"matches\":true},\"label\":\"plddt\",\"values\":[89.4]},{\"axis\":{\"matches\":true},\"label\":\"ptm\",\"values\":[0.553]},{\"axis\":{\"matches\":true},\"label\":\"total_score\",\"values\":[-719.057]},{\"axis\":{\"matches\":true},\"label\":\"dG_separated\",\"values\":[-21.486]},{\"axis\":{\"matches\":true},\"label\":\"dG_separated/dSASAx100\",\"values\":[-2.031]}],\"hovertemplate\":\"cluster=cluster_3<br>id_new=Lsb001_50<br>%{xaxis.title.text}=%{x}<br>%{yaxis.title.text}=%{y}<extra></extra>\",\"legendgroup\":\"cluster_3, Lsb001_50\",\"marker\":{\"color\":\"red\",\"symbol\":\"circle\"},\"name\":\"cluster_3, Lsb001_50\",\"showlegend\":true,\"type\":\"splom\",\"diagonal\":{\"visible\":false}},{\"dimensions\":[{\"axis\":{\"matches\":true},\"label\":\"plddt\",\"values\":[89.2]},{\"axis\":{\"matches\":true},\"label\":\"ptm\",\"values\":[0.554]},{\"axis\":{\"matches\":true},\"label\":\"total_score\",\"values\":[-706.877]},{\"axis\":{\"matches\":true},\"label\":\"dG_separated\",\"values\":[-22.479]},{\"axis\":{\"matches\":true},\"label\":\"dG_separated/dSASAx100\",\"values\":[-2.081]}],\"hovertemplate\":\"cluster=cluster_3<br>id_new=Lsb001_54<br>%{xaxis.title.text}=%{x}<br>%{yaxis.title.text}=%{y}<extra></extra>\",\"legendgroup\":\"cluster_3, Lsb001_54\",\"marker\":{\"color\":\"red\",\"symbol\":\"cross\"},\"name\":\"cluster_3, Lsb001_54\",\"showlegend\":true,\"type\":\"splom\",\"diagonal\":{\"visible\":false}},{\"dimensions\":[{\"axis\":{\"matches\":true},\"label\":\"plddt\",\"values\":[82.7]},{\"axis\":{\"matches\":true},\"label\":\"ptm\",\"values\":[0.54]},{\"axis\":{\"matches\":true},\"label\":\"total_score\",\"values\":[-733.088]},{\"axis\":{\"matches\":true},\"label\":\"dG_separated\",\"values\":[-31.745]},{\"axis\":{\"matches\":true},\"label\":\"dG_separated/dSASAx100\",\"values\":[-2.534]}],\"hovertemplate\":\"cluster=cluster_3<br>id_new=Lsb001_63<br>%{xaxis.title.text}=%{x}<br>%{yaxis.title.text}=%{y}<extra></extra>\",\"legendgroup\":\"cluster_3, Lsb001_63\",\"marker\":{\"color\":\"red\",\"symbol\":\"x\"},\"name\":\"cluster_3, Lsb001_63\",\"showlegend\":true,\"type\":\"splom\",\"diagonal\":{\"visible\":false}},{\"dimensions\":[{\"axis\":{\"matches\":true},\"label\":\"plddt\",\"values\":[81.9]},{\"axis\":{\"matches\":true},\"label\":\"ptm\",\"values\":[0.537]},{\"axis\":{\"matches\":true},\"label\":\"total_score\",\"values\":[-726.767]},{\"axis\":{\"matches\":true},\"label\":\"dG_separated\",\"values\":[-21.567]},{\"axis\":{\"matches\":true},\"label\":\"dG_separated/dSASAx100\",\"values\":[-2.024]}],\"hovertemplate\":\"cluster=cluster_3<br>id_new=Lsb001_68<br>%{xaxis.title.text}=%{x}<br>%{yaxis.title.text}=%{y}<extra></extra>\",\"legendgroup\":\"cluster_3, Lsb001_68\",\"marker\":{\"color\":\"red\",\"symbol\":\"x\"},\"name\":\"cluster_3, Lsb001_68\",\"showlegend\":true,\"type\":\"splom\",\"diagonal\":{\"visible\":false}},{\"dimensions\":[{\"axis\":{\"matches\":true},\"label\":\"plddt\",\"values\":[80.5]},{\"axis\":{\"matches\":true},\"label\":\"ptm\",\"values\":[0.527]},{\"axis\":{\"matches\":true},\"label\":\"total_score\",\"values\":[-728.621]},{\"axis\":{\"matches\":true},\"label\":\"dG_separated\",\"values\":[-28.082]},{\"axis\":{\"matches\":true},\"label\":\"dG_separated/dSASAx100\",\"values\":[-1.53]}],\"hovertemplate\":\"cluster=cluster_3<br>id_new=Lsb001_69<br>%{xaxis.title.text}=%{x}<br>%{yaxis.title.text}=%{y}<extra></extra>\",\"legendgroup\":\"cluster_3, Lsb001_69\",\"marker\":{\"color\":\"red\",\"symbol\":\"cross\"},\"name\":\"cluster_3, Lsb001_69\",\"showlegend\":true,\"type\":\"splom\",\"diagonal\":{\"visible\":false}},{\"dimensions\":[{\"axis\":{\"matches\":true},\"label\":\"plddt\",\"values\":[82.3]},{\"axis\":{\"matches\":true},\"label\":\"ptm\",\"values\":[0.527]},{\"axis\":{\"matches\":true},\"label\":\"total_score\",\"values\":[-743.378]},{\"axis\":{\"matches\":true},\"label\":\"dG_separated\",\"values\":[-21.654]},{\"axis\":{\"matches\":true},\"label\":\"dG_separated/dSASAx100\",\"values\":[-2.037]}],\"hovertemplate\":\"cluster=cluster_3<br>id_new=Lsb001_73<br>%{xaxis.title.text}=%{x}<br>%{yaxis.title.text}=%{y}<extra></extra>\",\"legendgroup\":\"cluster_3, Lsb001_73\",\"marker\":{\"color\":\"red\",\"symbol\":\"x\"},\"name\":\"cluster_3, Lsb001_73\",\"showlegend\":true,\"type\":\"splom\",\"diagonal\":{\"visible\":false}},{\"dimensions\":[{\"axis\":{\"matches\":true},\"label\":\"plddt\",\"values\":[83.3]},{\"axis\":{\"matches\":true},\"label\":\"ptm\",\"values\":[0.525]},{\"axis\":{\"matches\":true},\"label\":\"total_score\",\"values\":[-750.253]},{\"axis\":{\"matches\":true},\"label\":\"dG_separated\",\"values\":[-31.744]},{\"axis\":{\"matches\":true},\"label\":\"dG_separated/dSASAx100\",\"values\":[-2.861]}],\"hovertemplate\":\"cluster=cluster_3<br>id_new=Lsb001_76<br>%{xaxis.title.text}=%{x}<br>%{yaxis.title.text}=%{y}<extra></extra>\",\"legendgroup\":\"cluster_3, Lsb001_76\",\"marker\":{\"color\":\"red\",\"symbol\":\"diamond\"},\"name\":\"cluster_3, Lsb001_76\",\"showlegend\":true,\"type\":\"splom\",\"diagonal\":{\"visible\":false}},{\"dimensions\":[{\"axis\":{\"matches\":true},\"label\":\"plddt\",\"values\":[86.6]},{\"axis\":{\"matches\":true},\"label\":\"ptm\",\"values\":[0.533]},{\"axis\":{\"matches\":true},\"label\":\"total_score\",\"values\":[-712.123]},{\"axis\":{\"matches\":true},\"label\":\"dG_separated\",\"values\":[-18.571]},{\"axis\":{\"matches\":true},\"label\":\"dG_separated/dSASAx100\",\"values\":[-1.962]}],\"hovertemplate\":\"cluster=cluster_3<br>id_new=Lsb001_80<br>%{xaxis.title.text}=%{x}<br>%{yaxis.title.text}=%{y}<extra></extra>\",\"legendgroup\":\"cluster_3, Lsb001_80\",\"marker\":{\"color\":\"red\",\"symbol\":\"circle\"},\"name\":\"cluster_3, Lsb001_80\",\"showlegend\":true,\"type\":\"splom\",\"diagonal\":{\"visible\":false}}],                        {\"template\":{\"data\":{\"histogram2dcontour\":[{\"type\":\"histogram2dcontour\",\"colorbar\":{\"outlinewidth\":0,\"ticks\":\"\"},\"colorscale\":[[0.0,\"#0d0887\"],[0.1111111111111111,\"#46039f\"],[0.2222222222222222,\"#7201a8\"],[0.3333333333333333,\"#9c179e\"],[0.4444444444444444,\"#bd3786\"],[0.5555555555555556,\"#d8576b\"],[0.6666666666666666,\"#ed7953\"],[0.7777777777777778,\"#fb9f3a\"],[0.8888888888888888,\"#fdca26\"],[1.0,\"#f0f921\"]]}],\"choropleth\":[{\"type\":\"choropleth\",\"colorbar\":{\"outlinewidth\":0,\"ticks\":\"\"}}],\"histogram2d\":[{\"type\":\"histogram2d\",\"colorbar\":{\"outlinewidth\":0,\"ticks\":\"\"},\"colorscale\":[[0.0,\"#0d0887\"],[0.1111111111111111,\"#46039f\"],[0.2222222222222222,\"#7201a8\"],[0.3333333333333333,\"#9c179e\"],[0.4444444444444444,\"#bd3786\"],[0.5555555555555556,\"#d8576b\"],[0.6666666666666666,\"#ed7953\"],[0.7777777777777778,\"#fb9f3a\"],[0.8888888888888888,\"#fdca26\"],[1.0,\"#f0f921\"]]}],\"heatmap\":[{\"type\":\"heatmap\",\"colorbar\":{\"outlinewidth\":0,\"ticks\":\"\"},\"colorscale\":[[0.0,\"#0d0887\"],[0.1111111111111111,\"#46039f\"],[0.2222222222222222,\"#7201a8\"],[0.3333333333333333,\"#9c179e\"],[0.4444444444444444,\"#bd3786\"],[0.5555555555555556,\"#d8576b\"],[0.6666666666666666,\"#ed7953\"],[0.7777777777777778,\"#fb9f3a\"],[0.8888888888888888,\"#fdca26\"],[1.0,\"#f0f921\"]]}],\"heatmapgl\":[{\"type\":\"heatmapgl\",\"colorbar\":{\"outlinewidth\":0,\"ticks\":\"\"},\"colorscale\":[[0.0,\"#0d0887\"],[0.1111111111111111,\"#46039f\"],[0.2222222222222222,\"#7201a8\"],[0.3333333333333333,\"#9c179e\"],[0.4444444444444444,\"#bd3786\"],[0.5555555555555556,\"#d8576b\"],[0.6666666666666666,\"#ed7953\"],[0.7777777777777778,\"#fb9f3a\"],[0.8888888888888888,\"#fdca26\"],[1.0,\"#f0f921\"]]}],\"contourcarpet\":[{\"type\":\"contourcarpet\",\"colorbar\":{\"outlinewidth\":0,\"ticks\":\"\"}}],\"contour\":[{\"type\":\"contour\",\"colorbar\":{\"outlinewidth\":0,\"ticks\":\"\"},\"colorscale\":[[0.0,\"#0d0887\"],[0.1111111111111111,\"#46039f\"],[0.2222222222222222,\"#7201a8\"],[0.3333333333333333,\"#9c179e\"],[0.4444444444444444,\"#bd3786\"],[0.5555555555555556,\"#d8576b\"],[0.6666666666666666,\"#ed7953\"],[0.7777777777777778,\"#fb9f3a\"],[0.8888888888888888,\"#fdca26\"],[1.0,\"#f0f921\"]]}],\"surface\":[{\"type\":\"surface\",\"colorbar\":{\"outlinewidth\":0,\"ticks\":\"\"},\"colorscale\":[[0.0,\"#0d0887\"],[0.1111111111111111,\"#46039f\"],[0.2222222222222222,\"#7201a8\"],[0.3333333333333333,\"#9c179e\"],[0.4444444444444444,\"#bd3786\"],[0.5555555555555556,\"#d8576b\"],[0.6666666666666666,\"#ed7953\"],[0.7777777777777778,\"#fb9f3a\"],[0.8888888888888888,\"#fdca26\"],[1.0,\"#f0f921\"]]}],\"mesh3d\":[{\"type\":\"mesh3d\",\"colorbar\":{\"outlinewidth\":0,\"ticks\":\"\"}}],\"scatter\":[{\"fillpattern\":{\"fillmode\":\"overlay\",\"size\":10,\"solidity\":0.2},\"type\":\"scatter\"}],\"parcoords\":[{\"type\":\"parcoords\",\"line\":{\"colorbar\":{\"outlinewidth\":0,\"ticks\":\"\"}}}],\"scatterpolargl\":[{\"type\":\"scatterpolargl\",\"marker\":{\"colorbar\":{\"outlinewidth\":0,\"ticks\":\"\"}}}],\"bar\":[{\"error_x\":{\"color\":\"#2a3f5f\"},\"error_y\":{\"color\":\"#2a3f5f\"},\"marker\":{\"line\":{\"color\":\"#E5ECF6\",\"width\":0.5},\"pattern\":{\"fillmode\":\"overlay\",\"size\":10,\"solidity\":0.2}},\"type\":\"bar\"}],\"scattergeo\":[{\"type\":\"scattergeo\",\"marker\":{\"colorbar\":{\"outlinewidth\":0,\"ticks\":\"\"}}}],\"scatterpolar\":[{\"type\":\"scatterpolar\",\"marker\":{\"colorbar\":{\"outlinewidth\":0,\"ticks\":\"\"}}}],\"histogram\":[{\"marker\":{\"pattern\":{\"fillmode\":\"overlay\",\"size\":10,\"solidity\":0.2}},\"type\":\"histogram\"}],\"scattergl\":[{\"type\":\"scattergl\",\"marker\":{\"colorbar\":{\"outlinewidth\":0,\"ticks\":\"\"}}}],\"scatter3d\":[{\"type\":\"scatter3d\",\"line\":{\"colorbar\":{\"outlinewidth\":0,\"ticks\":\"\"}},\"marker\":{\"colorbar\":{\"outlinewidth\":0,\"ticks\":\"\"}}}],\"scattermapbox\":[{\"type\":\"scattermapbox\",\"marker\":{\"colorbar\":{\"outlinewidth\":0,\"ticks\":\"\"}}}],\"scatterternary\":[{\"type\":\"scatterternary\",\"marker\":{\"colorbar\":{\"outlinewidth\":0,\"ticks\":\"\"}}}],\"scattercarpet\":[{\"type\":\"scattercarpet\",\"marker\":{\"colorbar\":{\"outlinewidth\":0,\"ticks\":\"\"}}}],\"carpet\":[{\"aaxis\":{\"endlinecolor\":\"#2a3f5f\",\"gridcolor\":\"white\",\"linecolor\":\"white\",\"minorgridcolor\":\"white\",\"startlinecolor\":\"#2a3f5f\"},\"baxis\":{\"endlinecolor\":\"#2a3f5f\",\"gridcolor\":\"white\",\"linecolor\":\"white\",\"minorgridcolor\":\"white\",\"startlinecolor\":\"#2a3f5f\"},\"type\":\"carpet\"}],\"table\":[{\"cells\":{\"fill\":{\"color\":\"#EBF0F8\"},\"line\":{\"color\":\"white\"}},\"header\":{\"fill\":{\"color\":\"#C8D4E3\"},\"line\":{\"color\":\"white\"}},\"type\":\"table\"}],\"barpolar\":[{\"marker\":{\"line\":{\"color\":\"#E5ECF6\",\"width\":0.5},\"pattern\":{\"fillmode\":\"overlay\",\"size\":10,\"solidity\":0.2}},\"type\":\"barpolar\"}],\"pie\":[{\"automargin\":true,\"type\":\"pie\"}]},\"layout\":{\"autotypenumbers\":\"strict\",\"colorway\":[\"#636efa\",\"#EF553B\",\"#00cc96\",\"#ab63fa\",\"#FFA15A\",\"#19d3f3\",\"#FF6692\",\"#B6E880\",\"#FF97FF\",\"#FECB52\"],\"font\":{\"color\":\"#2a3f5f\"},\"hovermode\":\"closest\",\"hoverlabel\":{\"align\":\"left\"},\"paper_bgcolor\":\"white\",\"plot_bgcolor\":\"#E5ECF6\",\"polar\":{\"bgcolor\":\"#E5ECF6\",\"angularaxis\":{\"gridcolor\":\"white\",\"linecolor\":\"white\",\"ticks\":\"\"},\"radialaxis\":{\"gridcolor\":\"white\",\"linecolor\":\"white\",\"ticks\":\"\"}},\"ternary\":{\"bgcolor\":\"#E5ECF6\",\"aaxis\":{\"gridcolor\":\"white\",\"linecolor\":\"white\",\"ticks\":\"\"},\"baxis\":{\"gridcolor\":\"white\",\"linecolor\":\"white\",\"ticks\":\"\"},\"caxis\":{\"gridcolor\":\"white\",\"linecolor\":\"white\",\"ticks\":\"\"}},\"coloraxis\":{\"colorbar\":{\"outlinewidth\":0,\"ticks\":\"\"}},\"colorscale\":{\"sequential\":[[0.0,\"#0d0887\"],[0.1111111111111111,\"#46039f\"],[0.2222222222222222,\"#7201a8\"],[0.3333333333333333,\"#9c179e\"],[0.4444444444444444,\"#bd3786\"],[0.5555555555555556,\"#d8576b\"],[0.6666666666666666,\"#ed7953\"],[0.7777777777777778,\"#fb9f3a\"],[0.8888888888888888,\"#fdca26\"],[1.0,\"#f0f921\"]],\"sequentialminus\":[[0.0,\"#0d0887\"],[0.1111111111111111,\"#46039f\"],[0.2222222222222222,\"#7201a8\"],[0.3333333333333333,\"#9c179e\"],[0.4444444444444444,\"#bd3786\"],[0.5555555555555556,\"#d8576b\"],[0.6666666666666666,\"#ed7953\"],[0.7777777777777778,\"#fb9f3a\"],[0.8888888888888888,\"#fdca26\"],[1.0,\"#f0f921\"]],\"diverging\":[[0,\"#8e0152\"],[0.1,\"#c51b7d\"],[0.2,\"#de77ae\"],[0.3,\"#f1b6da\"],[0.4,\"#fde0ef\"],[0.5,\"#f7f7f7\"],[0.6,\"#e6f5d0\"],[0.7,\"#b8e186\"],[0.8,\"#7fbc41\"],[0.9,\"#4d9221\"],[1,\"#276419\"]]},\"xaxis\":{\"gridcolor\":\"white\",\"linecolor\":\"white\",\"ticks\":\"\",\"title\":{\"standoff\":15},\"zerolinecolor\":\"white\",\"automargin\":true,\"zerolinewidth\":2},\"yaxis\":{\"gridcolor\":\"white\",\"linecolor\":\"white\",\"ticks\":\"\",\"title\":{\"standoff\":15},\"zerolinecolor\":\"white\",\"automargin\":true,\"zerolinewidth\":2},\"scene\":{\"xaxis\":{\"backgroundcolor\":\"#E5ECF6\",\"gridcolor\":\"white\",\"linecolor\":\"white\",\"showbackground\":true,\"ticks\":\"\",\"zerolinecolor\":\"white\",\"gridwidth\":2},\"yaxis\":{\"backgroundcolor\":\"#E5ECF6\",\"gridcolor\":\"white\",\"linecolor\":\"white\",\"showbackground\":true,\"ticks\":\"\",\"zerolinecolor\":\"white\",\"gridwidth\":2},\"zaxis\":{\"backgroundcolor\":\"#E5ECF6\",\"gridcolor\":\"white\",\"linecolor\":\"white\",\"showbackground\":true,\"ticks\":\"\",\"zerolinecolor\":\"white\",\"gridwidth\":2}},\"shapedefaults\":{\"line\":{\"color\":\"#2a3f5f\"}},\"annotationdefaults\":{\"arrowcolor\":\"#2a3f5f\",\"arrowhead\":0,\"arrowwidth\":1},\"geo\":{\"bgcolor\":\"white\",\"landcolor\":\"#E5ECF6\",\"subunitcolor\":\"white\",\"showland\":true,\"showlakes\":true,\"lakecolor\":\"white\"},\"title\":{\"x\":0.05},\"mapbox\":{\"style\":\"light\"}}},\"legend\":{\"title\":{\"text\":\"cluster, id_new\"},\"tracegroupgap\":0},\"margin\":{\"t\":60},\"dragmode\":\"select\",\"height\":1300,\"width\":1300},                        {\"responsive\": true}                    ).then(function(){\n",
       "                            \n",
       "var gd = document.getElementById('25f9bce0-87da-4a6e-8f26-7a25cb7f31a7');\n",
       "var x = new MutationObserver(function (mutations, observer) {{\n",
       "        var display = window.getComputedStyle(gd).display;\n",
       "        if (!display || display === 'none') {{\n",
       "            console.log([gd, 'removed!']);\n",
       "            Plotly.purge(gd);\n",
       "            observer.disconnect();\n",
       "        }}\n",
       "}});\n",
       "\n",
       "// Listen for the removal of the full notebook cells\n",
       "var notebookContainer = gd.closest('#notebook-container');\n",
       "if (notebookContainer) {{\n",
       "    x.observe(notebookContainer, {childList: true});\n",
       "}}\n",
       "\n",
       "// Listen for the clearing of the current output cell\n",
       "var outputEl = gd.closest('.output');\n",
       "if (outputEl) {{\n",
       "    x.observe(outputEl, {childList: true});\n",
       "}}\n",
       "\n",
       "                        })                };                });            </script>        </div>"
      ]
     },
     "metadata": {},
     "output_type": "display_data"
    }
   ],
   "source": [
    "import plotly.express as px\n",
    "fig = px.scatter_matrix(df_merge,\n",
    "    dimensions=['plddt','ptm','total_score','dG_separated','dG_separated/dSASAx100'],\n",
    "    color='cluster', \n",
    "    color_discrete_sequence=[\"green\",\"orange\",\"red\"],\n",
    "    # symbol=\"cluster\",\n",
    "     symbol=\"id_new\",\n",
    "    width=1300,height=1300)\n",
    "fig.update_traces(diagonal_visible=False)\n",
    "fig.show()"
   ]
  },
  {
   "cell_type": "code",
   "execution_count": null,
   "metadata": {},
   "outputs": [],
   "source": []
  }
 ],
 "metadata": {
  "kernelspec": {
   "display_name": "bio",
   "language": "python",
   "name": "python3"
  },
  "language_info": {
   "codemirror_mode": {
    "name": "ipython",
    "version": 3
   },
   "file_extension": ".py",
   "mimetype": "text/x-python",
   "name": "python",
   "nbconvert_exporter": "python",
   "pygments_lexer": "ipython3",
   "version": "3.7.13"
  },
  "orig_nbformat": 4
 },
 "nbformat": 4,
 "nbformat_minor": 2
}
